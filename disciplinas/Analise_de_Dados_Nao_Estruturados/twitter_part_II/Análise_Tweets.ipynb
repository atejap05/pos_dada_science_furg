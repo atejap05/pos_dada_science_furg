{
  "nbformat": 4,
  "nbformat_minor": 2,
  "metadata": {
    "kernelspec": {
      "name": "python3",
      "display_name": "Python 3.8.10 64-bit ('pos_venv': conda)"
    },
    "language_info": {
      "codemirror_mode": {
        "name": "ipython",
        "version": 3
      },
      "file_extension": ".py",
      "mimetype": "text/x-python",
      "name": "python",
      "nbconvert_exporter": "python",
      "pygments_lexer": "ipython3",
      "version": "3.8.10"
    },
    "colab": {
      "name": "Análise_Tweets",
      "provenance": [],
      "include_colab_link": true
    },
    "interpreter": {
      "hash": "907815e9c4d3d98b4aff291c89bec112f263082bea0e46daf85d424b1363448d"
    }
  },
  "cells": [
    {
      "cell_type": "markdown",
      "source": [
        "<a href=\"https://colab.research.google.com/github/atejap05/pos_data_science_furg/blob/main/An%C3%A1lise_Tweets.ipynb\" target=\"_parent\"><img src=\"https://colab.research.google.com/assets/colab-badge.svg\" alt=\"Open In Colab\"/></a>"
      ],
      "metadata": {
        "id": "view-in-github",
        "colab_type": "text"
      }
    },
    {
      "cell_type": "markdown",
      "source": [
        "#Análise de Tweets\n",
        "> Por Marcelo Pias\n",
        "\n",
        "\n",
        "<img width=480 src=\"https://miro.medium.com/max/450/1*p3Ste5R_iJzi5IcSmFkmtg.jpeg\"> </img>\n",
        "\n",
        "\n",
        "\n",
        "**IMPORTANTE: você deve salvar este notebook localmente (computador ou Google Drive) para poder trabalhar nos exercícios. Basta clicar no Menu Arquivo-> Salvar cópia no Drive.**"
      ],
      "metadata": {
        "id": "EXIbL8IPcbK_"
      }
    },
    {
      "cell_type": "markdown",
      "source": [
        "# Jupyter Notebooks\n",
        "\n",
        "Antes de entrarmos no tópico de **análise de tweets**, é importante relembrarmos sobre o nosso ambiente de desenvolvimento **Jupyter Notebook** no Google Colaboratory. Este ambiente, neste momento sendo utilizado, permite criar um documento com células contendo texto, imagens e \"pedaços\" de código em uma linguagem de programação como Python. \n",
        "\n",
        "O **notebook** que iremos explorar neste laboratório encontra-se em uma plataforma na nuvem, neste caso, o Google Colab. Sempre que aparecer a célula como a mostrada abaixo, com dois colchetes [], indica que é uma célula de código em Python. Basta clicar nesta e usar a combinação das teclas SHIFT+ENTER com intuito de executar o código. \n",
        "\n",
        "Agora tente você mesmo na célula abaixo. Posicione o curso do mouse na célula, e pressione simultaneamente SHIFT+ENTER. O código será executado:\n"
      ],
      "metadata": {
        "id": "NW1YQ4vWW7WI"
      }
    },
    {
      "cell_type": "code",
      "execution_count": 1,
      "source": [
        "print('Hello World')"
      ],
      "outputs": [
        {
          "output_type": "stream",
          "name": "stdout",
          "text": [
            "Hello World\n"
          ]
        }
      ],
      "metadata": {
        "id": "g6mMdU86XHmd",
        "colab": {
          "base_uri": "https://localhost:8080/"
        },
        "outputId": "887019fa-a9c2-4be2-fb0e-1c704e6b241f"
      }
    },
    {
      "cell_type": "markdown",
      "source": [
        "\n",
        "<img src=\"https://sd.keepcalms.com/i/keep-calm-and-viva-sao-joao.png\" width=240> </img>\n",
        "\n",
        "Neste contato com este Jupyter Notebook, exploraremos o **óbvio** ao executar o código Python que foi pré-preenchido na célula. Portanto, fique tranquil* pois o importante é apenas executar a célula com SHIFT+ENTER, e como bônus, se possível tentar entender o que está sendo feito à medida que avançamos no material. De certa forma, o resultado em cada célula já deve ser revelador. Novamente, Mantenha a Calma e controle o Pânico ;)\n"
      ],
      "metadata": {
        "id": "JlyiqKkQR7Iu"
      }
    },
    {
      "cell_type": "markdown",
      "source": [
        "# Minerando o Twitter\n",
        "\n",
        "A interface, chamada de API, que nos permite acessar os dados do Twitter trabalha com um método de autenticação de usuário. Tal método é utilizado para garantir que o usuário é conhecido ao sistema, e tem autorização para acessar os dados. O Twitter implementa o mecanismo de autenticação chamado OAuth 1.0A. \n",
        "Para facilitar nosso trabalho didático, utilizaremos os identificadores OAuth 1.0A associados à uma conta existente do Twitter (com a devida autorização do mesmo).Estas credenciais estão auto-preenchidas abaixo. "
      ],
      "metadata": {
        "id": "ILCmFYoegAjI"
      }
    },
    {
      "cell_type": "markdown",
      "source": [
        "## Credenciais para acessar uma conta do Twitter"
      ],
      "metadata": {
        "id": "AjsNVTN3gAjN"
      }
    },
    {
      "cell_type": "markdown",
      "source": [
        "Primeiramente, precisamos importar o módulo *twitter.*"
      ],
      "metadata": {
        "id": "dE6rbcvy1B5a"
      }
    },
    {
      "cell_type": "code",
      "execution_count": 3,
      "source": [
        "import twitter\r\n",
        "\r\n",
        "# Abaixo temos os dados das quatro variáveis OAuth 1.0A\r\n",
        "# Estas credenciais foram pré-preenchidas para facilitar nosso trabalho.\r\n",
        "\r\n",
        "CONSUMER_KEY = 'SYFpddpGiwLKmMBaUPellGXki'\r\n",
        "CONSUMER_SECRET = 'llbWAFXd5CRvK5GVYwvDPV2dpsHrkz2CVmG5ESXXSg13hnWGJx'\r\n",
        "OAUTH_TOKEN = '234736278-xdQ9DJ3fNTcyRElqD6mNvCFOfyIWgsp9rGvsFPBv'\r\n",
        "OAUTH_TOKEN_SECRET = '0hE4P481ByaOGsiIW95DyEqZfXmQmKtVpJ68GOzwMf896'\r\n",
        "\r\n",
        "# O método abaixo cria o objeto auth que está relacionado ao usuário autenticado\r\n",
        "auth = twitter.oauth.OAuth(OAUTH_TOKEN, OAUTH_TOKEN_SECRET,\r\n",
        "                           CONSUMER_KEY, CONSUMER_SECRET)\r\n",
        "\r\n",
        "twitter_api = twitter.Twitter(auth=auth)\r\n",
        "\r\n",
        "# A linha abaixo apenas mostra que twitter_api é uma variável definida (objeto)\r\n",
        "\r\n",
        "print(twitter_api)"
      ],
      "outputs": [
        {
          "output_type": "stream",
          "name": "stdout",
          "text": [
            "<twitter.api.Twitter object at 0x0000015D382D54C0>\n"
          ]
        }
      ],
      "metadata": {
        "colab": {
          "base_uri": "https://localhost:8080/"
        },
        "id": "7eovsWEwgAjN",
        "outputId": "7213cfa6-6f26-435e-d1d3-1021fbb25350"
      }
    },
    {
      "cell_type": "markdown",
      "source": [
        "## Busca por tópicos com tendências"
      ],
      "metadata": {
        "id": "IGH4VvXGgAjO"
      }
    },
    {
      "cell_type": "code",
      "execution_count": 4,
      "source": [
        "# Para representar uma localização, utilizamos um tipo de identificação criada\r\n",
        "# pelo Yahoo! chamada de 'Where On Earth ID' (ID de onde no Planeta?). \r\n",
        "# O WOE ID para o mundo é o valor 1.\r\n",
        "# Ao consultar as URLs https://dev.twitter.com/docs/api/1.1/get/trends/place e\r\n",
        "# http://developer.yahoo.com/geo/geoplanet/\r\n",
        "# Podemos encontrar o ID para o Brasil, sendo o valor 23424768\r\n",
        "\r\n",
        "WORLD_WOE_ID = 1\r\n",
        "BR_WOE_ID = 23424768\t\t\t\t\r\n",
        "\r\n",
        "# Busca-se os tópicos de tendência para o Mundo e Brasil\t\t\t\t\t\r\n",
        "tendencia_mundo = twitter_api.trends.place(_id=WORLD_WOE_ID)\r\n",
        "tendencia_br = twitter_api.trends.place(_id=BR_WOE_ID)\r\n",
        "\r\n",
        "print(tendencia_mundo)\r\n",
        "print()\r\n",
        "print(tendencia_br)\t\r\n"
      ],
      "outputs": [
        {
          "output_type": "stream",
          "name": "stdout",
          "text": [
            "[{'trends': [{'name': '#SmackDown', 'url': 'http://twitter.com/search?q=%23SmackDown', 'promoted_content': None, 'query': '%23SmackDown', 'tweet_volume': 62778}, {'name': 'Alison', 'url': 'http://twitter.com/search?q=Alison', 'promoted_content': None, 'query': 'Alison', 'tweet_volume': 22854}, {'name': '#SVFinal2', 'url': 'http://twitter.com/search?q=%23SVFinal2', 'promoted_content': None, 'query': '%23SVFinal2', 'tweet_volume': 218242}, {'name': '東海大相模', 'url': 'http://twitter.com/search?q=%E6%9D%B1%E6%B5%B7%E5%A4%A7%E7%9B%B8%E6%A8%A1', 'promoted_content': None, 'query': '%E6%9D%B1%E6%B5%B7%E5%A4%A7%E7%9B%B8%E6%A8%A1', 'tweet_volume': 26445}, {'name': 'Noruega', 'url': 'http://twitter.com/search?q=Noruega', 'promoted_content': None, 'query': 'Noruega', 'tweet_volume': 22906}, {'name': '#FinalPowerCouple', 'url': 'http://twitter.com/search?q=%23FinalPowerCouple', 'promoted_content': None, 'query': '%23FinalPowerCouple', 'tweet_volume': None}, {'name': 'HIPAA', 'url': 'http://twitter.com/search?q=HIPAA', 'promoted_content': None, 'query': 'HIPAA', 'tweet_volume': 54809}, {'name': 'Ferrugem', 'url': 'http://twitter.com/search?q=Ferrugem', 'promoted_content': None, 'query': 'Ferrugem', 'tweet_volume': None}, {'name': '#पूर्णगुरु_की_पहचान', 'url': 'http://twitter.com/search?q=%23%E0%A4%AA%E0%A5%82%E0%A4%B0%E0%A5%8D%E0%A4%A3%E0%A4%97%E0%A5%81%E0%A4%B0%E0%A5%81_%E0%A4%95%E0%A5%80_%E0%A4%AA%E0%A4%B9%E0%A4%9A%E0%A4%BE%E0%A4%A8', 'promoted_content': None, 'query': '%23%E0%A4%AA%E0%A5%82%E0%A4%B0%E0%A5%8D%E0%A4%A3%E0%A4%97%E0%A5%81%E0%A4%B0%E0%A5%81_%E0%A4%95%E0%A5%80_%E0%A4%AA%E0%A4%B9%E0%A4%9A%E0%A4%BE%E0%A4%A8', 'tweet_volume': 69867}, {'name': '#DateLGBTQ', 'url': 'http://twitter.com/search?q=%23DateLGBTQ', 'promoted_content': None, 'query': '%23DateLGBTQ', 'tweet_volume': None}, {'name': '山名さん', 'url': 'http://twitter.com/search?q=%E5%B1%B1%E5%90%8D%E3%81%95%E3%82%93', 'promoted_content': None, 'query': '%E5%B1%B1%E5%90%8D%E3%81%95%E3%82%93', 'tweet_volume': None}, {'name': 'ホッケー', 'url': 'http://twitter.com/search?q=%E3%83%9B%E3%83%83%E3%82%B1%E3%83%BC', 'promoted_content': None, 'query': '%E3%83%9B%E3%83%83%E3%82%B1%E3%83%BC', 'tweet_volume': 11130}, {'name': 'Olga', 'url': 'http://twitter.com/search?q=Olga', 'promoted_content': None, 'query': 'Olga', 'tweet_volume': 181832}, {'name': 'Gabriela', 'url': 'http://twitter.com/search?q=Gabriela', 'promoted_content': None, 'query': 'Gabriela', 'tweet_volume': 19400}, {'name': 'JagatGuru Sant Rampal Ji', 'url': 'http://twitter.com/search?q=%22JagatGuru+Sant+Rampal+Ji%22', 'promoted_content': None, 'query': '%22JagatGuru+Sant+Rampal+Ji%22', 'tweet_volume': 55604}, {'name': 'Berk Tosun Alaçatıda', 'url': 'http://twitter.com/search?q=%22Berk+Tosun+Ala%C3%A7at%C4%B1da%22', 'promoted_content': None, 'query': '%22Berk+Tosun+Ala%C3%A7at%C4%B1da%22', 'tweet_volume': None}, {'name': 'あーりん', 'url': 'http://twitter.com/search?q=%E3%81%82%E3%83%BC%E3%82%8A%E3%82%93', 'promoted_content': None, 'query': '%E3%81%82%E3%83%BC%E3%82%8A%E3%82%93', 'tweet_volume': None}, {'name': 'Handebol', 'url': 'http://twitter.com/search?q=Handebol', 'promoted_content': None, 'query': 'Handebol', 'tweet_volume': 33791}, {'name': 'まきちゃん', 'url': 'http://twitter.com/search?q=%E3%81%BE%E3%81%8D%E3%81%A1%E3%82%83%E3%82%93', 'promoted_content': None, 'query': '%E3%81%BE%E3%81%8D%E3%81%A1%E3%82%83%E3%82%93', 'tweet_volume': None}, {'name': '門馬監督', 'url': 'http://twitter.com/search?q=%E9%96%80%E9%A6%AC%E7%9B%A3%E7%9D%A3', 'promoted_content': None, 'query': '%E9%96%80%E9%A6%AC%E7%9B%A3%E7%9D%A3', 'tweet_volume': 10246}, {'name': 'Alaçatı Yaniyür', 'url': 'http://twitter.com/search?q=%22Ala%C3%A7at%C4%B1+Yaniy%C3%BCr%22', 'promoted_content': None, 'query': '%22Ala%C3%A7at%C4%B1+Yaniy%C3%BCr%22', 'tweet_volume': None}, {'name': 'アーチェリー', 'url': 'http://twitter.com/search?q=%E3%82%A2%E3%83%BC%E3%83%81%E3%82%A7%E3%83%AA%E3%83%BC', 'promoted_content': None, 'query': '%E3%82%A2%E3%83%BC%E3%83%81%E3%82%A7%E3%83%AA%E3%83%BC', 'tweet_volume': 32861}, {'name': '甲子園春夏連覇', 'url': 'http://twitter.com/search?q=%E7%94%B2%E5%AD%90%E5%9C%92%E6%98%A5%E5%A4%8F%E9%80%A3%E8%A6%87', 'promoted_content': None, 'query': '%E7%94%B2%E5%AD%90%E5%9C%92%E6%98%A5%E5%A4%8F%E9%80%A3%E8%A6%87', 'tweet_volume': None}, {'name': 'Rolling Loud', 'url': 'http://twitter.com/search?q=%22Rolling+Loud%22', 'promoted_content': None, 'query': '%22Rolling+Loud%22', 'tweet_volume': 18759}, {'name': 'Globo', 'url': 'http://twitter.com/search?q=Globo', 'promoted_content': None, 'query': 'Globo', 'tweet_volume': 89117}, {'name': '男子ロードレース', 'url': 'http://twitter.com/search?q=%E7%94%B7%E5%AD%90%E3%83%AD%E3%83%BC%E3%83%89%E3%83%AC%E3%83%BC%E3%82%B9', 'promoted_content': None, 'query': '%E7%94%B7%E5%AD%90%E3%83%AD%E3%83%BC%E3%83%89%E3%83%AC%E3%83%BC%E3%82%B9', 'tweet_volume': None}, {'name': 'ピクトグラム50個パフォーマンス', 'url': 'http://twitter.com/search?q=%E3%83%94%E3%82%AF%E3%83%88%E3%82%B0%E3%83%A9%E3%83%A050%E5%80%8B%E3%83%91%E3%83%95%E3%82%A9%E3%83%BC%E3%83%9E%E3%83%B3%E3%82%B9', 'promoted_content': None, 'query': '%E3%83%94%E3%82%AF%E3%83%88%E3%82%B0%E3%83%A9%E3%83%A050%E5%80%8B%E3%83%91%E3%83%95%E3%82%A9%E3%83%BC%E3%83%9E%E3%83%B3%E3%82%B9', 'tweet_volume': None}, {'name': 'Devers', 'url': 'http://twitter.com/search?q=Devers', 'promoted_content': None, 'query': 'Devers', 'tweet_volume': None}, {'name': 'Nathalie', 'url': 'http://twitter.com/search?q=Nathalie', 'promoted_content': None, 'query': 'Nathalie', 'tweet_volume': None}, {'name': '民放オリンピック公式動画サイト', 'url': 'http://twitter.com/search?q=%E6%B0%91%E6%94%BE%E3%82%AA%E3%83%AA%E3%83%B3%E3%83%94%E3%83%83%E3%82%AF%E5%85%AC%E5%BC%8F%E5%8B%95%E7%94%BB%E3%82%B5%E3%82%A4%E3%83%88', 'promoted_content': None, 'query': '%E6%B0%91%E6%94%BE%E3%82%AA%E3%83%AA%E3%83%B3%E3%83%94%E3%83%83%E3%82%AF%E5%85%AC%E5%BC%8F%E5%8B%95%E7%94%BB%E3%82%B5%E3%82%A4%E3%83%88', 'tweet_volume': None}, {'name': 'Judô', 'url': 'http://twitter.com/search?q=Jud%C3%B4', 'promoted_content': None, 'query': 'Jud%C3%B4', 'tweet_volume': 38107}, {'name': '陽性17人', 'url': 'http://twitter.com/search?q=%E9%99%BD%E6%80%A717%E4%BA%BA', 'promoted_content': None, 'query': '%E9%99%BD%E6%80%A717%E4%BA%BA', 'tweet_volume': 16060}, {'name': 'Wallstedt', 'url': 'http://twitter.com/search?q=Wallstedt', 'promoted_content': None, 'query': 'Wallstedt', 'tweet_volume': None}, {'name': '自転車競技', 'url': 'http://twitter.com/search?q=%E8%87%AA%E8%BB%A2%E8%BB%8A%E7%AB%B6%E6%8A%80', 'promoted_content': None, 'query': '%E8%87%AA%E8%BB%A2%E8%BB%8A%E7%AB%B6%E6%8A%80', 'tweet_volume': None}, {'name': 'Seth Jones', 'url': 'http://twitter.com/search?q=%22Seth+Jones%22', 'promoted_content': None, 'query': '%22Seth+Jones%22', 'tweet_volume': 12265}, {'name': 'Eklund', 'url': 'http://twitter.com/search?q=Eklund', 'promoted_content': None, 'query': 'Eklund', 'tweet_volume': None}, {'name': 'Blueface', 'url': 'http://twitter.com/search?q=Blueface', 'promoted_content': None, 'query': 'Blueface', 'tweet_volume': None}, {'name': 'Vôlei', 'url': 'http://twitter.com/search?q=V%C3%B4lei', 'promoted_content': None, 'query': 'V%C3%B4lei', 'tweet_volume': 142249}, {'name': '開会式スマホ禁止ルール', 'url': 'http://twitter.com/search?q=%E9%96%8B%E4%BC%9A%E5%BC%8F%E3%82%B9%E3%83%9E%E3%83%9B%E7%A6%81%E6%AD%A2%E3%83%AB%E3%83%BC%E3%83%AB', 'promoted_content': None, 'query': '%E9%96%8B%E4%BC%9A%E5%BC%8F%E3%82%B9%E3%83%9E%E3%83%9B%E7%A6%81%E6%AD%A2%E3%83%AB%E3%83%BC%E3%83%AB', 'tweet_volume': None}, {'name': 'Brad Hazzard', 'url': 'http://twitter.com/search?q=%22Brad+Hazzard%22', 'promoted_content': None, 'query': '%22Brad+Hazzard%22', 'tweet_volume': None}, {'name': 'Owen Power', 'url': 'http://twitter.com/search?q=%22Owen+Power%22', 'promoted_content': None, 'query': '%22Owen+Power%22', 'tweet_volume': None}, {'name': '山名くん', 'url': 'http://twitter.com/search?q=%E5%B1%B1%E5%90%8D%E3%81%8F%E3%82%93', 'promoted_content': None, 'query': '%E5%B1%B1%E5%90%8D%E3%81%8F%E3%82%93', 'tweet_volume': None}, {'name': 'Balor', 'url': 'http://twitter.com/search?q=Balor', 'promoted_content': None, 'query': 'Balor', 'tweet_volume': None}, {'name': 'アキナ山名', 'url': 'http://twitter.com/search?q=%E3%82%A2%E3%82%AD%E3%83%8A%E5%B1%B1%E5%90%8D', 'promoted_content': None, 'query': '%E3%82%A2%E3%82%AD%E3%83%8A%E5%B1%B1%E5%90%8D', 'tweet_volume': None}, {'name': 'Toni Storm', 'url': 'http://twitter.com/search?q=%22Toni+Storm%22', 'promoted_content': None, 'query': '%22Toni+Storm%22', 'tweet_volume': None}, {'name': 'VAI BRASIL', 'url': 'http://twitter.com/search?q=%22VAI+BRASIL%22', 'promoted_content': None, 'query': '%22VAI+BRASIL%22', 'tweet_volume': 102371}, {'name': 'Virgínia', 'url': 'http://twitter.com/search?q=Virg%C3%ADnia', 'promoted_content': None, 'query': 'Virg%C3%ADnia', 'tweet_volume': 47737}, {'name': 'Ippon', 'url': 'http://twitter.com/search?q=Ippon', 'promoted_content': None, 'query': 'Ippon', 'tweet_volume': None}, {'name': 'Tyler Boucher', 'url': 'http://twitter.com/search?q=%22Tyler+Boucher%22', 'promoted_content': None, 'query': '%22Tyler+Boucher%22', 'tweet_volume': None}, {'name': 'Duda', 'url': 'http://twitter.com/search?q=Duda', 'promoted_content': None, 'query': 'Duda', 'tweet_volume': 97837}], 'as_of': '2021-07-24T02:07:45Z', 'created_at': '2021-07-23T08:18:25Z', 'locations': [{'name': 'Worldwide', 'woeid': 1}]}]\n",
            "\n",
            "[{'trends': [{'name': 'Alison', 'url': 'http://twitter.com/search?q=Alison', 'promoted_content': None, 'query': 'Alison', 'tweet_volume': 22854}, {'name': 'Noruega', 'url': 'http://twitter.com/search?q=Noruega', 'promoted_content': None, 'query': 'Noruega', 'tweet_volume': 22881}, {'name': '#FinalPowerCouple', 'url': 'http://twitter.com/search?q=%23FinalPowerCouple', 'promoted_content': None, 'query': '%23FinalPowerCouple', 'tweet_volume': None}, {'name': 'Ferrugem', 'url': 'http://twitter.com/search?q=Ferrugem', 'promoted_content': None, 'query': 'Ferrugem', 'tweet_volume': None}, {'name': '#DateLGBTQ', 'url': 'http://twitter.com/search?q=%23DateLGBTQ', 'promoted_content': None, 'query': '%23DateLGBTQ', 'tweet_volume': None}, {'name': 'Gabriela', 'url': 'http://twitter.com/search?q=Gabriela', 'promoted_content': None, 'query': 'Gabriela', 'tweet_volume': 20016}, {'name': '#TimeBrasil', 'url': 'http://twitter.com/search?q=%23TimeBrasil', 'promoted_content': None, 'query': '%23TimeBrasil', 'tweet_volume': 10405}, {'name': 'Handebol', 'url': 'http://twitter.com/search?q=Handebol', 'promoted_content': None, 'query': 'Handebol', 'tweet_volume': 33791}, {'name': 'Nathalie', 'url': 'http://twitter.com/search?q=Nathalie', 'promoted_content': None, 'query': 'Nathalie', 'tweet_volume': None}, {'name': '#Handball', 'url': 'http://twitter.com/search?q=%23Handball', 'promoted_content': None, 'query': '%23Handball', 'tweet_volume': None}, {'name': '#Judo', 'url': 'http://twitter.com/search?q=%23Judo', 'promoted_content': None, 'query': '%23Judo', 'tweet_volume': None}, {'name': 'Ippon', 'url': 'http://twitter.com/search?q=Ippon', 'promoted_content': None, 'query': 'Ippon', 'tweet_volume': None}, {'name': 'Globo', 'url': 'http://twitter.com/search?q=Globo', 'promoted_content': None, 'query': 'Globo', 'tweet_volume': 89117}, {'name': 'Vôlei', 'url': 'http://twitter.com/search?q=V%C3%B4lei', 'promoted_content': None, 'query': 'V%C3%B4lei', 'tweet_volume': 143662}, {'name': 'Esgrima', 'url': 'http://twitter.com/search?q=Esgrima', 'promoted_content': None, 'query': 'Esgrima', 'tweet_volume': 25774}, {'name': 'Duda', 'url': 'http://twitter.com/search?q=Duda', 'promoted_content': None, 'query': 'Duda', 'tweet_volume': 97837}, {'name': 'Virgínia', 'url': 'http://twitter.com/search?q=Virg%C3%ADnia', 'promoted_content': None, 'query': 'Virg%C3%ADnia', 'tweet_volume': 47792}, {'name': 'VAI BRASIL', 'url': 'http://twitter.com/search?q=%22VAI+BRASIL%22', 'promoted_content': None, 'query': '%22VAI+BRASIL%22', 'tweet_volume': 102371}, {'name': 'Canadá', 'url': 'http://twitter.com/search?q=Canad%C3%A1', 'promoted_content': None, 'query': 'Canad%C3%A1', 'tweet_volume': 162914}, {'name': 'Diogo Nogueira', 'url': 'http://twitter.com/search?q=%22Diogo+Nogueira%22', 'promoted_content': None, 'query': '%22Diogo+Nogueira%22', 'tweet_volume': None}, {'name': 'RBD EM FORTALEZA', 'url': 'http://twitter.com/search?q=%22RBD+EM+FORTALEZA%22', 'promoted_content': None, 'query': '%22RBD+EM+FORTALEZA%22', 'tweet_volume': None}, {'name': 'Bora Brasil', 'url': 'http://twitter.com/search?q=%22Bora+Brasil%22', 'promoted_content': None, 'query': '%22Bora+Brasil%22', 'tweet_volume': None}, {'name': 'Chiuffa', 'url': 'http://twitter.com/search?q=Chiuffa', 'promoted_content': None, 'query': 'Chiuffa', 'tweet_volume': None}, {'name': 'Jade Barbosa', 'url': 'http://twitter.com/search?q=%22Jade+Barbosa%22', 'promoted_content': None, 'query': '%22Jade+Barbosa%22', 'tweet_volume': None}, {'name': 'Capogrosso', 'url': 'http://twitter.com/search?q=Capogrosso', 'promoted_content': None, 'query': 'Capogrosso', 'tweet_volume': None}, {'name': 'Mamute', 'url': 'http://twitter.com/search?q=Mamute', 'promoted_content': None, 'query': 'Mamute', 'tweet_volume': None}, {'name': 'Bernardinho', 'url': 'http://twitter.com/search?q=Bernardinho', 'promoted_content': None, 'query': 'Bernardinho', 'tweet_volume': None}, {'name': 'Serginho', 'url': 'http://twitter.com/search?q=Serginho', 'promoted_content': None, 'query': 'Serginho', 'tweet_volume': None}, {'name': 'Jorge', 'url': 'http://twitter.com/search?q=Jorge', 'promoted_content': None, 'query': 'Jorge', 'tweet_volume': 88498}, {'name': 'MC LOMA', 'url': 'http://twitter.com/search?q=%22MC+LOMA%22', 'promoted_content': None, 'query': '%22MC+LOMA%22', 'tweet_volume': None}, {'name': 'Boa Chico', 'url': 'http://twitter.com/search?q=%22Boa+Chico%22', 'promoted_content': None, 'query': '%22Boa+Chico%22', 'tweet_volume': None}, {'name': 'tunisia', 'url': 'http://twitter.com/search?q=tunisia', 'promoted_content': None, 'query': 'tunisia', 'tweet_volume': None}, {'name': 'TAINÁ NO PODPAH', 'url': 'http://twitter.com/search?q=%22TAIN%C3%81+NO+PODPAH%22', 'promoted_content': None, 'query': '%22TAIN%C3%81+NO+PODPAH%22', 'tweet_volume': 24870}, {'name': 'garrett', 'url': 'http://twitter.com/search?q=garrett', 'promoted_content': None, 'query': 'garrett', 'tweet_volume': None}, {'name': 'FEAR STREET NA COMIC', 'url': 'http://twitter.com/search?q=%22FEAR+STREET+NA+COMIC%22', 'promoted_content': None, 'query': '%22FEAR+STREET+NA+COMIC%22', 'tweet_volume': None}, {'name': 'Alvinho', 'url': 'http://twitter.com/search?q=Alvinho', 'promoted_content': None, 'query': 'Alvinho', 'tweet_volume': None}, {'name': 'Cléber Machado', 'url': 'http://twitter.com/search?q=%22Cl%C3%A9ber+Machado%22', 'promoted_content': None, 'query': '%22Cl%C3%A9ber+Machado%22', 'tweet_volume': None}, {'name': 'elle kennedy', 'url': 'http://twitter.com/search?q=%22elle+kennedy%22', 'promoted_content': None, 'query': '%22elle+kennedy%22', 'tweet_volume': None}, {'name': 'Renato Freitas', 'url': 'http://twitter.com/search?q=%22Renato+Freitas%22', 'promoted_content': None, 'query': '%22Renato+Freitas%22', 'tweet_volume': None}, {'name': 'He-Man', 'url': 'http://twitter.com/search?q=He-Man', 'promoted_content': None, 'query': 'He-Man', 'tweet_volume': 27893}, {'name': 'Malawi', 'url': 'http://twitter.com/search?q=Malawi', 'promoted_content': None, 'query': 'Malawi', 'tweet_volume': None}, {'name': 'Luiz Adriano', 'url': 'http://twitter.com/search?q=%22Luiz+Adriano%22', 'promoted_content': None, 'query': '%22Luiz+Adriano%22', 'tweet_volume': None}, {'name': 'Zaytsev', 'url': 'http://twitter.com/search?q=Zaytsev', 'promoted_content': None, 'query': 'Zaytsev', 'tweet_volume': None}, {'name': 'haikyuu', 'url': 'http://twitter.com/search?q=haikyuu', 'promoted_content': None, 'query': 'haikyuu', 'tweet_volume': 114996}, {'name': 'praia Brasil', 'url': 'http://twitter.com/search?q=%22praia+Brasil%22', 'promoted_content': None, 'query': '%22praia+Brasil%22', 'tweet_volume': 14698}, {'name': 'aron piper', 'url': 'http://twitter.com/search?q=%22aron+piper%22', 'promoted_content': None, 'query': '%22aron+piper%22', 'tweet_volume': None}, {'name': 'LADDYNADA COM STERELLA', 'url': 'http://twitter.com/search?q=%22LADDYNADA+COM+STERELLA%22', 'promoted_content': None, 'query': '%22LADDYNADA+COM+STERELLA%22', 'tweet_volume': 60708}, {'name': 'Ginástica', 'url': 'http://twitter.com/search?q=Gin%C3%A1stica', 'promoted_content': None, 'query': 'Gin%C3%A1stica', 'tweet_volume': 33847}, {'name': 'enrico', 'url': 'http://twitter.com/search?q=enrico', 'promoted_content': None, 'query': 'enrico', 'tweet_volume': None}, {'name': 'Lucas Lima', 'url': 'http://twitter.com/search?q=%22Lucas+Lima%22', 'promoted_content': None, 'query': '%22Lucas+Lima%22', 'tweet_volume': None}], 'as_of': '2021-07-24T02:07:45Z', 'created_at': '2021-07-23T08:01:01Z', 'locations': [{'name': 'Brazil', 'woeid': 23424768}]}]\n"
          ]
        }
      ],
      "metadata": {
        "colab": {
          "base_uri": "https://localhost:8080/"
        },
        "id": "Hdm-fi7MgAjO",
        "outputId": "69d7979f-a2cb-490a-bed6-3e0738e8841e"
      }
    },
    {
      "cell_type": "markdown",
      "source": [
        "Os tópicos em tendência encontram-se armazenados em *tendencia_mundo*, na lista *trends* como visto acima. O *loop* abaixo percorre essa lista, e imprime cada elemento. Como resultado temos a lista de tópicos para o mundo todo (ID WOE = 1). "
      ],
      "metadata": {
        "id": "fnaZgVrH4ius"
      }
    },
    {
      "cell_type": "code",
      "execution_count": 5,
      "source": [
        "for trend in tendencia_mundo[0]['trends']:\r\n",
        "    print(trend['name'])"
      ],
      "outputs": [
        {
          "output_type": "stream",
          "name": "stdout",
          "text": [
            "#SmackDown\n",
            "Alison\n",
            "#SVFinal2\n",
            "東海大相模\n",
            "Noruega\n",
            "#FinalPowerCouple\n",
            "HIPAA\n",
            "Ferrugem\n",
            "#पूर्णगुरु_की_पहचान\n",
            "#DateLGBTQ\n",
            "山名さん\n",
            "ホッケー\n",
            "Olga\n",
            "Gabriela\n",
            "JagatGuru Sant Rampal Ji\n",
            "Berk Tosun Alaçatıda\n",
            "あーりん\n",
            "Handebol\n",
            "まきちゃん\n",
            "門馬監督\n",
            "Alaçatı Yaniyür\n",
            "アーチェリー\n",
            "甲子園春夏連覇\n",
            "Rolling Loud\n",
            "Globo\n",
            "男子ロードレース\n",
            "ピクトグラム50個パフォーマンス\n",
            "Devers\n",
            "Nathalie\n",
            "民放オリンピック公式動画サイト\n",
            "Judô\n",
            "陽性17人\n",
            "Wallstedt\n",
            "自転車競技\n",
            "Seth Jones\n",
            "Eklund\n",
            "Blueface\n",
            "Vôlei\n",
            "開会式スマホ禁止ルール\n",
            "Brad Hazzard\n",
            "Owen Power\n",
            "山名くん\n",
            "Balor\n",
            "アキナ山名\n",
            "Toni Storm\n",
            "VAI BRASIL\n",
            "Virgínia\n",
            "Ippon\n",
            "Tyler Boucher\n",
            "Duda\n"
          ]
        }
      ],
      "metadata": {
        "colab": {
          "base_uri": "https://localhost:8080/"
        },
        "id": "seul3anHgAjP",
        "outputId": "82f1a303-39fc-4eb4-97d1-7603a233ee21"
      }
    },
    {
      "cell_type": "markdown",
      "source": [
        "O *loop* abaixo percorre a lista de tópicos armazenada em *trends* na variável *tendencia_br*. "
      ],
      "metadata": {
        "id": "1TwwukL77MR_"
      }
    },
    {
      "cell_type": "code",
      "execution_count": 6,
      "source": [
        "for trend in tendencia_br[0]['trends']:\r\n",
        "    print(trend['name'])"
      ],
      "outputs": [
        {
          "output_type": "stream",
          "name": "stdout",
          "text": [
            "Alison\n",
            "Noruega\n",
            "#FinalPowerCouple\n",
            "Ferrugem\n",
            "#DateLGBTQ\n",
            "Gabriela\n",
            "#TimeBrasil\n",
            "Handebol\n",
            "Nathalie\n",
            "#Handball\n",
            "#Judo\n",
            "Ippon\n",
            "Globo\n",
            "Vôlei\n",
            "Esgrima\n",
            "Duda\n",
            "Virgínia\n",
            "VAI BRASIL\n",
            "Canadá\n",
            "Diogo Nogueira\n",
            "RBD EM FORTALEZA\n",
            "Bora Brasil\n",
            "Chiuffa\n",
            "Jade Barbosa\n",
            "Capogrosso\n",
            "Mamute\n",
            "Bernardinho\n",
            "Serginho\n",
            "Jorge\n",
            "MC LOMA\n",
            "Boa Chico\n",
            "tunisia\n",
            "TAINÁ NO PODPAH\n",
            "garrett\n",
            "FEAR STREET NA COMIC\n",
            "Alvinho\n",
            "Cléber Machado\n",
            "elle kennedy\n",
            "Renato Freitas\n",
            "He-Man\n",
            "Malawi\n",
            "Luiz Adriano\n",
            "Zaytsev\n",
            "haikyuu\n",
            "praia Brasil\n",
            "aron piper\n",
            "LADDYNADA COM STERELLA\n",
            "Ginástica\n",
            "enrico\n",
            "Lucas Lima\n"
          ]
        }
      ],
      "metadata": {
        "colab": {
          "base_uri": "https://localhost:8080/"
        },
        "id": "GOiR1DAlgAjP",
        "outputId": "91ba533b-37a7-4b8b-d7a6-256e7541c824"
      }
    },
    {
      "cell_type": "markdown",
      "source": [
        "Muitas das vezes os tópicos em um país como o Brasil também estão também em tendência na lista mundial. O código Phyton abaixo busca exatamente esta intersecção entre tópicos do Brasil e Mundo. "
      ],
      "metadata": {
        "id": "wzaGU_JO8FOM"
      }
    },
    {
      "cell_type": "code",
      "execution_count": 7,
      "source": [
        "# Define conjunto com tend^ncias mundias\r\n",
        "conj_tendencias_mundo = set([trend['name'] \r\n",
        "                        for trend in tendencia_mundo[0]['trends']])\r\n",
        "\r\n",
        "# Define conjunto com tendências no Brasil\r\n",
        "conj_tendencias_br = set([trend['name'] \r\n",
        "                     for trend in tendencia_br[0]['trends']]) \r\n",
        "\r\n",
        "# Abaixo fazemos a intersecção entre dois conjuntos\r\n",
        "tendencias_comum = conj_tendencias_mundo.intersection(conj_tendencias_br)\r\n",
        "\r\n",
        "print(tendencias_comum)"
      ],
      "outputs": [
        {
          "output_type": "stream",
          "name": "stdout",
          "text": [
            "{'Nathalie', '#DateLGBTQ', '#FinalPowerCouple', 'Ippon', 'VAI BRASIL', 'Alison', 'Ferrugem', 'Handebol', 'Vôlei', 'Globo', 'Gabriela', 'Noruega', 'Duda', 'Virgínia'}\n"
          ]
        }
      ],
      "metadata": {
        "colab": {
          "base_uri": "https://localhost:8080/"
        },
        "id": "Gtx9OPs2gAjQ",
        "outputId": "87bd542c-4916-4953-a68b-3e0831d83a1c"
      }
    },
    {
      "cell_type": "markdown",
      "source": [
        "## Anatomia de um Tweet"
      ],
      "metadata": {
        "id": "-JmXPlNcgAjQ"
      }
    },
    {
      "cell_type": "markdown",
      "source": [
        "Podemos especificar um texto para pesquisa como um tópico em tendência. Se setarmos a variável *q* abaixo, podemos pesquisar por um conteúdo. Neste momento a palavra 'Portugal' está em alta, e com isto utilizamos esta palavra nos exemplos abaixo. "
      ],
      "metadata": {
        "id": "Jgli7wpe-k8k"
      }
    },
    {
      "cell_type": "code",
      "execution_count": 8,
      "source": [
        "import json\r\n",
        "\r\n",
        "# Variável 'q' seta para o tópico 'Portugal'\r\n",
        "\r\n",
        "# Tente outras palavras mudando o valor desta variável. \r\n",
        "q = '#Portugal' \r\n",
        "\r\n",
        "count = 100\r\n",
        "\r\n",
        "# Importa modulo 'unquote' para prevenir erros em url \r\n",
        "from urllib.parse import unquote\r\n",
        "\r\n",
        "# Solicita a pesquisa através do método twitter_api.search.tweets, passando como\r\n",
        "# parâmetro a string em *q*.\r\n",
        "\r\n",
        "resultados_pesquisa = twitter_api.search.tweets(q=q, count=count)\r\n",
        "\r\n",
        "statuses = resultados_pesquisa['statuses']\r\n",
        "\r\n",
        "# Faz a iteração em 5 blocos de resultados seguindo um 'cursor'\r\n",
        "for _ in range(5):\r\n",
        "    print('Tamanho do conjunto de status', len(statuses))\r\n",
        "    try:\r\n",
        "        proximos_resultados = resultados_pesquisa['search_metadata']['proximos_resultados']\r\n",
        "    except KeyError as e: # Termina quando proximos_resultados termina de existir\r\n",
        "        break\r\n",
        "        \r\n",
        "    # Cria um dicionário de proximos_resultados\r\n",
        "    kwargs = dict([ kv.split('=') for kv in unquote(proximos_resultados[1:]).split(\"&\") ])\r\n",
        "    \r\n",
        "    resultados_pesquisa = twitter_api.search.tweets(**kwargs)\r\n",
        "    statuses += resultados_pesquisa['statuses']\r\n",
        "\r\n",
        "# Mostra uma pequena amostra do resultado.\r\n",
        "# O resultado está no formato JSON, conforme mostrado abaixo.\r\n",
        "print(json.dumps(statuses[0], indent=1))"
      ],
      "outputs": [
        {
          "output_type": "stream",
          "name": "stdout",
          "text": [
            "Tamanho do conjunto de status 100\n",
            "{\n",
            " \"created_at\": \"Sat Jul 24 02:05:46 +0000 2021\",\n",
            " \"id\": 1418754249354354689,\n",
            " \"id_str\": \"1418754249354354689\",\n",
            " \"text\": \"RT @PsoccerCOM: Newspapers \\ud83c\\uddf5\\ud83c\\uddf9 #Portugal #SportingCP #FCPorto #Benfica #SCBraga https://t.co/e5HnP3W1K9\",\n",
            " \"truncated\": false,\n",
            " \"entities\": {\n",
            "  \"hashtags\": [\n",
            "   {\n",
            "    \"text\": \"Portugal\",\n",
            "    \"indices\": [\n",
            "     30,\n",
            "     39\n",
            "    ]\n",
            "   },\n",
            "   {\n",
            "    \"text\": \"SportingCP\",\n",
            "    \"indices\": [\n",
            "     40,\n",
            "     51\n",
            "    ]\n",
            "   },\n",
            "   {\n",
            "    \"text\": \"FCPorto\",\n",
            "    \"indices\": [\n",
            "     52,\n",
            "     60\n",
            "    ]\n",
            "   },\n",
            "   {\n",
            "    \"text\": \"Benfica\",\n",
            "    \"indices\": [\n",
            "     61,\n",
            "     69\n",
            "    ]\n",
            "   },\n",
            "   {\n",
            "    \"text\": \"SCBraga\",\n",
            "    \"indices\": [\n",
            "     70,\n",
            "     78\n",
            "    ]\n",
            "   }\n",
            "  ],\n",
            "  \"symbols\": [],\n",
            "  \"user_mentions\": [\n",
            "   {\n",
            "    \"screen_name\": \"PsoccerCOM\",\n",
            "    \"name\": \"PortugueseSoccer.com \\u26bd\\ufe0f\",\n",
            "    \"id\": 2499851432,\n",
            "    \"id_str\": \"2499851432\",\n",
            "    \"indices\": [\n",
            "     3,\n",
            "     14\n",
            "    ]\n",
            "   }\n",
            "  ],\n",
            "  \"urls\": [],\n",
            "  \"media\": [\n",
            "   {\n",
            "    \"id\": 1418754082198769667,\n",
            "    \"id_str\": \"1418754082198769667\",\n",
            "    \"indices\": [\n",
            "     79,\n",
            "     102\n",
            "    ],\n",
            "    \"media_url\": \"http://pbs.twimg.com/media/E7BtUiUX0AMU5FH.jpg\",\n",
            "    \"media_url_https\": \"https://pbs.twimg.com/media/E7BtUiUX0AMU5FH.jpg\",\n",
            "    \"url\": \"https://t.co/e5HnP3W1K9\",\n",
            "    \"display_url\": \"pic.twitter.com/e5HnP3W1K9\",\n",
            "    \"expanded_url\": \"https://twitter.com/PsoccerCOM/status/1418754096035770375/photo/1\",\n",
            "    \"type\": \"photo\",\n",
            "    \"sizes\": {\n",
            "     \"thumb\": {\n",
            "      \"w\": 150,\n",
            "      \"h\": 150,\n",
            "      \"resize\": \"crop\"\n",
            "     },\n",
            "     \"large\": {\n",
            "      \"w\": 1064,\n",
            "      \"h\": 1327,\n",
            "      \"resize\": \"fit\"\n",
            "     },\n",
            "     \"medium\": {\n",
            "      \"w\": 962,\n",
            "      \"h\": 1200,\n",
            "      \"resize\": \"fit\"\n",
            "     },\n",
            "     \"small\": {\n",
            "      \"w\": 545,\n",
            "      \"h\": 680,\n",
            "      \"resize\": \"fit\"\n",
            "     }\n",
            "    },\n",
            "    \"source_status_id\": 1418754096035770375,\n",
            "    \"source_status_id_str\": \"1418754096035770375\",\n",
            "    \"source_user_id\": 2499851432,\n",
            "    \"source_user_id_str\": \"2499851432\"\n",
            "   }\n",
            "  ]\n",
            " },\n",
            " \"extended_entities\": {\n",
            "  \"media\": [\n",
            "   {\n",
            "    \"id\": 1418754082198769667,\n",
            "    \"id_str\": \"1418754082198769667\",\n",
            "    \"indices\": [\n",
            "     79,\n",
            "     102\n",
            "    ],\n",
            "    \"media_url\": \"http://pbs.twimg.com/media/E7BtUiUX0AMU5FH.jpg\",\n",
            "    \"media_url_https\": \"https://pbs.twimg.com/media/E7BtUiUX0AMU5FH.jpg\",\n",
            "    \"url\": \"https://t.co/e5HnP3W1K9\",\n",
            "    \"display_url\": \"pic.twitter.com/e5HnP3W1K9\",\n",
            "    \"expanded_url\": \"https://twitter.com/PsoccerCOM/status/1418754096035770375/photo/1\",\n",
            "    \"type\": \"photo\",\n",
            "    \"sizes\": {\n",
            "     \"thumb\": {\n",
            "      \"w\": 150,\n",
            "      \"h\": 150,\n",
            "      \"resize\": \"crop\"\n",
            "     },\n",
            "     \"large\": {\n",
            "      \"w\": 1064,\n",
            "      \"h\": 1327,\n",
            "      \"resize\": \"fit\"\n",
            "     },\n",
            "     \"medium\": {\n",
            "      \"w\": 962,\n",
            "      \"h\": 1200,\n",
            "      \"resize\": \"fit\"\n",
            "     },\n",
            "     \"small\": {\n",
            "      \"w\": 545,\n",
            "      \"h\": 680,\n",
            "      \"resize\": \"fit\"\n",
            "     }\n",
            "    },\n",
            "    \"source_status_id\": 1418754096035770375,\n",
            "    \"source_status_id_str\": \"1418754096035770375\",\n",
            "    \"source_user_id\": 2499851432,\n",
            "    \"source_user_id_str\": \"2499851432\"\n",
            "   },\n",
            "   {\n",
            "    \"id\": 1418754087483478019,\n",
            "    \"id_str\": \"1418754087483478019\",\n",
            "    \"indices\": [\n",
            "     79,\n",
            "     102\n",
            "    ],\n",
            "    \"media_url\": \"http://pbs.twimg.com/media/E7BtU2AWEAMItgD.jpg\",\n",
            "    \"media_url_https\": \"https://pbs.twimg.com/media/E7BtU2AWEAMItgD.jpg\",\n",
            "    \"url\": \"https://t.co/e5HnP3W1K9\",\n",
            "    \"display_url\": \"pic.twitter.com/e5HnP3W1K9\",\n",
            "    \"expanded_url\": \"https://twitter.com/PsoccerCOM/status/1418754096035770375/photo/1\",\n",
            "    \"type\": \"photo\",\n",
            "    \"sizes\": {\n",
            "     \"medium\": {\n",
            "      \"w\": 957,\n",
            "      \"h\": 1200,\n",
            "      \"resize\": \"fit\"\n",
            "     },\n",
            "     \"thumb\": {\n",
            "      \"w\": 150,\n",
            "      \"h\": 150,\n",
            "      \"resize\": \"crop\"\n",
            "     },\n",
            "     \"large\": {\n",
            "      \"w\": 1400,\n",
            "      \"h\": 1756,\n",
            "      \"resize\": \"fit\"\n",
            "     },\n",
            "     \"small\": {\n",
            "      \"w\": 542,\n",
            "      \"h\": 680,\n",
            "      \"resize\": \"fit\"\n",
            "     }\n",
            "    },\n",
            "    \"source_status_id\": 1418754096035770375,\n",
            "    \"source_status_id_str\": \"1418754096035770375\",\n",
            "    \"source_user_id\": 2499851432,\n",
            "    \"source_user_id_str\": \"2499851432\"\n",
            "   },\n",
            "   {\n",
            "    \"id\": 1418754094345375748,\n",
            "    \"id_str\": \"1418754094345375748\",\n",
            "    \"indices\": [\n",
            "     79,\n",
            "     102\n",
            "    ],\n",
            "    \"media_url\": \"http://pbs.twimg.com/media/E7BtVPkWUAQb0G2.jpg\",\n",
            "    \"media_url_https\": \"https://pbs.twimg.com/media/E7BtVPkWUAQb0G2.jpg\",\n",
            "    \"url\": \"https://t.co/e5HnP3W1K9\",\n",
            "    \"display_url\": \"pic.twitter.com/e5HnP3W1K9\",\n",
            "    \"expanded_url\": \"https://twitter.com/PsoccerCOM/status/1418754096035770375/photo/1\",\n",
            "    \"type\": \"photo\",\n",
            "    \"sizes\": {\n",
            "     \"small\": {\n",
            "      \"w\": 522,\n",
            "      \"h\": 680,\n",
            "      \"resize\": \"fit\"\n",
            "     },\n",
            "     \"thumb\": {\n",
            "      \"w\": 150,\n",
            "      \"h\": 150,\n",
            "      \"resize\": \"crop\"\n",
            "     },\n",
            "     \"large\": {\n",
            "      \"w\": 1060,\n",
            "      \"h\": 1380,\n",
            "      \"resize\": \"fit\"\n",
            "     },\n",
            "     \"medium\": {\n",
            "      \"w\": 922,\n",
            "      \"h\": 1200,\n",
            "      \"resize\": \"fit\"\n",
            "     }\n",
            "    },\n",
            "    \"source_status_id\": 1418754096035770375,\n",
            "    \"source_status_id_str\": \"1418754096035770375\",\n",
            "    \"source_user_id\": 2499851432,\n",
            "    \"source_user_id_str\": \"2499851432\"\n",
            "   }\n",
            "  ]\n",
            " },\n",
            " \"metadata\": {\n",
            "  \"iso_language_code\": \"en\",\n",
            "  \"result_type\": \"recent\"\n",
            " },\n",
            " \"source\": \"<a href=\\\"http://twitter.com/download/android\\\" rel=\\\"nofollow\\\">Twitter for Android</a>\",\n",
            " \"in_reply_to_status_id\": null,\n",
            " \"in_reply_to_status_id_str\": null,\n",
            " \"in_reply_to_user_id\": null,\n",
            " \"in_reply_to_user_id_str\": null,\n",
            " \"in_reply_to_screen_name\": null,\n",
            " \"user\": {\n",
            "  \"id\": 1220435531810643968,\n",
            "  \"id_str\": \"1220435531810643968\",\n",
            "  \"name\": \"JS\",\n",
            "  \"screen_name\": \"Jonisilvajs\",\n",
            "  \"location\": \"\",\n",
            "  \"description\": \"@joaquimsilvajs\",\n",
            "  \"url\": null,\n",
            "  \"entities\": {\n",
            "   \"description\": {\n",
            "    \"urls\": []\n",
            "   }\n",
            "  },\n",
            "  \"protected\": false,\n",
            "  \"followers_count\": 6,\n",
            "  \"friends_count\": 30,\n",
            "  \"listed_count\": 0,\n",
            "  \"created_at\": \"Thu Jan 23 19:58:09 +0000 2020\",\n",
            "  \"favourites_count\": 88,\n",
            "  \"utc_offset\": null,\n",
            "  \"time_zone\": null,\n",
            "  \"geo_enabled\": false,\n",
            "  \"verified\": false,\n",
            "  \"statuses_count\": 73,\n",
            "  \"lang\": null,\n",
            "  \"contributors_enabled\": false,\n",
            "  \"is_translator\": false,\n",
            "  \"is_translation_enabled\": false,\n",
            "  \"profile_background_color\": \"F5F8FA\",\n",
            "  \"profile_background_image_url\": null,\n",
            "  \"profile_background_image_url_https\": null,\n",
            "  \"profile_background_tile\": false,\n",
            "  \"profile_image_url\": \"http://pbs.twimg.com/profile_images/1417074207704461316/dJpumRb5_normal.jpg\",\n",
            "  \"profile_image_url_https\": \"https://pbs.twimg.com/profile_images/1417074207704461316/dJpumRb5_normal.jpg\",\n",
            "  \"profile_banner_url\": \"https://pbs.twimg.com/profile_banners/1220435531810643968/1626691815\",\n",
            "  \"profile_link_color\": \"1DA1F2\",\n",
            "  \"profile_sidebar_border_color\": \"C0DEED\",\n",
            "  \"profile_sidebar_fill_color\": \"DDEEF6\",\n",
            "  \"profile_text_color\": \"333333\",\n",
            "  \"profile_use_background_image\": true,\n",
            "  \"has_extended_profile\": false,\n",
            "  \"default_profile\": true,\n",
            "  \"default_profile_image\": false,\n",
            "  \"following\": false,\n",
            "  \"follow_request_sent\": false,\n",
            "  \"notifications\": false,\n",
            "  \"translator_type\": \"none\",\n",
            "  \"withheld_in_countries\": []\n",
            " },\n",
            " \"geo\": null,\n",
            " \"coordinates\": null,\n",
            " \"place\": null,\n",
            " \"contributors\": null,\n",
            " \"retweeted_status\": {\n",
            "  \"created_at\": \"Sat Jul 24 02:05:10 +0000 2021\",\n",
            "  \"id\": 1418754096035770375,\n",
            "  \"id_str\": \"1418754096035770375\",\n",
            "  \"text\": \"Newspapers \\ud83c\\uddf5\\ud83c\\uddf9 #Portugal #SportingCP #FCPorto #Benfica #SCBraga https://t.co/e5HnP3W1K9\",\n",
            "  \"truncated\": false,\n",
            "  \"entities\": {\n",
            "   \"hashtags\": [\n",
            "    {\n",
            "     \"text\": \"Portugal\",\n",
            "     \"indices\": [\n",
            "      14,\n",
            "      23\n",
            "     ]\n",
            "    },\n",
            "    {\n",
            "     \"text\": \"SportingCP\",\n",
            "     \"indices\": [\n",
            "      24,\n",
            "      35\n",
            "     ]\n",
            "    },\n",
            "    {\n",
            "     \"text\": \"FCPorto\",\n",
            "     \"indices\": [\n",
            "      36,\n",
            "      44\n",
            "     ]\n",
            "    },\n",
            "    {\n",
            "     \"text\": \"Benfica\",\n",
            "     \"indices\": [\n",
            "      45,\n",
            "      53\n",
            "     ]\n",
            "    },\n",
            "    {\n",
            "     \"text\": \"SCBraga\",\n",
            "     \"indices\": [\n",
            "      54,\n",
            "      62\n",
            "     ]\n",
            "    }\n",
            "   ],\n",
            "   \"symbols\": [],\n",
            "   \"user_mentions\": [],\n",
            "   \"urls\": [],\n",
            "   \"media\": [\n",
            "    {\n",
            "     \"id\": 1418754082198769667,\n",
            "     \"id_str\": \"1418754082198769667\",\n",
            "     \"indices\": [\n",
            "      63,\n",
            "      86\n",
            "     ],\n",
            "     \"media_url\": \"http://pbs.twimg.com/media/E7BtUiUX0AMU5FH.jpg\",\n",
            "     \"media_url_https\": \"https://pbs.twimg.com/media/E7BtUiUX0AMU5FH.jpg\",\n",
            "     \"url\": \"https://t.co/e5HnP3W1K9\",\n",
            "     \"display_url\": \"pic.twitter.com/e5HnP3W1K9\",\n",
            "     \"expanded_url\": \"https://twitter.com/PsoccerCOM/status/1418754096035770375/photo/1\",\n",
            "     \"type\": \"photo\",\n",
            "     \"sizes\": {\n",
            "      \"thumb\": {\n",
            "       \"w\": 150,\n",
            "       \"h\": 150,\n",
            "       \"resize\": \"crop\"\n",
            "      },\n",
            "      \"large\": {\n",
            "       \"w\": 1064,\n",
            "       \"h\": 1327,\n",
            "       \"resize\": \"fit\"\n",
            "      },\n",
            "      \"medium\": {\n",
            "       \"w\": 962,\n",
            "       \"h\": 1200,\n",
            "       \"resize\": \"fit\"\n",
            "      },\n",
            "      \"small\": {\n",
            "       \"w\": 545,\n",
            "       \"h\": 680,\n",
            "       \"resize\": \"fit\"\n",
            "      }\n",
            "     }\n",
            "    }\n",
            "   ]\n",
            "  },\n",
            "  \"extended_entities\": {\n",
            "   \"media\": [\n",
            "    {\n",
            "     \"id\": 1418754082198769667,\n",
            "     \"id_str\": \"1418754082198769667\",\n",
            "     \"indices\": [\n",
            "      63,\n",
            "      86\n",
            "     ],\n",
            "     \"media_url\": \"http://pbs.twimg.com/media/E7BtUiUX0AMU5FH.jpg\",\n",
            "     \"media_url_https\": \"https://pbs.twimg.com/media/E7BtUiUX0AMU5FH.jpg\",\n",
            "     \"url\": \"https://t.co/e5HnP3W1K9\",\n",
            "     \"display_url\": \"pic.twitter.com/e5HnP3W1K9\",\n",
            "     \"expanded_url\": \"https://twitter.com/PsoccerCOM/status/1418754096035770375/photo/1\",\n",
            "     \"type\": \"photo\",\n",
            "     \"sizes\": {\n",
            "      \"thumb\": {\n",
            "       \"w\": 150,\n",
            "       \"h\": 150,\n",
            "       \"resize\": \"crop\"\n",
            "      },\n",
            "      \"large\": {\n",
            "       \"w\": 1064,\n",
            "       \"h\": 1327,\n",
            "       \"resize\": \"fit\"\n",
            "      },\n",
            "      \"medium\": {\n",
            "       \"w\": 962,\n",
            "       \"h\": 1200,\n",
            "       \"resize\": \"fit\"\n",
            "      },\n",
            "      \"small\": {\n",
            "       \"w\": 545,\n",
            "       \"h\": 680,\n",
            "       \"resize\": \"fit\"\n",
            "      }\n",
            "     }\n",
            "    },\n",
            "    {\n",
            "     \"id\": 1418754087483478019,\n",
            "     \"id_str\": \"1418754087483478019\",\n",
            "     \"indices\": [\n",
            "      63,\n",
            "      86\n",
            "     ],\n",
            "     \"media_url\": \"http://pbs.twimg.com/media/E7BtU2AWEAMItgD.jpg\",\n",
            "     \"media_url_https\": \"https://pbs.twimg.com/media/E7BtU2AWEAMItgD.jpg\",\n",
            "     \"url\": \"https://t.co/e5HnP3W1K9\",\n",
            "     \"display_url\": \"pic.twitter.com/e5HnP3W1K9\",\n",
            "     \"expanded_url\": \"https://twitter.com/PsoccerCOM/status/1418754096035770375/photo/1\",\n",
            "     \"type\": \"photo\",\n",
            "     \"sizes\": {\n",
            "      \"medium\": {\n",
            "       \"w\": 957,\n",
            "       \"h\": 1200,\n",
            "       \"resize\": \"fit\"\n",
            "      },\n",
            "      \"thumb\": {\n",
            "       \"w\": 150,\n",
            "       \"h\": 150,\n",
            "       \"resize\": \"crop\"\n",
            "      },\n",
            "      \"large\": {\n",
            "       \"w\": 1400,\n",
            "       \"h\": 1756,\n",
            "       \"resize\": \"fit\"\n",
            "      },\n",
            "      \"small\": {\n",
            "       \"w\": 542,\n",
            "       \"h\": 680,\n",
            "       \"resize\": \"fit\"\n",
            "      }\n",
            "     }\n",
            "    },\n",
            "    {\n",
            "     \"id\": 1418754094345375748,\n",
            "     \"id_str\": \"1418754094345375748\",\n",
            "     \"indices\": [\n",
            "      63,\n",
            "      86\n",
            "     ],\n",
            "     \"media_url\": \"http://pbs.twimg.com/media/E7BtVPkWUAQb0G2.jpg\",\n",
            "     \"media_url_https\": \"https://pbs.twimg.com/media/E7BtVPkWUAQb0G2.jpg\",\n",
            "     \"url\": \"https://t.co/e5HnP3W1K9\",\n",
            "     \"display_url\": \"pic.twitter.com/e5HnP3W1K9\",\n",
            "     \"expanded_url\": \"https://twitter.com/PsoccerCOM/status/1418754096035770375/photo/1\",\n",
            "     \"type\": \"photo\",\n",
            "     \"sizes\": {\n",
            "      \"small\": {\n",
            "       \"w\": 522,\n",
            "       \"h\": 680,\n",
            "       \"resize\": \"fit\"\n",
            "      },\n",
            "      \"thumb\": {\n",
            "       \"w\": 150,\n",
            "       \"h\": 150,\n",
            "       \"resize\": \"crop\"\n",
            "      },\n",
            "      \"large\": {\n",
            "       \"w\": 1060,\n",
            "       \"h\": 1380,\n",
            "       \"resize\": \"fit\"\n",
            "      },\n",
            "      \"medium\": {\n",
            "       \"w\": 922,\n",
            "       \"h\": 1200,\n",
            "       \"resize\": \"fit\"\n",
            "      }\n",
            "     }\n",
            "    }\n",
            "   ]\n",
            "  },\n",
            "  \"metadata\": {\n",
            "   \"iso_language_code\": \"en\",\n",
            "   \"result_type\": \"recent\"\n",
            "  },\n",
            "  \"source\": \"<a href=\\\"http://twitter.com/download/android\\\" rel=\\\"nofollow\\\">Twitter for Android</a>\",\n",
            "  \"in_reply_to_status_id\": null,\n",
            "  \"in_reply_to_status_id_str\": null,\n",
            "  \"in_reply_to_user_id\": null,\n",
            "  \"in_reply_to_user_id_str\": null,\n",
            "  \"in_reply_to_screen_name\": null,\n",
            "  \"user\": {\n",
            "   \"id\": 2499851432,\n",
            "   \"id_str\": \"2499851432\",\n",
            "   \"name\": \"PortugueseSoccer.com \\u26bd\\ufe0f\",\n",
            "   \"screen_name\": \"PsoccerCOM\",\n",
            "   \"location\": \"\",\n",
            "   \"description\": \"News, Liga, National Team, Schedules, Players & Managers Abroad, Stats, History, Podcast. Contact PSoccercom@gmail.com.\",\n",
            "   \"url\": \"https://t.co/gkamReYcWD\",\n",
            "   \"entities\": {\n",
            "    \"url\": {\n",
            "     \"urls\": [\n",
            "      {\n",
            "       \"url\": \"https://t.co/gkamReYcWD\",\n",
            "       \"expanded_url\": \"http://linktr.ee/PortugueseSoccercom\",\n",
            "       \"display_url\": \"linktr.ee/PortugueseSocc\\u2026\",\n",
            "       \"indices\": [\n",
            "        0,\n",
            "        23\n",
            "       ]\n",
            "      }\n",
            "     ]\n",
            "    },\n",
            "    \"description\": {\n",
            "     \"urls\": []\n",
            "    }\n",
            "   },\n",
            "   \"protected\": false,\n",
            "   \"followers_count\": 14074,\n",
            "   \"friends_count\": 145,\n",
            "   \"listed_count\": 214,\n",
            "   \"created_at\": \"Fri May 16 20:40:59 +0000 2014\",\n",
            "   \"favourites_count\": 72,\n",
            "   \"utc_offset\": null,\n",
            "   \"time_zone\": null,\n",
            "   \"geo_enabled\": false,\n",
            "   \"verified\": false,\n",
            "   \"statuses_count\": 93922,\n",
            "   \"lang\": null,\n",
            "   \"contributors_enabled\": false,\n",
            "   \"is_translator\": false,\n",
            "   \"is_translation_enabled\": false,\n",
            "   \"profile_background_color\": \"339933\",\n",
            "   \"profile_background_image_url\": \"http://abs.twimg.com/images/themes/theme16/bg.gif\",\n",
            "   \"profile_background_image_url_https\": \"https://abs.twimg.com/images/themes/theme16/bg.gif\",\n",
            "   \"profile_background_tile\": true,\n",
            "   \"profile_image_url\": \"http://pbs.twimg.com/profile_images/1367513584578793475/vdJK2eA6_normal.jpg\",\n",
            "   \"profile_image_url_https\": \"https://pbs.twimg.com/profile_images/1367513584578793475/vdJK2eA6_normal.jpg\",\n",
            "   \"profile_banner_url\": \"https://pbs.twimg.com/profile_banners/2499851432/1624904375\",\n",
            "   \"profile_link_color\": \"000000\",\n",
            "   \"profile_sidebar_border_color\": \"FFFFFF\",\n",
            "   \"profile_sidebar_fill_color\": \"DDFFCC\",\n",
            "   \"profile_text_color\": \"333333\",\n",
            "   \"profile_use_background_image\": true,\n",
            "   \"has_extended_profile\": false,\n",
            "   \"default_profile\": false,\n",
            "   \"default_profile_image\": false,\n",
            "   \"following\": false,\n",
            "   \"follow_request_sent\": false,\n",
            "   \"notifications\": false,\n",
            "   \"translator_type\": \"none\",\n",
            "   \"withheld_in_countries\": []\n",
            "  },\n",
            "  \"geo\": null,\n",
            "  \"coordinates\": null,\n",
            "  \"place\": null,\n",
            "  \"contributors\": null,\n",
            "  \"is_quote_status\": false,\n",
            "  \"retweet_count\": 1,\n",
            "  \"favorite_count\": 5,\n",
            "  \"favorited\": false,\n",
            "  \"retweeted\": false,\n",
            "  \"possibly_sensitive\": false,\n",
            "  \"lang\": \"en\"\n",
            " },\n",
            " \"is_quote_status\": false,\n",
            " \"retweet_count\": 1,\n",
            " \"favorite_count\": 0,\n",
            " \"favorited\": false,\n",
            " \"retweeted\": false,\n",
            " \"possibly_sensitive\": false,\n",
            " \"lang\": \"en\"\n",
            "}\n"
          ]
        }
      ],
      "metadata": {
        "colab": {
          "base_uri": "https://localhost:8080/"
        },
        "id": "NNiTWWUogAjQ",
        "outputId": "db6badb6-9ad5-45ec-ca97-27c3c326f11b"
      }
    },
    {
      "cell_type": "code",
      "execution_count": 9,
      "source": [
        "# Importante também o número de vezes que um tweet específico foi re-tuitado.  \r\n",
        "\r\n",
        "for i in range(10):\r\n",
        "    print()\r\n",
        "    print(statuses[i]['text'])\r\n",
        "    print('Favorites: ', statuses[i]['favorite_count'])\r\n",
        "    print('Retweets: ', statuses[i]['retweet_count'])"
      ],
      "outputs": [
        {
          "output_type": "stream",
          "name": "stdout",
          "text": [
            "\n",
            "RT @PsoccerCOM: Newspapers 🇵🇹 #Portugal #SportingCP #FCPorto #Benfica #SCBraga https://t.co/e5HnP3W1K9\n",
            "Favorites:  0\n",
            "Retweets:  1\n",
            "\n",
            "Newspapers 🇵🇹 #Portugal #SportingCP #FCPorto #Benfica #SCBraga https://t.co/e5HnP3W1K9\n",
            "Favorites:  5\n",
            "Retweets:  1\n",
            "\n",
            "Así es como se ve la energía #eólica marina flotante.\n",
            " ⚡️🌬🌊⚡️\n",
            "25MW de energía, 32km de la costa, anclado a 90m de p… https://t.co/IBHF0JkUQf\n",
            "Favorites:  1\n",
            "Retweets:  0\n",
            "\n",
            "Pedro Fraga e Afonso Costa ficam 3.º na sua série de qualificação e vão à repescagem de amanhã.\n",
            "\n",
            "#Portugal \n",
            "#rowing \n",
            "#Tokyo2020\n",
            "Favorites:  3\n",
            "Retweets:  0\n",
            "\n",
            "RT @PsoccerCOM: #Portugal is introduced at the opening Olympic Ceremony in Japan. 17 of the  92 athletes participated in the ceremony as 🇵🇹…\n",
            "Favorites:  0\n",
            "Retweets:  11\n",
            "\n",
            "RT @carlos_santiso: Implementando uma estratégia de #TransformaçãoDigital: quais fatores são essenciais? Qual é o modelo de governança reco…\n",
            "Favorites:  0\n",
            "Retweets:  2\n",
            "\n",
            "RT @NicolaYeager: Summer Loving by Nicola Yeager.\n",
            "'A quick, easy-read romance. Loved it!'\n",
            "https://t.co/RN0yiKLic4\n",
            "#Sun #Sea #Sand #Surf #Ro…\n",
            "Favorites:  0\n",
            "Retweets:  7\n",
            "\n",
            "RT @SelecaoPod: “Não a gente como a gente” 💚❤️\n",
            "\n",
            "#Olympics #OlympicGames #Tokyo2020 #Portugal #ForçaPortugal\n",
            "Favorites:  0\n",
            "Retweets:  4\n",
            "\n",
            "RT @carlos_santiso: Implementando uma estratégia de #TransformaçãoDigital: quais fatores são essenciais? Qual é o modelo de governança reco…\n",
            "Favorites:  0\n",
            "Retweets:  2\n",
            "\n",
            "#Earthquake (#terramoto) M2.1 strikes 75 km S of #Faro (#Portugal) 11 min ago. More info: https://t.co/bNXlIHmNKB\n",
            "Favorites:  0\n",
            "Retweets:  0\n"
          ]
        }
      ],
      "metadata": {
        "colab": {
          "base_uri": "https://localhost:8080/"
        },
        "id": "pJVRVcYbgAjR",
        "outputId": "144fb7e3-e5b6-4e44-ad33-10b1edc3bcf9"
      }
    },
    {
      "cell_type": "markdown",
      "source": [
        "## Extraindo entidades do tweet"
      ],
      "metadata": {
        "id": "xgzKKJuigAjR"
      }
    },
    {
      "cell_type": "markdown",
      "source": [
        "Podemos agora organizar as entidades e o texto de alguns tweets em uma estrutura de dados para análise. O exemplo abaixo extrai o texto, *screen names* e *hashtags* dos tweets coletados.\n"
      ],
      "metadata": {
        "id": "kHMAXkktCBmK"
      }
    },
    {
      "cell_type": "code",
      "execution_count": 10,
      "source": [
        "# Extrai o texto\r\n",
        "status_texts = [ status['text'] \r\n",
        "                 for status in statuses ]\r\n",
        "\r\n",
        "# Extrai o screen_name\r\n",
        "screen_names = [ user_mention['screen_name'] \r\n",
        "                 for status in statuses\r\n",
        "                     for user_mention in status['entities']['user_mentions'] ]\r\n",
        "\r\n",
        "# Extrai os hashtags\r\n",
        "hashtags = [ hashtag['text'] \r\n",
        "             for status in statuses\r\n",
        "                 for hashtag in status['entities']['hashtags'] ]\r\n",
        "\r\n",
        "# Cria uma coleção com todas as palavras de todos os tweets\r\n",
        "palavras = [ w \r\n",
        "          for t in status_texts \r\n",
        "              for w in t.split() ]\r\n",
        "\r\n",
        "# Explora os primeiros 5 elementos de cada...\r\n",
        "\r\n",
        "print(json.dumps(status_texts[0:5], indent=1))\r\n",
        "print(json.dumps(screen_names[0:5], indent=1) )\r\n",
        "print(json.dumps(hashtags[0:5], indent=1))\r\n",
        "print(json.dumps(palavras[0:5], indent=1))"
      ],
      "outputs": [
        {
          "output_type": "stream",
          "name": "stdout",
          "text": [
            "[\n",
            " \"RT @PsoccerCOM: Newspapers \\ud83c\\uddf5\\ud83c\\uddf9 #Portugal #SportingCP #FCPorto #Benfica #SCBraga https://t.co/e5HnP3W1K9\",\n",
            " \"Newspapers \\ud83c\\uddf5\\ud83c\\uddf9 #Portugal #SportingCP #FCPorto #Benfica #SCBraga https://t.co/e5HnP3W1K9\",\n",
            " \"As\\u00ed es como se ve la energ\\u00eda #e\\u00f3lica marina flotante.\\n \\u26a1\\ufe0f\\ud83c\\udf2c\\ud83c\\udf0a\\u26a1\\ufe0f\\n25MW de energ\\u00eda, 32km de la costa, anclado a 90m de p\\u2026 https://t.co/IBHF0JkUQf\",\n",
            " \"Pedro Fraga e Afonso Costa ficam 3.\\u00ba na sua s\\u00e9rie de qualifica\\u00e7\\u00e3o e v\\u00e3o \\u00e0 repescagem de amanh\\u00e3.\\n\\n#Portugal \\n#rowing \\n#Tokyo2020\",\n",
            " \"RT @PsoccerCOM: #Portugal is introduced at the opening Olympic Ceremony in Japan. 17 of the  92 athletes participated in the ceremony as \\ud83c\\uddf5\\ud83c\\uddf9\\u2026\"\n",
            "]\n",
            "[\n",
            " \"PsoccerCOM\",\n",
            " \"PsoccerCOM\",\n",
            " \"carlos_santiso\",\n",
            " \"NicolaYeager\",\n",
            " \"SelecaoPod\"\n",
            "]\n",
            "[\n",
            " \"Portugal\",\n",
            " \"SportingCP\",\n",
            " \"FCPorto\",\n",
            " \"Benfica\",\n",
            " \"SCBraga\"\n",
            "]\n",
            "[\n",
            " \"RT\",\n",
            " \"@PsoccerCOM:\",\n",
            " \"Newspapers\",\n",
            " \"\\ud83c\\uddf5\\ud83c\\uddf9\",\n",
            " \"#Portugal\"\n",
            "]\n"
          ]
        }
      ],
      "metadata": {
        "colab": {
          "base_uri": "https://localhost:8080/"
        },
        "id": "ZsT7Xbq-gAjS",
        "outputId": "5811e859-2941-4aea-b34b-7d2d86a220a5"
      }
    },
    {
      "cell_type": "markdown",
      "source": [
        "Metadados é uma ferramenta poderosa. Meta significa algo que descreve alguma coisa. Metadado é então o 'dado que descreve o dado'. Neste caso é toda informação complementar que melhor caracteriza o texto do tweet.\n",
        "O metadata de um tweet é retornado no formato JSON, com uma estrutura de chave-valor (key-value). \n"
      ],
      "metadata": {
        "id": "8DgDGGlfCt60"
      }
    },
    {
      "cell_type": "markdown",
      "source": [
        "## Análise de frequência de palavras no texto de tweet"
      ],
      "metadata": {
        "id": "G4zCLpXwgAjS"
      }
    },
    {
      "cell_type": "markdown",
      "source": [
        "*   Grande parte de analises de dados entra no aspecto de contar coisas em algum nível.\n",
        "*   Distribuição de frequência, em que contamos o número de ocorrência de uma variável, é uma ferramenta bem útil. \n",
        "* Em Python, podemos utilizar o módulo collections que fornece um contador para calcular uma distribuição de frequência. \n",
        "\n"
      ],
      "metadata": {
        "id": "04VCoPW_DNPC"
      }
    },
    {
      "cell_type": "code",
      "execution_count": 11,
      "source": [
        "# Este código retorna pares com o termo e a frequência de ocorrência deste termo. \r\n",
        "# O print() dentro do loop garante que apenas os 10 primeiros resultados são mostrados. \r\n",
        "\r\n",
        "from collections import Counter\r\n",
        "for item in [palavras, screen_names, hashtags]:\r\n",
        "    c = Counter(item)\r\n",
        "    print(c.most_common()[:10]) # primeiros 10 \r\n",
        "    print()"
      ],
      "outputs": [
        {
          "output_type": "stream",
          "name": "stdout",
          "text": [
            "[('RT', 65), ('a', 37), ('#Portugal', 33), ('the', 24), ('de', 20), ('your', 20), ('🇵🇹', 14), ('at', 13), ('#NewYork', 13), ('como', 12)]\n",
            "\n",
            "[('nbtechnologies2', 8), ('NicolaYeager', 7), ('MiguelCalabria3', 6), ('IvanZullo', 5), ('iamDaniloP', 5), ('JorgeCarmo9', 4), ('zaibatsu', 4), ('PsoccerCOM', 3), ('AndebolPortugal', 3), ('ArchDaily', 3)]\n",
            "\n",
            "[('Portugal', 40), ('portugal', 15), ('NewYork', 13), ('nodejs', 9), ('coding', 9), ('Argentina', 9), ('Italy', 9), ('Germany', 9), ('WomenWhoCode', 9), ('webdev', 9)]\n",
            "\n"
          ]
        }
      ],
      "metadata": {
        "colab": {
          "base_uri": "https://localhost:8080/"
        },
        "id": "kZmv3-XmgAjS",
        "outputId": "9faf8d43-dec0-4eca-ee14-4e91bf51f093"
      }
    },
    {
      "cell_type": "markdown",
      "source": [
        "## Resultados bem formatados\n",
        "\n",
        "O resultado da distribuição de frequência dos tópicos é uma estrutura de mapa do tipo *key/value (chave-valor)*. Podemos utilizar o módulo Python *prettytable* para mostrar visualmente os resultados na forma de uma tabela. \n"
      ],
      "metadata": {
        "id": "k6ktCdSOgAjT"
      }
    },
    {
      "cell_type": "code",
      "execution_count": 13,
      "source": [
        "# Importamos o módulo PrettyTable\r\n",
        "from prettytable import PrettyTable\r\n",
        "\r\n",
        "# Loop para montar três tabelas, cada uma contendo duas colunas. \r\n",
        "# A primeira colunoa mostra a informação (Palavra ou ScreenName ou Hashtag)\r\n",
        "# A segunda coluna mostra o número de ocorrências (Count)\r\n",
        "for label, data in (('Palavra', palavras), \r\n",
        "                    ('Screen Name', screen_names), \r\n",
        "                    ('Hashtag', hashtags)):\r\n",
        "    pt = PrettyTable(field_names=[label, 'Count']) \r\n",
        "    c = Counter(data)\r\n",
        "    [ pt.add_row(kv) for kv in c.most_common()[:10] ]\r\n",
        "    pt.align[label], pt.align['Count'] = 'l', 'r' # Ajusta o alinhamento das colunas (left,right)\r\n",
        "    print(pt)"
      ],
      "outputs": [
        {
          "output_type": "stream",
          "name": "stdout",
          "text": [
            "+-----------+-------+\n",
            "| Palavra   | Count |\n",
            "+-----------+-------+\n",
            "| RT        |    65 |\n",
            "| a         |    37 |\n",
            "| #Portugal |    33 |\n",
            "| the       |    24 |\n",
            "| de        |    20 |\n",
            "| your      |    20 |\n",
            "| 🇵🇹        |    14 |\n",
            "| at        |    13 |\n",
            "| #NewYork  |    13 |\n",
            "| como      |    12 |\n",
            "+-----------+-------+\n",
            "+-----------------+-------+\n",
            "| Screen Name     | Count |\n",
            "+-----------------+-------+\n",
            "| nbtechnologies2 |     8 |\n",
            "| NicolaYeager    |     7 |\n",
            "| MiguelCalabria3 |     6 |\n",
            "| IvanZullo       |     5 |\n",
            "| iamDaniloP      |     5 |\n",
            "| JorgeCarmo9     |     4 |\n",
            "| zaibatsu        |     4 |\n",
            "| PsoccerCOM      |     3 |\n",
            "| AndebolPortugal |     3 |\n",
            "| ArchDaily       |     3 |\n",
            "+-----------------+-------+\n",
            "+--------------+-------+\n",
            "| Hashtag      | Count |\n",
            "+--------------+-------+\n",
            "| Portugal     |    40 |\n",
            "| portugal     |    15 |\n",
            "| NewYork      |    13 |\n",
            "| nodejs       |     9 |\n",
            "| coding       |     9 |\n",
            "| Argentina    |     9 |\n",
            "| Italy        |     9 |\n",
            "| Germany      |     9 |\n",
            "| WomenWhoCode |     9 |\n",
            "| webdev       |     9 |\n",
            "+--------------+-------+\n"
          ]
        }
      ],
      "metadata": {
        "colab": {
          "base_uri": "https://localhost:8080/"
        },
        "id": "0njs0A_RgAjT",
        "outputId": "c5591b57-6ca7-45ae-c0f2-5069af971e24"
      }
    },
    {
      "cell_type": "markdown",
      "source": [
        "## Diversidade Léxica\n",
        "\n",
        "\n",
        "1.   Uma métrica mais avançada que também contempla frequências\n",
        "Aplicadas a textos não-estruturados.\n",
        "2.   Expressão do número único de tokens no texto dividido pelo número total de tokens. \n",
        "3. Pergunta interessante: \n",
        "Quão amplo ou restrito é um assunto conversado por um indivíduo ou grupo?\n"
      ],
      "metadata": {
        "id": "yqpSFfKXgAjT"
      }
    },
    {
      "cell_type": "code",
      "execution_count": 8,
      "source": [
        "import os\r\n",
        "print (f\"Selected env: {os.environ['CONDA_DEFAULT_ENV']}\")"
      ],
      "outputs": [
        {
          "output_type": "stream",
          "name": "stdout",
          "text": [
            "Selected env: pos_venv\n"
          ]
        }
      ],
      "metadata": {}
    },
    {
      "cell_type": "code",
      "execution_count": 15,
      "source": [
        "# Função para computar diversidade léxica. Número de tokens únicos no texto dividido pelo número total de tokens. \r\n",
        "# Observação: considere um token como uma palavra.\r\n",
        "def diversidade_lexica(tokens):\r\n",
        "    return len(set(tokens))/len(tokens) \r\n",
        "\r\n",
        "# Função para calcular o número médio de palavras por tweet\r\n",
        "def nro_medio_palavras(statuses):\r\n",
        "    total_palavras = sum([ len(s.split()) for s in statuses ]) \r\n",
        "    return total_palavras/len(statuses)\r\n",
        "\r\n",
        "print('Diversidade Palavra:', diversidade_lexica(palavras))\r\n",
        "print('Diversidade screen names:',diversidade_lexica(screen_names))\r\n",
        "print('Diversidade Hashtags:',diversidade_lexica(hashtags))\r\n",
        "print('Número médio Palavras:',nro_medio_palavras(status_texts))"
      ],
      "outputs": [
        {
          "output_type": "stream",
          "name": "stdout",
          "text": [
            "Diversidade Palavra: 0.421631000578369\n",
            "Diversidade screen names: 0.42857142857142855\n",
            "Diversidade Hashtags: 0.35185185185185186\n",
            "Número médio Palavras: 17.29\n"
          ]
        }
      ],
      "metadata": {
        "colab": {
          "base_uri": "https://localhost:8080/"
        },
        "id": "6wyJdNTvgAjT",
        "outputId": "ba3c70e3-d202-489b-c955-783348b24d18"
      }
    },
    {
      "cell_type": "markdown",
      "source": [
        "Interpretação dos Resultados: Diversidade Léxica\n",
        "*   **Diversidade Palavra:** quanto de informação única tem em cada status. Por exemplo, um valor de 0.39 indica que cada novo status carrega 39% de informação única. \n",
        "*   **Diversidade screen names:** quão único é um *screen name* mencionado. Um valor de 0.50 significa que 5 em 10 screen names mencionados são únicos. \n",
        "* **Hashtags:** significa diversidade em novas palavras para hashtags\n",
        "* **Número médio de palavras:** por exemplo, um valor de 17 significa que o número médio de palavras por tweet na amostra coletada é de 17 palavras. \n"
      ],
      "metadata": {
        "id": "Pgws_FBaSyQ2"
      }
    },
    {
      "cell_type": "markdown",
      "source": [
        "## Plotando frequências de palavras"
      ],
      "metadata": {
        "id": "PqiL_mBNgAjU"
      }
    },
    {
      "cell_type": "code",
      "execution_count": 17,
      "source": [
        "# Importa a biblioteca matplotlib com o nome de 'plt'\r\n",
        "import matplotlib.pyplot as plt\r\n",
        "%matplotlib inline\r\n",
        "\r\n",
        "# Conta o número de palavras\r\n",
        "contador_palavras = sorted(Counter(palavras).values(), reverse=True)\r\n",
        "\r\n",
        "plt.loglog(contador_palavras)\r\n",
        "plt.ylabel(\"Frequência\")\r\n",
        "plt.xlabel(\"Rank de Palavras\")"
      ],
      "outputs": [
        {
          "output_type": "execute_result",
          "data": {
            "text/plain": [
              "Text(0.5, 0, 'Rank de Palavras')"
            ]
          },
          "metadata": {},
          "execution_count": 17
        },
        {
          "output_type": "display_data",
          "data": {
            "text/plain": [
              "<Figure size 432x288 with 1 Axes>"
            ],
            "image/png": "[encoded data removed]"
          },
          "metadata": {
            "needs_background": "light"
          }
        }
      ],
      "metadata": {
        "colab": {
          "base_uri": "https://localhost:8080/",
          "height": 300
        },
        "id": "hkHoVtXcgAjV",
        "outputId": "908bf1b4-4cf5-4a6d-8e6f-34fdc75dd924"
      }
    },
    {
      "cell_type": "markdown",
      "source": [
        "## Histogramas de palavras, screen names e hashtags\n",
        "\n",
        "O código abaixo apresenta histogramas para as palavras, screen names e hashtags. \n"
      ],
      "metadata": {
        "id": "M9qKC_aggAjV"
      }
    },
    {
      "cell_type": "code",
      "execution_count": 18,
      "source": [
        "# Loop que itera sobre os dados de palavras, screen names e hashtags\r\n",
        "for label, data in (('Words', palavras), \r\n",
        "                    ('Screen Names', screen_names), \r\n",
        "                    ('Hashtags', hashtags)):\r\n",
        "\r\n",
        "    # Cria um mapa de frequência para cada conjunto de dados e plota os valores\r\n",
        "    c = Counter(data)\r\n",
        "    plt.hist(list(c.values()))\r\n",
        "    \r\n",
        "    # Adiciona um título para o gráfico e um subtítulo para o eixo Y\r\n",
        "    plt.title(label)\r\n",
        "    plt.ylabel(\"Número de itens em cada intervalo\")\r\n",
        "    plt.xlabel(\"Intervalos (número de ocorrências de um item)\")\r\n",
        "    \r\n",
        "    # ... e mostra como uma nova figura\r\n",
        "    plt.figure()"
      ],
      "outputs": [
        {
          "output_type": "display_data",
          "data": {
            "text/plain": [
              "<Figure size 432x288 with 1 Axes>"
            ],
            "image/png": "[encoded data removed]"
          },
          "metadata": {
            "needs_background": "light"
          }
        },
        {
          "output_type": "display_data",
          "data": {
            "text/plain": [
              "<Figure size 432x288 with 1 Axes>"
            ],
            "image/png": "[encoded data removed]"
          },
          "metadata": {
            "needs_background": "light"
          }
        },
        {
          "output_type": "display_data",
          "data": {
            "text/plain": [
              "<Figure size 432x288 with 1 Axes>"
            ],
            "image/png": "[encoded data removed]"
          },
          "metadata": {
            "needs_background": "light"
          }
        },
        {
          "output_type": "display_data",
          "data": {
            "text/plain": [
              "<Figure size 432x288 with 0 Axes>"
            ]
          },
          "metadata": {}
        }
      ],
      "metadata": {
        "colab": {
          "base_uri": "https://localhost:8080/",
          "height": 868
        },
        "id": "JNhAFtFUgAjV",
        "outputId": "9192cfce-2e8e-4949-cf3b-50ba473af019"
      }
    },
    {
      "cell_type": "markdown",
      "source": [
        "#Exercícios"
      ],
      "metadata": {
        "id": "9UIAkwfOYvL5"
      }
    },
    {
      "cell_type": "markdown",
      "source": [
        "1. Escreva um código abaixo para buscar a lista de tópicos em tendência na Itália. Você deve se basear no código apresentado acima. \n",
        "\n"
      ],
      "metadata": {
        "id": "buIZMmQhY2Nh"
      }
    },
    {
      "cell_type": "code",
      "execution_count": null,
      "source": [
        "# Preencha abaixo com o código para buscar os tópicos na localização WOE = Itália (WOE ID = 23424853). \r\n",
        "#\r\n",
        "#\r\n"
      ],
      "outputs": [],
      "metadata": {
        "id": "-STHMa-7ZnvT"
      }
    },
    {
      "cell_type": "markdown",
      "source": [
        "2. Mostre a lista de tópicos na forma de uma tabela. \n"
      ],
      "metadata": {
        "id": "us-bFXqLZmgV"
      }
    },
    {
      "cell_type": "code",
      "execution_count": null,
      "source": [
        "# Preencha abaixo com o código mostrar os tópicos em um tabela 'bonitinha'.\r\n",
        "#\r\n",
        "#\r\n"
      ],
      "outputs": [],
      "metadata": {
        "id": "NJoNeZ6JZ09q"
      }
    }
  ]
}