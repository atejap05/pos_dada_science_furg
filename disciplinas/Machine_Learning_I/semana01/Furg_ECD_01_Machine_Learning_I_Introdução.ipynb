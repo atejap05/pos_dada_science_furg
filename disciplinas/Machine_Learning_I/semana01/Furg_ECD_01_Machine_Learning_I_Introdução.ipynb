{
  "cells": [
    {
      "cell_type": "markdown",
      "metadata": {
        "id": "H-w19xbZHcOB"
      },
      "source": [
        "# Curso de Especialização em Ciência de Dados - FURG\n",
        "## Machine Learning I - Introdução\n",
        "### Prof. Marcelo de Gomensoro Malheiros\n",
        "\n",
        "Código adaptado de Aurélien Geron (licença Apache-2.0)\n",
        "\n",
        "---"
      ]
    },
    {
      "cell_type": "markdown",
      "metadata": {},
      "source": [
        "FUNDAMENTOS:\n",
        "\n",
        "Organização desta disciplina\n",
        "- Objetivo, conteúdos e pré-requisitos\n",
        "- Bibliografia, sistemática e avaliação\n",
        "Machine Learning\n",
        "- O que é? Por que usar?\n",
        "- Principais abordagens: aprendizado supervisionado, não supervisionado, semi-supervisionado e aprendizado por reforço\n",
        "Conceitos principais\n",
        "- Modelo, atributo, valor e feature\n",
        "- Medidas de desempenho, função de fitness, função de custo e conjunto de treino\n",
        "- Batch learning e online learning\n",
        "Etapas do processo de Machine Learning"
      ]
    },
    {
      "cell_type": "markdown",
      "metadata": {
        "id": "j563P0ljHcOM"
      },
      "source": [
        "# Inicialização\n",
        "\n",
        "Aqui importamos as bibliotecas fundamentais de Python para este _notebook_:\n",
        "\n",
        "- NumPy: suporte a vetores, matrizes e operações de Álgebra Linear\n",
        "- Matplotlib: biblioteca de visualização de dados\n",
        "- Pandas: pacote estatístico e de manipulação de DataFrames\n",
        "- scikit-learn: biblioteca com algoritmos de Machine Learning"
      ]
    },
    {
      "cell_type": "code",
      "execution_count": 13,
      "metadata": {
        "id": "LwKa7uu0HcON"
      },
      "outputs": [],
      "source": [
        "%matplotlib inline\n",
        "import numpy as np\n",
        "import matplotlib.pyplot as plt\n",
        "import pandas as pd"
      ]
    },
    {
      "cell_type": "markdown",
      "metadata": {
        "id": "L-HV97uSHcOO"
      },
      "source": [
        "# Etapa 1: Análise dos dados e seleção de _features_\n",
        "\n",
        "## Importação dos dados\n",
        "\n",
        "As bases de dados utilizadas são duas.\n",
        "\n",
        "A primeira é também um arquivo CSV, contendo informações sobre o Produto Interno Bruto per Capita (GDP, em inglês) de diversos países. Os dados vieram do Fundo Monetário Internacional (FMI), em https://www.imf.org/en/Publications/SPROLLs/world-economic-outlook-databases\n",
        "\n",
        "A segunda é um arquivo CSV, contendo índices de satisfação por país tabulados pela Organização para a Cooperação e Desenvolvimento Econômico (OECD, em inglês). Os dados originais estão em http://stats.oecd.org/index.aspx?DataSetCode=BLI"
      ]
    },
    {
      "cell_type": "code",
      "execution_count": 14,
      "metadata": {},
      "outputs": [],
      "source": [
        "# muda localização de execução\n",
        "import os\n",
        "os.chdir('/home/jap05/Projects/pos_data_science_furg')"
      ]
    },
    {
      "cell_type": "code",
      "execution_count": 15,
      "metadata": {
        "id": "ctz9cKHNHcOQ"
      },
      "outputs": [],
      "source": [
        "# importação usando Pandas\n",
        "\n",
        "gdp_per_capita = pd.read_csv('datasets/gdp_per_capita.csv', thousands=',', delimiter='\\t', \n",
        "                             encoding='latin1', na_values='n/a')\n",
        "gdp_per_capita.rename(columns={'2015': 'GDP per capita'}, inplace=True)\n",
        "gdp_per_capita.set_index('Country', inplace=True)\n",
        "\n",
        "oecd_bli = pd.read_csv('datasets/oecd_bli_2015.csv',  thousands=',')\n",
        "oecd_bli = oecd_bli[oecd_bli['INEQUALITY']=='TOT']\n",
        "oecd_bli = oecd_bli.pivot(index='Country', columns='Indicator', values='Value')"
      ]
    },
    {
      "cell_type": "code",
      "execution_count": 16,
      "metadata": {
        "id": "72VNKxGhHcOR"
      },
      "outputs": [
        {
          "data": {
            "text/html": "<div>\n<style scoped>\n    .dataframe tbody tr th:only-of-type {\n        vertical-align: middle;\n    }\n\n    .dataframe tbody tr th {\n        vertical-align: top;\n    }\n\n    .dataframe thead th {\n        text-align: right;\n    }\n</style>\n<table border=\"1\" class=\"dataframe\">\n  <thead>\n    <tr style=\"text-align: right;\">\n      <th></th>\n      <th>Subject Descriptor</th>\n      <th>Units</th>\n      <th>Scale</th>\n      <th>Country/Series-specific Notes</th>\n      <th>GDP per capita</th>\n      <th>Estimates Start After</th>\n    </tr>\n    <tr>\n      <th>Country</th>\n      <th></th>\n      <th></th>\n      <th></th>\n      <th></th>\n      <th></th>\n      <th></th>\n    </tr>\n  </thead>\n  <tbody>\n    <tr>\n      <th>Afghanistan</th>\n      <td>Gross domestic product per capita, current prices</td>\n      <td>U.S. dollars</td>\n      <td>Units</td>\n      <td>See notes for:  Gross domestic product, curren...</td>\n      <td>599.994</td>\n      <td>2013.0</td>\n    </tr>\n    <tr>\n      <th>Albania</th>\n      <td>Gross domestic product per capita, current prices</td>\n      <td>U.S. dollars</td>\n      <td>Units</td>\n      <td>See notes for:  Gross domestic product, curren...</td>\n      <td>3995.383</td>\n      <td>2010.0</td>\n    </tr>\n  </tbody>\n</table>\n</div>",
            "text/plain": "                                            Subject Descriptor         Units  \\\nCountry                                                                        \nAfghanistan  Gross domestic product per capita, current prices  U.S. dollars   \nAlbania      Gross domestic product per capita, current prices  U.S. dollars   \n\n             Scale                      Country/Series-specific Notes  \\\nCountry                                                                 \nAfghanistan  Units  See notes for:  Gross domestic product, curren...   \nAlbania      Units  See notes for:  Gross domestic product, curren...   \n\n             GDP per capita  Estimates Start After  \nCountry                                             \nAfghanistan         599.994                 2013.0  \nAlbania            3995.383                 2010.0  "
          },
          "execution_count": 16,
          "metadata": {},
          "output_type": "execute_result"
        }
      ],
      "source": [
        "gdp_per_capita.head(2)"
      ]
    },
    {
      "cell_type": "code",
      "execution_count": 17,
      "metadata": {
        "id": "SS0EbQPbHcOU"
      },
      "outputs": [
        {
          "data": {
            "text/html": "<div>\n<style scoped>\n    .dataframe tbody tr th:only-of-type {\n        vertical-align: middle;\n    }\n\n    .dataframe tbody tr th {\n        vertical-align: top;\n    }\n\n    .dataframe thead th {\n        text-align: right;\n    }\n</style>\n<table border=\"1\" class=\"dataframe\">\n  <thead>\n    <tr style=\"text-align: right;\">\n      <th>Indicator</th>\n      <th>Air pollution</th>\n      <th>Assault rate</th>\n      <th>Consultation on rule-making</th>\n      <th>Dwellings without basic facilities</th>\n      <th>Educational attainment</th>\n      <th>Employees working very long hours</th>\n      <th>Employment rate</th>\n      <th>Homicide rate</th>\n      <th>Household net adjusted disposable income</th>\n      <th>Household net financial wealth</th>\n      <th>...</th>\n      <th>Long-term unemployment rate</th>\n      <th>Personal earnings</th>\n      <th>Quality of support network</th>\n      <th>Rooms per person</th>\n      <th>Self-reported health</th>\n      <th>Student skills</th>\n      <th>Time devoted to leisure and personal care</th>\n      <th>Voter turnout</th>\n      <th>Water quality</th>\n      <th>Years in education</th>\n    </tr>\n    <tr>\n      <th>Country</th>\n      <th></th>\n      <th></th>\n      <th></th>\n      <th></th>\n      <th></th>\n      <th></th>\n      <th></th>\n      <th></th>\n      <th></th>\n      <th></th>\n      <th></th>\n      <th></th>\n      <th></th>\n      <th></th>\n      <th></th>\n      <th></th>\n      <th></th>\n      <th></th>\n      <th></th>\n      <th></th>\n      <th></th>\n    </tr>\n  </thead>\n  <tbody>\n    <tr>\n      <th>Australia</th>\n      <td>13.0</td>\n      <td>2.1</td>\n      <td>10.5</td>\n      <td>1.1</td>\n      <td>76.0</td>\n      <td>14.02</td>\n      <td>72.0</td>\n      <td>0.8</td>\n      <td>31588.0</td>\n      <td>47657.0</td>\n      <td>...</td>\n      <td>1.08</td>\n      <td>50449.0</td>\n      <td>92.0</td>\n      <td>2.3</td>\n      <td>85.0</td>\n      <td>512.0</td>\n      <td>14.41</td>\n      <td>93.0</td>\n      <td>91.0</td>\n      <td>19.4</td>\n    </tr>\n    <tr>\n      <th>Austria</th>\n      <td>27.0</td>\n      <td>3.4</td>\n      <td>7.1</td>\n      <td>1.0</td>\n      <td>83.0</td>\n      <td>7.61</td>\n      <td>72.0</td>\n      <td>0.4</td>\n      <td>31173.0</td>\n      <td>49887.0</td>\n      <td>...</td>\n      <td>1.19</td>\n      <td>45199.0</td>\n      <td>89.0</td>\n      <td>1.6</td>\n      <td>69.0</td>\n      <td>500.0</td>\n      <td>14.46</td>\n      <td>75.0</td>\n      <td>94.0</td>\n      <td>17.0</td>\n    </tr>\n  </tbody>\n</table>\n<p>2 rows × 24 columns</p>\n</div>",
            "text/plain": "Indicator  Air pollution  Assault rate  Consultation on rule-making  \\\nCountry                                                               \nAustralia           13.0           2.1                         10.5   \nAustria             27.0           3.4                          7.1   \n\nIndicator  Dwellings without basic facilities  Educational attainment  \\\nCountry                                                                 \nAustralia                                 1.1                    76.0   \nAustria                                   1.0                    83.0   \n\nIndicator  Employees working very long hours  Employment rate  Homicide rate  \\\nCountry                                                                        \nAustralia                              14.02             72.0            0.8   \nAustria                                 7.61             72.0            0.4   \n\nIndicator  Household net adjusted disposable income  \\\nCountry                                               \nAustralia                                   31588.0   \nAustria                                     31173.0   \n\nIndicator  Household net financial wealth  ...  Long-term unemployment rate  \\\nCountry                                    ...                                \nAustralia                         47657.0  ...                         1.08   \nAustria                           49887.0  ...                         1.19   \n\nIndicator  Personal earnings  Quality of support network  Rooms per person  \\\nCountry                                                                      \nAustralia            50449.0                        92.0               2.3   \nAustria              45199.0                        89.0               1.6   \n\nIndicator  Self-reported health  Student skills  \\\nCountry                                           \nAustralia                  85.0           512.0   \nAustria                    69.0           500.0   \n\nIndicator  Time devoted to leisure and personal care  Voter turnout  \\\nCountry                                                               \nAustralia                                      14.41           93.0   \nAustria                                        14.46           75.0   \n\nIndicator  Water quality  Years in education  \nCountry                                       \nAustralia           91.0                19.4  \nAustria             94.0                17.0  \n\n[2 rows x 24 columns]"
          },
          "execution_count": 17,
          "metadata": {},
          "output_type": "execute_result"
        }
      ],
      "source": [
        "oecd_bli.head(2)"
      ]
    },
    {
      "cell_type": "code",
      "execution_count": 18,
      "metadata": {
        "id": "CMKhe3PzHcOV"
      },
      "outputs": [],
      "source": [
        "# novo DataFrame combinando as duas bases\n",
        "\n",
        "full_country_stats = pd.merge(left=oecd_bli, right=gdp_per_capita, left_index=True, right_index=True)\n",
        "full_country_stats.sort_values(by='GDP per capita', inplace=True)"
      ]
    },
    {
      "cell_type": "code",
      "execution_count": 19,
      "metadata": {
        "id": "N5X1fKTVHcOV"
      },
      "outputs": [
        {
          "data": {
            "text/html": "<div>\n<style scoped>\n    .dataframe tbody tr th:only-of-type {\n        vertical-align: middle;\n    }\n\n    .dataframe tbody tr th {\n        vertical-align: top;\n    }\n\n    .dataframe thead th {\n        text-align: right;\n    }\n</style>\n<table border=\"1\" class=\"dataframe\">\n  <thead>\n    <tr style=\"text-align: right;\">\n      <th></th>\n      <th>Air pollution</th>\n      <th>Assault rate</th>\n      <th>Consultation on rule-making</th>\n      <th>Dwellings without basic facilities</th>\n      <th>Educational attainment</th>\n      <th>Employees working very long hours</th>\n      <th>Employment rate</th>\n      <th>Homicide rate</th>\n      <th>Household net adjusted disposable income</th>\n      <th>Household net financial wealth</th>\n      <th>...</th>\n      <th>Time devoted to leisure and personal care</th>\n      <th>Voter turnout</th>\n      <th>Water quality</th>\n      <th>Years in education</th>\n      <th>Subject Descriptor</th>\n      <th>Units</th>\n      <th>Scale</th>\n      <th>Country/Series-specific Notes</th>\n      <th>GDP per capita</th>\n      <th>Estimates Start After</th>\n    </tr>\n    <tr>\n      <th>Country</th>\n      <th></th>\n      <th></th>\n      <th></th>\n      <th></th>\n      <th></th>\n      <th></th>\n      <th></th>\n      <th></th>\n      <th></th>\n      <th></th>\n      <th></th>\n      <th></th>\n      <th></th>\n      <th></th>\n      <th></th>\n      <th></th>\n      <th></th>\n      <th></th>\n      <th></th>\n      <th></th>\n      <th></th>\n    </tr>\n  </thead>\n  <tbody>\n    <tr>\n      <th>Brazil</th>\n      <td>18.0</td>\n      <td>7.9</td>\n      <td>4.0</td>\n      <td>6.7</td>\n      <td>45.0</td>\n      <td>10.41</td>\n      <td>67.0</td>\n      <td>25.5</td>\n      <td>11664.0</td>\n      <td>6844.0</td>\n      <td>...</td>\n      <td>14.97</td>\n      <td>79.0</td>\n      <td>72.0</td>\n      <td>16.3</td>\n      <td>Gross domestic product per capita, current prices</td>\n      <td>U.S. dollars</td>\n      <td>Units</td>\n      <td>See notes for:  Gross domestic product, curren...</td>\n      <td>8669.998</td>\n      <td>2014.0</td>\n    </tr>\n    <tr>\n      <th>Mexico</th>\n      <td>30.0</td>\n      <td>12.8</td>\n      <td>9.0</td>\n      <td>4.2</td>\n      <td>37.0</td>\n      <td>28.83</td>\n      <td>61.0</td>\n      <td>23.4</td>\n      <td>13085.0</td>\n      <td>9056.0</td>\n      <td>...</td>\n      <td>13.89</td>\n      <td>63.0</td>\n      <td>67.0</td>\n      <td>14.4</td>\n      <td>Gross domestic product per capita, current prices</td>\n      <td>U.S. dollars</td>\n      <td>Units</td>\n      <td>See notes for:  Gross domestic product, curren...</td>\n      <td>9009.280</td>\n      <td>2015.0</td>\n    </tr>\n  </tbody>\n</table>\n<p>2 rows × 30 columns</p>\n</div>",
            "text/plain": "         Air pollution  Assault rate  Consultation on rule-making  \\\nCountry                                                             \nBrazil            18.0           7.9                          4.0   \nMexico            30.0          12.8                          9.0   \n\n         Dwellings without basic facilities  Educational attainment  \\\nCountry                                                               \nBrazil                                  6.7                    45.0   \nMexico                                  4.2                    37.0   \n\n         Employees working very long hours  Employment rate  Homicide rate  \\\nCountry                                                                      \nBrazil                               10.41             67.0           25.5   \nMexico                               28.83             61.0           23.4   \n\n         Household net adjusted disposable income  \\\nCountry                                             \nBrazil                                    11664.0   \nMexico                                    13085.0   \n\n         Household net financial wealth  ...  \\\nCountry                                  ...   \nBrazil                           6844.0  ...   \nMexico                           9056.0  ...   \n\n         Time devoted to leisure and personal care  Voter turnout  \\\nCountry                                                             \nBrazil                                       14.97           79.0   \nMexico                                       13.89           63.0   \n\n         Water quality  Years in education  \\\nCountry                                      \nBrazil            72.0                16.3   \nMexico            67.0                14.4   \n\n                                        Subject Descriptor         Units  \\\nCountry                                                                    \nBrazil   Gross domestic product per capita, current prices  U.S. dollars   \nMexico   Gross domestic product per capita, current prices  U.S. dollars   \n\n         Scale                      Country/Series-specific Notes  \\\nCountry                                                             \nBrazil   Units  See notes for:  Gross domestic product, curren...   \nMexico   Units  See notes for:  Gross domestic product, curren...   \n\n         GDP per capita  Estimates Start After  \nCountry                                         \nBrazil         8669.998                 2014.0  \nMexico         9009.280                 2015.0  \n\n[2 rows x 30 columns]"
          },
          "execution_count": 19,
          "metadata": {},
          "output_type": "execute_result"
        }
      ],
      "source": [
        "full_country_stats.head(2)"
      ]
    },
    {
      "cell_type": "markdown",
      "metadata": {
        "id": "qAHS8S86HcOX"
      },
      "source": [
        "## Preparação dos dados\n",
        "\n",
        "Para simplificar a análise, os campos importantes das duas bases são colocados em um novo DataFrame chamado `country_stats`, com um conjunto menor de países.\n",
        "\n",
        "O índice da nova base é o nome do país (em inglês), e os atributos selecionados são o produto interno bruto per capita `GDP per capita` e índice de satisfação pessoal `Life satisfaction`.\n",
        "\n",
        "A idéia é verificar se o o produto interno bruto per capita é uma _feature_ adequada para prever o índice de satisfação pessoal."
      ]
    },
    {
      "cell_type": "code",
      "execution_count": 20,
      "metadata": {
        "id": "fTIqNgHhHcOY"
      },
      "outputs": [],
      "source": [
        "remove_indices = [0, 1, 6, 8, 33, 34, 35]\n",
        "keep_indices = list(set(range(36)) - set(remove_indices))\n",
        "country_stats = full_country_stats[['GDP per capita', 'Life satisfaction']].iloc[keep_indices]"
      ]
    },
    {
      "cell_type": "code",
      "execution_count": 21,
      "metadata": {
        "id": "30vB6reoHcOZ"
      },
      "outputs": [
        {
          "data": {
            "text/html": "<div>\n<style scoped>\n    .dataframe tbody tr th:only-of-type {\n        vertical-align: middle;\n    }\n\n    .dataframe tbody tr th {\n        vertical-align: top;\n    }\n\n    .dataframe thead th {\n        text-align: right;\n    }\n</style>\n<table border=\"1\" class=\"dataframe\">\n  <thead>\n    <tr style=\"text-align: right;\">\n      <th></th>\n      <th>GDP per capita</th>\n      <th>Life satisfaction</th>\n    </tr>\n    <tr>\n      <th>Country</th>\n      <th></th>\n      <th></th>\n    </tr>\n  </thead>\n  <tbody>\n    <tr>\n      <th>Russia</th>\n      <td>9054.914</td>\n      <td>6.0</td>\n    </tr>\n    <tr>\n      <th>Turkey</th>\n      <td>9437.372</td>\n      <td>5.6</td>\n    </tr>\n  </tbody>\n</table>\n</div>",
            "text/plain": "         GDP per capita  Life satisfaction\nCountry                                   \nRussia         9054.914                6.0\nTurkey         9437.372                5.6"
          },
          "execution_count": 21,
          "metadata": {},
          "output_type": "execute_result"
        }
      ],
      "source": [
        "country_stats.head(2)"
      ]
    },
    {
      "cell_type": "markdown",
      "metadata": {
        "id": "hnz3SYrdHcOa"
      },
      "source": [
        "# Etapa 2: Escolha da abordagem de ML\n",
        "\n",
        "Como os dois atributos são valores reais, é natural tentar uma abordagem de regressão numérica. Em particular, o tipo mais simples de regressão: uma **regressão linear**."
      ]
    },
    {
      "cell_type": "code",
      "execution_count": 22,
      "metadata": {
        "id": "90AfXfvIHcOa"
      },
      "outputs": [],
      "source": [
        "# extração das colunas 'GDP per capita' para 'X' e 'Life satisfaction' para y\n",
        "\n",
        "X = np.c_[country_stats['GDP per capita']]\n",
        "y = np.c_[country_stats['Life satisfaction']]"
      ]
    },
    {
      "cell_type": "code",
      "execution_count": 23,
      "metadata": {
        "id": "Q7O3nPGuHcOa"
      },
      "outputs": [
        {
          "data": {
            "image/png": "[encoded data removed]",
            "text/plain": "<Figure size 432x288 with 1 Axes>"
          },
          "metadata": {
            "needs_background": "light"
          },
          "output_type": "display_data"
        }
      ],
      "source": [
        "# visualização dos dados\n",
        "\n",
        "country_stats.plot(kind='scatter', x='GDP per capita', y='Life satisfaction')\n",
        "plt.show()"
      ]
    },
    {
      "cell_type": "markdown",
      "metadata": {
        "id": "3pNJhvJMHcOb"
      },
      "source": [
        "# Etapa 3: Definição do modelo e de seus parâmetros\n",
        "\n",
        "Como uma regressão linear é bastante simples, os parâmetros a serem aprendidos são simplesmente os coeficientes da melhor reta de ajuste.\n",
        "\n",
        "Documentação: https://scikit-learn.org/stable/modules/linear_model.html"
      ]
    },
    {
      "cell_type": "code",
      "execution_count": 24,
      "metadata": {
        "id": "lS9ftcCYHcOc"
      },
      "outputs": [],
      "source": [
        "from sklearn import linear_model\n",
        "\n",
        "# criação do modelo\n",
        "model = linear_model.LinearRegression()"
      ]
    },
    {
      "cell_type": "markdown",
      "metadata": {
        "id": "z3JZHHlpHcOc"
      },
      "source": [
        "# Etapa 4: Treino com os dados de treinamento\n",
        "\n",
        "Basta fornecer os dados preditores da série `X` e os respectivos valores conhecidos em `y` para o método `fit()` do modelo.\n",
        "\n",
        "Os parâmetros para o melhor ajuste a esse conjunto de treinamento são obtidos nos atributos `intercept_` e `coef_`."
      ]
    },
    {
      "cell_type": "code",
      "execution_count": 25,
      "metadata": {
        "id": "XQqUrrhGHcOc"
      },
      "outputs": [],
      "source": [
        "# treinando o modelo\n",
        "model.fit(X, y)\n",
        "\n",
        "# parâmetros do modelo (inclinação e ponto de interseção da reta) aprendidos\n",
        "theta_0 = model.intercept_[0]\n",
        "theta_1 = model.coef_[0, 0]"
      ]
    },
    {
      "cell_type": "markdown",
      "metadata": {
        "id": "aB44mLXUHcOd"
      },
      "source": [
        "Em geral o parâmetros de um modelo são representados pela letra grega $\\theta$ (teta).\n",
        "\n",
        "No caso de uma regressão linear, correspondem ao ponto de interseção com o eixo horizontal e com a inclinação da reta de aproximação."
      ]
    },
    {
      "cell_type": "code",
      "execution_count": 26,
      "metadata": {
        "id": "_dZnKRASHcOd"
      },
      "outputs": [
        {
          "data": {
            "image/png": "[encoded data removed]",
            "text/plain": "<Figure size 720x288 with 1 Axes>"
          },
          "metadata": {
            "needs_background": "light"
          },
          "output_type": "display_data"
        }
      ],
      "source": [
        "country_stats.plot(kind='scatter', x='GDP per capita', y='Life satisfaction', figsize=(10,4))\n",
        "\n",
        "# plotagem da reta\n",
        "X = np.linspace(0, 60000, 10)\n",
        "plt.plot(X, theta_0 + theta_1 * X, 'b')\n",
        "\n",
        "# legenda\n",
        "plt.text(5000, 7.5, '$\\\\theta_1$ = {:.6f}'.format(theta_1), fontsize=14, color=\"b\")\n",
        "plt.text(5000, 7.0, '$\\\\theta_0$ = {:.2f}'.format(theta_0), fontsize=14, color=\"b\")\n",
        "\n",
        "plt.show()"
      ]
    },
    {
      "cell_type": "markdown",
      "metadata": {
        "id": "OtCVlSpUHcOe"
      },
      "source": [
        "# Etapa 5: Avaliação com os dados de teste\n",
        "\n",
        "Pode-se avaliar a qualidade do modelo ao se comparar valores previstos com valores reais, para outros dados. Isso será feito com **medidas de desempenho** (_performance measures_), a serem analisadas em breve.\n",
        "\n",
        "É importante que estes dados de teste **não façam parte dos dados de treinamento**."
      ]
    },
    {
      "cell_type": "code",
      "execution_count": 27,
      "metadata": {
        "id": "pd6xdijTHcOe"
      },
      "outputs": [
        {
          "name": "stdout",
          "output_type": "stream",
          "text": [
            "Brasil, satisfação prevista: 5.28\n",
            "Brasil, satisfação real:     7.00\n"
          ]
        }
      ],
      "source": [
        "# valores reais do produto interno bruto per capita e satisação pessoal\n",
        "brazil_gdp = full_country_stats['GDP per capita']['Brazil']\n",
        "brazil_sat = full_country_stats['Life satisfaction']['Brazil']\n",
        "\n",
        "# previsão\n",
        "X = [[brazil_gdp]]\n",
        "y = model.predict(X)\n",
        "predic_sat = y[0, 0]\n",
        "\n",
        "print('Brasil, satisfação prevista: {:.2f}'.format(predic_sat))\n",
        "print('Brasil, satisfação real:     {:.2f}'.format(brazil_sat))"
      ]
    },
    {
      "cell_type": "markdown",
      "metadata": {
        "id": "fQth5Jb3HcOf"
      },
      "source": [
        "# Etapa 6: Aplicação do modelo para fazer previsões sobre novos casos"
      ]
    },
    {
      "cell_type": "code",
      "execution_count": 28,
      "metadata": {
        "id": "rN1gt2ROHcOf"
      },
      "outputs": [
        {
          "name": "stdout",
          "output_type": "stream",
          "text": [
            "Chipre, satisfação prevista: 5.96\n"
          ]
        }
      ],
      "source": [
        "# não há informações sobre satisação pessoal do Chipre nos dados da OECD\n",
        "cyprus_gdp = gdp_per_capita['GDP per capita']['Cyprus']\n",
        "\n",
        "# previsão\n",
        "X = [[cyprus_gdp]]\n",
        "y = model.predict(X)\n",
        "predic_sat = y[0, 0]\n",
        "\n",
        "print('Chipre, satisfação prevista: {:.2f}'.format(predic_sat))"
      ]
    },
    {
      "cell_type": "code",
      "execution_count": 29,
      "metadata": {
        "id": "tnWld0WiHcOg"
      },
      "outputs": [
        {
          "data": {
            "image/png": "[encoded data removed]",
            "text/plain": "<Figure size 720x288 with 1 Axes>"
          },
          "metadata": {
            "needs_background": "light"
          },
          "output_type": "display_data"
        }
      ],
      "source": [
        "country_stats.plot(kind='scatter', x='GDP per capita', y='Life satisfaction', figsize=(10,4))\n",
        "\n",
        "# plotagem da reta\n",
        "X = np.linspace(0, 60000, 10)\n",
        "plt.plot(X, theta_0 + theta_1 * X, 'b')\n",
        "\n",
        "# mostra previsão para Chipre\n",
        "plt.plot([cyprus_gdp, cyprus_gdp], [4.8, predic_sat], 'r--')\n",
        "plt.plot(cyprus_gdp, predic_sat, 'ro')\n",
        "\n",
        "plt.show()"
      ]
    },
    {
      "cell_type": "markdown",
      "metadata": {
        "id": "9pAP_El4HcOh"
      },
      "source": [
        "---\n",
        "\n",
        "# Principais desafios de Machine Learning\n",
        "\n",
        "## a. Quantidade insuficiente de dados de treinamento\n",
        "\n",
        "São necessários muitos dados para que a maioria dos algoritmos de aprendizado de máquina funcione corretamente.\n",
        "\n",
        "Mesmo para problemas muito simples, normalmente são necessários milhares de exemplos. Para problemas complexos, como imagem ou reconhecimento de voz, são precisos de milhões de exemplos (a menos que se possa reutilizar partes de um modelo existente)."
      ]
    },
    {
      "cell_type": "markdown",
      "metadata": {
        "id": "8kODcqOJHcOh"
      },
      "source": [
        "## b. Dados de treinamento não representativos\n",
        "\n",
        "Para generalizar adequadamente, é crucial que os dados de treinamento sejam representativos dos novos casos para os quais se deseja generalizar.\n",
        "\n",
        "Por exemplo, o conjunto de países usado anteriormente para treinar a regressão linear não era perfeitamente representativo: alguns países estavam faltando."
      ]
    },
    {
      "cell_type": "code",
      "execution_count": 30,
      "metadata": {
        "id": "FvY4DbVPHcOh"
      },
      "outputs": [
        {
          "data": {
            "text/html": "<div>\n<style scoped>\n    .dataframe tbody tr th:only-of-type {\n        vertical-align: middle;\n    }\n\n    .dataframe tbody tr th {\n        vertical-align: top;\n    }\n\n    .dataframe thead th {\n        text-align: right;\n    }\n</style>\n<table border=\"1\" class=\"dataframe\">\n  <thead>\n    <tr style=\"text-align: right;\">\n      <th></th>\n      <th>GDP per capita</th>\n      <th>Life satisfaction</th>\n    </tr>\n    <tr>\n      <th>Country</th>\n      <th></th>\n      <th></th>\n    </tr>\n  </thead>\n  <tbody>\n    <tr>\n      <th>Brazil</th>\n      <td>8669.998</td>\n      <td>7.0</td>\n    </tr>\n    <tr>\n      <th>Mexico</th>\n      <td>9009.280</td>\n      <td>6.7</td>\n    </tr>\n    <tr>\n      <th>Chile</th>\n      <td>13340.905</td>\n      <td>6.7</td>\n    </tr>\n    <tr>\n      <th>Czech Republic</th>\n      <td>17256.918</td>\n      <td>6.5</td>\n    </tr>\n    <tr>\n      <th>Norway</th>\n      <td>74822.106</td>\n      <td>7.4</td>\n    </tr>\n    <tr>\n      <th>Switzerland</th>\n      <td>80675.308</td>\n      <td>7.5</td>\n    </tr>\n    <tr>\n      <th>Luxembourg</th>\n      <td>101994.093</td>\n      <td>6.9</td>\n    </tr>\n  </tbody>\n</table>\n</div>",
            "text/plain": "                GDP per capita  Life satisfaction\nCountry                                          \nBrazil                8669.998                7.0\nMexico                9009.280                6.7\nChile                13340.905                6.7\nCzech Republic       17256.918                6.5\nNorway               74822.106                7.4\nSwitzerland          80675.308                7.5\nLuxembourg          101994.093                6.9"
          },
          "execution_count": 30,
          "metadata": {},
          "output_type": "execute_result"
        }
      ],
      "source": [
        "missing_data = full_country_stats[[\"GDP per capita\", 'Life satisfaction']].iloc[remove_indices]\n",
        "missing_data"
      ]
    },
    {
      "cell_type": "markdown",
      "metadata": {
        "id": "lqOyID45HcOh"
      },
      "source": [
        "O gráfico abaixo mostra a aparência dos dados quando se adiciona os países ausentes."
      ]
    },
    {
      "cell_type": "code",
      "execution_count": 31,
      "metadata": {
        "id": "KKXGmPIfHcOh"
      },
      "outputs": [
        {
          "data": {
            "image/png": "[encoded data removed]",
            "text/plain": "<Figure size 864x288 with 1 Axes>"
          },
          "metadata": {
            "needs_background": "light"
          },
          "output_type": "display_data"
        }
      ],
      "source": [
        "country_stats.plot(kind='scatter', x='GDP per capita', y='Life satisfaction', figsize=(12,4))\n",
        "\n",
        "# plotagem da reta\n",
        "X = np.linspace(0, 105000, 1000)\n",
        "plt.plot(X, theta_0 + theta_1 * X, 'b')\n",
        "\n",
        "# plotagem dos novos dados\n",
        "text_pos = {'Brazil': (1000, 9), 'Mexico': (11000, 9), 'Chile': (25000, 9), 'Czech Republic': (35000, 9),\n",
        "            'Norway': (60000, 5), 'Switzerland': (72000, 5), 'Luxembourg': (90000, 5)}\n",
        "for country, pos in text_pos.items():\n",
        "    data_x, data_y = missing_data.loc[country]\n",
        "    plt.plot(data_x, data_y, 'ro')\n",
        "    plt.annotate(country, xy=(data_x, data_y), xytext=pos, \n",
        "                 arrowprops=dict(facecolor='black', width=0.5, headwidth=5))\n",
        "\n",
        "# novo modelo\n",
        "full_model = linear_model.LinearRegression()\n",
        "full_X = np.c_[full_country_stats['GDP per capita']]\n",
        "full_y = np.c_[full_country_stats['Life satisfaction']]\n",
        "full_model.fit(full_X, full_y)\n",
        "\n",
        "# plotagem da nova reta\n",
        "full_theta_0 = full_model.intercept_[0]\n",
        "full_theta_1 = full_model.coef_[0, 0]\n",
        "X = np.linspace(0, 105000, 1000)\n",
        "plt.plot(X, full_theta_0 + full_theta_1 * X, 'r')\n",
        "\n",
        "plt.show()"
      ]
    },
    {
      "cell_type": "markdown",
      "metadata": {
        "id": "olJVKkHZHcOi"
      },
      "source": [
        "Usando um conjunto de treinamento não representativo, treinamos um modelo que dificilmente fará previsões precisas, especialmente para países muito pobres e muito ricos.\n",
        "\n",
        "Então é crucial usar um conjunto de treinamento que seja representativo dos casos para os quais você deseja generalizar. \n",
        "\n",
        "Isso geralmente é mais difícil do que parece: se a amostra for muito pequena, você terá **ruído de amostragem** (_sampling noise_), quando dados não representativos são resultado do acaso.\n",
        "\n",
        "Mesmo amostras muito grandes podem ser não representativas se o método de amostragem for falho. Isso é chamado de **viés de amostragem** (_sampling bias_)."
      ]
    },
    {
      "cell_type": "markdown",
      "metadata": {
        "id": "b4rY1umKHcOj"
      },
      "source": [
        "## c. Dados de baixa qualidade\n",
        "\n",
        "Se os dados de treinamento estiverem cheios de erros, ruídos (devido a medições de baixa qualidade) e valores discrepantes, será mais difícil para o sistema detectar os padrões subjacentes.\n",
        "\n",
        "Então, é menos provável que o sistema tenha um bom desempenho. Geralmente, vale a pena gastar tempo limpando os dados de treinamento. De fato, a maioria dos cientistas de dados gasta uma parte significativa de seu tempo fazendo isso."
      ]
    },
    {
      "cell_type": "markdown",
      "metadata": {
        "id": "AhMX4LcLHcOj"
      },
      "source": [
        "## d. Features irrelevantes\n",
        "\n",
        "    \"garbage in, garbage out\"\n",
        "\n",
        "Um sistema só será capaz de aprender se os dados de treinamento contiverem _features_ relevantes suficientes e não muitas _features_ irrelevantes. Uma parte crítica do sucesso de um projeto de Machine Learning é identificar um bom conjunto de _features_ para treinar.\n",
        "\n",
        "Este processo, denominado de Engenharia de _Features_, envolve:\n",
        "\n",
        "- Seleção de _features_, escolhendo os atributos mais úteis para treinar entre os atributos existentes.\n",
        "\n",
        "- Extração de _features_, combinando _features_ existentes para produzir uma _feature_ mais útil.\n",
        "\n",
        "- Criação de novas _features_ por meio da coleta de novos dados."
      ]
    },
    {
      "cell_type": "markdown",
      "metadata": {
        "id": "Lg4QubxDHcOj"
      },
      "source": [
        "## e. Overfitting\n",
        "\n",
        "Um modelo sofre de _overfitting_ quando ele tem um bom desempenho nos dados de treinamento, mas não generaliza bem para novos dados.\n",
        "\n",
        "Por exemplo, um modelo polinomial de grau elevado se ajusta muito bem aos dados de treinamento. Embora tenha um desempenho muito melhor nestes dados do que o modelo linear simples, este não é capaz de generalizar adequadamente."
      ]
    },
    {
      "cell_type": "code",
      "execution_count": 32,
      "metadata": {
        "id": "mqTdQ27MHcOj"
      },
      "outputs": [
        {
          "name": "stderr",
          "output_type": "stream",
          "text": [
            "/home/jap05/.local/lib/python3.8/site-packages/numpy/lib/nanfunctions.py:1544: RuntimeWarning: overflow encountered in multiply\n",
            "  sqr = np.multiply(arr, arr, out=arr)\n",
            "/home/jap05/.local/lib/python3.8/site-packages/numpy/core/fromnumeric.py:87: RuntimeWarning: overflow encountered in reduce\n",
            "  return ufunc.reduce(obj, axis, dtype, out, **passkwargs)\n"
          ]
        },
        {
          "data": {
            "image/png": "[encoded data removed]",
            "text/plain": "<Figure size 864x288 with 1 Axes>"
          },
          "metadata": {
            "needs_background": "light"
          },
          "output_type": "display_data"
        }
      ],
      "source": [
        "full_country_stats.plot(kind='scatter', x='GDP per capita', y='Life satisfaction', figsize=(12,4))\n",
        "\n",
        "# funcionalidades auxiliares\n",
        "from sklearn import preprocessing\n",
        "from sklearn import pipeline\n",
        "poly = preprocessing.PolynomialFeatures(degree=60, include_bias=False)\n",
        "scaler = preprocessing.StandardScaler()\n",
        "\n",
        "# novo modelo\n",
        "new_model = linear_model.LinearRegression()\n",
        "pipeline_reg = pipeline.Pipeline([('poly', poly), ('scal', scaler), ('lin', new_model)])\n",
        "pipeline_reg.fit(full_X, full_y)\n",
        "\n",
        "# plotagem da nova curva\n",
        "X = np.linspace(0, 105000, 1000)\n",
        "curve = pipeline_reg.predict(X[:, np.newaxis])\n",
        "plt.axis([0, 105000, 4.5, 10.3])\n",
        "plt.plot(X, curve)\n",
        "plt.show()\n",
        "\n",
        "# NOTA: é esperada a impressão de advertências abaixo, que refletem problemas numéricos desse modelo polinomial"
      ]
    },
    {
      "cell_type": "markdown",
      "metadata": {
        "id": "ErVkrnEdHcOk"
      },
      "source": [
        "Modelos complexos podem detectar padrões sutis nos dados, mas se o conjunto de treinamento for ruidoso ou muito pequeno (o que introduz ruído de amostragem), o modelo provavelmente detectará padrões no próprio ruído.\n",
        "\n",
        "Tais padrões não são úteis para a etapa de generalização.\n",
        "\n",
        "Em resumo, o _overfitting_ ocorre quando o modelo é muito complexo em relação à quantidade e ao ruído dos dados de treinamento. As soluções possíveis são:\n",
        "\n",
        "- Simplificar o modelo: selecionar um modelo com menos parâmetros, reduzir o número de _features_ nos dados de treinamento ou restringir o modelo (com um processo de **regularização**, a ser visto posteriormente).\n",
        "\n",
        "- Coletar mais dados de treinamento.\n",
        "\n",
        "- Reduzir o ruído nos dados de treinamento (tipicamente corrigindo erros nos dados e removendo _outliers_)."
      ]
    },
    {
      "cell_type": "markdown",
      "metadata": {
        "id": "E08JC3SdHcOk"
      },
      "source": [
        "## f. Underfitting\n",
        "\n",
        "O fenômeno de _underfitting_ é o oposto de _overfitting_: ele ocorre quando o modelo é muito simples para aprender a estrutura subjacente dos dados.\n",
        "\n",
        "Por exemplo, um modelo linear de satisfação pessoal tende a ser insuficiente; a realidade é bem mais complexa do que o modelo, então suas previsões estão fadadas a serem imprecisas, mesmo nos exemplos de treinamento.\n",
        "\n",
        "As principais opções para corrigir o problema de _underfitting_ são:\n",
        "\n",
        "- Selecionar um modelo mais poderoso, com mais parâmetros.\n",
        "\n",
        "- Alimentar o algoritmo de aprendizado com melhores _features_.\n",
        "\n",
        "- Reduzir as restrições do modelo (ajustando o processo de regularização)."
      ]
    }
  ],
  "metadata": {
    "colab": {
      "collapsed_sections": [],
      "name": "Furg - ECD 01 - Machine Learning I - Introdução",
      "provenance": []
    },
    "kernelspec": {
      "display_name": "Python 3.8.0 64-bit ('python3.8': conda)",
      "name": "python380jvsc74a57bd02519f722f1e5c8f0033f56eaeda92c9f78c9e3f03f286db173de8d2cf5d77fbc"
    },
    "language_info": {
      "name": "python",
      "version": ""
    },
    "metadata": {
      "interpreter": {
        "hash": "2519f722f1e5c8f0033f56eaeda92c9f78c9e3f03f286db173de8d2cf5d77fbc"
      }
    },
    "nav_menu": {},
    "toc": {
      "navigate_menu": true,
      "number_sections": true,
      "sideBar": true,
      "threshold": 6,
      "toc_cell": false,
      "toc_section_display": "block",
      "toc_window_display": true
    },
    "toc_position": {
      "height": "616px",
      "left": "0px",
      "right": "20px",
      "top": "106px",
      "width": "213px"
    }
  },
  "nbformat": 4,
  "nbformat_minor": 0
}