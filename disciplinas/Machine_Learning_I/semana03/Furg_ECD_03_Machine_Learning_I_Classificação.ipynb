{
  "nbformat": 4,
  "nbformat_minor": 0,
  "metadata": {
    "kernelspec": {
      "display_name": "Python 3",
      "language": "python",
      "name": "python3"
    },
    "language_info": {
      "codemirror_mode": {
        "name": "ipython",
        "version": 3
      },
      "file_extension": ".py",
      "mimetype": "text/x-python",
      "name": "python",
      "nbconvert_exporter": "python",
      "pygments_lexer": "ipython3",
      "version": "3.8.8"
    },
    "nav_menu": {},
    "toc": {
      "navigate_menu": true,
      "number_sections": true,
      "sideBar": true,
      "threshold": 6,
      "toc_cell": false,
      "toc_section_display": "block",
      "toc_window_display": false
    },
    "colab": {
      "name": "Furg - ECD 03 - Machine Learning I - Classificação",
      "provenance": [],
      "collapsed_sections": [],
      "include_colab_link": true
    }
  },
  "cells": [
    {
      "cell_type": "markdown",
      "metadata": {
        "id": "view-in-github",
        "colab_type": "text"
      },
      "source": [
        "<a href=\"https://colab.research.google.com/github/atejap05/pos_data_science_furg/blob/main/disciplinas/Machine_Learning_I/semana03/Furg_ECD_03_Machine_Learning_I_Classifica%C3%A7%C3%A3o.ipynb\" target=\"_parent\"><img src=\"https://colab.research.google.com/assets/colab-badge.svg\" alt=\"Open In Colab\"/></a>"
      ]
    },
    {
      "cell_type": "markdown",
      "metadata": {
        "id": "FcHSh4C7Hyxr"
      },
      "source": [
        "# Curso de Especialização em Ciência de Dados - FURG\n",
        "## Machine Learning I - Classificação\n",
        "### Prof. Marcelo Malheiros\n",
        "\n",
        "Código adaptado de Aurélien Geron (licença Apache-2.0)\n",
        "\n",
        "---"
      ]
    },
    {
      "cell_type": "markdown",
      "metadata": {
        "id": "fC_v5n-UHyx2"
      },
      "source": [
        "# Inicialização\n",
        "\n",
        "Aqui importamos as bibliotecas fundamentais de Python para este _notebook_:\n",
        "\n",
        "- NumPy: suporte a vetores, matrizes e operações de Álgebra Linear\n",
        "- Matplotlib: biblioteca de visualização de dados\n",
        "- Pandas: pacote estatístico e de manipulação de DataFrames\n",
        "- Scikit-Learn: biblioteca com algoritmos de Machine Learning"
      ]
    },
    {
      "cell_type": "code",
      "metadata": {
        "id": "Hf5ZWsv5Hyx2"
      },
      "source": [
        "%matplotlib inline\n",
        "import numpy as np\n",
        "import matplotlib.pyplot as plt\n",
        "import pandas as pd\n",
        "import sklearn"
      ],
      "execution_count": null,
      "outputs": []
    },
    {
      "cell_type": "markdown",
      "metadata": {
        "id": "jCpJPEewHyx4"
      },
      "source": [
        "# Obter os dados\n",
        "\n",
        "\n",
        "Nesta atividade iremos usar o conjunto de dados MNIST, que é um conjunto de 70.000 pequenas imagens de dígitos escritos à mão. Cada imagem é identificada com o dígito que representa. Esse conjunto é bastante conhecido e também um excelente exemplo para trabalhar com tarefas de **classificação**.\n",
        "\n",
        "O Google Colaboratory já inclui uma versão reduzida desse conjunto de dados em seu ambiente online, dentro do diretório `sample_data`. O arquivo `mnist_train_small.csv` contém o conjunto de treinamento e o arquivo `mnist_test.csv` contém o conjunto de teste, ambos rotulados com os dígitos corretos."
      ]
    },
    {
      "cell_type": "code",
      "metadata": {
        "id": "ltPmaYdEHyx5"
      },
      "source": [
        "# cada linha representa um dígito: o rótulo está na coluna 0\n",
        "mnist_train = pd.read_csv('sample_data/mnist_train_small.csv', header=None)\n",
        "mnist_train.shape"
      ],
      "execution_count": null,
      "outputs": []
    },
    {
      "cell_type": "code",
      "metadata": {
        "id": "IrHwXKoYHyx8"
      },
      "source": [
        "mnist_train.head(3)"
      ],
      "execution_count": null,
      "outputs": []
    },
    {
      "cell_type": "code",
      "metadata": {
        "id": "hyV1MfxBHyx-"
      },
      "source": [
        "# cada linha representa um dígito: o rótulo está na coluna 0\n",
        "mnist_test = pd.read_csv('sample_data/mnist_test.csv', header=None)\n",
        "mnist_test.shape"
      ],
      "execution_count": null,
      "outputs": []
    },
    {
      "cell_type": "code",
      "metadata": {
        "id": "_Za2uqC3Hyx-"
      },
      "source": [
        "mnist_test.head(3)"
      ],
      "execution_count": null,
      "outputs": []
    },
    {
      "cell_type": "markdown",
      "metadata": {
        "id": "-mcl_QPTHyx_"
      },
      "source": [
        "Vamos aqui separar as 784 features (pixels) de cada instância dos rótulos (dígito reconhecido). Seguiremos a convenção de **X** para features e **y** para rótulos.\n",
        "\n",
        "Vale conferir se a separação está correta. Aqui usamos `.iloc[]` para separar uma faixa de colunas numeradas."
      ]
    },
    {
      "cell_type": "code",
      "metadata": {
        "id": "-LWpMkQKHyyB"
      },
      "source": [
        "X_train = mnist_train.iloc[:,1:]\n",
        "y_train = mnist_train.iloc[:,0]\n",
        "X_test  = mnist_test.iloc[:,1:]\n",
        "y_test  = mnist_test.iloc[:,0]\n",
        "print('X_train:', X_train.shape)\n",
        "print('y_train:', y_train.shape)\n",
        "print('X_test: ', X_test.shape)\n",
        "print('y_test: ', y_test.shape)"
      ],
      "execution_count": null,
      "outputs": []
    },
    {
      "cell_type": "markdown",
      "metadata": {
        "id": "R6BKgkjKHyyB"
      },
      "source": [
        "## Visualizar os dados\n",
        "\n",
        "Cada linha corresponde a uma matriz de 28 por 28 pixels (tons de cinza) correspondendo a uma única imagem de um dígito."
      ]
    },
    {
      "cell_type": "code",
      "metadata": {
        "id": "cJYOaUBkHyyD"
      },
      "source": [
        "# função auxiliar para mostrar uma imagem\n",
        "def plot_digit(data):\n",
        "    image = data.reshape(28, 28)\n",
        "    plt.imshow(image, cmap='binary')\n",
        "    plt.axis('off')"
      ],
      "execution_count": null,
      "outputs": []
    },
    {
      "cell_type": "code",
      "metadata": {
        "id": "utcJcPd5HyyE"
      },
      "source": [
        "# imagem associada à instância de índice 1\n",
        "some_digit = X_train.iloc[1].values\n",
        "some_digit_image = some_digit.reshape(28, 28)\n",
        "plot_digit(some_digit_image)\n",
        "plt.show()"
      ],
      "execution_count": null,
      "outputs": []
    },
    {
      "cell_type": "code",
      "metadata": {
        "id": "cUdIEfDyHyyF"
      },
      "source": [
        "# rótulo associado à instância de índice 1\n",
        "y_train.iloc[1]"
      ],
      "execution_count": null,
      "outputs": []
    },
    {
      "cell_type": "code",
      "metadata": {
        "id": "DWuPqkwmHyyF"
      },
      "source": [
        "# função auxiliar para mostrar várias imagens\n",
        "def plot_digits(instances, images_per_row):\n",
        "    size = 28\n",
        "    images_per_row = min(len(instances), images_per_row)\n",
        "    images = [instance.reshape(size,size) for instance in instances]\n",
        "    n_rows = (len(instances) - 1) // images_per_row + 1\n",
        "    row_images = []\n",
        "    n_empty = n_rows * images_per_row - len(instances)\n",
        "    images.append(np.zeros((size, size * n_empty)))\n",
        "    for row in range(n_rows):\n",
        "        rimages = images[row * images_per_row : (row + 1) * images_per_row]\n",
        "        row_images.append(np.concatenate(rimages, axis=1))\n",
        "    image = np.concatenate(row_images, axis=0)\n",
        "    plt.imshow(image, cmap='binary')\n",
        "    plt.axis('off')"
      ],
      "execution_count": null,
      "outputs": []
    },
    {
      "cell_type": "code",
      "metadata": {
        "id": "VSm3_Er4HyyG"
      },
      "source": [
        "# exibição das 30 primeiras imagens\n",
        "plt.figure(figsize=(9,9))\n",
        "example_images = X_train.iloc[:30].values\n",
        "plot_digits(example_images, images_per_row=10)\n",
        "plt.show()"
      ],
      "execution_count": null,
      "outputs": []
    },
    {
      "cell_type": "markdown",
      "metadata": {
        "id": "Xmcd-b0oHyyG"
      },
      "source": [
        "## Examinar a distribuição estatística dos rótulos\n",
        "\n",
        "Vale a pena conferir se os dígitos dos dados de treino tem uma distribuição estatisticamente semelhante à base de testes."
      ]
    },
    {
      "cell_type": "code",
      "metadata": {
        "id": "yHWHVkLgHyyG"
      },
      "source": [
        "y_train.describe()"
      ],
      "execution_count": null,
      "outputs": []
    },
    {
      "cell_type": "code",
      "metadata": {
        "id": "sQKL6IwtHyyI"
      },
      "source": [
        "y_train.value_counts()"
      ],
      "execution_count": null,
      "outputs": []
    },
    {
      "cell_type": "code",
      "metadata": {
        "id": "IjRIcZOHHyyJ"
      },
      "source": [
        "y_test.value_counts()"
      ],
      "execution_count": null,
      "outputs": []
    },
    {
      "cell_type": "code",
      "metadata": {
        "id": "apTkaVu_HyyJ"
      },
      "source": [
        "#y_train.hist()\n",
        "y_train.hist(bins=10, range=(0,10), align='left', rwidth=0.8)\n",
        "plt.show()"
      ],
      "execution_count": null,
      "outputs": []
    },
    {
      "cell_type": "code",
      "metadata": {
        "id": "Z3UL6ZVbHyyK"
      },
      "source": [
        "y_test.hist(bins=10, range=(0,10), align='left', rwidth=0.8)\n",
        "plt.show()"
      ],
      "execution_count": null,
      "outputs": []
    },
    {
      "cell_type": "code",
      "metadata": {
        "scrolled": true,
        "id": "EpgHUmARHyyK"
      },
      "source": [
        "# histograma combinado\n",
        "\n",
        "#y_train.hist(bins=10, range=(0,10), align='left', rwidth=0.8)\n",
        "#y_test.hist( bins=10, range=(0,10), align='left', rwidth=0.8)\n",
        "\n",
        "y_train.hist(bins=10, range=(0,10), align='left', density=True, histtype='step')\n",
        "y_test.hist( bins=10, range=(0,10), align='left', density=True, histtype='step')\n",
        "\n",
        "plt.show()"
      ],
      "execution_count": null,
      "outputs": []
    },
    {
      "cell_type": "markdown",
      "metadata": {
        "id": "Fp_BMa-vHyyK"
      },
      "source": [
        "## Criar um conjunto de testes\n",
        "\n",
        "Esta parte já está pronta. Então o conjunto de testes será deixado de lado."
      ]
    },
    {
      "cell_type": "markdown",
      "metadata": {
        "id": "E4z_S7hDHyyL"
      },
      "source": [
        "# Selecionar e treinar um modelo\n",
        "\n",
        "Podemos ir diretamente para a parte de seleção de um modelo e treinamento do mesmo."
      ]
    },
    {
      "cell_type": "markdown",
      "metadata": {
        "id": "pt7ErRB5HyyM"
      },
      "source": [
        "## Classificador binário\n",
        "\n",
        "Um classificador binário simplesmente dá uma resposta SIM ou NÃO para uma instância. Então nossos rótulos também tem que ter este formato.\n",
        "\n",
        "Por exemplo, o classificador pode indicar se a imagem associada a uma instância representa ou não um **dígito cinco**."
      ]
    },
    {
      "cell_type": "code",
      "metadata": {
        "id": "0MwGJibMHyyM"
      },
      "source": [
        "y_train_5 = (y_train == 5)\n",
        "y_test_5  = (y_test  == 5)"
      ],
      "execution_count": null,
      "outputs": []
    },
    {
      "cell_type": "markdown",
      "metadata": {
        "id": "N3GTEZJMHyyN"
      },
      "source": [
        "Pode-se começar com o classificador por Descida de Gradiente Aleatório (Stochastic\n",
        "Gradient Descent - SGD), usando a classe `SGDClassifier` da biblioteca Scikit-Learn.\n",
        "\n",
        "Este classificador tem a vantagem de ser capaz de lidar eficientemente com conjuntos de dados grandes.\n",
        "Isso ocorre em parte porque o SGD lida com instâncias de treinamento de forma independente, uma de cada vez\n",
        "(o que também torna o SGD adequado para aprendizado _online_)."
      ]
    },
    {
      "cell_type": "code",
      "metadata": {
        "id": "NvSXSGPAHyyN"
      },
      "source": [
        "from sklearn.linear_model import SGDClassifier\n",
        "\n",
        "sgd_clf = SGDClassifier(random_state=42)\n",
        "sgd_clf.fit(X_train, y_train_5)"
      ],
      "execution_count": null,
      "outputs": []
    },
    {
      "cell_type": "code",
      "metadata": {
        "id": "QCptn2wNHyyN"
      },
      "source": [
        "# predição para imagem de índice 1, que é um dígito 5\n",
        "sgd_clf.predict([some_digit])[0]"
      ],
      "execution_count": null,
      "outputs": []
    },
    {
      "cell_type": "markdown",
      "metadata": {
        "id": "3vh6SMCxHyyN"
      },
      "source": [
        "## Medindo a acurácia usando validação cruzada\n",
        "\n",
        "Avaliar um classificador é mais complicado do que avaliar um regressor, pois existem várias medidas de  desempenho que podem ser usadas.\n",
        "\n",
        "A primeira medida a ser avaliada, usando **validação cruzada** do conjunto de treino, é a **acurácia** (_accuracy_)."
      ]
    },
    {
      "cell_type": "code",
      "metadata": {
        "id": "ZUPvh7uVHyyN"
      },
      "source": [
        "# medindo a acurácia usando validação cruzada, com 3 dobras\n",
        "from sklearn.model_selection import cross_val_score\n",
        "\n",
        "scores = cross_val_score(sgd_clf, X_train, y_train_5, cv=3, scoring='accuracy')\n",
        "print(scores)"
      ],
      "execution_count": null,
      "outputs": []
    },
    {
      "cell_type": "markdown",
      "metadata": {
        "id": "ktlxeDAHHyyO"
      },
      "source": [
        "O resultado sempre acima de 93% de acurácia, que é o percentual de acertos parece muito bom!\n",
        "\n",
        "Contudo é importante comparar este caso com um classificador trivial, que sempre responde **não** para a previsão de saída."
      ]
    },
    {
      "cell_type": "code",
      "metadata": {
        "id": "ZLL1oQXaHyyO"
      },
      "source": [
        "# classificador trivial que responde negativamente a todas as instâncias\n",
        "from sklearn.base import BaseEstimator\n",
        "\n",
        "class Never5Classifier(BaseEstimator):\n",
        "    def fit(self, X, y=None):\n",
        "        pass\n",
        "    def predict(self, X):\n",
        "        return np.zeros((len(X), 1), dtype=bool)"
      ],
      "execution_count": null,
      "outputs": []
    },
    {
      "cell_type": "code",
      "metadata": {
        "id": "OqH5-XQTHyyP"
      },
      "source": [
        "never_5_clf = Never5Classifier()\n",
        "scores = cross_val_score(never_5_clf, X_train, y_train_5, cv=3, scoring='accuracy')\n",
        "print(scores)"
      ],
      "execution_count": null,
      "outputs": []
    },
    {
      "cell_type": "markdown",
      "metadata": {
        "id": "_wmDU3E-HyyP"
      },
      "source": [
        "Ou seja, mais de 90% de acurácia. Isso ocorre simplesmente porque apenas cerca de 10% das imagens são dígitos 5, então se o classificador semrpe supor que uma imagem não é um 5, ele estará certo 90% do tempo.\n",
        "\n",
        "Isso mostra que a acurácia geralmente não é a medida de desempenho mais adequada para classificadores, especialmente quando se está lidando com conjuntos de dados não-uniformemente distribuídos (ou seja, quando algumas das classes são muito mais frequentes do que outras)."
      ]
    },
    {
      "cell_type": "markdown",
      "metadata": {
        "id": "cilNaor8HyyP"
      },
      "source": [
        "## Matriz de confusão\n",
        "\n",
        "Assim como a função `cross_val_score()`, a função `cross_val_predict()` validação cruzada, mas em vez de retornar as pontuações da avaliação, esta última retorna as previsões feitas em cada dobra do teste.\n",
        "\n",
        "Isso significa que você obtém uma previsão clara para cada instância no conjunto de treinamento, justamente pela  previsão ter sido feita por um modelo que nunca viu tal instância durante o treinamento."
      ]
    },
    {
      "cell_type": "code",
      "metadata": {
        "id": "wThfcc4zHyyQ"
      },
      "source": [
        "# predição para todas as instâncias, usando validação cruzada\n",
        "from sklearn.model_selection import cross_val_predict\n",
        "\n",
        "y_train_pred = cross_val_predict(sgd_clf, X_train, y_train_5, cv=3)"
      ],
      "execution_count": null,
      "outputs": []
    },
    {
      "cell_type": "markdown",
      "metadata": {
        "id": "G5EOKuR5HyyQ"
      },
      "source": [
        "Cada linha em uma **matriz de confusão** representa uma classe real, enquanto cada coluna representa uma classe prevista."
      ]
    },
    {
      "cell_type": "code",
      "metadata": {
        "id": "ED4ctBajHyyQ"
      },
      "source": [
        "# geração da matriz de confusão\n",
        "from sklearn.metrics import confusion_matrix\n",
        "\n",
        "cm = confusion_matrix(y_train_5, y_train_pred)\n",
        "print(cm)"
      ],
      "execution_count": null,
      "outputs": []
    },
    {
      "cell_type": "code",
      "metadata": {
        "id": "mFKVK1xUHyyR"
      },
      "source": [
        "print('verdadeiros negativos (VN):', cm[0, 0])\n",
        "print('falsos positivos      (FP):', cm[0, 1])\n",
        "print('falsos negativos      (FN):', cm[1, 0])\n",
        "print('verdadeiros positivos (VP):', cm[1, 1])"
      ],
      "execution_count": null,
      "outputs": []
    },
    {
      "cell_type": "markdown",
      "metadata": {
        "id": "tJ3g2p0NHyyS"
      },
      "source": [
        "Um classificador perfeito teria apenas verdadeiros positivos e verdadeiros negativos. Então sua matriz de confusão teria valores diferentes de zero apenas em sua diagonal:"
      ]
    },
    {
      "cell_type": "code",
      "metadata": {
        "id": "2VcIMsYIHyyS"
      },
      "source": [
        "# classificação perfeita: igual aos valores reais\n",
        "y_train_perfect_predictions = y_train_5\n",
        "print(confusion_matrix(y_train_5, y_train_perfect_predictions))"
      ],
      "execution_count": null,
      "outputs": []
    },
    {
      "cell_type": "markdown",
      "metadata": {
        "id": "I3WP1FssHyyT"
      },
      "source": [
        "Uma métrica interessante é a **precisão** (_precision_), definida assim:\n",
        "    \n",
        "\\begin{equation}\n",
        "\\text{precisão} = \\frac{VP}{VP+FP}\n",
        "\\end{equation}\n",
        "\n",
        "Outra métrica chamada de **sensibilidade** (_sensitivity_) ou **revocação** (_recall_), é a proporção de instâncias positivas que são detectadas corretamente pelo classificador:\n",
        "\n",
        "\\begin{equation}\n",
        "\\text{sensibilidade} = \\frac{VP}{VP+FN}\n",
        "\\end{equation}"
      ]
    },
    {
      "cell_type": "code",
      "metadata": {
        "id": "3t2TLn2FHyyT"
      },
      "source": [
        "# cálculo da precisão e da sensibilidade\n",
        "from sklearn.metrics import precision_score, recall_score\n",
        "\n",
        "precision_score(y_train_5, y_train_pred)"
      ],
      "execution_count": null,
      "outputs": []
    },
    {
      "cell_type": "code",
      "metadata": {
        "id": "Zh0bcfaoHyyT"
      },
      "source": [
        "recall_score(y_train_5, y_train_pred)"
      ],
      "execution_count": null,
      "outputs": []
    },
    {
      "cell_type": "markdown",
      "metadata": {
        "id": "Cgl_5cqXHyyU"
      },
      "source": [
        "A leitura que pode ser feita é que quando o classificador afirma que uma imagem representa um dígito 5, ele está **correto apenas 72,6% das vezes**. Mais ainda, este classificador detecta **apenas 81,1% dos dígitos 5 presentes**.\n",
        "\n",
        "Muitas vezes, é conveniente combinar precisão e sensibilidade em uma única métrica chamada **pontuação F1** (_F1 score_), em paerticular para poder comparar dois classificadores.\n",
        "\n",
        "\n",
        "A pontuação F1 é a média harmônica da precisão e da sensibilidade. Enquanto a média regular trata todos os valores igualmente, a média harmônica dá muito mais peso aos valores baixos:\n",
        "\n",
        "\\begin{equation}\n",
        "F_1 = \\frac{VP}{VP+\\frac{FN+FP}{2}}\n",
        "\\end{equation}\n",
        "\n",
        "Como resultado, o classificador só obterá uma pontuação F1 alta se ambos, recall e sensibilidade forem altos."
      ]
    },
    {
      "cell_type": "code",
      "metadata": {
        "id": "SdkmaCHXHyyU"
      },
      "source": [
        "from sklearn.metrics import f1_score\n",
        "\n",
        "f1_score(y_train_5, y_train_pred)"
      ],
      "execution_count": null,
      "outputs": []
    },
    {
      "cell_type": "markdown",
      "metadata": {
        "id": "uzzSTTLtHyyV"
      },
      "source": [
        "Note que a pontuação F1 favorece classificadores que têm precisão e sensibilidade semelhantes.\n",
        "\n",
        "Isso nem sempre é o que se deseja: em alguns contextos, é importante a precisão e, em outros, a sensibilidade."
      ]
    },
    {
      "cell_type": "markdown",
      "metadata": {
        "id": "-9i_QY14HyyV"
      },
      "source": [
        "## Outro classificador binário\n",
        "\n",
        "Agora será usado o modelo `RandomForestClassifier`."
      ]
    },
    {
      "cell_type": "code",
      "metadata": {
        "id": "-6MVO9rxHyyW"
      },
      "source": [
        "from sklearn.ensemble import RandomForestClassifier\n",
        "\n",
        "forest_clf = RandomForestClassifier(random_state=42)"
      ],
      "execution_count": null,
      "outputs": []
    },
    {
      "cell_type": "code",
      "metadata": {
        "id": "pc-q999sHyyX"
      },
      "source": [
        "# predição para todas as instâncias, usando validação cruzada\n",
        "from sklearn.model_selection import cross_val_predict\n",
        "\n",
        "y_train_pred = cross_val_predict(forest_clf, X_train, y_train_5, cv=3)"
      ],
      "execution_count": null,
      "outputs": []
    },
    {
      "cell_type": "code",
      "metadata": {
        "id": "n7hr9qUPHyyX"
      },
      "source": [
        "# geração da matriz de confusão\n",
        "from sklearn.metrics import confusion_matrix\n",
        "\n",
        "cm = confusion_matrix(y_train_5, y_train_pred)\n",
        "print('verdadeiros negativos (VN):', cm[0, 0])\n",
        "print('falsos positivos      (FP):', cm[0, 1])\n",
        "print('falsos negativos      (FN):', cm[1, 0])\n",
        "print('verdadeiros positivos (VP):', cm[1, 1])"
      ],
      "execution_count": null,
      "outputs": []
    },
    {
      "cell_type": "code",
      "metadata": {
        "id": "R600i6otHyyY"
      },
      "source": [
        "# medidas de desempenho\n",
        "from sklearn.metrics import precision_score, recall_score, f1_score\n",
        "\n",
        "print('precisão:     ', precision_score(y_train_5, y_train_pred))\n",
        "print('sensibilidade:', recall_score(y_train_5, y_train_pred))\n",
        "print('pontuação f1: ', f1_score(y_train_5, y_train_pred))"
      ],
      "execution_count": null,
      "outputs": []
    },
    {
      "cell_type": "markdown",
      "metadata": {
        "id": "hzeuNpoOHyyZ"
      },
      "source": [
        "# Classificação multiclasse\n",
        "\n",
        "\n",
        "É possível construir um classificador multiclasse usando vários classificadores binários.\n",
        "\n",
        "Felizmente a biblioteca Scikit-Learn escolhe a estratégia automaticamente, dependendo do algoritmo selecionado.\n",
        "\n",
        "Basta então criar o classificados e treiná-no com os rótulos completos em `y_train`, ao invés dos rótulos binários `y_train_5` usados anteriormente.\n",
        "\n",
        "O efeito prático é que classificadores multiclasse levarão mais tempo para serem treinados. Quanto mais classes envolvidas, mais demorado será."
      ]
    },
    {
      "cell_type": "code",
      "metadata": {
        "id": "lp7Y7_d2Hyya"
      },
      "source": [
        "from sklearn.linear_model import SGDClassifier\n",
        "\n",
        "sgd_clf = SGDClassifier(random_state=42)\n",
        "\n",
        "# esta chamada pode demorar um pouco\n",
        "%time sgd_clf.fit(X_train, y_train)"
      ],
      "execution_count": null,
      "outputs": []
    },
    {
      "cell_type": "code",
      "metadata": {
        "id": "fm98QRA2Hyya"
      },
      "source": [
        "# predição para imagem de índice 1, que é um dígito 5\n",
        "sgd_clf.predict([some_digit])[0]"
      ],
      "execution_count": null,
      "outputs": []
    },
    {
      "cell_type": "markdown",
      "metadata": {
        "id": "C6TEjZ5qHyya"
      },
      "source": [
        "Para entender como funciona um classificador multiclasse:\n",
        "\n",
        "1. Foram treinados 10 classificadores (um para cada classe).\n",
        "2. A entrada então foi aplicada em cada um dos 10, gerando 10 pontuações.\n",
        "3. A previsão é dada pelo rótulo associado ao classificador com a melhor pontuação."
      ]
    },
    {
      "cell_type": "code",
      "metadata": {
        "id": "XLvbgiu8Hyyb"
      },
      "source": [
        "# pontuações individuais dos 10 classificadores internos\n",
        "some_digit_scores = sgd_clf.decision_function([some_digit])\n",
        "print(some_digit_scores)"
      ],
      "execution_count": null,
      "outputs": []
    },
    {
      "cell_type": "code",
      "metadata": {
        "id": "f_QZsmFBHyyc"
      },
      "source": [
        "# qual o índice que contém o maior score?\n",
        "index = np.argmax(some_digit_scores)"
      ],
      "execution_count": null,
      "outputs": []
    },
    {
      "cell_type": "code",
      "metadata": {
        "id": "ubtgfp_JHyyc"
      },
      "source": [
        "# classe prevista\n",
        "sgd_clf.classes_[index]"
      ],
      "execution_count": null,
      "outputs": []
    },
    {
      "cell_type": "markdown",
      "metadata": {
        "id": "-ysjsvK2Hyyc"
      },
      "source": [
        "## Medida de desempenho por validação cruzada"
      ]
    },
    {
      "cell_type": "code",
      "metadata": {
        "id": "OrULxRA-Hyyc"
      },
      "source": [
        "# esta chamada pode demorar um pouco\n",
        "%time cross_val_score(sgd_clf, X_train, y_train, cv=3, scoring='accuracy')"
      ],
      "execution_count": null,
      "outputs": []
    },
    {
      "cell_type": "markdown",
      "metadata": {
        "id": "50yWgsvEHyyd"
      },
      "source": [
        "## Análise do erro\n",
        "\n",
        "Aqui podemos gerar a previsão para todas as instâncias, usando validação cruzada. Então podemos comparar o real com o previsto em uma matriz de confusão para todas as 10 classes."
      ]
    },
    {
      "cell_type": "code",
      "metadata": {
        "id": "tnrTVBzyHyyd"
      },
      "source": [
        "# esta chamada pode demorar um pouco\n",
        "%time y_train_pred = cross_val_predict(sgd_clf, X_train, y_train, cv=3)\n",
        "cm = confusion_matrix(y_train, y_train_pred)\n",
        "cm"
      ],
      "execution_count": null,
      "outputs": []
    },
    {
      "cell_type": "code",
      "metadata": {
        "id": "GEniPBZDHyyd"
      },
      "source": [
        "# exibição da matriz de confusão como imagem\n",
        "plt.matshow(cm, cmap='gray')\n",
        "plt.show()"
      ],
      "execution_count": null,
      "outputs": []
    },
    {
      "cell_type": "markdown",
      "metadata": {
        "id": "_LneWfzBHyye"
      },
      "source": [
        "Os resultados em geral são bons, pois a todos os dígitos foram em geral identificados como os próprios, como indica os valores mais claros na diagonal.\n",
        "\n",
        "Para visualizar o erro nos demais casos, a matriz será normalizada e os elementos da diagonal serão zerados."
      ]
    },
    {
      "cell_type": "code",
      "metadata": {
        "id": "NMnfwyffHyye"
      },
      "source": [
        "# normalizar a matriz\n",
        "row_sums = cm.sum(axis=1, keepdims=True)\n",
        "norm_cm = cm / row_sums\n",
        "\n",
        "# zerar diagonal e exibir\n",
        "np.fill_diagonal(norm_cm, 0)\n",
        "plt.matshow(norm_cm, cmap='gray')\n",
        "plt.show()"
      ],
      "execution_count": null,
      "outputs": []
    },
    {
      "cell_type": "markdown",
      "metadata": {
        "id": "deAtBtKDHyye"
      },
      "source": [
        "As linhas representam as classes reais, enquanto as colunas representam as classes previstas.\n",
        "\n",
        "A coluna da classe 8 é bem clara, o que indica que muitas imagens foram classificadas incorretamente como dígitos 8. No entanto, a linha para a classe 8 não é tão ruim, informando que em geral os dígitos 8 reais são classificados corretamente como tais.\n",
        "\n",
        "Note que a matriz de confusão não é necessariamente simétrica. Também pode ser observado que os dígitos 3 e 8 muitas vezes são erroneamente classificados como 5."
      ]
    },
    {
      "cell_type": "code",
      "metadata": {
        "id": "J5KPwl6oHyye"
      },
      "source": [
        "# exbição de algumas instâncias de 5 e 8\n",
        "cl_a, cl_b = 5, 8\n",
        "X_aa = X_train.values[(y_train == cl_a) & (y_train_pred == cl_a)]\n",
        "X_ab = X_train.values[(y_train == cl_a) & (y_train_pred == cl_b)]\n",
        "X_ba = X_train.values[(y_train == cl_b) & (y_train_pred == cl_a)]\n",
        "X_bb = X_train.values[(y_train == cl_b) & (y_train_pred == cl_b)]\n",
        "\n",
        "plt.figure(figsize=(8,8))\n",
        "plt.subplot(221); plot_digits(X_aa[:25], images_per_row=5)\n",
        "plt.subplot(222); plot_digits(X_ab[:25], images_per_row=5)\n",
        "plt.subplot(223); plot_digits(X_ba[:25], images_per_row=5)\n",
        "plt.subplot(224); plot_digits(X_bb[:25], images_per_row=5)\n",
        "plt.show()"
      ],
      "execution_count": null,
      "outputs": []
    },
    {
      "cell_type": "markdown",
      "metadata": {
        "id": "0P_qEa-THyyf"
      },
      "source": [
        "# Avaliar o modelo final\n",
        "\n",
        "Basta usar o modelo anteriormente treinado, chamado `sgd_clf` e fazer uma previsão usando os dados de teste `X_test`, gerando as previsões  em `y_test_pred`.\n",
        "\n",
        "As medidas de desempenho são obtidas comparando `y_test_pred` e `y_test` (que são os rótulos corretos de teste).\n",
        "\n",
        "Vamos aqui usar as medidas de precisão, sensibilidade e pontuação F1, só que agora ajustadas para um classificador multiclasse (usando o parâmetro `average='weighted'`, que pondera as medidas de todas as classes)."
      ]
    },
    {
      "cell_type": "code",
      "metadata": {
        "id": "kYmrUfAuHyyg"
      },
      "source": [
        "# predição para todo o conjunto de teste\n",
        "y_test_pred = sgd_clf.predict(X_test)\n",
        "\n",
        "# medidas de desempenho\n",
        "from sklearn.metrics import precision_score, recall_score, f1_score\n",
        "print('precisão:     ', precision_score(y_test, y_test_pred, average='weighted'))\n",
        "print('sensibilidade:', recall_score(y_test, y_test_pred, average='weighted'))\n",
        "print('pontuação f1: ', f1_score(y_test, y_test_pred, average='weighted'))"
      ],
      "execution_count": null,
      "outputs": []
    }
  ]
}