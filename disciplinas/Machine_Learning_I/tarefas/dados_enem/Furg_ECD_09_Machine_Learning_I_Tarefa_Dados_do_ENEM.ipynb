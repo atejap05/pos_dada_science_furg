{
  "cells": [
    {
      "cell_type": "markdown",
      "metadata": {
        "colab_type": "text",
        "id": "view-in-github"
      },
      "source": [
        "<a href=\"https://colab.research.google.com/github/atejap05/pos_data_science_furg/blob/main/disciplinas/Machine_Learning_I/tarefas/dados_enem/Furg_ECD_09_Machine_Learning_I_Tarefa_Dados_do_ENEM.ipynb\" target=\"_parent\"><img src=\"https://colab.research.google.com/assets/colab-badge.svg\" alt=\"Open In Colab\"/></a>"
      ]
    },
    {
      "cell_type": "markdown",
      "metadata": {
        "id": "0znIla-40Blp"
      },
      "source": [
        "# Curso de Especialização em Ciência de Dados - FURG\n",
        "## Machine Learning I - Tarefa: Dados do ENEM\n",
        "### Prof. Marcelo Malheiros\n",
        "\n",
        "---"
      ]
    },
    {
      "cell_type": "markdown",
      "metadata": {
        "id": "aj3JrbGZ0Bl1"
      },
      "source": [
        "Esta tarefa é para você **observar** e **analisar** este processo de Machine Learning.\n",
        "\n",
        "Adicionalmente, sugere-se que você também experimente com os dados e com os algoritmos, fazendo algumas das modificações indicadas em várias partes deste _notebook_.\n",
        "\n",
        "Note que não é preciso escrever mais código, apenas modificar o código já fornecido.\n",
        "\n",
        "Um questionário _online_ dentro da disciplina no AVA será disponibilizado para coletar sua análise. Este questionário será também uma das tarefas avaliativas desta disciplina."
      ]
    },
    {
      "cell_type": "markdown",
      "metadata": {
        "id": "1IzHUC6D0Bl3"
      },
      "source": [
        "# Problema\n",
        "\n",
        "O problema aqui descrito é uma **tarefa de regressão**. Com base nos dados reais das escolas do Ensino Médio avaliadas pelo ENEM em 2014 e 2015, precisamos ajustar um **modelo de previsão** para ser capaz de prever as médias das provas de Matemática e de Redação, separadamente."
      ]
    },
    {
      "cell_type": "markdown",
      "metadata": {
        "id": "nhUfEFMX0Bl4"
      },
      "source": [
        "# Inicialização\n",
        "\n",
        "Aqui importamos as bibliotecas fundamentais de Python para este _notebook_."
      ]
    },
    {
      "cell_type": "code",
      "execution_count": 3,
      "metadata": {},
      "outputs": [
        {
          "data": {
            "text/plain": "'/home/jap05/Projects/pos_data_science_furg/disciplinas/Machine_Learning_I/tarefas/dados_enem'"
          },
          "execution_count": 3,
          "metadata": {},
          "output_type": "execute_result"
        }
      ],
      "source": [
        "pwd"
      ]
    },
    {
      "cell_type": "code",
      "execution_count": 1,
      "metadata": {
        "id": "7oxaThQi0Bl6"
      },
      "outputs": [],
      "source": [
        "import numpy as np\n",
        "import matplotlib.pyplot as plt\n",
        "import pandas as pd\n",
        "import sklearn\n",
        "import os\n",
        "os.chdir('/home/jap05/Projects/pos_data_science_furg/')"
      ]
    },
    {
      "cell_type": "code",
      "execution_count": 4,
      "metadata": {
        "id": "ESy-zu4u0Bl8"
      },
      "outputs": [
        {
          "name": "stdout",
          "output_type": "stream",
          "text": [
            "tensorflow:      versão 2.4.1\n",
            "keras integrada: versão 2.4.0\n"
          ]
        }
      ],
      "source": [
        "import tensorflow as tf\n",
        "from tensorflow import keras\n",
        "\n",
        "print('tensorflow:      versão', tf.__version__)\n",
        "print('keras integrada: versão', keras.__version__)"
      ]
    },
    {
      "cell_type": "markdown",
      "metadata": {
        "id": "4P5p0SfJ0Bl_"
      },
      "source": [
        "# Conjunto de dados\n",
        "\n",
        "Este _dataset_ deve ser baixado pelo analista diretamente do site do Instituto Nacional de Estudos e Pesquisas Educacionais Anísio Teixeira (INEP):\n",
        "\n",
        "[Microdados do Exame Nacional do Ensino Médio por Escola](https://www.gov.br/inep/pt-br/acesso-a-informacao/dados-abertos/microdados/enem-por-escola)\n",
        "\n",
        "Os dados estão presentes em um único arquivo no formato CSV na pasta `DADOS`, chamado `MICRODADOS_ENEM_ESCOLA.csv`.\n",
        "\n",
        "A explicação sobre o layout dos dados e valores categóricos está dentro na pasta `DICIONÁRIO`, no arquivo `Dicionário_Microdados_Enem_Escola.xlsx`.\n",
        "\n",
        "As descrições detalhadas do conjunto de dados estão na pasta `LEIA-ME e DOCUMENTOS TÉCNICOS`.\n",
        "\n",
        "A leitura dos dados é feita a seguir, definido `;` como separador entre os campos. A opção `low_memory=False` é usada para fazer um exame mais detalhado do arquivo antes da leitura.\n",
        "\n",
        "Note que para arquivos com palavras em Português é preciso tomar cuidado com a codifição dos campos de texto. Por padrão a codificação é `encoding='utf_8'`. Porém, se os acentos aparecem errados provavelmente a codificação precisa ser `encoding='latin_1'`, como foi o caso aqui.\n",
        "\n",
        "**Não se esqueça de fazer o upload do arquivo `MICRODADOS_ENEM_ESCOLA.csv` para o Colaboratory, antes de rodar a célula a seguir.**"
      ]
    },
    {
      "cell_type": "code",
      "execution_count": 28,
      "metadata": {
        "id": "OjAvmuDi0BmA"
      },
      "outputs": [],
      "source": [
        "# leitura dos conjuntos de dados\n",
        "\n",
        "enem_original = pd.read_csv('datasets/microdados_enem_por_escola/DADOS/MICRODADOS_ENEM_ESCOLA.csv', sep=';', encoding='latin_1', low_memory=False) # "
      ]
    },
    {
      "cell_type": "markdown",
      "metadata": {
        "id": "dWCYbM-K0BmC"
      },
      "source": [
        "O conjunto inteiro dos dados foi colocado em um `DataFrame` (da biblioteca Pandas).\n",
        "\n",
        "Vamos visualizar a seguir os primeiro cinco registros desta base:"
      ]
    },
    {
      "cell_type": "code",
      "execution_count": 29,
      "metadata": {
        "id": "LKQ41jMC0BmC"
      },
      "outputs": [
        {
          "data": {
            "text/html": "<div>\n<style scoped>\n    .dataframe tbody tr th:only-of-type {\n        vertical-align: middle;\n    }\n\n    .dataframe tbody tr th {\n        vertical-align: top;\n    }\n\n    .dataframe thead th {\n        text-align: right;\n    }\n</style>\n<table border=\"1\" class=\"dataframe\">\n  <thead>\n    <tr style=\"text-align: right;\">\n      <th></th>\n      <th>NU_ANO</th>\n      <th>CO_UF_ESCOLA</th>\n      <th>SG_UF_ESCOLA</th>\n      <th>CO_MUNICIPIO_ESCOLA</th>\n      <th>NO_MUNICIPIO_ESCOLA</th>\n      <th>CO_ESCOLA_EDUCACENSO</th>\n      <th>NO_ESCOLA_EDUCACENSO</th>\n      <th>TP_DEPENDENCIA_ADM_ESCOLA</th>\n      <th>TP_LOCALIZACAO_ESCOLA</th>\n      <th>NU_MATRICULAS</th>\n      <th>...</th>\n      <th>NU_MEDIA_RED</th>\n      <th>NU_MEDIA_OBJ</th>\n      <th>NU_MEDIA_TOT</th>\n      <th>INSE</th>\n      <th>PC_FORMACAO_DOCENTE</th>\n      <th>NU_TAXA_PERMANENCIA</th>\n      <th>NU_TAXA_APROVACAO</th>\n      <th>NU_TAXA_REPROVACAO</th>\n      <th>NU_TAXA_ABANDONO</th>\n      <th>PORTE_ESCOLA</th>\n    </tr>\n  </thead>\n  <tbody>\n    <tr>\n      <th>0</th>\n      <td>2007</td>\n      <td>11</td>\n      <td>RO</td>\n      <td>1100205</td>\n      <td>Porto Velho</td>\n      <td>11000058</td>\n      <td>CENTRO DE ENSINO CLASSE A</td>\n      <td>4</td>\n      <td>1</td>\n      <td>144</td>\n      <td>...</td>\n      <td>NaN</td>\n      <td>NaN</td>\n      <td>69.03</td>\n      <td>NaN</td>\n      <td>NaN</td>\n      <td>NaN</td>\n      <td>91.9</td>\n      <td>8.1</td>\n      <td>0.0</td>\n      <td>Maior que 90 alunos</td>\n    </tr>\n    <tr>\n      <th>1</th>\n      <td>2006</td>\n      <td>11</td>\n      <td>RO</td>\n      <td>1100205</td>\n      <td>Porto Velho</td>\n      <td>11000058</td>\n      <td>CENTRO DE ENSINO CLASSE A</td>\n      <td>4</td>\n      <td>1</td>\n      <td>184</td>\n      <td>...</td>\n      <td>NaN</td>\n      <td>NaN</td>\n      <td>57.82</td>\n      <td>NaN</td>\n      <td>NaN</td>\n      <td>NaN</td>\n      <td>NaN</td>\n      <td>NaN</td>\n      <td>NaN</td>\n      <td>Maior que 90 alunos</td>\n    </tr>\n    <tr>\n      <th>2</th>\n      <td>2005</td>\n      <td>11</td>\n      <td>RO</td>\n      <td>1100205</td>\n      <td>Porto Velho</td>\n      <td>11000058</td>\n      <td>CENTRO DE ENSINO CLASSE A</td>\n      <td>4</td>\n      <td>1</td>\n      <td>220</td>\n      <td>...</td>\n      <td>NaN</td>\n      <td>NaN</td>\n      <td>64.83</td>\n      <td>NaN</td>\n      <td>NaN</td>\n      <td>NaN</td>\n      <td>86.5</td>\n      <td>12.4</td>\n      <td>1.1</td>\n      <td>Maior que 90 alunos</td>\n    </tr>\n    <tr>\n      <th>3</th>\n      <td>2008</td>\n      <td>11</td>\n      <td>RO</td>\n      <td>1100205</td>\n      <td>Porto Velho</td>\n      <td>11000058</td>\n      <td>CENTRO DE ENSINO CLASSE A</td>\n      <td>4</td>\n      <td>1</td>\n      <td>186</td>\n      <td>...</td>\n      <td>72.16</td>\n      <td>60.02</td>\n      <td>NaN</td>\n      <td>NaN</td>\n      <td>NaN</td>\n      <td>NaN</td>\n      <td>90.3</td>\n      <td>9.7</td>\n      <td>0.0</td>\n      <td>Maior que 90 alunos</td>\n    </tr>\n    <tr>\n      <th>4</th>\n      <td>2007</td>\n      <td>11</td>\n      <td>RO</td>\n      <td>1100205</td>\n      <td>Porto Velho</td>\n      <td>11000171</td>\n      <td>CENTRO EDUCACIONAL MOJUCA</td>\n      <td>4</td>\n      <td>1</td>\n      <td>19</td>\n      <td>...</td>\n      <td>NaN</td>\n      <td>NaN</td>\n      <td>58.84</td>\n      <td>NaN</td>\n      <td>NaN</td>\n      <td>NaN</td>\n      <td>74.2</td>\n      <td>21.0</td>\n      <td>4.8</td>\n      <td>De 1 a 30 alunos</td>\n    </tr>\n    <tr>\n      <th>5</th>\n      <td>2008</td>\n      <td>11</td>\n      <td>RO</td>\n      <td>1100205</td>\n      <td>Porto Velho</td>\n      <td>11000171</td>\n      <td>CENTRO EDUCACIONAL MOJUCA</td>\n      <td>4</td>\n      <td>1</td>\n      <td>33</td>\n      <td>...</td>\n      <td>59.81</td>\n      <td>42.49</td>\n      <td>NaN</td>\n      <td>NaN</td>\n      <td>NaN</td>\n      <td>NaN</td>\n      <td>79.1</td>\n      <td>17.9</td>\n      <td>3.0</td>\n      <td>De 31 a 60 alunos</td>\n    </tr>\n    <tr>\n      <th>6</th>\n      <td>2005</td>\n      <td>11</td>\n      <td>RO</td>\n      <td>1100205</td>\n      <td>Porto Velho</td>\n      <td>11000171</td>\n      <td>CENTRO EDUCACIONAL MOJUCA</td>\n      <td>4</td>\n      <td>1</td>\n      <td>25</td>\n      <td>...</td>\n      <td>NaN</td>\n      <td>NaN</td>\n      <td>35.44</td>\n      <td>NaN</td>\n      <td>NaN</td>\n      <td>NaN</td>\n      <td>69.3</td>\n      <td>25.0</td>\n      <td>5.7</td>\n      <td>De 1 a 30 alunos</td>\n    </tr>\n    <tr>\n      <th>7</th>\n      <td>2005</td>\n      <td>11</td>\n      <td>RO</td>\n      <td>1100205</td>\n      <td>Porto Velho</td>\n      <td>11000180</td>\n      <td>INTERATIVO  CURSOS E COLEGIO</td>\n      <td>4</td>\n      <td>1</td>\n      <td>87</td>\n      <td>...</td>\n      <td>NaN</td>\n      <td>NaN</td>\n      <td>48.46</td>\n      <td>NaN</td>\n      <td>NaN</td>\n      <td>NaN</td>\n      <td>86.5</td>\n      <td>13.5</td>\n      <td>0.0</td>\n      <td>De 61 a 90 alunos</td>\n    </tr>\n    <tr>\n      <th>8</th>\n      <td>2006</td>\n      <td>11</td>\n      <td>RO</td>\n      <td>1100205</td>\n      <td>Porto Velho</td>\n      <td>11000180</td>\n      <td>INTERATIVO  CURSOS E COLEGIO</td>\n      <td>4</td>\n      <td>1</td>\n      <td>82</td>\n      <td>...</td>\n      <td>NaN</td>\n      <td>NaN</td>\n      <td>43.73</td>\n      <td>NaN</td>\n      <td>NaN</td>\n      <td>NaN</td>\n      <td>NaN</td>\n      <td>NaN</td>\n      <td>NaN</td>\n      <td>De 61 a 90 alunos</td>\n    </tr>\n    <tr>\n      <th>9</th>\n      <td>2008</td>\n      <td>11</td>\n      <td>RO</td>\n      <td>1100205</td>\n      <td>Porto Velho</td>\n      <td>11000180</td>\n      <td>INTERAÇÃO - CURSOS E COLÉGIO</td>\n      <td>4</td>\n      <td>1</td>\n      <td>31</td>\n      <td>...</td>\n      <td>59.55</td>\n      <td>45.60</td>\n      <td>NaN</td>\n      <td>NaN</td>\n      <td>NaN</td>\n      <td>NaN</td>\n      <td>90.8</td>\n      <td>9.2</td>\n      <td>0.0</td>\n      <td>De 31 a 60 alunos</td>\n    </tr>\n  </tbody>\n</table>\n<p>10 rows × 27 columns</p>\n</div>",
            "text/plain": "   NU_ANO  CO_UF_ESCOLA SG_UF_ESCOLA  CO_MUNICIPIO_ESCOLA NO_MUNICIPIO_ESCOLA  \\\n0    2007            11           RO              1100205         Porto Velho   \n1    2006            11           RO              1100205         Porto Velho   \n2    2005            11           RO              1100205         Porto Velho   \n3    2008            11           RO              1100205         Porto Velho   \n4    2007            11           RO              1100205         Porto Velho   \n5    2008            11           RO              1100205         Porto Velho   \n6    2005            11           RO              1100205         Porto Velho   \n7    2005            11           RO              1100205         Porto Velho   \n8    2006            11           RO              1100205         Porto Velho   \n9    2008            11           RO              1100205         Porto Velho   \n\n   CO_ESCOLA_EDUCACENSO          NO_ESCOLA_EDUCACENSO  \\\n0              11000058     CENTRO DE ENSINO CLASSE A   \n1              11000058     CENTRO DE ENSINO CLASSE A   \n2              11000058     CENTRO DE ENSINO CLASSE A   \n3              11000058     CENTRO DE ENSINO CLASSE A   \n4              11000171     CENTRO EDUCACIONAL MOJUCA   \n5              11000171     CENTRO EDUCACIONAL MOJUCA   \n6              11000171     CENTRO EDUCACIONAL MOJUCA   \n7              11000180  INTERATIVO  CURSOS E COLEGIO   \n8              11000180  INTERATIVO  CURSOS E COLEGIO   \n9              11000180  INTERAÇÃO - CURSOS E COLÉGIO   \n\n   TP_DEPENDENCIA_ADM_ESCOLA  TP_LOCALIZACAO_ESCOLA  NU_MATRICULAS  ...  \\\n0                          4                      1            144  ...   \n1                          4                      1            184  ...   \n2                          4                      1            220  ...   \n3                          4                      1            186  ...   \n4                          4                      1             19  ...   \n5                          4                      1             33  ...   \n6                          4                      1             25  ...   \n7                          4                      1             87  ...   \n8                          4                      1             82  ...   \n9                          4                      1             31  ...   \n\n   NU_MEDIA_RED  NU_MEDIA_OBJ  NU_MEDIA_TOT  INSE  PC_FORMACAO_DOCENTE  \\\n0           NaN           NaN         69.03   NaN                  NaN   \n1           NaN           NaN         57.82   NaN                  NaN   \n2           NaN           NaN         64.83   NaN                  NaN   \n3         72.16         60.02           NaN   NaN                  NaN   \n4           NaN           NaN         58.84   NaN                  NaN   \n5         59.81         42.49           NaN   NaN                  NaN   \n6           NaN           NaN         35.44   NaN                  NaN   \n7           NaN           NaN         48.46   NaN                  NaN   \n8           NaN           NaN         43.73   NaN                  NaN   \n9         59.55         45.60           NaN   NaN                  NaN   \n\n   NU_TAXA_PERMANENCIA  NU_TAXA_APROVACAO  NU_TAXA_REPROVACAO  \\\n0                  NaN               91.9                 8.1   \n1                  NaN                NaN                 NaN   \n2                  NaN               86.5                12.4   \n3                  NaN               90.3                 9.7   \n4                  NaN               74.2                21.0   \n5                  NaN               79.1                17.9   \n6                  NaN               69.3                25.0   \n7                  NaN               86.5                13.5   \n8                  NaN                NaN                 NaN   \n9                  NaN               90.8                 9.2   \n\n   NU_TAXA_ABANDONO         PORTE_ESCOLA  \n0               0.0  Maior que 90 alunos  \n1               NaN  Maior que 90 alunos  \n2               1.1  Maior que 90 alunos  \n3               0.0  Maior que 90 alunos  \n4               4.8     De 1 a 30 alunos  \n5               3.0    De 31 a 60 alunos  \n6               5.7     De 1 a 30 alunos  \n7               0.0    De 61 a 90 alunos  \n8               NaN    De 61 a 90 alunos  \n9               0.0    De 31 a 60 alunos  \n\n[10 rows x 27 columns]"
          },
          "execution_count": 29,
          "metadata": {},
          "output_type": "execute_result"
        }
      ],
      "source": [
        "enem_original.head(10)"
      ]
    },
    {
      "cell_type": "markdown",
      "metadata": {
        "id": "BbVjvB9j0BmE"
      },
      "source": [
        "Não vamos detalhar cada campo, pois os detalhes estão disponível no arquivo de dicionário.\n",
        "\n",
        "O importante aqui é notar que os dados abrangem diversos anos, estando **empilhados** nesta base. Então uma mesma escola, representada pelo código `CO_ESCOLA_EDUCACENSO` aparece em diversas linhas, uma para cada ano em que participou.\n",
        "\n",
        "Então, por enquanto, usaremos o índice numérico automaticamente criado pela biblioteca Pandas (valores em negrito, à esquerda)."
      ]
    },
    {
      "cell_type": "markdown",
      "metadata": {
        "id": "83VF5EJC0BmG"
      },
      "source": [
        "# Análise dos dados\n",
        "\n",
        "Aqui vamos computar algumas estatísticas sobre a base original de dados. Estas estatísticas são importantes tanto para perceber quais operações de preprocessamento serão necessárias como para escolher quais _features_ vamos usar no treinamento.\n",
        "\n",
        "Uma função muito útil para isso é a `.info()`, que mostra o tipo de dados e o número de valores presentes em cada coluna:"
      ]
    },
    {
      "cell_type": "code",
      "execution_count": 30,
      "metadata": {
        "id": "pSg1ZGZY0BmG"
      },
      "outputs": [
        {
          "name": "stdout",
          "output_type": "stream",
          "text": [
            "<class 'pandas.core.frame.DataFrame'>\n",
            "RangeIndex: 172305 entries, 0 to 172304\n",
            "Data columns (total 27 columns):\n",
            " #   Column                     Non-Null Count   Dtype  \n",
            "---  ------                     --------------   -----  \n",
            " 0   NU_ANO                     172305 non-null  int64  \n",
            " 1   CO_UF_ESCOLA               172305 non-null  int64  \n",
            " 2   SG_UF_ESCOLA               172305 non-null  object \n",
            " 3   CO_MUNICIPIO_ESCOLA        172305 non-null  int64  \n",
            " 4   NO_MUNICIPIO_ESCOLA        172305 non-null  object \n",
            " 5   CO_ESCOLA_EDUCACENSO       172305 non-null  int64  \n",
            " 6   NO_ESCOLA_EDUCACENSO       172305 non-null  object \n",
            " 7   TP_DEPENDENCIA_ADM_ESCOLA  172305 non-null  int64  \n",
            " 8   TP_LOCALIZACAO_ESCOLA      172305 non-null  int64  \n",
            " 9   NU_MATRICULAS              172305 non-null  int64  \n",
            " 10  NU_PARTICIPANTES_NEC_ESP   45355 non-null   float64\n",
            " 11  NU_PARTICIPANTES           172305 non-null  int64  \n",
            " 12  NU_TAXA_PARTICIPACAO       104687 non-null  float64\n",
            " 13  NU_MEDIA_CN                104687 non-null  float64\n",
            " 14  NU_MEDIA_CH                104687 non-null  float64\n",
            " 15  NU_MEDIA_LP                104687 non-null  float64\n",
            " 16  NU_MEDIA_MT                104687 non-null  float64\n",
            " 17  NU_MEDIA_RED               123451 non-null  float64\n",
            " 18  NU_MEDIA_OBJ               19144 non-null   float64\n",
            " 19  NU_MEDIA_TOT               48474 non-null   float64\n",
            " 20  INSE                       15597 non-null   object \n",
            " 21  PC_FORMACAO_DOCENTE        45320 non-null   float64\n",
            " 22  NU_TAXA_PERMANENCIA        30875 non-null   float64\n",
            " 23  NU_TAXA_APROVACAO          155226 non-null  float64\n",
            " 24  NU_TAXA_REPROVACAO         155226 non-null  float64\n",
            " 25  NU_TAXA_ABANDONO           155226 non-null  float64\n",
            " 26  PORTE_ESCOLA               172305 non-null  object \n",
            "dtypes: float64(14), int64(8), object(5)\n",
            "memory usage: 35.5+ MB\n"
          ]
        }
      ],
      "source": [
        "enem_original.info()"
      ]
    },
    {
      "cell_type": "markdown",
      "metadata": {
        "id": "uF9byJ8j0BmH"
      },
      "source": [
        "Para este conjunto há um total de 172305 registros. Mas o número de escolas é muito menor, uma vez que esta base abrange dados de 2005 até 2015.\n",
        "\n",
        "Além desta séries históricas estarem empilhadas, outro desafio desta base é que alguns atributos so valem para determinados anos, como `NU_MEDIA_OBJ` e `NU_MEDIA_TOT`. Isso implica em uma grande quantidade de valores faltantes, representados como `NaN` na visualização acima.\n",
        "\n",
        "Vamos então iniciar removendo colunas que não são de interesse. Iremos descartar os atributos (colunas) sobre as unidade federativa e municípios das escolas, assim como todas as médias de provas que não sejam Matemática ou Redação."
      ]
    },
    {
      "cell_type": "code",
      "execution_count": 32,
      "metadata": {
        "id": "_4-9f3550BmI"
      },
      "outputs": [
        {
          "data": {
            "text/plain": "(172305, 21)"
          },
          "execution_count": 32,
          "metadata": {},
          "output_type": "execute_result"
        }
      ],
      "source": [
        "enem_original.drop(columns=['CO_UF_ESCOLA', 'SG_UF_ESCOLA', 'CO_MUNICIPIO_ESCOLA', 'NO_MUNICIPIO_ESCOLA', \n",
        "                   'NU_MEDIA_OBJ', 'NU_MEDIA_TOT'], inplace=True)\n",
        "enem_original.shape"
      ]
    },
    {
      "cell_type": "code",
      "execution_count": 33,
      "metadata": {},
      "outputs": [
        {
          "data": {
            "text/html": "<div>\n<style scoped>\n    .dataframe tbody tr th:only-of-type {\n        vertical-align: middle;\n    }\n\n    .dataframe tbody tr th {\n        vertical-align: top;\n    }\n\n    .dataframe thead th {\n        text-align: right;\n    }\n</style>\n<table border=\"1\" class=\"dataframe\">\n  <thead>\n    <tr style=\"text-align: right;\">\n      <th></th>\n      <th>NU_ANO</th>\n      <th>CO_ESCOLA_EDUCACENSO</th>\n      <th>NO_ESCOLA_EDUCACENSO</th>\n      <th>TP_DEPENDENCIA_ADM_ESCOLA</th>\n      <th>TP_LOCALIZACAO_ESCOLA</th>\n      <th>NU_MATRICULAS</th>\n      <th>NU_PARTICIPANTES_NEC_ESP</th>\n      <th>NU_PARTICIPANTES</th>\n      <th>NU_TAXA_PARTICIPACAO</th>\n      <th>NU_MEDIA_CN</th>\n      <th>...</th>\n      <th>NU_MEDIA_LP</th>\n      <th>NU_MEDIA_MT</th>\n      <th>NU_MEDIA_RED</th>\n      <th>INSE</th>\n      <th>PC_FORMACAO_DOCENTE</th>\n      <th>NU_TAXA_PERMANENCIA</th>\n      <th>NU_TAXA_APROVACAO</th>\n      <th>NU_TAXA_REPROVACAO</th>\n      <th>NU_TAXA_ABANDONO</th>\n      <th>PORTE_ESCOLA</th>\n    </tr>\n  </thead>\n  <tbody>\n    <tr>\n      <th>0</th>\n      <td>2007</td>\n      <td>11000058</td>\n      <td>CENTRO DE ENSINO CLASSE A</td>\n      <td>4</td>\n      <td>1</td>\n      <td>144</td>\n      <td>NaN</td>\n      <td>140</td>\n      <td>NaN</td>\n      <td>NaN</td>\n      <td>...</td>\n      <td>NaN</td>\n      <td>NaN</td>\n      <td>NaN</td>\n      <td>NaN</td>\n      <td>NaN</td>\n      <td>NaN</td>\n      <td>91.9</td>\n      <td>8.1</td>\n      <td>0.0</td>\n      <td>Maior que 90 alunos</td>\n    </tr>\n    <tr>\n      <th>1</th>\n      <td>2006</td>\n      <td>11000058</td>\n      <td>CENTRO DE ENSINO CLASSE A</td>\n      <td>4</td>\n      <td>1</td>\n      <td>184</td>\n      <td>NaN</td>\n      <td>139</td>\n      <td>NaN</td>\n      <td>NaN</td>\n      <td>...</td>\n      <td>NaN</td>\n      <td>NaN</td>\n      <td>NaN</td>\n      <td>NaN</td>\n      <td>NaN</td>\n      <td>NaN</td>\n      <td>NaN</td>\n      <td>NaN</td>\n      <td>NaN</td>\n      <td>Maior que 90 alunos</td>\n    </tr>\n    <tr>\n      <th>2</th>\n      <td>2005</td>\n      <td>11000058</td>\n      <td>CENTRO DE ENSINO CLASSE A</td>\n      <td>4</td>\n      <td>1</td>\n      <td>220</td>\n      <td>NaN</td>\n      <td>145</td>\n      <td>NaN</td>\n      <td>NaN</td>\n      <td>...</td>\n      <td>NaN</td>\n      <td>NaN</td>\n      <td>NaN</td>\n      <td>NaN</td>\n      <td>NaN</td>\n      <td>NaN</td>\n      <td>86.5</td>\n      <td>12.4</td>\n      <td>1.1</td>\n      <td>Maior que 90 alunos</td>\n    </tr>\n    <tr>\n      <th>3</th>\n      <td>2008</td>\n      <td>11000058</td>\n      <td>CENTRO DE ENSINO CLASSE A</td>\n      <td>4</td>\n      <td>1</td>\n      <td>186</td>\n      <td>NaN</td>\n      <td>171</td>\n      <td>NaN</td>\n      <td>NaN</td>\n      <td>...</td>\n      <td>NaN</td>\n      <td>NaN</td>\n      <td>72.16</td>\n      <td>NaN</td>\n      <td>NaN</td>\n      <td>NaN</td>\n      <td>90.3</td>\n      <td>9.7</td>\n      <td>0.0</td>\n      <td>Maior que 90 alunos</td>\n    </tr>\n    <tr>\n      <th>4</th>\n      <td>2007</td>\n      <td>11000171</td>\n      <td>CENTRO EDUCACIONAL MOJUCA</td>\n      <td>4</td>\n      <td>1</td>\n      <td>19</td>\n      <td>NaN</td>\n      <td>12</td>\n      <td>NaN</td>\n      <td>NaN</td>\n      <td>...</td>\n      <td>NaN</td>\n      <td>NaN</td>\n      <td>NaN</td>\n      <td>NaN</td>\n      <td>NaN</td>\n      <td>NaN</td>\n      <td>74.2</td>\n      <td>21.0</td>\n      <td>4.8</td>\n      <td>De 1 a 30 alunos</td>\n    </tr>\n  </tbody>\n</table>\n<p>5 rows × 21 columns</p>\n</div>",
            "text/plain": "   NU_ANO  CO_ESCOLA_EDUCACENSO       NO_ESCOLA_EDUCACENSO  \\\n0    2007              11000058  CENTRO DE ENSINO CLASSE A   \n1    2006              11000058  CENTRO DE ENSINO CLASSE A   \n2    2005              11000058  CENTRO DE ENSINO CLASSE A   \n3    2008              11000058  CENTRO DE ENSINO CLASSE A   \n4    2007              11000171  CENTRO EDUCACIONAL MOJUCA   \n\n   TP_DEPENDENCIA_ADM_ESCOLA  TP_LOCALIZACAO_ESCOLA  NU_MATRICULAS  \\\n0                          4                      1            144   \n1                          4                      1            184   \n2                          4                      1            220   \n3                          4                      1            186   \n4                          4                      1             19   \n\n   NU_PARTICIPANTES_NEC_ESP  NU_PARTICIPANTES  NU_TAXA_PARTICIPACAO  \\\n0                       NaN               140                   NaN   \n1                       NaN               139                   NaN   \n2                       NaN               145                   NaN   \n3                       NaN               171                   NaN   \n4                       NaN                12                   NaN   \n\n   NU_MEDIA_CN  ...  NU_MEDIA_LP  NU_MEDIA_MT  NU_MEDIA_RED  INSE  \\\n0          NaN  ...          NaN          NaN           NaN   NaN   \n1          NaN  ...          NaN          NaN           NaN   NaN   \n2          NaN  ...          NaN          NaN           NaN   NaN   \n3          NaN  ...          NaN          NaN         72.16   NaN   \n4          NaN  ...          NaN          NaN           NaN   NaN   \n\n  PC_FORMACAO_DOCENTE  NU_TAXA_PERMANENCIA  NU_TAXA_APROVACAO  \\\n0                 NaN                  NaN               91.9   \n1                 NaN                  NaN                NaN   \n2                 NaN                  NaN               86.5   \n3                 NaN                  NaN               90.3   \n4                 NaN                  NaN               74.2   \n\n   NU_TAXA_REPROVACAO  NU_TAXA_ABANDONO         PORTE_ESCOLA  \n0                 8.1               0.0  Maior que 90 alunos  \n1                 NaN               NaN  Maior que 90 alunos  \n2                12.4               1.1  Maior que 90 alunos  \n3                 9.7               0.0  Maior que 90 alunos  \n4                21.0               4.8     De 1 a 30 alunos  \n\n[5 rows x 21 columns]"
          },
          "execution_count": 33,
          "metadata": {},
          "output_type": "execute_result"
        }
      ],
      "source": [
        "enem_original.head(5)"
      ]
    },
    {
      "cell_type": "markdown",
      "metadata": {
        "id": "m8npzDUB0BmJ"
      },
      "source": [
        "Note que fomos de 27 atributos para 18 agora.\n",
        "\n",
        "Podemos também olhar estatísticas sobre os valores das colunas numéricas usando `.describe()':"
      ]
    },
    {
      "cell_type": "code",
      "execution_count": 34,
      "metadata": {
        "id": "cJYDqy8s0BmJ"
      },
      "outputs": [
        {
          "data": {
            "text/html": "<div>\n<style scoped>\n    .dataframe tbody tr th:only-of-type {\n        vertical-align: middle;\n    }\n\n    .dataframe tbody tr th {\n        vertical-align: top;\n    }\n\n    .dataframe thead th {\n        text-align: right;\n    }\n</style>\n<table border=\"1\" class=\"dataframe\">\n  <thead>\n    <tr style=\"text-align: right;\">\n      <th></th>\n      <th>count</th>\n      <th>mean</th>\n      <th>std</th>\n      <th>min</th>\n      <th>25%</th>\n      <th>50%</th>\n      <th>75%</th>\n      <th>max</th>\n    </tr>\n  </thead>\n  <tbody>\n    <tr>\n      <th>NU_ANO</th>\n      <td>172305.0</td>\n      <td>2.009806e+03</td>\n      <td>3.154137e+00</td>\n      <td>2005.00</td>\n      <td>2.007000e+03</td>\n      <td>2010.00</td>\n      <td>2013.00</td>\n      <td>2015.00</td>\n    </tr>\n    <tr>\n      <th>CO_ESCOLA_EDUCACENSO</th>\n      <td>172305.0</td>\n      <td>3.324906e+07</td>\n      <td>9.068243e+06</td>\n      <td>11000058.00</td>\n      <td>2.802456e+07</td>\n      <td>33101655.00</td>\n      <td>35924106.00</td>\n      <td>53082001.00</td>\n    </tr>\n    <tr>\n      <th>TP_DEPENDENCIA_ADM_ESCOLA</th>\n      <td>172305.0</td>\n      <td>2.624201e+00</td>\n      <td>9.374171e-01</td>\n      <td>1.00</td>\n      <td>2.000000e+00</td>\n      <td>2.00</td>\n      <td>4.00</td>\n      <td>4.00</td>\n    </tr>\n    <tr>\n      <th>TP_LOCALIZACAO_ESCOLA</th>\n      <td>172305.0</td>\n      <td>1.034642e+00</td>\n      <td>1.828720e-01</td>\n      <td>1.00</td>\n      <td>1.000000e+00</td>\n      <td>1.00</td>\n      <td>1.00</td>\n      <td>2.00</td>\n    </tr>\n    <tr>\n      <th>NU_MATRICULAS</th>\n      <td>172305.0</td>\n      <td>1.061156e+02</td>\n      <td>1.041906e+02</td>\n      <td>0.00</td>\n      <td>3.700000e+01</td>\n      <td>73.00</td>\n      <td>139.00</td>\n      <td>2572.00</td>\n    </tr>\n    <tr>\n      <th>NU_PARTICIPANTES_NEC_ESP</th>\n      <td>45355.0</td>\n      <td>3.477456e-01</td>\n      <td>1.019838e+00</td>\n      <td>0.00</td>\n      <td>0.000000e+00</td>\n      <td>0.00</td>\n      <td>0.00</td>\n      <td>29.00</td>\n    </tr>\n    <tr>\n      <th>NU_PARTICIPANTES</th>\n      <td>172305.0</td>\n      <td>5.511488e+01</td>\n      <td>5.641108e+01</td>\n      <td>10.00</td>\n      <td>2.000000e+01</td>\n      <td>36.00</td>\n      <td>68.00</td>\n      <td>1190.00</td>\n    </tr>\n    <tr>\n      <th>NU_TAXA_PARTICIPACAO</th>\n      <td>104687.0</td>\n      <td>6.444392e+01</td>\n      <td>2.322129e+01</td>\n      <td>2.00</td>\n      <td>5.135000e+01</td>\n      <td>65.91</td>\n      <td>83.72</td>\n      <td>100.00</td>\n    </tr>\n    <tr>\n      <th>NU_MEDIA_CN</th>\n      <td>104687.0</td>\n      <td>4.909130e+02</td>\n      <td>5.181826e+01</td>\n      <td>324.85</td>\n      <td>4.536300e+02</td>\n      <td>478.00</td>\n      <td>521.21</td>\n      <td>755.16</td>\n    </tr>\n    <tr>\n      <th>NU_MEDIA_CH</th>\n      <td>104687.0</td>\n      <td>5.317507e+02</td>\n      <td>5.528089e+01</td>\n      <td>357.87</td>\n      <td>4.924200e+02</td>\n      <td>527.79</td>\n      <td>567.95</td>\n      <td>758.04</td>\n    </tr>\n    <tr>\n      <th>NU_MEDIA_LP</th>\n      <td>104687.0</td>\n      <td>5.099560e+02</td>\n      <td>4.810540e+01</td>\n      <td>319.26</td>\n      <td>4.756400e+02</td>\n      <td>504.87</td>\n      <td>542.93</td>\n      <td>712.35</td>\n    </tr>\n    <tr>\n      <th>NU_MEDIA_MT</th>\n      <td>104687.0</td>\n      <td>5.129761e+02</td>\n      <td>7.312485e+01</td>\n      <td>357.98</td>\n      <td>4.585600e+02</td>\n      <td>494.30</td>\n      <td>554.61</td>\n      <td>873.65</td>\n    </tr>\n    <tr>\n      <th>NU_MEDIA_RED</th>\n      <td>123451.0</td>\n      <td>4.797700e+02</td>\n      <td>1.946226e+02</td>\n      <td>29.38</td>\n      <td>4.626400e+02</td>\n      <td>540.25</td>\n      <td>598.50</td>\n      <td>930.00</td>\n    </tr>\n    <tr>\n      <th>PC_FORMACAO_DOCENTE</th>\n      <td>45320.0</td>\n      <td>6.035492e+01</td>\n      <td>1.711493e+01</td>\n      <td>0.00</td>\n      <td>4.980000e+01</td>\n      <td>61.80</td>\n      <td>72.90</td>\n      <td>100.00</td>\n    </tr>\n    <tr>\n      <th>NU_TAXA_PERMANENCIA</th>\n      <td>30875.0</td>\n      <td>7.700981e+01</td>\n      <td>3.724867e+01</td>\n      <td>0.00</td>\n      <td>6.968500e+01</td>\n      <td>80.53</td>\n      <td>88.89</td>\n      <td>5822.00</td>\n    </tr>\n    <tr>\n      <th>NU_TAXA_APROVACAO</th>\n      <td>155226.0</td>\n      <td>8.269823e+01</td>\n      <td>1.328053e+01</td>\n      <td>0.00</td>\n      <td>7.390000e+01</td>\n      <td>85.00</td>\n      <td>93.90</td>\n      <td>100.00</td>\n    </tr>\n    <tr>\n      <th>NU_TAXA_REPROVACAO</th>\n      <td>155226.0</td>\n      <td>9.927615e+00</td>\n      <td>8.407889e+00</td>\n      <td>0.00</td>\n      <td>3.600000e+00</td>\n      <td>7.90</td>\n      <td>14.10</td>\n      <td>100.00</td>\n    </tr>\n    <tr>\n      <th>NU_TAXA_ABANDONO</th>\n      <td>155226.0</td>\n      <td>7.374151e+00</td>\n      <td>9.049976e+00</td>\n      <td>0.00</td>\n      <td>0.000000e+00</td>\n      <td>3.80</td>\n      <td>12.00</td>\n      <td>100.00</td>\n    </tr>\n  </tbody>\n</table>\n</div>",
            "text/plain": "                              count          mean           std          min  \\\nNU_ANO                     172305.0  2.009806e+03  3.154137e+00      2005.00   \nCO_ESCOLA_EDUCACENSO       172305.0  3.324906e+07  9.068243e+06  11000058.00   \nTP_DEPENDENCIA_ADM_ESCOLA  172305.0  2.624201e+00  9.374171e-01         1.00   \nTP_LOCALIZACAO_ESCOLA      172305.0  1.034642e+00  1.828720e-01         1.00   \nNU_MATRICULAS              172305.0  1.061156e+02  1.041906e+02         0.00   \nNU_PARTICIPANTES_NEC_ESP    45355.0  3.477456e-01  1.019838e+00         0.00   \nNU_PARTICIPANTES           172305.0  5.511488e+01  5.641108e+01        10.00   \nNU_TAXA_PARTICIPACAO       104687.0  6.444392e+01  2.322129e+01         2.00   \nNU_MEDIA_CN                104687.0  4.909130e+02  5.181826e+01       324.85   \nNU_MEDIA_CH                104687.0  5.317507e+02  5.528089e+01       357.87   \nNU_MEDIA_LP                104687.0  5.099560e+02  4.810540e+01       319.26   \nNU_MEDIA_MT                104687.0  5.129761e+02  7.312485e+01       357.98   \nNU_MEDIA_RED               123451.0  4.797700e+02  1.946226e+02        29.38   \nPC_FORMACAO_DOCENTE         45320.0  6.035492e+01  1.711493e+01         0.00   \nNU_TAXA_PERMANENCIA         30875.0  7.700981e+01  3.724867e+01         0.00   \nNU_TAXA_APROVACAO          155226.0  8.269823e+01  1.328053e+01         0.00   \nNU_TAXA_REPROVACAO         155226.0  9.927615e+00  8.407889e+00         0.00   \nNU_TAXA_ABANDONO           155226.0  7.374151e+00  9.049976e+00         0.00   \n\n                                    25%          50%          75%          max  \nNU_ANO                     2.007000e+03      2010.00      2013.00      2015.00  \nCO_ESCOLA_EDUCACENSO       2.802456e+07  33101655.00  35924106.00  53082001.00  \nTP_DEPENDENCIA_ADM_ESCOLA  2.000000e+00         2.00         4.00         4.00  \nTP_LOCALIZACAO_ESCOLA      1.000000e+00         1.00         1.00         2.00  \nNU_MATRICULAS              3.700000e+01        73.00       139.00      2572.00  \nNU_PARTICIPANTES_NEC_ESP   0.000000e+00         0.00         0.00        29.00  \nNU_PARTICIPANTES           2.000000e+01        36.00        68.00      1190.00  \nNU_TAXA_PARTICIPACAO       5.135000e+01        65.91        83.72       100.00  \nNU_MEDIA_CN                4.536300e+02       478.00       521.21       755.16  \nNU_MEDIA_CH                4.924200e+02       527.79       567.95       758.04  \nNU_MEDIA_LP                4.756400e+02       504.87       542.93       712.35  \nNU_MEDIA_MT                4.585600e+02       494.30       554.61       873.65  \nNU_MEDIA_RED               4.626400e+02       540.25       598.50       930.00  \nPC_FORMACAO_DOCENTE        4.980000e+01        61.80        72.90       100.00  \nNU_TAXA_PERMANENCIA        6.968500e+01        80.53        88.89      5822.00  \nNU_TAXA_APROVACAO          7.390000e+01        85.00        93.90       100.00  \nNU_TAXA_REPROVACAO         3.600000e+00         7.90        14.10       100.00  \nNU_TAXA_ABANDONO           0.000000e+00         3.80        12.00       100.00  "
          },
          "execution_count": 34,
          "metadata": {},
          "output_type": "execute_result"
        }
      ],
      "source": [
        "enem_original.describe().transpose()"
      ]
    },
    {
      "cell_type": "markdown",
      "metadata": {
        "id": "AzSGuD_50BmL"
      },
      "source": [
        "Vale a pena também analisar as colunas que contém poucos valores, chamadas de categóricas, para identificar as classes presentes. Faremos isso chamando a função `.value_counts()` em cada uma."
      ]
    },
    {
      "cell_type": "code",
      "execution_count": 35,
      "metadata": {
        "id": "rBKtubQ_0BmL"
      },
      "outputs": [
        {
          "data": {
            "text/plain": "2005    16052\n2006    15652\n2007    16770\n2008    19144\n2009    18042\n2010    19691\n2011    10077\n2012    11522\n2013    14117\n2014    15640\n2015    15598\nName: NU_ANO, dtype: int64"
          },
          "execution_count": 35,
          "metadata": {},
          "output_type": "execute_result"
        }
      ],
      "source": [
        "enem_original['NU_ANO'].value_counts().sort_index()"
      ]
    },
    {
      "cell_type": "code",
      "execution_count": 36,
      "metadata": {
        "id": "kJYL30qN0BmL"
      },
      "outputs": [
        {
          "data": {
            "text/plain": "1      1901\n2    114546\n3      2262\n4     53596\nName: TP_DEPENDENCIA_ADM_ESCOLA, dtype: int64"
          },
          "execution_count": 36,
          "metadata": {},
          "output_type": "execute_result"
        }
      ],
      "source": [
        "# esta coluna foi lida como numérica, mas por ser um valor categórico vamos converter para string\n",
        "enem_original['TP_DEPENDENCIA_ADM_ESCOLA'] = enem_original['TP_DEPENDENCIA_ADM_ESCOLA'].astype('str')\n",
        "enem_original['TP_DEPENDENCIA_ADM_ESCOLA'].value_counts().sort_index()"
      ]
    },
    {
      "cell_type": "code",
      "execution_count": 37,
      "metadata": {
        "id": "N6JTipsV0BmL"
      },
      "outputs": [
        {
          "data": {
            "text/plain": "1    166336\n2      5969\nName: TP_LOCALIZACAO_ESCOLA, dtype: int64"
          },
          "execution_count": 37,
          "metadata": {},
          "output_type": "execute_result"
        }
      ],
      "source": [
        "# esta coluna foi lida como numérica, mas por ser um valor categórico vamos converter para string\n",
        "enem_original['TP_LOCALIZACAO_ESCOLA'] = enem_original['TP_LOCALIZACAO_ESCOLA'].astype('str')\n",
        "enem_original['TP_LOCALIZACAO_ESCOLA'].value_counts()"
      ]
    },
    {
      "cell_type": "code",
      "execution_count": 38,
      "metadata": {
        "id": "8hkITkPw0BmM"
      },
      "outputs": [
        {
          "data": {
            "text/plain": "Grupo 3    4745\nGrupo 4    3811\nGrupo 5    3258\nGrupo 2    1390\nGrupo 6    1386\nGrupo 1    1007\nName: INSE, dtype: int64"
          },
          "execution_count": 38,
          "metadata": {},
          "output_type": "execute_result"
        }
      ],
      "source": [
        "enem_original['INSE'].value_counts()"
      ]
    },
    {
      "cell_type": "code",
      "execution_count": 39,
      "metadata": {
        "id": "rcf32scT0BmN"
      },
      "outputs": [
        {
          "data": {
            "text/plain": "Maior que 90 alunos    71202\nDe 31 a 60 alunos      40449\nDe 1 a 30 alunos       32768\nDe 61 a 90 alunos      27886\nName: PORTE_ESCOLA, dtype: int64"
          },
          "execution_count": 39,
          "metadata": {},
          "output_type": "execute_result"
        }
      ],
      "source": [
        "enem_original['PORTE_ESCOLA'].value_counts()"
      ]
    },
    {
      "cell_type": "markdown",
      "metadata": {
        "id": "JaQ0LBAJ0BmN"
      },
      "source": [
        "Queremos prever os atributos NU_MEDIA_MT (média da prova de Matemática) e NU_MEDIA_RED (média da prova de redação) para o último disponível, 2015. A própria escala das provas mudou, e de 2009 a 2015 vai de 0 a 1000. \n",
        "\n",
        "Como os atributos que desejamos prever são numéricos, temos uma tarefa de **regressão**. Isso afeta diretamente quais algoritmos podemos usar para fazer o treino, posteriormente. E também a arquitetura de rede neural a ser utilizada.\n",
        "\n",
        "Então, como os valores a serem previstos são numericamente grandes, vamos utilizar como medida de desempenho o **erro absoluto médio** (_mean absolute error_, ou MAE). Isso é importante porque uma medida como RMSE é excessivamente sensível a variações maiores, e afetaria o próprio processo de treinamento."
      ]
    },
    {
      "cell_type": "markdown",
      "metadata": {
        "id": "QhBFykhn0BmO"
      },
      "source": [
        "# Reorganização dos dados\n",
        "\n",
        "Aqui vale a pena filtrar os dados, retendo apenas os registros para os anos de 2014 e 2015.\n",
        "\n",
        "Para isso vamos fazer primeiro uma operação de separação dos dados, com um `DataFrame` para 2014 e outro para 2015, apenas:"
      ]
    },
    {
      "cell_type": "code",
      "execution_count": 40,
      "metadata": {
        "id": "FIRO0nh50BmP"
      },
      "outputs": [
        {
          "name": "stdout",
          "output_type": "stream",
          "text": [
            "(15640, 21)\n",
            "(15598, 21)\n"
          ]
        }
      ],
      "source": [
        "enem_2014 = enem_original[enem_original['NU_ANO'] == 2014]\n",
        "print(enem_2014.shape)\n",
        "\n",
        "enem_2015 = enem_original[enem_original['NU_ANO'] == 2015]\n",
        "print(enem_2015.shape)        "
      ]
    },
    {
      "cell_type": "markdown",
      "metadata": {
        "id": "K_170gqm0BmP"
      },
      "source": [
        "Precisamos então fazer uma operação de fusão (_merge_) entre as duas tabelas.\n",
        "\n",
        "Isso é necessário para ter em uma única linha os atributos de uma mesma escola. Como teremos atributos de 2014 e 2015, podemos adicionar um prefixo para identificá-los na tabela resultante.\n",
        "\n",
        "Outra característica importante desta fusão é que a amarração se dará pelo código único da escola, `CO_ESCOLA_EDUCACENSO`. Isso fará que apenas escolas que tenham participado das provas de 2014 e de 2015 estejam presentes na tabela resultante."
      ]
    },
    {
      "cell_type": "code",
      "execution_count": 55,
      "metadata": {
        "id": "86pSn-V-0BmQ"
      },
      "outputs": [
        {
          "data": {
            "text/plain": "(13121, 40)"
          },
          "execution_count": 55,
          "metadata": {},
          "output_type": "execute_result"
        }
      ],
      "source": [
        "enem = pd.merge(left=enem_2014, right=enem_2015, on='CO_ESCOLA_EDUCACENSO', suffixes=['_2014', '_2015'])\n",
        "enem.set_index('CO_ESCOLA_EDUCACENSO', inplace=True)\n",
        "enem.shape"
      ]
    },
    {
      "cell_type": "code",
      "execution_count": 42,
      "metadata": {
        "id": "Rpjm1SzB0BmQ"
      },
      "outputs": [
        {
          "data": {
            "text/html": "<div>\n<style scoped>\n    .dataframe tbody tr th:only-of-type {\n        vertical-align: middle;\n    }\n\n    .dataframe tbody tr th {\n        vertical-align: top;\n    }\n\n    .dataframe thead th {\n        text-align: right;\n    }\n</style>\n<table border=\"1\" class=\"dataframe\">\n  <thead>\n    <tr style=\"text-align: right;\">\n      <th></th>\n      <th>NU_ANO_2014</th>\n      <th>NO_ESCOLA_EDUCACENSO_2014</th>\n      <th>TP_DEPENDENCIA_ADM_ESCOLA_2014</th>\n      <th>TP_LOCALIZACAO_ESCOLA_2014</th>\n      <th>NU_MATRICULAS_2014</th>\n      <th>NU_PARTICIPANTES_NEC_ESP_2014</th>\n      <th>NU_PARTICIPANTES_2014</th>\n      <th>NU_TAXA_PARTICIPACAO_2014</th>\n      <th>NU_MEDIA_CN_2014</th>\n      <th>NU_MEDIA_CH_2014</th>\n      <th>...</th>\n      <th>NU_MEDIA_LP_2015</th>\n      <th>NU_MEDIA_MT_2015</th>\n      <th>NU_MEDIA_RED_2015</th>\n      <th>INSE_2015</th>\n      <th>PC_FORMACAO_DOCENTE_2015</th>\n      <th>NU_TAXA_PERMANENCIA_2015</th>\n      <th>NU_TAXA_APROVACAO_2015</th>\n      <th>NU_TAXA_REPROVACAO_2015</th>\n      <th>NU_TAXA_ABANDONO_2015</th>\n      <th>PORTE_ESCOLA_2015</th>\n    </tr>\n    <tr>\n      <th>CO_ESCOLA_EDUCACENSO</th>\n      <th></th>\n      <th></th>\n      <th></th>\n      <th></th>\n      <th></th>\n      <th></th>\n      <th></th>\n      <th></th>\n      <th></th>\n      <th></th>\n      <th></th>\n      <th></th>\n      <th></th>\n      <th></th>\n      <th></th>\n      <th></th>\n      <th></th>\n      <th></th>\n      <th></th>\n      <th></th>\n      <th></th>\n    </tr>\n  </thead>\n  <tbody>\n    <tr>\n      <th>11000058</th>\n      <td>2014</td>\n      <td>CENTRO DE ENSINO CLASSE A</td>\n      <td>4</td>\n      <td>1</td>\n      <td>145</td>\n      <td>0.0</td>\n      <td>136</td>\n      <td>93.79</td>\n      <td>604.88</td>\n      <td>647.29</td>\n      <td>...</td>\n      <td>604.53</td>\n      <td>627.66</td>\n      <td>732.00</td>\n      <td>Grupo 6</td>\n      <td>67.5</td>\n      <td>78.46</td>\n      <td>96.1</td>\n      <td>3.9</td>\n      <td>0.0</td>\n      <td>Maior que 90 alunos</td>\n    </tr>\n    <tr>\n      <th>11000171</th>\n      <td>2014</td>\n      <td>CENTRO EDUCACIONAL MOJUCA</td>\n      <td>4</td>\n      <td>1</td>\n      <td>26</td>\n      <td>0.0</td>\n      <td>20</td>\n      <td>76.92</td>\n      <td>494.91</td>\n      <td>550.32</td>\n      <td>...</td>\n      <td>472.62</td>\n      <td>459.72</td>\n      <td>507.82</td>\n      <td>Grupo 4</td>\n      <td>58.3</td>\n      <td>70.59</td>\n      <td>94.6</td>\n      <td>5.4</td>\n      <td>0.0</td>\n      <td>De 1 a 30 alunos</td>\n    </tr>\n    <tr>\n      <th>11000198</th>\n      <td>2014</td>\n      <td>CENTRO EDUCACIONAL OBJETIVO</td>\n      <td>4</td>\n      <td>1</td>\n      <td>25</td>\n      <td>0.0</td>\n      <td>23</td>\n      <td>92.00</td>\n      <td>557.68</td>\n      <td>597.52</td>\n      <td>...</td>\n      <td>547.11</td>\n      <td>507.22</td>\n      <td>652.43</td>\n      <td>Grupo 5</td>\n      <td>67.7</td>\n      <td>40.54</td>\n      <td>90.1</td>\n      <td>9.9</td>\n      <td>0.0</td>\n      <td>De 31 a 60 alunos</td>\n    </tr>\n    <tr>\n      <th>11000244</th>\n      <td>2014</td>\n      <td>COLEGIO DOM BOSCO</td>\n      <td>4</td>\n      <td>1</td>\n      <td>102</td>\n      <td>0.0</td>\n      <td>90</td>\n      <td>88.24</td>\n      <td>518.61</td>\n      <td>592.25</td>\n      <td>...</td>\n      <td>531.35</td>\n      <td>529.87</td>\n      <td>591.84</td>\n      <td>Grupo 5</td>\n      <td>56.0</td>\n      <td>81.63</td>\n      <td>88.7</td>\n      <td>10.5</td>\n      <td>0.8</td>\n      <td>De 31 a 60 alunos</td>\n    </tr>\n    <tr>\n      <th>11000252</th>\n      <td>2014</td>\n      <td>CENTRO EDUCACIONAL OBJETIVO - UNIDADE JARDIM A...</td>\n      <td>4</td>\n      <td>1</td>\n      <td>30</td>\n      <td>0.0</td>\n      <td>25</td>\n      <td>83.33</td>\n      <td>525.86</td>\n      <td>585.03</td>\n      <td>...</td>\n      <td>563.45</td>\n      <td>528.93</td>\n      <td>583.48</td>\n      <td>Grupo 5</td>\n      <td>72.7</td>\n      <td>52.17</td>\n      <td>84.5</td>\n      <td>13.1</td>\n      <td>2.4</td>\n      <td>De 1 a 30 alunos</td>\n    </tr>\n  </tbody>\n</table>\n<p>5 rows × 40 columns</p>\n</div>",
            "text/plain": "                      NU_ANO_2014  \\\nCO_ESCOLA_EDUCACENSO                \n11000058                     2014   \n11000171                     2014   \n11000198                     2014   \n11000244                     2014   \n11000252                     2014   \n\n                                              NO_ESCOLA_EDUCACENSO_2014  \\\nCO_ESCOLA_EDUCACENSO                                                      \n11000058                                      CENTRO DE ENSINO CLASSE A   \n11000171                                      CENTRO EDUCACIONAL MOJUCA   \n11000198                                    CENTRO EDUCACIONAL OBJETIVO   \n11000244                                              COLEGIO DOM BOSCO   \n11000252              CENTRO EDUCACIONAL OBJETIVO - UNIDADE JARDIM A...   \n\n                     TP_DEPENDENCIA_ADM_ESCOLA_2014  \\\nCO_ESCOLA_EDUCACENSO                                  \n11000058                                          4   \n11000171                                          4   \n11000198                                          4   \n11000244                                          4   \n11000252                                          4   \n\n                     TP_LOCALIZACAO_ESCOLA_2014  NU_MATRICULAS_2014  \\\nCO_ESCOLA_EDUCACENSO                                                  \n11000058                                      1                 145   \n11000171                                      1                  26   \n11000198                                      1                  25   \n11000244                                      1                 102   \n11000252                                      1                  30   \n\n                      NU_PARTICIPANTES_NEC_ESP_2014  NU_PARTICIPANTES_2014  \\\nCO_ESCOLA_EDUCACENSO                                                         \n11000058                                        0.0                    136   \n11000171                                        0.0                     20   \n11000198                                        0.0                     23   \n11000244                                        0.0                     90   \n11000252                                        0.0                     25   \n\n                      NU_TAXA_PARTICIPACAO_2014  NU_MEDIA_CN_2014  \\\nCO_ESCOLA_EDUCACENSO                                                \n11000058                                  93.79            604.88   \n11000171                                  76.92            494.91   \n11000198                                  92.00            557.68   \n11000244                                  88.24            518.61   \n11000252                                  83.33            525.86   \n\n                      NU_MEDIA_CH_2014  ...  NU_MEDIA_LP_2015  \\\nCO_ESCOLA_EDUCACENSO                    ...                     \n11000058                        647.29  ...            604.53   \n11000171                        550.32  ...            472.62   \n11000198                        597.52  ...            547.11   \n11000244                        592.25  ...            531.35   \n11000252                        585.03  ...            563.45   \n\n                      NU_MEDIA_MT_2015  NU_MEDIA_RED_2015 INSE_2015  \\\nCO_ESCOLA_EDUCACENSO                                                  \n11000058                        627.66             732.00   Grupo 6   \n11000171                        459.72             507.82   Grupo 4   \n11000198                        507.22             652.43   Grupo 5   \n11000244                        529.87             591.84   Grupo 5   \n11000252                        528.93             583.48   Grupo 5   \n\n                      PC_FORMACAO_DOCENTE_2015  NU_TAXA_PERMANENCIA_2015  \\\nCO_ESCOLA_EDUCACENSO                                                       \n11000058                                  67.5                     78.46   \n11000171                                  58.3                     70.59   \n11000198                                  67.7                     40.54   \n11000244                                  56.0                     81.63   \n11000252                                  72.7                     52.17   \n\n                      NU_TAXA_APROVACAO_2015  NU_TAXA_REPROVACAO_2015  \\\nCO_ESCOLA_EDUCACENSO                                                    \n11000058                                96.1                      3.9   \n11000171                                94.6                      5.4   \n11000198                                90.1                      9.9   \n11000244                                88.7                     10.5   \n11000252                                84.5                     13.1   \n\n                      NU_TAXA_ABANDONO_2015    PORTE_ESCOLA_2015  \nCO_ESCOLA_EDUCACENSO                                              \n11000058                                0.0  Maior que 90 alunos  \n11000171                                0.0     De 1 a 30 alunos  \n11000198                                0.0    De 31 a 60 alunos  \n11000244                                0.8    De 31 a 60 alunos  \n11000252                                2.4     De 1 a 30 alunos  \n\n[5 rows x 40 columns]"
          },
          "execution_count": 42,
          "metadata": {},
          "output_type": "execute_result"
        }
      ],
      "source": [
        "enem.head(5)"
      ]
    },
    {
      "cell_type": "markdown",
      "metadata": {
        "id": "3Uhp5tPg0BmR"
      },
      "source": [
        "Aqui vamos retirar mais algumas colunas, deixando apenas as notas das provas de Matemática e Redação de 2014, e todos os dados restantes de 2015.\n",
        "\n",
        "**Ajuste:** Pode ser interessante analisar futuramente se a manutenção de algum desses dados históricos também ajuda na melhoria do modelo. Para isso basta repetir a operação de _merge_ acima e então retirar do comando _drop_ abaixo o nome das colunas a serem mantidas. Estas novas colunas deverão ser selecionadas explicitamente na etapa posterior de pré-processamento dos dados."
      ]
    },
    {
      "cell_type": "code",
      "execution_count": 56,
      "metadata": {
        "id": "ZaK4ytxv0BmR"
      },
      "outputs": [
        {
          "data": {
            "text/plain": "(13121, 27)"
          },
          "execution_count": 56,
          "metadata": {},
          "output_type": "execute_result"
        }
      ],
      "source": [
        "enem.drop(columns=['NU_ANO_2014', 'NU_ANO_2015', 'NO_ESCOLA_EDUCACENSO_2014', 'NU_MATRICULAS_2014', \n",
        "                   'NU_PARTICIPANTES_NEC_ESP_2014', 'NU_PARTICIPANTES_2014', 'NU_TAXA_PARTICIPACAO_2014',\n",
        "                   'INSE_2014', 'PC_FORMACAO_DOCENTE_2014', 'NU_TAXA_REPROVACAO_2014', 'NU_TAXA_PERMANENCIA_2014',\n",
        "                   'NU_TAXA_PERMANENCIA_2015', 'NU_PARTICIPANTES_2015'], inplace=True)\n",
        "enem.shape"
      ]
    },
    {
      "cell_type": "markdown",
      "metadata": {
        "id": "jiErAeTx0BmS"
      },
      "source": [
        "Esta então é a nossa base final de trabalho, chamada simplesmente `enem`."
      ]
    },
    {
      "cell_type": "code",
      "execution_count": 57,
      "metadata": {
        "id": "DLKYvn9x0BmS"
      },
      "outputs": [
        {
          "data": {
            "text/html": "<div>\n<style scoped>\n    .dataframe tbody tr th:only-of-type {\n        vertical-align: middle;\n    }\n\n    .dataframe tbody tr th {\n        vertical-align: top;\n    }\n\n    .dataframe thead th {\n        text-align: right;\n    }\n</style>\n<table border=\"1\" class=\"dataframe\">\n  <thead>\n    <tr style=\"text-align: right;\">\n      <th></th>\n      <th>TP_DEPENDENCIA_ADM_ESCOLA_2014</th>\n      <th>TP_LOCALIZACAO_ESCOLA_2014</th>\n      <th>NU_MEDIA_CN_2014</th>\n      <th>NU_MEDIA_CH_2014</th>\n      <th>NU_MEDIA_LP_2014</th>\n      <th>NU_MEDIA_MT_2014</th>\n      <th>NU_MEDIA_RED_2014</th>\n      <th>NU_TAXA_APROVACAO_2014</th>\n      <th>NU_TAXA_ABANDONO_2014</th>\n      <th>PORTE_ESCOLA_2014</th>\n      <th>...</th>\n      <th>NU_MEDIA_CH_2015</th>\n      <th>NU_MEDIA_LP_2015</th>\n      <th>NU_MEDIA_MT_2015</th>\n      <th>NU_MEDIA_RED_2015</th>\n      <th>INSE_2015</th>\n      <th>PC_FORMACAO_DOCENTE_2015</th>\n      <th>NU_TAXA_APROVACAO_2015</th>\n      <th>NU_TAXA_REPROVACAO_2015</th>\n      <th>NU_TAXA_ABANDONO_2015</th>\n      <th>PORTE_ESCOLA_2015</th>\n    </tr>\n    <tr>\n      <th>CO_ESCOLA_EDUCACENSO</th>\n      <th></th>\n      <th></th>\n      <th></th>\n      <th></th>\n      <th></th>\n      <th></th>\n      <th></th>\n      <th></th>\n      <th></th>\n      <th></th>\n      <th></th>\n      <th></th>\n      <th></th>\n      <th></th>\n      <th></th>\n      <th></th>\n      <th></th>\n      <th></th>\n      <th></th>\n      <th></th>\n      <th></th>\n    </tr>\n  </thead>\n  <tbody>\n    <tr>\n      <th>11000058</th>\n      <td>4</td>\n      <td>1</td>\n      <td>604.88</td>\n      <td>647.29</td>\n      <td>592.34</td>\n      <td>629.14</td>\n      <td>718.53</td>\n      <td>95.4</td>\n      <td>0.0</td>\n      <td>Maior que 90 alunos</td>\n      <td>...</td>\n      <td>652.34</td>\n      <td>604.53</td>\n      <td>627.66</td>\n      <td>732.00</td>\n      <td>Grupo 6</td>\n      <td>67.5</td>\n      <td>96.1</td>\n      <td>3.9</td>\n      <td>0.0</td>\n      <td>Maior que 90 alunos</td>\n    </tr>\n    <tr>\n      <th>11000171</th>\n      <td>4</td>\n      <td>1</td>\n      <td>494.91</td>\n      <td>550.32</td>\n      <td>515.24</td>\n      <td>485.38</td>\n      <td>469.00</td>\n      <td>100.0</td>\n      <td>0.0</td>\n      <td>De 1 a 30 alunos</td>\n      <td>...</td>\n      <td>533.51</td>\n      <td>472.62</td>\n      <td>459.72</td>\n      <td>507.82</td>\n      <td>Grupo 4</td>\n      <td>58.3</td>\n      <td>94.6</td>\n      <td>5.4</td>\n      <td>0.0</td>\n      <td>De 1 a 30 alunos</td>\n    </tr>\n    <tr>\n      <th>11000198</th>\n      <td>4</td>\n      <td>1</td>\n      <td>557.68</td>\n      <td>597.52</td>\n      <td>549.83</td>\n      <td>552.83</td>\n      <td>591.30</td>\n      <td>91.8</td>\n      <td>0.0</td>\n      <td>De 1 a 30 alunos</td>\n      <td>...</td>\n      <td>583.87</td>\n      <td>547.11</td>\n      <td>507.22</td>\n      <td>652.43</td>\n      <td>Grupo 5</td>\n      <td>67.7</td>\n      <td>90.1</td>\n      <td>9.9</td>\n      <td>0.0</td>\n      <td>De 31 a 60 alunos</td>\n    </tr>\n    <tr>\n      <th>11000244</th>\n      <td>4</td>\n      <td>1</td>\n      <td>518.61</td>\n      <td>592.25</td>\n      <td>538.49</td>\n      <td>528.35</td>\n      <td>593.78</td>\n      <td>92.6</td>\n      <td>1.4</td>\n      <td>Maior que 90 alunos</td>\n      <td>...</td>\n      <td>586.45</td>\n      <td>531.35</td>\n      <td>529.87</td>\n      <td>591.84</td>\n      <td>Grupo 5</td>\n      <td>56.0</td>\n      <td>88.7</td>\n      <td>10.5</td>\n      <td>0.8</td>\n      <td>De 31 a 60 alunos</td>\n    </tr>\n    <tr>\n      <th>11000252</th>\n      <td>4</td>\n      <td>1</td>\n      <td>525.86</td>\n      <td>585.03</td>\n      <td>535.64</td>\n      <td>536.57</td>\n      <td>540.00</td>\n      <td>86.8</td>\n      <td>0.0</td>\n      <td>De 1 a 30 alunos</td>\n      <td>...</td>\n      <td>591.66</td>\n      <td>563.45</td>\n      <td>528.93</td>\n      <td>583.48</td>\n      <td>Grupo 5</td>\n      <td>72.7</td>\n      <td>84.5</td>\n      <td>13.1</td>\n      <td>2.4</td>\n      <td>De 1 a 30 alunos</td>\n    </tr>\n  </tbody>\n</table>\n<p>5 rows × 27 columns</p>\n</div>",
            "text/plain": "                     TP_DEPENDENCIA_ADM_ESCOLA_2014  \\\nCO_ESCOLA_EDUCACENSO                                  \n11000058                                          4   \n11000171                                          4   \n11000198                                          4   \n11000244                                          4   \n11000252                                          4   \n\n                     TP_LOCALIZACAO_ESCOLA_2014  NU_MEDIA_CN_2014  \\\nCO_ESCOLA_EDUCACENSO                                                \n11000058                                      1            604.88   \n11000171                                      1            494.91   \n11000198                                      1            557.68   \n11000244                                      1            518.61   \n11000252                                      1            525.86   \n\n                      NU_MEDIA_CH_2014  NU_MEDIA_LP_2014  NU_MEDIA_MT_2014  \\\nCO_ESCOLA_EDUCACENSO                                                         \n11000058                        647.29            592.34            629.14   \n11000171                        550.32            515.24            485.38   \n11000198                        597.52            549.83            552.83   \n11000244                        592.25            538.49            528.35   \n11000252                        585.03            535.64            536.57   \n\n                      NU_MEDIA_RED_2014  NU_TAXA_APROVACAO_2014  \\\nCO_ESCOLA_EDUCACENSO                                              \n11000058                         718.53                    95.4   \n11000171                         469.00                   100.0   \n11000198                         591.30                    91.8   \n11000244                         593.78                    92.6   \n11000252                         540.00                    86.8   \n\n                      NU_TAXA_ABANDONO_2014    PORTE_ESCOLA_2014  ...  \\\nCO_ESCOLA_EDUCACENSO                                              ...   \n11000058                                0.0  Maior que 90 alunos  ...   \n11000171                                0.0     De 1 a 30 alunos  ...   \n11000198                                0.0     De 1 a 30 alunos  ...   \n11000244                                1.4  Maior que 90 alunos  ...   \n11000252                                0.0     De 1 a 30 alunos  ...   \n\n                     NU_MEDIA_CH_2015 NU_MEDIA_LP_2015 NU_MEDIA_MT_2015  \\\nCO_ESCOLA_EDUCACENSO                                                      \n11000058                       652.34           604.53           627.66   \n11000171                       533.51           472.62           459.72   \n11000198                       583.87           547.11           507.22   \n11000244                       586.45           531.35           529.87   \n11000252                       591.66           563.45           528.93   \n\n                      NU_MEDIA_RED_2015  INSE_2015  PC_FORMACAO_DOCENTE_2015  \\\nCO_ESCOLA_EDUCACENSO                                                           \n11000058                         732.00    Grupo 6                      67.5   \n11000171                         507.82    Grupo 4                      58.3   \n11000198                         652.43    Grupo 5                      67.7   \n11000244                         591.84    Grupo 5                      56.0   \n11000252                         583.48    Grupo 5                      72.7   \n\n                      NU_TAXA_APROVACAO_2015  NU_TAXA_REPROVACAO_2015  \\\nCO_ESCOLA_EDUCACENSO                                                    \n11000058                                96.1                      3.9   \n11000171                                94.6                      5.4   \n11000198                                90.1                      9.9   \n11000244                                88.7                     10.5   \n11000252                                84.5                     13.1   \n\n                      NU_TAXA_ABANDONO_2015    PORTE_ESCOLA_2015  \nCO_ESCOLA_EDUCACENSO                                              \n11000058                                0.0  Maior que 90 alunos  \n11000171                                0.0     De 1 a 30 alunos  \n11000198                                0.0    De 31 a 60 alunos  \n11000244                                0.8    De 31 a 60 alunos  \n11000252                                2.4     De 1 a 30 alunos  \n\n[5 rows x 27 columns]"
          },
          "execution_count": 57,
          "metadata": {},
          "output_type": "execute_result"
        }
      ],
      "source": [
        "enem.head(5)"
      ]
    },
    {
      "cell_type": "code",
      "execution_count": 58,
      "metadata": {
        "id": "fMZURFgH0BmS"
      },
      "outputs": [
        {
          "name": "stdout",
          "output_type": "stream",
          "text": [
            "<class 'pandas.core.frame.DataFrame'>\n",
            "Int64Index: 13121 entries, 11000058 to 53082001\n",
            "Data columns (total 27 columns):\n",
            " #   Column                          Non-Null Count  Dtype  \n",
            "---  ------                          --------------  -----  \n",
            " 0   TP_DEPENDENCIA_ADM_ESCOLA_2014  13121 non-null  object \n",
            " 1   TP_LOCALIZACAO_ESCOLA_2014      13121 non-null  object \n",
            " 2   NU_MEDIA_CN_2014                13121 non-null  float64\n",
            " 3   NU_MEDIA_CH_2014                13121 non-null  float64\n",
            " 4   NU_MEDIA_LP_2014                13121 non-null  float64\n",
            " 5   NU_MEDIA_MT_2014                13121 non-null  float64\n",
            " 6   NU_MEDIA_RED_2014               13121 non-null  float64\n",
            " 7   NU_TAXA_APROVACAO_2014          13079 non-null  float64\n",
            " 8   NU_TAXA_ABANDONO_2014           13079 non-null  float64\n",
            " 9   PORTE_ESCOLA_2014               13121 non-null  object \n",
            " 10  NO_ESCOLA_EDUCACENSO_2015       13121 non-null  object \n",
            " 11  TP_DEPENDENCIA_ADM_ESCOLA_2015  13121 non-null  object \n",
            " 12  TP_LOCALIZACAO_ESCOLA_2015      13121 non-null  object \n",
            " 13  NU_MATRICULAS_2015              13121 non-null  int64  \n",
            " 14  NU_PARTICIPANTES_NEC_ESP_2015   13121 non-null  float64\n",
            " 15  NU_TAXA_PARTICIPACAO_2015       13121 non-null  float64\n",
            " 16  NU_MEDIA_CN_2015                13121 non-null  float64\n",
            " 17  NU_MEDIA_CH_2015                13121 non-null  float64\n",
            " 18  NU_MEDIA_LP_2015                13121 non-null  float64\n",
            " 19  NU_MEDIA_MT_2015                13121 non-null  float64\n",
            " 20  NU_MEDIA_RED_2015               13121 non-null  float64\n",
            " 21  INSE_2015                       13120 non-null  object \n",
            " 22  PC_FORMACAO_DOCENTE_2015        13114 non-null  float64\n",
            " 23  NU_TAXA_APROVACAO_2015          13059 non-null  float64\n",
            " 24  NU_TAXA_REPROVACAO_2015         13059 non-null  float64\n",
            " 25  NU_TAXA_ABANDONO_2015           13059 non-null  float64\n",
            " 26  PORTE_ESCOLA_2015               13121 non-null  object \n",
            "dtypes: float64(18), int64(1), object(8)\n",
            "memory usage: 2.8+ MB\n"
          ]
        }
      ],
      "source": [
        "enem.info()"
      ]
    },
    {
      "cell_type": "markdown",
      "metadata": {
        "id": "qmPONK-J0BmT"
      },
      "source": [
        "# Correlação entre atributos\n",
        "\n",
        "Apenas para gerar uma intuição sobre os dados, vamos visualizar a correlação entre todos atributos e um dos alvos, `NU_MEDIA_MT_2015`.\n",
        "\n",
        "Para isso usamos a função `.corr()` para calcular o coeficiente de correlação (também chamado de R de Pearson) entre cada par de atributos de um DataFrame. Note que aparecem apenas os **atributos numéricos**."
      ]
    },
    {
      "cell_type": "code",
      "execution_count": 59,
      "metadata": {
        "id": "n2L6tNQU0BmT"
      },
      "outputs": [
        {
          "data": {
            "text/plain": "NU_TAXA_ABANDONO_2014           -0.480033\nNU_TAXA_ABANDONO_2015           -0.463519\nNU_TAXA_REPROVACAO_2015         -0.288924\nNU_MATRICULAS_2015              -0.187240\nNU_PARTICIPANTES_NEC_ESP_2015   -0.153457\nPC_FORMACAO_DOCENTE_2015         0.239872\nNU_TAXA_APROVACAO_2015           0.441282\nNU_TAXA_APROVACAO_2014           0.447559\nNU_TAXA_PARTICIPACAO_2015        0.594075\nNU_MEDIA_RED_2014                0.844165\nNU_MEDIA_RED_2015                0.862731\nNU_MEDIA_LP_2014                 0.871739\nNU_MEDIA_CH_2014                 0.890371\nNU_MEDIA_LP_2015                 0.904622\nNU_MEDIA_CN_2014                 0.917368\nNU_MEDIA_CH_2015                 0.927952\nNU_MEDIA_MT_2014                 0.930083\nNU_MEDIA_CN_2015                 0.955952\nNU_MEDIA_MT_2015                 1.000000\nName: NU_MEDIA_MT_2015, dtype: float64"
          },
          "execution_count": 59,
          "metadata": {},
          "output_type": "execute_result"
        }
      ],
      "source": [
        "# cálculo da matriz de correlação\n",
        "corr = enem.corr()\n",
        "\n",
        "# quanto cada atributo se correlaciona com o valor da prova de Matemática de 2015\n",
        "corr['NU_MEDIA_MT_2015'].sort_values()"
      ]
    },
    {
      "cell_type": "markdown",
      "metadata": {
        "id": "YZOvaaLy0BmU"
      },
      "source": [
        "Note que é possível visualizar a tabela inteira, que cruza cada os atributos com todos os demais, como visualizado abaixo. A escala de cores é de um azul mais intenso para valores negativos (no mínimo -1) e de vermelhos mais intensos para valores positivos (no máximo 1). Valores próximos ao zero são também mais próximos do branco.\n",
        "\n",
        "Ainda que haja correlação forte entre alguns atributos, para esta análise só interessam correlações envolvendo os atributos `NU_MEDIA_MT_2015` e `NU_MEDIA_RED_2015`."
      ]
    },
    {
      "cell_type": "code",
      "execution_count": 60,
      "metadata": {
        "id": "nUoQFflF0BmU"
      },
      "outputs": [
        {
          "data": {
            "text/html": "<style  type=\"text/css\" >\n#T_b155f_row0_col0,#T_b155f_row1_col1,#T_b155f_row2_col2,#T_b155f_row3_col3,#T_b155f_row4_col4,#T_b155f_row5_col5,#T_b155f_row6_col6,#T_b155f_row7_col7,#T_b155f_row8_col8,#T_b155f_row9_col9,#T_b155f_row10_col10,#T_b155f_row11_col11,#T_b155f_row12_col12,#T_b155f_row13_col13,#T_b155f_row14_col14,#T_b155f_row15_col15,#T_b155f_row16_col16,#T_b155f_row17_col17,#T_b155f_row18_col18{\n            background-color:  #ff0000;\n            color:  #f1f1f1;\n        }#T_b155f_row0_col1,#T_b155f_row1_col0,#T_b155f_row10_col11,#T_b155f_row11_col10{\n            background-color:  #ff0e0e;\n            color:  #f1f1f1;\n        }#T_b155f_row0_col2,#T_b155f_row2_col0,#T_b155f_row2_col4,#T_b155f_row2_col12,#T_b155f_row3_col10,#T_b155f_row4_col2,#T_b155f_row10_col3,#T_b155f_row12_col2{\n            background-color:  #ff1414;\n            color:  #f1f1f1;\n        }#T_b155f_row0_col3,#T_b155f_row3_col0,#T_b155f_row10_col13,#T_b155f_row11_col12,#T_b155f_row12_col11,#T_b155f_row13_col10{\n            background-color:  #ff0a0a;\n            color:  #f1f1f1;\n        }#T_b155f_row0_col4,#T_b155f_row1_col13,#T_b155f_row4_col0,#T_b155f_row13_col1{\n            background-color:  #ff1c1c;\n            color:  #f1f1f1;\n        }#T_b155f_row0_col5,#T_b155f_row5_col0{\n            background-color:  #ff9090;\n            color:  #000000;\n        }#T_b155f_row0_col6,#T_b155f_row1_col18,#T_b155f_row6_col0,#T_b155f_row6_col10,#T_b155f_row10_col6,#T_b155f_row11_col18,#T_b155f_row18_col1,#T_b155f_row18_col11{\n            background-color:  #6868ff;\n            color:  #000000;\n        }#T_b155f_row0_col7,#T_b155f_row5_col8,#T_b155f_row7_col0,#T_b155f_row8_col5{\n            background-color:  #b8b8ff;\n            color:  #000000;\n        }#T_b155f_row0_col8,#T_b155f_row8_col0,#T_b155f_row8_col11,#T_b155f_row8_col14,#T_b155f_row11_col8,#T_b155f_row14_col8{\n            background-color:  #c2c2ff;\n            color:  #000000;\n        }#T_b155f_row0_col9,#T_b155f_row9_col0,#T_b155f_row9_col10,#T_b155f_row10_col9{\n            background-color:  #ff6868;\n            color:  #000000;\n        }#T_b155f_row0_col10,#T_b155f_row1_col4,#T_b155f_row3_col13,#T_b155f_row4_col1,#T_b155f_row10_col0,#T_b155f_row10_col12,#T_b155f_row11_col13,#T_b155f_row12_col10,#T_b155f_row13_col3,#T_b155f_row13_col11{\n            background-color:  #ff1212;\n            color:  #f1f1f1;\n        }#T_b155f_row0_col11,#T_b155f_row1_col10,#T_b155f_row10_col1,#T_b155f_row11_col0,#T_b155f_row12_col13,#T_b155f_row13_col12{\n            background-color:  #ff1818;\n            color:  #f1f1f1;\n        }#T_b155f_row0_col12,#T_b155f_row2_col10,#T_b155f_row3_col12,#T_b155f_row4_col11,#T_b155f_row4_col12,#T_b155f_row10_col2,#T_b155f_row10_col14,#T_b155f_row11_col4,#T_b155f_row12_col0,#T_b155f_row12_col3,#T_b155f_row12_col4,#T_b155f_row14_col10{\n            background-color:  #ff1e1e;\n            color:  #f1f1f1;\n        }#T_b155f_row0_col13,#T_b155f_row1_col11,#T_b155f_row1_col12,#T_b155f_row2_col3,#T_b155f_row3_col2,#T_b155f_row11_col1,#T_b155f_row12_col1,#T_b155f_row13_col0{\n            background-color:  #ff1616;\n            color:  #f1f1f1;\n        }#T_b155f_row0_col14,#T_b155f_row14_col0{\n            background-color:  #ff2626;\n            color:  #f1f1f1;\n        }#T_b155f_row0_col15,#T_b155f_row10_col15,#T_b155f_row13_col15,#T_b155f_row15_col0,#T_b155f_row15_col10,#T_b155f_row15_col13{\n            background-color:  #ffcece;\n            color:  #000000;\n        }#T_b155f_row0_col16,#T_b155f_row2_col5,#T_b155f_row4_col16,#T_b155f_row5_col2,#T_b155f_row10_col16,#T_b155f_row16_col0,#T_b155f_row16_col4,#T_b155f_row16_col10{\n            background-color:  #ff9494;\n            color:  #000000;\n        }#T_b155f_row0_col17,#T_b155f_row5_col7,#T_b155f_row7_col5,#T_b155f_row10_col17,#T_b155f_row17_col0,#T_b155f_row17_col10{\n            background-color:  #9e9eff;\n            color:  #000000;\n        }#T_b155f_row0_col18,#T_b155f_row3_col6,#T_b155f_row6_col3,#T_b155f_row6_col13,#T_b155f_row6_col14,#T_b155f_row10_col18,#T_b155f_row13_col6,#T_b155f_row14_col6,#T_b155f_row18_col0,#T_b155f_row18_col10{\n            background-color:  #6c6cff;\n            color:  #000000;\n        }#T_b155f_row1_col2,#T_b155f_row2_col1{\n            background-color:  #ff0808;\n            color:  #f1f1f1;\n        }#T_b155f_row1_col3,#T_b155f_row3_col1{\n            background-color:  #ff1010;\n            color:  #f1f1f1;\n        }#T_b155f_row1_col5,#T_b155f_row2_col16,#T_b155f_row3_col5,#T_b155f_row5_col1,#T_b155f_row5_col3,#T_b155f_row5_col11,#T_b155f_row5_col12,#T_b155f_row5_col13,#T_b155f_row9_col16,#T_b155f_row11_col5,#T_b155f_row11_col16,#T_b155f_row12_col5,#T_b155f_row12_col16,#T_b155f_row13_col5,#T_b155f_row16_col2,#T_b155f_row16_col9,#T_b155f_row16_col11,#T_b155f_row16_col12{\n            background-color:  #ff9696;\n            color:  #000000;\n        }#T_b155f_row1_col6,#T_b155f_row2_col18,#T_b155f_row4_col18,#T_b155f_row6_col1,#T_b155f_row18_col2,#T_b155f_row18_col4{\n            background-color:  #6464ff;\n            color:  #000000;\n        }#T_b155f_row1_col7,#T_b155f_row3_col7,#T_b155f_row4_col7,#T_b155f_row7_col1,#T_b155f_row7_col3,#T_b155f_row7_col4,#T_b155f_row7_col12,#T_b155f_row7_col13,#T_b155f_row7_col14,#T_b155f_row12_col7,#T_b155f_row13_col7,#T_b155f_row14_col7{\n            background-color:  #bcbcff;\n            color:  #000000;\n        }#T_b155f_row1_col8,#T_b155f_row3_col8,#T_b155f_row8_col1,#T_b155f_row8_col3,#T_b155f_row8_col12,#T_b155f_row12_col8{\n            background-color:  #c6c6ff;\n            color:  #000000;\n        }#T_b155f_row1_col9,#T_b155f_row9_col1{\n            background-color:  #ff6a6a;\n            color:  #000000;\n        }#T_b155f_row1_col14,#T_b155f_row13_col14,#T_b155f_row14_col1,#T_b155f_row14_col13{\n            background-color:  #ff2424;\n            color:  #f1f1f1;\n        }#T_b155f_row1_col15,#T_b155f_row15_col1{\n            background-color:  #ffc4c4;\n            color:  #000000;\n        }#T_b155f_row1_col16,#T_b155f_row5_col9,#T_b155f_row9_col5,#T_b155f_row13_col16,#T_b155f_row16_col1,#T_b155f_row16_col13{\n            background-color:  #ff9898;\n            color:  #000000;\n        }#T_b155f_row1_col17,#T_b155f_row2_col17,#T_b155f_row12_col17,#T_b155f_row17_col1,#T_b155f_row17_col2,#T_b155f_row17_col12{\n            background-color:  #a8a8ff;\n            color:  #000000;\n        }#T_b155f_row2_col6,#T_b155f_row4_col6,#T_b155f_row6_col2,#T_b155f_row6_col4,#T_b155f_row6_col12,#T_b155f_row12_col6{\n            background-color:  #6060ff;\n            color:  #000000;\n        }#T_b155f_row2_col7,#T_b155f_row7_col2{\n            background-color:  #bebeff;\n            color:  #000000;\n        }#T_b155f_row2_col8,#T_b155f_row8_col2{\n            background-color:  #c8c8ff;\n            color:  #000000;\n        }#T_b155f_row2_col9,#T_b155f_row3_col9,#T_b155f_row9_col2,#T_b155f_row9_col3,#T_b155f_row9_col12,#T_b155f_row12_col9{\n            background-color:  #ff7070;\n            color:  #000000;\n        }#T_b155f_row2_col11,#T_b155f_row3_col11,#T_b155f_row11_col2,#T_b155f_row11_col3,#T_b155f_row11_col14,#T_b155f_row14_col11{\n            background-color:  #ff1a1a;\n            color:  #f1f1f1;\n        }#T_b155f_row2_col13,#T_b155f_row3_col4,#T_b155f_row4_col3,#T_b155f_row4_col10,#T_b155f_row10_col4,#T_b155f_row13_col2{\n            background-color:  #ff2222;\n            color:  #f1f1f1;\n        }#T_b155f_row2_col14,#T_b155f_row4_col13,#T_b155f_row5_col16,#T_b155f_row13_col4,#T_b155f_row14_col2,#T_b155f_row16_col5{\n            background-color:  #ff2a2a;\n            color:  #f1f1f1;\n        }#T_b155f_row2_col15,#T_b155f_row15_col2{\n            background-color:  #ffc2c2;\n            color:  #000000;\n        }#T_b155f_row3_col14,#T_b155f_row14_col3{\n            background-color:  #ff2c2c;\n            color:  #f1f1f1;\n        }#T_b155f_row3_col15,#T_b155f_row7_col18,#T_b155f_row15_col3,#T_b155f_row18_col7{\n            background-color:  #ffcccc;\n            color:  #000000;\n        }#T_b155f_row3_col16,#T_b155f_row5_col14,#T_b155f_row14_col5,#T_b155f_row16_col3{\n            background-color:  #ff9a9a;\n            color:  #000000;\n        }#T_b155f_row3_col17,#T_b155f_row17_col3{\n            background-color:  #a2a2ff;\n            color:  #000000;\n        }#T_b155f_row3_col18,#T_b155f_row14_col18,#T_b155f_row18_col3,#T_b155f_row18_col14{\n            background-color:  #7272ff;\n            color:  #000000;\n        }#T_b155f_row4_col5,#T_b155f_row5_col4,#T_b155f_row5_col10,#T_b155f_row10_col5{\n            background-color:  #ff9292;\n            color:  #000000;\n        }#T_b155f_row4_col8,#T_b155f_row8_col4,#T_b155f_row8_col9,#T_b155f_row8_col10,#T_b155f_row8_col13,#T_b155f_row9_col8,#T_b155f_row10_col8,#T_b155f_row13_col8{\n            background-color:  #c4c4ff;\n            color:  #000000;\n        }#T_b155f_row4_col9,#T_b155f_row9_col4{\n            background-color:  #ff6464;\n            color:  #000000;\n        }#T_b155f_row4_col14,#T_b155f_row12_col14,#T_b155f_row14_col4,#T_b155f_row14_col12{\n            background-color:  #ff2020;\n            color:  #f1f1f1;\n        }#T_b155f_row4_col15,#T_b155f_row6_col7,#T_b155f_row7_col6,#T_b155f_row11_col15,#T_b155f_row15_col4,#T_b155f_row15_col11{\n            background-color:  #ffc8c8;\n            color:  #000000;\n        }#T_b155f_row4_col17,#T_b155f_row11_col17,#T_b155f_row17_col4,#T_b155f_row17_col11{\n            background-color:  #a4a4ff;\n            color:  #000000;\n        }#T_b155f_row5_col6,#T_b155f_row6_col5{\n            background-color:  #2626ff;\n            color:  #f1f1f1;\n        }#T_b155f_row5_col15,#T_b155f_row15_col5,#T_b155f_row15_col16,#T_b155f_row16_col15{\n            background-color:  #eeeeff;\n            color:  #000000;\n        }#T_b155f_row5_col17,#T_b155f_row17_col5{\n            background-color:  #2e2eff;\n            color:  #f1f1f1;\n        }#T_b155f_row5_col18,#T_b155f_row18_col5{\n            background-color:  #3c3cff;\n            color:  #f1f1f1;\n        }#T_b155f_row6_col8,#T_b155f_row8_col6,#T_b155f_row8_col17,#T_b155f_row8_col18,#T_b155f_row17_col8,#T_b155f_row18_col8{\n            background-color:  #ffe4e4;\n            color:  #000000;\n        }#T_b155f_row6_col9,#T_b155f_row9_col6,#T_b155f_row9_col18,#T_b155f_row18_col9{\n            background-color:  #6e6eff;\n            color:  #000000;\n        }#T_b155f_row6_col11,#T_b155f_row11_col6,#T_b155f_row12_col18,#T_b155f_row18_col12{\n            background-color:  #6262ff;\n            color:  #000000;\n        }#T_b155f_row6_col15,#T_b155f_row15_col6,#T_b155f_row15_col18,#T_b155f_row18_col15{\n            background-color:  #e0e0ff;\n            color:  #000000;\n        }#T_b155f_row6_col16,#T_b155f_row16_col6{\n            background-color:  #3a3aff;\n            color:  #f1f1f1;\n        }#T_b155f_row6_col17,#T_b155f_row17_col6{\n            background-color:  #ffa6a6;\n            color:  #000000;\n        }#T_b155f_row6_col18,#T_b155f_row18_col6{\n            background-color:  #ff4040;\n            color:  #000000;\n        }#T_b155f_row7_col8,#T_b155f_row8_col7{\n            background-color:  #ffa4a4;\n            color:  #000000;\n        }#T_b155f_row7_col9,#T_b155f_row7_col10,#T_b155f_row7_col11,#T_b155f_row9_col7,#T_b155f_row10_col7,#T_b155f_row11_col7{\n            background-color:  #b6b6ff;\n            color:  #000000;\n        }#T_b155f_row7_col15,#T_b155f_row15_col7{\n            background-color:  #ffeaea;\n            color:  #000000;\n        }#T_b155f_row7_col16,#T_b155f_row9_col17,#T_b155f_row13_col17,#T_b155f_row16_col7,#T_b155f_row17_col9,#T_b155f_row17_col13{\n            background-color:  #a0a0ff;\n            color:  #000000;\n        }#T_b155f_row7_col17,#T_b155f_row14_col15,#T_b155f_row15_col14,#T_b155f_row17_col7{\n            background-color:  #ffd2d2;\n            color:  #000000;\n        }#T_b155f_row8_col15,#T_b155f_row15_col8{\n            background-color:  #fefeff;\n            color:  #000000;\n        }#T_b155f_row8_col16,#T_b155f_row16_col8{\n            background-color:  #babaff;\n            color:  #000000;\n        }#T_b155f_row9_col11,#T_b155f_row11_col9{\n            background-color:  #ff6666;\n            color:  #000000;\n        }#T_b155f_row9_col13,#T_b155f_row13_col9{\n            background-color:  #ff6e6e;\n            color:  #000000;\n        }#T_b155f_row9_col14,#T_b155f_row14_col9{\n            background-color:  #ff6060;\n            color:  #000000;\n        }#T_b155f_row9_col15,#T_b155f_row15_col9{\n            background-color:  #fffefe;\n            color:  #000000;\n        }#T_b155f_row12_col15,#T_b155f_row15_col12{\n            background-color:  #ffc0c0;\n            color:  #000000;\n        }#T_b155f_row13_col18,#T_b155f_row18_col13{\n            background-color:  #7070ff;\n            color:  #000000;\n        }#T_b155f_row14_col16,#T_b155f_row16_col14{\n            background-color:  #ff9c9c;\n            color:  #000000;\n        }#T_b155f_row14_col17,#T_b155f_row17_col14{\n            background-color:  #a6a6ff;\n            color:  #000000;\n        }#T_b155f_row15_col17,#T_b155f_row17_col15{\n            background-color:  #fafaff;\n            color:  #000000;\n        }#T_b155f_row16_col17,#T_b155f_row17_col16{\n            background-color:  #0000ff;\n            color:  #f1f1f1;\n        }#T_b155f_row16_col18,#T_b155f_row18_col16{\n            background-color:  #2a2aff;\n            color:  #f1f1f1;\n        }#T_b155f_row17_col18,#T_b155f_row18_col17{\n            background-color:  #ffbcbc;\n            color:  #000000;\n        }</style><table id=\"T_b155f_\" ><thead>    <tr>        <th class=\"blank level0\" ></th>        <th class=\"col_heading level0 col0\" >NU_MEDIA_CN_2014</th>        <th class=\"col_heading level0 col1\" >NU_MEDIA_CH_2014</th>        <th class=\"col_heading level0 col2\" >NU_MEDIA_LP_2014</th>        <th class=\"col_heading level0 col3\" >NU_MEDIA_MT_2014</th>        <th class=\"col_heading level0 col4\" >NU_MEDIA_RED_2014</th>        <th class=\"col_heading level0 col5\" >NU_TAXA_APROVACAO_2014</th>        <th class=\"col_heading level0 col6\" >NU_TAXA_ABANDONO_2014</th>        <th class=\"col_heading level0 col7\" >NU_MATRICULAS_2015</th>        <th class=\"col_heading level0 col8\" >NU_PARTICIPANTES_NEC_ESP_2015</th>        <th class=\"col_heading level0 col9\" >NU_TAXA_PARTICIPACAO_2015</th>        <th class=\"col_heading level0 col10\" >NU_MEDIA_CN_2015</th>        <th class=\"col_heading level0 col11\" >NU_MEDIA_CH_2015</th>        <th class=\"col_heading level0 col12\" >NU_MEDIA_LP_2015</th>        <th class=\"col_heading level0 col13\" >NU_MEDIA_MT_2015</th>        <th class=\"col_heading level0 col14\" >NU_MEDIA_RED_2015</th>        <th class=\"col_heading level0 col15\" >PC_FORMACAO_DOCENTE_2015</th>        <th class=\"col_heading level0 col16\" >NU_TAXA_APROVACAO_2015</th>        <th class=\"col_heading level0 col17\" >NU_TAXA_REPROVACAO_2015</th>        <th class=\"col_heading level0 col18\" >NU_TAXA_ABANDONO_2015</th>    </tr></thead><tbody>\n                <tr>\n                        <th id=\"T_b155f_level0_row0\" class=\"row_heading level0 row0\" >NU_MEDIA_CN_2014</th>\n                        <td id=\"T_b155f_row0_col0\" class=\"data row0 col0\" >1.00</td>\n                        <td id=\"T_b155f_row0_col1\" class=\"data row0 col1\" >0.95</td>\n                        <td id=\"T_b155f_row0_col2\" class=\"data row0 col2\" >0.92</td>\n                        <td id=\"T_b155f_row0_col3\" class=\"data row0 col3\" >0.96</td>\n                        <td id=\"T_b155f_row0_col4\" class=\"data row0 col4\" >0.89</td>\n                        <td id=\"T_b155f_row0_col5\" class=\"data row0 col5\" >0.47</td>\n                        <td id=\"T_b155f_row0_col6\" class=\"data row0 col6\" >-0.50</td>\n                        <td id=\"T_b155f_row0_col7\" class=\"data row0 col7\" >-0.20</td>\n                        <td id=\"T_b155f_row0_col8\" class=\"data row0 col8\" >-0.16</td>\n                        <td id=\"T_b155f_row0_col9\" class=\"data row0 col9\" >0.62</td>\n                        <td id=\"T_b155f_row0_col10\" class=\"data row0 col10\" >0.93</td>\n                        <td id=\"T_b155f_row0_col11\" class=\"data row0 col11\" >0.91</td>\n                        <td id=\"T_b155f_row0_col12\" class=\"data row0 col12\" >0.89</td>\n                        <td id=\"T_b155f_row0_col13\" class=\"data row0 col13\" >0.92</td>\n                        <td id=\"T_b155f_row0_col14\" class=\"data row0 col14\" >0.86</td>\n                        <td id=\"T_b155f_row0_col15\" class=\"data row0 col15\" >0.24</td>\n                        <td id=\"T_b155f_row0_col16\" class=\"data row0 col16\" >0.45</td>\n                        <td id=\"T_b155f_row0_col17\" class=\"data row0 col17\" >-0.30</td>\n                        <td id=\"T_b155f_row0_col18\" class=\"data row0 col18\" >-0.48</td>\n            </tr>\n            <tr>\n                        <th id=\"T_b155f_level0_row1\" class=\"row_heading level0 row1\" >NU_MEDIA_CH_2014</th>\n                        <td id=\"T_b155f_row1_col0\" class=\"data row1 col0\" >0.95</td>\n                        <td id=\"T_b155f_row1_col1\" class=\"data row1 col1\" >1.00</td>\n                        <td id=\"T_b155f_row1_col2\" class=\"data row1 col2\" >0.97</td>\n                        <td id=\"T_b155f_row1_col3\" class=\"data row1 col3\" >0.93</td>\n                        <td id=\"T_b155f_row1_col4\" class=\"data row1 col4\" >0.93</td>\n                        <td id=\"T_b155f_row1_col5\" class=\"data row1 col5\" >0.44</td>\n                        <td id=\"T_b155f_row1_col6\" class=\"data row1 col6\" >-0.51</td>\n                        <td id=\"T_b155f_row1_col7\" class=\"data row1 col7\" >-0.19</td>\n                        <td id=\"T_b155f_row1_col8\" class=\"data row1 col8\" >-0.15</td>\n                        <td id=\"T_b155f_row1_col9\" class=\"data row1 col9\" >0.61</td>\n                        <td id=\"T_b155f_row1_col10\" class=\"data row1 col10\" >0.91</td>\n                        <td id=\"T_b155f_row1_col11\" class=\"data row1 col11\" >0.92</td>\n                        <td id=\"T_b155f_row1_col12\" class=\"data row1 col12\" >0.92</td>\n                        <td id=\"T_b155f_row1_col13\" class=\"data row1 col13\" >0.89</td>\n                        <td id=\"T_b155f_row1_col14\" class=\"data row1 col14\" >0.86</td>\n                        <td id=\"T_b155f_row1_col15\" class=\"data row1 col15\" >0.28</td>\n                        <td id=\"T_b155f_row1_col16\" class=\"data row1 col16\" >0.44</td>\n                        <td id=\"T_b155f_row1_col17\" class=\"data row1 col17\" >-0.26</td>\n                        <td id=\"T_b155f_row1_col18\" class=\"data row1 col18\" >-0.49</td>\n            </tr>\n            <tr>\n                        <th id=\"T_b155f_level0_row2\" class=\"row_heading level0 row2\" >NU_MEDIA_LP_2014</th>\n                        <td id=\"T_b155f_row2_col0\" class=\"data row2 col0\" >0.92</td>\n                        <td id=\"T_b155f_row2_col1\" class=\"data row2 col1\" >0.97</td>\n                        <td id=\"T_b155f_row2_col2\" class=\"data row2 col2\" >1.00</td>\n                        <td id=\"T_b155f_row2_col3\" class=\"data row2 col3\" >0.91</td>\n                        <td id=\"T_b155f_row2_col4\" class=\"data row2 col4\" >0.92</td>\n                        <td id=\"T_b155f_row2_col5\" class=\"data row2 col5\" >0.45</td>\n                        <td id=\"T_b155f_row2_col6\" class=\"data row2 col6\" >-0.53</td>\n                        <td id=\"T_b155f_row2_col7\" class=\"data row2 col7\" >-0.18</td>\n                        <td id=\"T_b155f_row2_col8\" class=\"data row2 col8\" >-0.14</td>\n                        <td id=\"T_b155f_row2_col9\" class=\"data row2 col9\" >0.59</td>\n                        <td id=\"T_b155f_row2_col10\" class=\"data row2 col10\" >0.89</td>\n                        <td id=\"T_b155f_row2_col11\" class=\"data row2 col11\" >0.90</td>\n                        <td id=\"T_b155f_row2_col12\" class=\"data row2 col12\" >0.92</td>\n                        <td id=\"T_b155f_row2_col13\" class=\"data row2 col13\" >0.87</td>\n                        <td id=\"T_b155f_row2_col14\" class=\"data row2 col14\" >0.84</td>\n                        <td id=\"T_b155f_row2_col15\" class=\"data row2 col15\" >0.28</td>\n                        <td id=\"T_b155f_row2_col16\" class=\"data row2 col16\" >0.44</td>\n                        <td id=\"T_b155f_row2_col17\" class=\"data row2 col17\" >-0.26</td>\n                        <td id=\"T_b155f_row2_col18\" class=\"data row2 col18\" >-0.51</td>\n            </tr>\n            <tr>\n                        <th id=\"T_b155f_level0_row3\" class=\"row_heading level0 row3\" >NU_MEDIA_MT_2014</th>\n                        <td id=\"T_b155f_row3_col0\" class=\"data row3 col0\" >0.96</td>\n                        <td id=\"T_b155f_row3_col1\" class=\"data row3 col1\" >0.93</td>\n                        <td id=\"T_b155f_row3_col2\" class=\"data row3 col2\" >0.91</td>\n                        <td id=\"T_b155f_row3_col3\" class=\"data row3 col3\" >1.00</td>\n                        <td id=\"T_b155f_row3_col4\" class=\"data row3 col4\" >0.87</td>\n                        <td id=\"T_b155f_row3_col5\" class=\"data row3 col5\" >0.45</td>\n                        <td id=\"T_b155f_row3_col6\" class=\"data row3 col6\" >-0.48</td>\n                        <td id=\"T_b155f_row3_col7\" class=\"data row3 col7\" >-0.18</td>\n                        <td id=\"T_b155f_row3_col8\" class=\"data row3 col8\" >-0.15</td>\n                        <td id=\"T_b155f_row3_col9\" class=\"data row3 col9\" >0.58</td>\n                        <td id=\"T_b155f_row3_col10\" class=\"data row3 col10\" >0.92</td>\n                        <td id=\"T_b155f_row3_col11\" class=\"data row3 col11\" >0.90</td>\n                        <td id=\"T_b155f_row3_col12\" class=\"data row3 col12\" >0.88</td>\n                        <td id=\"T_b155f_row3_col13\" class=\"data row3 col13\" >0.93</td>\n                        <td id=\"T_b155f_row3_col14\" class=\"data row3 col14\" >0.83</td>\n                        <td id=\"T_b155f_row3_col15\" class=\"data row3 col15\" >0.25</td>\n                        <td id=\"T_b155f_row3_col16\" class=\"data row3 col16\" >0.43</td>\n                        <td id=\"T_b155f_row3_col17\" class=\"data row3 col17\" >-0.28</td>\n                        <td id=\"T_b155f_row3_col18\" class=\"data row3 col18\" >-0.46</td>\n            </tr>\n            <tr>\n                        <th id=\"T_b155f_level0_row4\" class=\"row_heading level0 row4\" >NU_MEDIA_RED_2014</th>\n                        <td id=\"T_b155f_row4_col0\" class=\"data row4 col0\" >0.89</td>\n                        <td id=\"T_b155f_row4_col1\" class=\"data row4 col1\" >0.93</td>\n                        <td id=\"T_b155f_row4_col2\" class=\"data row4 col2\" >0.92</td>\n                        <td id=\"T_b155f_row4_col3\" class=\"data row4 col3\" >0.87</td>\n                        <td id=\"T_b155f_row4_col4\" class=\"data row4 col4\" >1.00</td>\n                        <td id=\"T_b155f_row4_col5\" class=\"data row4 col5\" >0.46</td>\n                        <td id=\"T_b155f_row4_col6\" class=\"data row4 col6\" >-0.53</td>\n                        <td id=\"T_b155f_row4_col7\" class=\"data row4 col7\" >-0.19</td>\n                        <td id=\"T_b155f_row4_col8\" class=\"data row4 col8\" >-0.16</td>\n                        <td id=\"T_b155f_row4_col9\" class=\"data row4 col9\" >0.63</td>\n                        <td id=\"T_b155f_row4_col10\" class=\"data row4 col10\" >0.87</td>\n                        <td id=\"T_b155f_row4_col11\" class=\"data row4 col11\" >0.88</td>\n                        <td id=\"T_b155f_row4_col12\" class=\"data row4 col12\" >0.88</td>\n                        <td id=\"T_b155f_row4_col13\" class=\"data row4 col13\" >0.84</td>\n                        <td id=\"T_b155f_row4_col14\" class=\"data row4 col14\" >0.88</td>\n                        <td id=\"T_b155f_row4_col15\" class=\"data row4 col15\" >0.26</td>\n                        <td id=\"T_b155f_row4_col16\" class=\"data row4 col16\" >0.45</td>\n                        <td id=\"T_b155f_row4_col17\" class=\"data row4 col17\" >-0.27</td>\n                        <td id=\"T_b155f_row4_col18\" class=\"data row4 col18\" >-0.51</td>\n            </tr>\n            <tr>\n                        <th id=\"T_b155f_level0_row5\" class=\"row_heading level0 row5\" >NU_TAXA_APROVACAO_2014</th>\n                        <td id=\"T_b155f_row5_col0\" class=\"data row5 col0\" >0.47</td>\n                        <td id=\"T_b155f_row5_col1\" class=\"data row5 col1\" >0.44</td>\n                        <td id=\"T_b155f_row5_col2\" class=\"data row5 col2\" >0.45</td>\n                        <td id=\"T_b155f_row5_col3\" class=\"data row5 col3\" >0.45</td>\n                        <td id=\"T_b155f_row5_col4\" class=\"data row5 col4\" >0.46</td>\n                        <td id=\"T_b155f_row5_col5\" class=\"data row5 col5\" >1.00</td>\n                        <td id=\"T_b155f_row5_col6\" class=\"data row5 col6\" >-0.74</td>\n                        <td id=\"T_b155f_row5_col7\" class=\"data row5 col7\" >-0.29</td>\n                        <td id=\"T_b155f_row5_col8\" class=\"data row5 col8\" >-0.20</td>\n                        <td id=\"T_b155f_row5_col9\" class=\"data row5 col9\" >0.44</td>\n                        <td id=\"T_b155f_row5_col10\" class=\"data row5 col10\" >0.46</td>\n                        <td id=\"T_b155f_row5_col11\" class=\"data row5 col11\" >0.45</td>\n                        <td id=\"T_b155f_row5_col12\" class=\"data row5 col12\" >0.45</td>\n                        <td id=\"T_b155f_row5_col13\" class=\"data row5 col13\" >0.45</td>\n                        <td id=\"T_b155f_row5_col14\" class=\"data row5 col14\" >0.43</td>\n                        <td id=\"T_b155f_row5_col15\" class=\"data row5 col15\" >-0.01</td>\n                        <td id=\"T_b155f_row5_col16\" class=\"data row5 col16\" >0.84</td>\n                        <td id=\"T_b155f_row5_col17\" class=\"data row5 col17\" >-0.71</td>\n                        <td id=\"T_b155f_row5_col18\" class=\"data row5 col18\" >-0.66</td>\n            </tr>\n            <tr>\n                        <th id=\"T_b155f_level0_row6\" class=\"row_heading level0 row6\" >NU_TAXA_ABANDONO_2014</th>\n                        <td id=\"T_b155f_row6_col0\" class=\"data row6 col0\" >-0.50</td>\n                        <td id=\"T_b155f_row6_col1\" class=\"data row6 col1\" >-0.51</td>\n                        <td id=\"T_b155f_row6_col2\" class=\"data row6 col2\" >-0.53</td>\n                        <td id=\"T_b155f_row6_col3\" class=\"data row6 col3\" >-0.48</td>\n                        <td id=\"T_b155f_row6_col4\" class=\"data row6 col4\" >-0.53</td>\n                        <td id=\"T_b155f_row6_col5\" class=\"data row6 col5\" >-0.74</td>\n                        <td id=\"T_b155f_row6_col6\" class=\"data row6 col6\" >1.00</td>\n                        <td id=\"T_b155f_row6_col7\" class=\"data row6 col7\" >0.26</td>\n                        <td id=\"T_b155f_row6_col8\" class=\"data row6 col8\" >0.16</td>\n                        <td id=\"T_b155f_row6_col9\" class=\"data row6 col9\" >-0.47</td>\n                        <td id=\"T_b155f_row6_col10\" class=\"data row6 col10\" >-0.50</td>\n                        <td id=\"T_b155f_row6_col11\" class=\"data row6 col11\" >-0.51</td>\n                        <td id=\"T_b155f_row6_col12\" class=\"data row6 col12\" >-0.53</td>\n                        <td id=\"T_b155f_row6_col13\" class=\"data row6 col13\" >-0.48</td>\n                        <td id=\"T_b155f_row6_col14\" class=\"data row6 col14\" >-0.48</td>\n                        <td id=\"T_b155f_row6_col15\" class=\"data row6 col15\" >-0.05</td>\n                        <td id=\"T_b155f_row6_col16\" class=\"data row6 col16\" >-0.66</td>\n                        <td id=\"T_b155f_row6_col17\" class=\"data row6 col17\" >0.39</td>\n                        <td id=\"T_b155f_row6_col18\" class=\"data row6 col18\" >0.76</td>\n            </tr>\n            <tr>\n                        <th id=\"T_b155f_level0_row7\" class=\"row_heading level0 row7\" >NU_MATRICULAS_2015</th>\n                        <td id=\"T_b155f_row7_col0\" class=\"data row7 col0\" >-0.20</td>\n                        <td id=\"T_b155f_row7_col1\" class=\"data row7 col1\" >-0.19</td>\n                        <td id=\"T_b155f_row7_col2\" class=\"data row7 col2\" >-0.18</td>\n                        <td id=\"T_b155f_row7_col3\" class=\"data row7 col3\" >-0.18</td>\n                        <td id=\"T_b155f_row7_col4\" class=\"data row7 col4\" >-0.19</td>\n                        <td id=\"T_b155f_row7_col5\" class=\"data row7 col5\" >-0.29</td>\n                        <td id=\"T_b155f_row7_col6\" class=\"data row7 col6\" >0.26</td>\n                        <td id=\"T_b155f_row7_col7\" class=\"data row7 col7\" >1.00</td>\n                        <td id=\"T_b155f_row7_col8\" class=\"data row7 col8\" >0.39</td>\n                        <td id=\"T_b155f_row7_col9\" class=\"data row7 col9\" >-0.21</td>\n                        <td id=\"T_b155f_row7_col10\" class=\"data row7 col10\" >-0.21</td>\n                        <td id=\"T_b155f_row7_col11\" class=\"data row7 col11\" >-0.21</td>\n                        <td id=\"T_b155f_row7_col12\" class=\"data row7 col12\" >-0.19</td>\n                        <td id=\"T_b155f_row7_col13\" class=\"data row7 col13\" >-0.19</td>\n                        <td id=\"T_b155f_row7_col14\" class=\"data row7 col14\" >-0.18</td>\n                        <td id=\"T_b155f_row7_col15\" class=\"data row7 col15\" >0.14</td>\n                        <td id=\"T_b155f_row7_col16\" class=\"data row7 col16\" >-0.29</td>\n                        <td id=\"T_b155f_row7_col17\" class=\"data row7 col17\" >0.23</td>\n                        <td id=\"T_b155f_row7_col18\" class=\"data row7 col18\" >0.25</td>\n            </tr>\n            <tr>\n                        <th id=\"T_b155f_level0_row8\" class=\"row_heading level0 row8\" >NU_PARTICIPANTES_NEC_ESP_2015</th>\n                        <td id=\"T_b155f_row8_col0\" class=\"data row8 col0\" >-0.16</td>\n                        <td id=\"T_b155f_row8_col1\" class=\"data row8 col1\" >-0.15</td>\n                        <td id=\"T_b155f_row8_col2\" class=\"data row8 col2\" >-0.14</td>\n                        <td id=\"T_b155f_row8_col3\" class=\"data row8 col3\" >-0.15</td>\n                        <td id=\"T_b155f_row8_col4\" class=\"data row8 col4\" >-0.16</td>\n                        <td id=\"T_b155f_row8_col5\" class=\"data row8 col5\" >-0.20</td>\n                        <td id=\"T_b155f_row8_col6\" class=\"data row8 col6\" >0.16</td>\n                        <td id=\"T_b155f_row8_col7\" class=\"data row8 col7\" >0.39</td>\n                        <td id=\"T_b155f_row8_col8\" class=\"data row8 col8\" >1.00</td>\n                        <td id=\"T_b155f_row8_col9\" class=\"data row8 col9\" >-0.16</td>\n                        <td id=\"T_b155f_row8_col10\" class=\"data row8 col10\" >-0.16</td>\n                        <td id=\"T_b155f_row8_col11\" class=\"data row8 col11\" >-0.16</td>\n                        <td id=\"T_b155f_row8_col12\" class=\"data row8 col12\" >-0.15</td>\n                        <td id=\"T_b155f_row8_col13\" class=\"data row8 col13\" >-0.15</td>\n                        <td id=\"T_b155f_row8_col14\" class=\"data row8 col14\" >-0.16</td>\n                        <td id=\"T_b155f_row8_col15\" class=\"data row8 col15\" >0.06</td>\n                        <td id=\"T_b155f_row8_col16\" class=\"data row8 col16\" >-0.19</td>\n                        <td id=\"T_b155f_row8_col17\" class=\"data row8 col17\" >0.16</td>\n                        <td id=\"T_b155f_row8_col18\" class=\"data row8 col18\" >0.16</td>\n            </tr>\n            <tr>\n                        <th id=\"T_b155f_level0_row9\" class=\"row_heading level0 row9\" >NU_TAXA_PARTICIPACAO_2015</th>\n                        <td id=\"T_b155f_row9_col0\" class=\"data row9 col0\" >0.62</td>\n                        <td id=\"T_b155f_row9_col1\" class=\"data row9 col1\" >0.61</td>\n                        <td id=\"T_b155f_row9_col2\" class=\"data row9 col2\" >0.59</td>\n                        <td id=\"T_b155f_row9_col3\" class=\"data row9 col3\" >0.58</td>\n                        <td id=\"T_b155f_row9_col4\" class=\"data row9 col4\" >0.63</td>\n                        <td id=\"T_b155f_row9_col5\" class=\"data row9 col5\" >0.44</td>\n                        <td id=\"T_b155f_row9_col6\" class=\"data row9 col6\" >-0.47</td>\n                        <td id=\"T_b155f_row9_col7\" class=\"data row9 col7\" >-0.21</td>\n                        <td id=\"T_b155f_row9_col8\" class=\"data row9 col8\" >-0.16</td>\n                        <td id=\"T_b155f_row9_col9\" class=\"data row9 col9\" >1.00</td>\n                        <td id=\"T_b155f_row9_col10\" class=\"data row9 col10\" >0.62</td>\n                        <td id=\"T_b155f_row9_col11\" class=\"data row9 col11\" >0.62</td>\n                        <td id=\"T_b155f_row9_col12\" class=\"data row9 col12\" >0.59</td>\n                        <td id=\"T_b155f_row9_col13\" class=\"data row9 col13\" >0.59</td>\n                        <td id=\"T_b155f_row9_col14\" class=\"data row9 col14\" >0.64</td>\n                        <td id=\"T_b155f_row9_col15\" class=\"data row9 col15\" >0.06</td>\n                        <td id=\"T_b155f_row9_col16\" class=\"data row9 col16\" >0.45</td>\n                        <td id=\"T_b155f_row9_col17\" class=\"data row9 col17\" >-0.29</td>\n                        <td id=\"T_b155f_row9_col18\" class=\"data row9 col18\" >-0.48</td>\n            </tr>\n            <tr>\n                        <th id=\"T_b155f_level0_row10\" class=\"row_heading level0 row10\" >NU_MEDIA_CN_2015</th>\n                        <td id=\"T_b155f_row10_col0\" class=\"data row10 col0\" >0.93</td>\n                        <td id=\"T_b155f_row10_col1\" class=\"data row10 col1\" >0.91</td>\n                        <td id=\"T_b155f_row10_col2\" class=\"data row10 col2\" >0.89</td>\n                        <td id=\"T_b155f_row10_col3\" class=\"data row10 col3\" >0.92</td>\n                        <td id=\"T_b155f_row10_col4\" class=\"data row10 col4\" >0.87</td>\n                        <td id=\"T_b155f_row10_col5\" class=\"data row10 col5\" >0.46</td>\n                        <td id=\"T_b155f_row10_col6\" class=\"data row10 col6\" >-0.50</td>\n                        <td id=\"T_b155f_row10_col7\" class=\"data row10 col7\" >-0.21</td>\n                        <td id=\"T_b155f_row10_col8\" class=\"data row10 col8\" >-0.16</td>\n                        <td id=\"T_b155f_row10_col9\" class=\"data row10 col9\" >0.62</td>\n                        <td id=\"T_b155f_row10_col10\" class=\"data row10 col10\" >1.00</td>\n                        <td id=\"T_b155f_row10_col11\" class=\"data row10 col11\" >0.95</td>\n                        <td id=\"T_b155f_row10_col12\" class=\"data row10 col12\" >0.93</td>\n                        <td id=\"T_b155f_row10_col13\" class=\"data row10 col13\" >0.96</td>\n                        <td id=\"T_b155f_row10_col14\" class=\"data row10 col14\" >0.89</td>\n                        <td id=\"T_b155f_row10_col15\" class=\"data row10 col15\" >0.24</td>\n                        <td id=\"T_b155f_row10_col16\" class=\"data row10 col16\" >0.45</td>\n                        <td id=\"T_b155f_row10_col17\" class=\"data row10 col17\" >-0.29</td>\n                        <td id=\"T_b155f_row10_col18\" class=\"data row10 col18\" >-0.48</td>\n            </tr>\n            <tr>\n                        <th id=\"T_b155f_level0_row11\" class=\"row_heading level0 row11\" >NU_MEDIA_CH_2015</th>\n                        <td id=\"T_b155f_row11_col0\" class=\"data row11 col0\" >0.91</td>\n                        <td id=\"T_b155f_row11_col1\" class=\"data row11 col1\" >0.92</td>\n                        <td id=\"T_b155f_row11_col2\" class=\"data row11 col2\" >0.90</td>\n                        <td id=\"T_b155f_row11_col3\" class=\"data row11 col3\" >0.90</td>\n                        <td id=\"T_b155f_row11_col4\" class=\"data row11 col4\" >0.88</td>\n                        <td id=\"T_b155f_row11_col5\" class=\"data row11 col5\" >0.45</td>\n                        <td id=\"T_b155f_row11_col6\" class=\"data row11 col6\" >-0.51</td>\n                        <td id=\"T_b155f_row11_col7\" class=\"data row11 col7\" >-0.21</td>\n                        <td id=\"T_b155f_row11_col8\" class=\"data row11 col8\" >-0.16</td>\n                        <td id=\"T_b155f_row11_col9\" class=\"data row11 col9\" >0.62</td>\n                        <td id=\"T_b155f_row11_col10\" class=\"data row11 col10\" >0.95</td>\n                        <td id=\"T_b155f_row11_col11\" class=\"data row11 col11\" >1.00</td>\n                        <td id=\"T_b155f_row11_col12\" class=\"data row11 col12\" >0.96</td>\n                        <td id=\"T_b155f_row11_col13\" class=\"data row11 col13\" >0.93</td>\n                        <td id=\"T_b155f_row11_col14\" class=\"data row11 col14\" >0.90</td>\n                        <td id=\"T_b155f_row11_col15\" class=\"data row11 col15\" >0.26</td>\n                        <td id=\"T_b155f_row11_col16\" class=\"data row11 col16\" >0.45</td>\n                        <td id=\"T_b155f_row11_col17\" class=\"data row11 col17\" >-0.27</td>\n                        <td id=\"T_b155f_row11_col18\" class=\"data row11 col18\" >-0.50</td>\n            </tr>\n            <tr>\n                        <th id=\"T_b155f_level0_row12\" class=\"row_heading level0 row12\" >NU_MEDIA_LP_2015</th>\n                        <td id=\"T_b155f_row12_col0\" class=\"data row12 col0\" >0.89</td>\n                        <td id=\"T_b155f_row12_col1\" class=\"data row12 col1\" >0.92</td>\n                        <td id=\"T_b155f_row12_col2\" class=\"data row12 col2\" >0.92</td>\n                        <td id=\"T_b155f_row12_col3\" class=\"data row12 col3\" >0.88</td>\n                        <td id=\"T_b155f_row12_col4\" class=\"data row12 col4\" >0.88</td>\n                        <td id=\"T_b155f_row12_col5\" class=\"data row12 col5\" >0.45</td>\n                        <td id=\"T_b155f_row12_col6\" class=\"data row12 col6\" >-0.53</td>\n                        <td id=\"T_b155f_row12_col7\" class=\"data row12 col7\" >-0.19</td>\n                        <td id=\"T_b155f_row12_col8\" class=\"data row12 col8\" >-0.15</td>\n                        <td id=\"T_b155f_row12_col9\" class=\"data row12 col9\" >0.59</td>\n                        <td id=\"T_b155f_row12_col10\" class=\"data row12 col10\" >0.93</td>\n                        <td id=\"T_b155f_row12_col11\" class=\"data row12 col11\" >0.96</td>\n                        <td id=\"T_b155f_row12_col12\" class=\"data row12 col12\" >1.00</td>\n                        <td id=\"T_b155f_row12_col13\" class=\"data row12 col13\" >0.90</td>\n                        <td id=\"T_b155f_row12_col14\" class=\"data row12 col14\" >0.88</td>\n                        <td id=\"T_b155f_row12_col15\" class=\"data row12 col15\" >0.29</td>\n                        <td id=\"T_b155f_row12_col16\" class=\"data row12 col16\" >0.45</td>\n                        <td id=\"T_b155f_row12_col17\" class=\"data row12 col17\" >-0.26</td>\n                        <td id=\"T_b155f_row12_col18\" class=\"data row12 col18\" >-0.51</td>\n            </tr>\n            <tr>\n                        <th id=\"T_b155f_level0_row13\" class=\"row_heading level0 row13\" >NU_MEDIA_MT_2015</th>\n                        <td id=\"T_b155f_row13_col0\" class=\"data row13 col0\" >0.92</td>\n                        <td id=\"T_b155f_row13_col1\" class=\"data row13 col1\" >0.89</td>\n                        <td id=\"T_b155f_row13_col2\" class=\"data row13 col2\" >0.87</td>\n                        <td id=\"T_b155f_row13_col3\" class=\"data row13 col3\" >0.93</td>\n                        <td id=\"T_b155f_row13_col4\" class=\"data row13 col4\" >0.84</td>\n                        <td id=\"T_b155f_row13_col5\" class=\"data row13 col5\" >0.45</td>\n                        <td id=\"T_b155f_row13_col6\" class=\"data row13 col6\" >-0.48</td>\n                        <td id=\"T_b155f_row13_col7\" class=\"data row13 col7\" >-0.19</td>\n                        <td id=\"T_b155f_row13_col8\" class=\"data row13 col8\" >-0.15</td>\n                        <td id=\"T_b155f_row13_col9\" class=\"data row13 col9\" >0.59</td>\n                        <td id=\"T_b155f_row13_col10\" class=\"data row13 col10\" >0.96</td>\n                        <td id=\"T_b155f_row13_col11\" class=\"data row13 col11\" >0.93</td>\n                        <td id=\"T_b155f_row13_col12\" class=\"data row13 col12\" >0.90</td>\n                        <td id=\"T_b155f_row13_col13\" class=\"data row13 col13\" >1.00</td>\n                        <td id=\"T_b155f_row13_col14\" class=\"data row13 col14\" >0.86</td>\n                        <td id=\"T_b155f_row13_col15\" class=\"data row13 col15\" >0.24</td>\n                        <td id=\"T_b155f_row13_col16\" class=\"data row13 col16\" >0.44</td>\n                        <td id=\"T_b155f_row13_col17\" class=\"data row13 col17\" >-0.29</td>\n                        <td id=\"T_b155f_row13_col18\" class=\"data row13 col18\" >-0.46</td>\n            </tr>\n            <tr>\n                        <th id=\"T_b155f_level0_row14\" class=\"row_heading level0 row14\" >NU_MEDIA_RED_2015</th>\n                        <td id=\"T_b155f_row14_col0\" class=\"data row14 col0\" >0.86</td>\n                        <td id=\"T_b155f_row14_col1\" class=\"data row14 col1\" >0.86</td>\n                        <td id=\"T_b155f_row14_col2\" class=\"data row14 col2\" >0.84</td>\n                        <td id=\"T_b155f_row14_col3\" class=\"data row14 col3\" >0.83</td>\n                        <td id=\"T_b155f_row14_col4\" class=\"data row14 col4\" >0.88</td>\n                        <td id=\"T_b155f_row14_col5\" class=\"data row14 col5\" >0.43</td>\n                        <td id=\"T_b155f_row14_col6\" class=\"data row14 col6\" >-0.48</td>\n                        <td id=\"T_b155f_row14_col7\" class=\"data row14 col7\" >-0.18</td>\n                        <td id=\"T_b155f_row14_col8\" class=\"data row14 col8\" >-0.16</td>\n                        <td id=\"T_b155f_row14_col9\" class=\"data row14 col9\" >0.64</td>\n                        <td id=\"T_b155f_row14_col10\" class=\"data row14 col10\" >0.89</td>\n                        <td id=\"T_b155f_row14_col11\" class=\"data row14 col11\" >0.90</td>\n                        <td id=\"T_b155f_row14_col12\" class=\"data row14 col12\" >0.88</td>\n                        <td id=\"T_b155f_row14_col13\" class=\"data row14 col13\" >0.86</td>\n                        <td id=\"T_b155f_row14_col14\" class=\"data row14 col14\" >1.00</td>\n                        <td id=\"T_b155f_row14_col15\" class=\"data row14 col15\" >0.23</td>\n                        <td id=\"T_b155f_row14_col16\" class=\"data row14 col16\" >0.43</td>\n                        <td id=\"T_b155f_row14_col17\" class=\"data row14 col17\" >-0.27</td>\n                        <td id=\"T_b155f_row14_col18\" class=\"data row14 col18\" >-0.46</td>\n            </tr>\n            <tr>\n                        <th id=\"T_b155f_level0_row15\" class=\"row_heading level0 row15\" >PC_FORMACAO_DOCENTE_2015</th>\n                        <td id=\"T_b155f_row15_col0\" class=\"data row15 col0\" >0.24</td>\n                        <td id=\"T_b155f_row15_col1\" class=\"data row15 col1\" >0.28</td>\n                        <td id=\"T_b155f_row15_col2\" class=\"data row15 col2\" >0.28</td>\n                        <td id=\"T_b155f_row15_col3\" class=\"data row15 col3\" >0.25</td>\n                        <td id=\"T_b155f_row15_col4\" class=\"data row15 col4\" >0.26</td>\n                        <td id=\"T_b155f_row15_col5\" class=\"data row15 col5\" >-0.01</td>\n                        <td id=\"T_b155f_row15_col6\" class=\"data row15 col6\" >-0.05</td>\n                        <td id=\"T_b155f_row15_col7\" class=\"data row15 col7\" >0.14</td>\n                        <td id=\"T_b155f_row15_col8\" class=\"data row15 col8\" >0.06</td>\n                        <td id=\"T_b155f_row15_col9\" class=\"data row15 col9\" >0.06</td>\n                        <td id=\"T_b155f_row15_col10\" class=\"data row15 col10\" >0.24</td>\n                        <td id=\"T_b155f_row15_col11\" class=\"data row15 col11\" >0.26</td>\n                        <td id=\"T_b155f_row15_col12\" class=\"data row15 col12\" >0.29</td>\n                        <td id=\"T_b155f_row15_col13\" class=\"data row15 col13\" >0.24</td>\n                        <td id=\"T_b155f_row15_col14\" class=\"data row15 col14\" >0.23</td>\n                        <td id=\"T_b155f_row15_col15\" class=\"data row15 col15\" >1.00</td>\n                        <td id=\"T_b155f_row15_col16\" class=\"data row15 col16\" >-0.00</td>\n                        <td id=\"T_b155f_row15_col17\" class=\"data row15 col17\" >0.04</td>\n                        <td id=\"T_b155f_row15_col18\" class=\"data row15 col18\" >-0.05</td>\n            </tr>\n            <tr>\n                        <th id=\"T_b155f_level0_row16\" class=\"row_heading level0 row16\" >NU_TAXA_APROVACAO_2015</th>\n                        <td id=\"T_b155f_row16_col0\" class=\"data row16 col0\" >0.45</td>\n                        <td id=\"T_b155f_row16_col1\" class=\"data row16 col1\" >0.44</td>\n                        <td id=\"T_b155f_row16_col2\" class=\"data row16 col2\" >0.44</td>\n                        <td id=\"T_b155f_row16_col3\" class=\"data row16 col3\" >0.43</td>\n                        <td id=\"T_b155f_row16_col4\" class=\"data row16 col4\" >0.45</td>\n                        <td id=\"T_b155f_row16_col5\" class=\"data row16 col5\" >0.84</td>\n                        <td id=\"T_b155f_row16_col6\" class=\"data row16 col6\" >-0.66</td>\n                        <td id=\"T_b155f_row16_col7\" class=\"data row16 col7\" >-0.29</td>\n                        <td id=\"T_b155f_row16_col8\" class=\"data row16 col8\" >-0.19</td>\n                        <td id=\"T_b155f_row16_col9\" class=\"data row16 col9\" >0.45</td>\n                        <td id=\"T_b155f_row16_col10\" class=\"data row16 col10\" >0.45</td>\n                        <td id=\"T_b155f_row16_col11\" class=\"data row16 col11\" >0.45</td>\n                        <td id=\"T_b155f_row16_col12\" class=\"data row16 col12\" >0.45</td>\n                        <td id=\"T_b155f_row16_col13\" class=\"data row16 col13\" >0.44</td>\n                        <td id=\"T_b155f_row16_col14\" class=\"data row16 col14\" >0.43</td>\n                        <td id=\"T_b155f_row16_col15\" class=\"data row16 col15\" >-0.00</td>\n                        <td id=\"T_b155f_row16_col16\" class=\"data row16 col16\" >1.00</td>\n                        <td id=\"T_b155f_row16_col17\" class=\"data row16 col17\" >-0.88</td>\n                        <td id=\"T_b155f_row16_col18\" class=\"data row16 col18\" >-0.72</td>\n            </tr>\n            <tr>\n                        <th id=\"T_b155f_level0_row17\" class=\"row_heading level0 row17\" >NU_TAXA_REPROVACAO_2015</th>\n                        <td id=\"T_b155f_row17_col0\" class=\"data row17 col0\" >-0.30</td>\n                        <td id=\"T_b155f_row17_col1\" class=\"data row17 col1\" >-0.26</td>\n                        <td id=\"T_b155f_row17_col2\" class=\"data row17 col2\" >-0.26</td>\n                        <td id=\"T_b155f_row17_col3\" class=\"data row17 col3\" >-0.28</td>\n                        <td id=\"T_b155f_row17_col4\" class=\"data row17 col4\" >-0.27</td>\n                        <td id=\"T_b155f_row17_col5\" class=\"data row17 col5\" >-0.71</td>\n                        <td id=\"T_b155f_row17_col6\" class=\"data row17 col6\" >0.39</td>\n                        <td id=\"T_b155f_row17_col7\" class=\"data row17 col7\" >0.23</td>\n                        <td id=\"T_b155f_row17_col8\" class=\"data row17 col8\" >0.16</td>\n                        <td id=\"T_b155f_row17_col9\" class=\"data row17 col9\" >-0.29</td>\n                        <td id=\"T_b155f_row17_col10\" class=\"data row17 col10\" >-0.29</td>\n                        <td id=\"T_b155f_row17_col11\" class=\"data row17 col11\" >-0.27</td>\n                        <td id=\"T_b155f_row17_col12\" class=\"data row17 col12\" >-0.26</td>\n                        <td id=\"T_b155f_row17_col13\" class=\"data row17 col13\" >-0.29</td>\n                        <td id=\"T_b155f_row17_col14\" class=\"data row17 col14\" >-0.27</td>\n                        <td id=\"T_b155f_row17_col15\" class=\"data row17 col15\" >0.04</td>\n                        <td id=\"T_b155f_row17_col16\" class=\"data row17 col16\" >-0.88</td>\n                        <td id=\"T_b155f_row17_col17\" class=\"data row17 col17\" >1.00</td>\n                        <td id=\"T_b155f_row17_col18\" class=\"data row17 col18\" >0.31</td>\n            </tr>\n            <tr>\n                        <th id=\"T_b155f_level0_row18\" class=\"row_heading level0 row18\" >NU_TAXA_ABANDONO_2015</th>\n                        <td id=\"T_b155f_row18_col0\" class=\"data row18 col0\" >-0.48</td>\n                        <td id=\"T_b155f_row18_col1\" class=\"data row18 col1\" >-0.49</td>\n                        <td id=\"T_b155f_row18_col2\" class=\"data row18 col2\" >-0.51</td>\n                        <td id=\"T_b155f_row18_col3\" class=\"data row18 col3\" >-0.46</td>\n                        <td id=\"T_b155f_row18_col4\" class=\"data row18 col4\" >-0.51</td>\n                        <td id=\"T_b155f_row18_col5\" class=\"data row18 col5\" >-0.66</td>\n                        <td id=\"T_b155f_row18_col6\" class=\"data row18 col6\" >0.76</td>\n                        <td id=\"T_b155f_row18_col7\" class=\"data row18 col7\" >0.25</td>\n                        <td id=\"T_b155f_row18_col8\" class=\"data row18 col8\" >0.16</td>\n                        <td id=\"T_b155f_row18_col9\" class=\"data row18 col9\" >-0.48</td>\n                        <td id=\"T_b155f_row18_col10\" class=\"data row18 col10\" >-0.48</td>\n                        <td id=\"T_b155f_row18_col11\" class=\"data row18 col11\" >-0.50</td>\n                        <td id=\"T_b155f_row18_col12\" class=\"data row18 col12\" >-0.51</td>\n                        <td id=\"T_b155f_row18_col13\" class=\"data row18 col13\" >-0.46</td>\n                        <td id=\"T_b155f_row18_col14\" class=\"data row18 col14\" >-0.46</td>\n                        <td id=\"T_b155f_row18_col15\" class=\"data row18 col15\" >-0.05</td>\n                        <td id=\"T_b155f_row18_col16\" class=\"data row18 col16\" >-0.72</td>\n                        <td id=\"T_b155f_row18_col17\" class=\"data row18 col17\" >0.31</td>\n                        <td id=\"T_b155f_row18_col18\" class=\"data row18 col18\" >1.00</td>\n            </tr>\n    </tbody></table>",
            "text/plain": "<pandas.io.formats.style.Styler at 0x7f74f840bca0>"
          },
          "execution_count": 60,
          "metadata": {},
          "output_type": "execute_result"
        }
      ],
      "source": [
        "corr.style.background_gradient(axis=None, cmap='bwr').set_precision(2)"
      ]
    },
    {
      "cell_type": "markdown",
      "metadata": {
        "id": "c5QjAeb_0BmV"
      },
      "source": [
        "# Separação dos dados\n",
        "\n",
        "Agora vamos separar cada conjunto de dados em duas partes: `features`, que são os atributos sobre os quais treinaremos o modelo, e `rotulos`, que contém os atributos a serem previstos."
      ]
    },
    {
      "cell_type": "code",
      "execution_count": 61,
      "metadata": {
        "id": "c_6UKKfX0BmV"
      },
      "outputs": [],
      "source": [
        "# rotulos\n",
        "rotulos = enem[['NU_MEDIA_MT_2015', 'NU_MEDIA_RED_2015']]\n",
        "\n",
        "# features\n",
        "features = enem.drop(columns=['NU_MEDIA_MT_2015', 'NU_MEDIA_RED_2015'])"
      ]
    },
    {
      "cell_type": "markdown",
      "metadata": {
        "id": "7pw5JXFO0BmV"
      },
      "source": [
        "Vamos agora separar as _features_ e os rótulos em subconjuntos de treino e de testes.\n",
        "\n",
        "Não vamos precisar de conjuntos de validação, pois iremos utilizar depois a estratégia de validação cruzada para garantir que o modelo não está fazendo _overfitting_."
      ]
    },
    {
      "cell_type": "code",
      "execution_count": 62,
      "metadata": {
        "id": "8IFsTWME0BmW"
      },
      "outputs": [],
      "source": [
        "# separação em conjuntos de treino (80%) e de teste (20%)\n",
        "\n",
        "from sklearn.model_selection import train_test_split\n",
        "treino_features, teste_features, treino_rotulos, teste_rotulos = train_test_split(features, rotulos,\n",
        "                                                                                  random_state=42, \n",
        "                                                                                  train_size=0.80)"
      ]
    },
    {
      "cell_type": "markdown",
      "metadata": {
        "id": "w-m44RaG0BmW"
      },
      "source": [
        "É importante verificar o número de linhas e de colunas para cada subconjunto criado:"
      ]
    },
    {
      "cell_type": "code",
      "execution_count": 63,
      "metadata": {
        "id": "HuC3D70H0BmW"
      },
      "outputs": [
        {
          "name": "stdout",
          "output_type": "stream",
          "text": [
            "treino_features: (10496, 25)\n",
            "treino_rotulos:  (10496, 2)\n",
            "teste_features:  (2625, 25)\n",
            "teste_rotulos:   (2625, 2)\n"
          ]
        }
      ],
      "source": [
        "print('treino_features:', treino_features.shape)\n",
        "print('treino_rotulos: ', treino_rotulos.shape)\n",
        "print('teste_features: ', teste_features.shape)\n",
        "print('teste_rotulos:  ', teste_rotulos.shape)"
      ]
    },
    {
      "cell_type": "code",
      "execution_count": 64,
      "metadata": {
        "id": "XYa6vV5_0BmX"
      },
      "outputs": [
        {
          "name": "stdout",
          "output_type": "stream",
          "text": [
            "TP_DEPENDENCIA_ADM_ESCOLA_2014                                             2\n",
            "TP_LOCALIZACAO_ESCOLA_2014                                                 1\n",
            "NU_MEDIA_CN_2014                                                       472.3\n",
            "NU_MEDIA_CH_2014                                                      530.61\n",
            "NU_MEDIA_LP_2014                                                      492.38\n",
            "NU_MEDIA_MT_2014                                                      445.53\n",
            "NU_MEDIA_RED_2014                                                      446.4\n",
            "NU_TAXA_APROVACAO_2014                                                  75.8\n",
            "NU_TAXA_ABANDONO_2014                                                   11.4\n",
            "PORTE_ESCOLA_2014                                        Maior que 90 alunos\n",
            "NO_ESCOLA_EDUCACENSO_2015         EE - COLEGIO MODELO LUIS EDUARDO MAGALHAES\n",
            "TP_DEPENDENCIA_ADM_ESCOLA_2015                                             2\n",
            "TP_LOCALIZACAO_ESCOLA_2015                                                 1\n",
            "NU_MATRICULAS_2015                                                       339\n",
            "NU_PARTICIPANTES_NEC_ESP_2015                                            0.0\n",
            "NU_TAXA_PARTICIPACAO_2015                                              60.77\n",
            "NU_MEDIA_CN_2015                                                      455.56\n",
            "NU_MEDIA_CH_2015                                                       545.1\n",
            "NU_MEDIA_LP_2015                                                      483.97\n",
            "INSE_2015                                                            Grupo 2\n",
            "PC_FORMACAO_DOCENTE_2015                                                38.3\n",
            "NU_TAXA_APROVACAO_2015                                                  76.1\n",
            "NU_TAXA_REPROVACAO_2015                                                 14.9\n",
            "NU_TAXA_ABANDONO_2015                                                    9.0\n",
            "PORTE_ESCOLA_2015                                        Maior que 90 alunos\n",
            "Name: 29403230, dtype: object\n"
          ]
        }
      ],
      "source": [
        "print(treino_features.iloc[0])"
      ]
    },
    {
      "cell_type": "code",
      "execution_count": 65,
      "metadata": {
        "id": "PAYJQysC0BmX"
      },
      "outputs": [
        {
          "name": "stdout",
          "output_type": "stream",
          "text": [
            "NU_MEDIA_MT_2015     433.73\n",
            "NU_MEDIA_RED_2015    522.12\n",
            "Name: 29403230, dtype: float64\n"
          ]
        }
      ],
      "source": [
        "print(treino_rotulos.iloc[0])"
      ]
    },
    {
      "cell_type": "markdown",
      "metadata": {
        "id": "Kcx9YnCv0BmX"
      },
      "source": [
        "# Preprocessamento\n",
        "\n",
        "Aqui faremos a etapa de preprocessamento, necessária para transformar os dados brutos em valores mais adequados para os algoritmos de Machine Learning."
      ]
    },
    {
      "cell_type": "code",
      "execution_count": 66,
      "metadata": {
        "id": "oY1xHdWr0BmY"
      },
      "outputs": [],
      "source": [
        "from sklearn.pipeline import Pipeline"
      ]
    },
    {
      "cell_type": "code",
      "execution_count": 67,
      "metadata": {
        "id": "OZ6MiHJp0BmY"
      },
      "outputs": [],
      "source": [
        "# aqui definimos uma etapa auxiliar do pipeline para atributos categóricos:\n",
        "# esta substitui valores faltando pelo mais frequente de cada coluna\n",
        "# (não se preocupe com os detalhes do código)\n",
        "\n",
        "from sklearn.base import BaseEstimator, TransformerMixin\n",
        "\n",
        "class MostFrequentImputer(BaseEstimator, TransformerMixin):\n",
        "    def fit(self, X, y=None):\n",
        "        self.most_frequent_ = pd.Series([X[c].value_counts().index[0] for c in X], index=X.columns)\n",
        "        return self\n",
        "    def transform(self, X, y=None):\n",
        "        return X.fillna(self.most_frequent_)"
      ]
    },
    {
      "cell_type": "markdown",
      "metadata": {
        "id": "phTgvXW80BmZ"
      },
      "source": [
        "Atributos numéricos (contínuos) e atributos categóricos (discretos) precisam ser processados separadamente.\n",
        "\n",
        "O trecho a seguir define um _pipeline_ genérico, apenas para os atributos numéricos. A etapa usando `SimpleImputer(strategy='median')` preenche valores faltando com a mediana dos valores daquele atributo."
      ]
    },
    {
      "cell_type": "code",
      "execution_count": 68,
      "metadata": {
        "id": "fi3eY4DS0BmZ"
      },
      "outputs": [],
      "source": [
        "# pipeline para atributos numéricos\n",
        "\n",
        "from sklearn.impute import SimpleImputer\n",
        "from sklearn.preprocessing import StandardScaler\n",
        "\n",
        "num_pipeline = Pipeline([\n",
        "    ('imputer', SimpleImputer(strategy='median')),\n",
        "    ('std_scaler', StandardScaler()),\n",
        "])"
      ]
    },
    {
      "cell_type": "markdown",
      "metadata": {
        "id": "bhD8F8a50Bma"
      },
      "source": [
        "O trecho a seguir define um pipeline genérico, apenas para os atributos categóricos.\n",
        "\n",
        "A etapa usando `MostFrequentImputer()` preenche valores faltando com o mais frequente dos valores daquele atributo. Já a etapa seguinte, usando `OneHotEncoder(sparse=False)` expande cada atributo que não é numérico para um conjunto de atributos binários. Esta precisa ser a última etapa desse _pipeline_."
      ]
    },
    {
      "cell_type": "code",
      "execution_count": 69,
      "metadata": {
        "id": "ylLFaKFc0Bmb"
      },
      "outputs": [],
      "source": [
        "# pipeline para atributos categóricos\n",
        "\n",
        "from sklearn.preprocessing import OneHotEncoder\n",
        "\n",
        "cat_pipeline = Pipeline([\n",
        "    ('imputer', MostFrequentImputer()),\n",
        "    ('encoder', OneHotEncoder(sparse=False)),\n",
        "])"
      ]
    },
    {
      "cell_type": "markdown",
      "metadata": {
        "id": "mSJQW3Iv0Bmb"
      },
      "source": [
        "A seguir usamos o recurso `ColumnTransformer` para aplicar determinados _pipelines_ para determinados atributos. Assim temos um _pipeline_ inteligente que processa os dados de uma só vez, mas executa operações diferentes conforme a natureza de cada atributo."
      ]
    },
    {
      "cell_type": "code",
      "execution_count": 80,
      "metadata": {},
      "outputs": [
        {
          "data": {
            "text/plain": "Index(['TP_DEPENDENCIA_ADM_ESCOLA_2014', 'TP_LOCALIZACAO_ESCOLA_2014',\n       'NU_MEDIA_CN_2014', 'NU_MEDIA_CH_2014', 'NU_MEDIA_LP_2014',\n       'NU_MEDIA_MT_2014', 'NU_MEDIA_RED_2014', 'NU_TAXA_APROVACAO_2014',\n       'NU_TAXA_ABANDONO_2014', 'PORTE_ESCOLA_2014',\n       'NO_ESCOLA_EDUCACENSO_2015', 'TP_DEPENDENCIA_ADM_ESCOLA_2015',\n       'TP_LOCALIZACAO_ESCOLA_2015', 'NU_MATRICULAS_2015',\n       'NU_PARTICIPANTES_NEC_ESP_2015', 'NU_TAXA_PARTICIPACAO_2015',\n       'NU_MEDIA_CN_2015', 'NU_MEDIA_CH_2015', 'NU_MEDIA_LP_2015',\n       'NU_MEDIA_MT_2015', 'NU_MEDIA_RED_2015', 'INSE_2015',\n       'PC_FORMACAO_DOCENTE_2015', 'NU_TAXA_APROVACAO_2015',\n       'NU_TAXA_REPROVACAO_2015', 'NU_TAXA_ABANDONO_2015',\n       'PORTE_ESCOLA_2015'],\n      dtype='object')"
          },
          "execution_count": 80,
          "metadata": {},
          "output_type": "execute_result"
        }
      ],
      "source": [
        "enem.columns"
      ]
    },
    {
      "cell_type": "code",
      "execution_count": 83,
      "metadata": {
        "id": "6pRbDV3w0Bmb"
      },
      "outputs": [],
      "source": [
        "# pipeline combinando atributos numéricos com atributos categóricos\n",
        "\n",
        "from sklearn.compose import ColumnTransformer\n",
        "\n",
        "full_pipeline = ColumnTransformer([\n",
        "    ('num', num_pipeline, ['NU_MEDIA_MT_2014', 'NU_MEDIA_RED_2014', 'NU_MATRICULAS_2015', \n",
        "                           'NU_PARTICIPANTES_NEC_ESP_2015', 'NU_TAXA_PARTICIPACAO_2015',\n",
        "                           'PC_FORMACAO_DOCENTE_2015', 'NU_TAXA_APROVACAO_2015',\n",
        "                           'NU_TAXA_REPROVACAO_2015', 'NU_TAXA_ABANDONO_2015',\n",
        "                           'NU_MEDIA_CN_2014', 'NU_MEDIA_CH_2014', 'NU_MEDIA_LP_2014',\n",
        "                           'NU_TAXA_ABANDONO_2014', 'NU_MEDIA_CN_2015', 'NU_MEDIA_CH_2015',\n",
        "                           'NU_MEDIA_LP_2015']),\n",
        "    ('cat', cat_pipeline, ['TP_DEPENDENCIA_ADM_ESCOLA_2015', 'TP_LOCALIZACAO_ESCOLA_2015', 'INSE_2015',\n",
        "                           'PORTE_ESCOLA_2015', 'PORTE_ESCOLA_2014']),\n",
        "])"
      ]
    },
    {
      "cell_type": "markdown",
      "metadata": {
        "id": "1HG4xNaW0Bmb"
      },
      "source": [
        "Enfim, processamos os features de treino e de teste, gerando os conjuntos prontos para o treinamento. Note que para os dados de treino usamos `.fit_transform()`, enquanto para os de teste apenas `.transform()`."
      ]
    },
    {
      "cell_type": "code",
      "execution_count": 84,
      "metadata": {
        "id": "3s9NBF8h0Bmc"
      },
      "outputs": [
        {
          "name": "stdout",
          "output_type": "stream",
          "text": [
            "[[-0.79496805 -0.8162171   2.91596328 ...  0.          0.\n",
            "   1.        ]\n",
            " [-0.83264068 -0.42146801  0.42016313 ...  0.          0.\n",
            "   1.        ]\n",
            " [ 0.68490802  0.9892998   0.17524816 ...  0.          0.\n",
            "   1.        ]\n",
            " ...\n",
            " [-0.56879223 -0.58949204 -0.57115936 ...  1.          0.\n",
            "   0.        ]\n",
            " [-0.04235577  0.91822451 -0.74609862 ...  0.          0.\n",
            "   0.        ]\n",
            " [-0.44891205 -0.27870383  0.54845192 ...  0.          0.\n",
            "   1.        ]]\n"
          ]
        }
      ],
      "source": [
        "# preprocessamento\n",
        "X_treino = full_pipeline.fit_transform(treino_features)\n",
        "X_teste  = full_pipeline.transform(teste_features)\n",
        "print(X_treino)"
      ]
    },
    {
      "cell_type": "markdown",
      "metadata": {
        "id": "D7HIaWiN0Bmc"
      },
      "source": [
        "Aqui vamos extrair somente os dados brutos dos rótulos, e colocar em `y_treino`, que é o formato esperado pelos algoritmos de Machine Learning."
      ]
    },
    {
      "cell_type": "code",
      "execution_count": 85,
      "metadata": {
        "id": "HXn-Edvy0Bmc"
      },
      "outputs": [
        {
          "name": "stdout",
          "output_type": "stream",
          "text": [
            "[[433.73 522.12]\n",
            " [437.38 583.04]\n",
            " [520.97 700.61]\n",
            " ...\n",
            " [460.6  560.95]\n",
            " [431.94 561.  ]\n",
            " [462.03 555.18]]\n"
          ]
        }
      ],
      "source": [
        "y_treino = treino_rotulos.values\n",
        "y_teste  = teste_rotulos.values\n",
        "print(y_treino)"
      ]
    },
    {
      "cell_type": "markdown",
      "metadata": {
        "id": "SinN-zGS0Bmd"
      },
      "source": [
        "# Seleção do modelo\n",
        "\n",
        "Aqui selecionamos um modelo para o aprendizado, baseado em um dos possíveis algoritmos de regressão. \n",
        "\n",
        "Como estamos criando um modelo com duas saídas (_multioutput_), para regressores simples precisamos usar o recurso `MultiOutputRegressor`. Este cria internamente um modelo separado para cada saída, mas os processos de treino, validação, teste e predição continuam os mesmos.\n",
        "\n",
        "Já o modelo do tipo `RandomForestRegressor` é naturalmente capaz de gerar múltiplas saídas, então pode ser utilizado diretamente.\n",
        "\n",
        "**Ajuste:** Depois de medir o desempenho do modelo você pode habilitar outros algoritmos. Note que apenas um  comando deve estar ativo (a linha de criação do `classificador`).\n",
        "\n",
        "- Para o algoritmo `SVR` você pode mudar os hiperparâmetros `C` e `gamma='auto'`.\n",
        "\n",
        "- Para o algoritmo `SGDRegressor` você pode mudar o hiperparâmetro `eta0`.\n",
        "\n",
        "- Para o algoritmo `LinearRegression` não há hiperparâmetros a serem ajustados.\n",
        "\n",
        "- Para o algoritmo `RandomForestRegressor` você pode aumentar o parâmetro `n_estimators`, por exemplo para 10 ou 100."
      ]
    },
    {
      "cell_type": "code",
      "execution_count": 97,
      "metadata": {
        "id": "ccy7Yki60Bmd"
      },
      "outputs": [],
      "source": [
        "from sklearn.multioutput import MultiOutputRegressor\n",
        "from sklearn.svm import SVR\n",
        "from sklearn.linear_model import SGDRegressor\n",
        "from sklearn.linear_model import LinearRegression\n",
        "from sklearn.ensemble import RandomForestRegressor\n",
        "\n",
        "#regressor = MultiOutputRegressor(SVR(C=1.0, gamma='scale'))\n",
        "\n",
        "#regressor = MultiOutputRegressor(SGDRegressor(random_state=42, learning_rate='constant', eta0=0.0001))\n",
        "\n",
        "regressor = MultiOutputRegressor(LinearRegression())\n",
        "\n",
        "#regressor = RandomForestRegressor(random_state=42, n_estimators=1)"
      ]
    },
    {
      "cell_type": "markdown",
      "metadata": {
        "id": "c0LvnP9m0Bmd"
      },
      "source": [
        "# Treino e medida de desempenho\n",
        "\n",
        "Vamos treinar e avaliar o regressor fazendo a **validação cruzada** do conjunto de treino. O parâmetro `cv=3` indica o número de dobras (ou _folds_), que é o número de vezes em que o conjunto é repartido, treinado e mensurado.\n",
        "\n",
        "Como medida de desempenho vamos usar o erro absoluto médio. **Quanto menor esse erro, melhor.** Ele indica em média quantos pontos a mais ou menos as previsões das notas erram.\n",
        "\n",
        "Como a validação cruzada devolve várias medidas, guardadas na lista `scores`, calculamos e exibimos uma média aritmética simples dessas medidas."
      ]
    },
    {
      "cell_type": "code",
      "execution_count": 98,
      "metadata": {
        "id": "abpc0kQD0Bme"
      },
      "outputs": [
        {
          "name": "stdout",
          "output_type": "stream",
          "text": [
            "CPU times: user 617 ms, sys: 651 ms, total: 1.27 s\n",
            "Wall time: 93.1 ms\n",
            "scores: 17.71 17.59 17.67 17.84 17.93 \n",
            "média:  17.75\n"
          ]
        }
      ],
      "source": [
        "# validação cruzada\n",
        "\n",
        "from sklearn.model_selection import cross_val_score\n",
        "\n",
        "%time scores = cross_val_score(regressor, X_treino, y_treino, cv=5, scoring='neg_mean_absolute_error')\n",
        "print('scores: ' + ('{:.2f} ' * len(scores)).format(*(-scores)))\n",
        "print('média:  {:.2f}'.format(-scores.mean()))"
      ]
    },
    {
      "cell_type": "markdown",
      "metadata": {
        "id": "3ZGPxajF0Bme"
      },
      "source": [
        "**Opcional:** Para melhorar o modelo existem diversas possibilidades de **ajuste** do modelo:\n",
        "\n",
        "- A ação mais direta é simplesmente testar outros algoritmos, como mostrado na seção \"Seleção do Modelo\".\n",
        "\n",
        "- Também é possível experimentar com os hiperparâmetros dos diversos algoritmos.\n",
        "\n",
        "- Outra possibilidade é reduzir o número de _features_, simplesmente retirando atributos numéricos e categóricos do _pipeline_ `full_pipeline` na seção \"Preprocessamento\".\n",
        "\n",
        "**Avançado**: Ainda é possível incluir mais _features_ do ano de 2014, o que deve ser feito na seção \"Reorganização dos dados\" e depois na seção \"Preprocessamento\"."
      ]
    },
    {
      "cell_type": "markdown",
      "metadata": {
        "id": "2R6LOMBc0Bme"
      },
      "source": [
        "# Teste final do modelo\n",
        "\n",
        "Se você estiver satisfeito com a qualidade obtida na validação cruzada, então podemos fazer o teste final do modelo `regressor`.\n",
        "\n",
        "Note que o treinamento do modelo é feito de fato aqui, com a chamada de `.fit()`. A validação cruzada feita anteriormente gera modelos temporários para as medidas e os descarta, mas não deixa o modelo treinado."
      ]
    },
    {
      "cell_type": "code",
      "execution_count": 92,
      "metadata": {
        "id": "xPTYOzWa0Bmf"
      },
      "outputs": [
        {
          "name": "stdout",
          "output_type": "stream",
          "text": [
            "[[506.27251405 591.43641297]\n",
            " [573.10427245 587.90981344]\n",
            " [518.33502966 610.02647617]\n",
            " ...\n",
            " [518.66588907 598.21695704]\n",
            " [575.06859166 664.58794084]\n",
            " [454.74961276 520.08646304]]\n"
          ]
        }
      ],
      "source": [
        "# treinamento\n",
        "regressor.fit(X_treino, y_treino)\n",
        "\n",
        "# geração das previsões\n",
        "y_teste_pred = regressor.predict(X_teste)\n",
        "print(y_teste_pred)"
      ]
    },
    {
      "cell_type": "markdown",
      "metadata": {
        "id": "XKg6wZJR0Bmf"
      },
      "source": [
        "Agora vamos avaliar o erro absoluto médio novamente, porém comparando o valores previstos com base nos dados de teste contra os rótulos reais para os mesmos dados de teste."
      ]
    },
    {
      "cell_type": "code",
      "execution_count": 93,
      "metadata": {
        "id": "Cx9jtRxE0Bmf"
      },
      "outputs": [
        {
          "name": "stdout",
          "output_type": "stream",
          "text": [
            "score teste: 17.50\n"
          ]
        }
      ],
      "source": [
        "# medida de desempenho\n",
        "from sklearn.metrics import mean_absolute_error\n",
        "score_teste = mean_absolute_error(y_teste, y_teste_pred)\n",
        "print('score teste: {:.2f}'.format(score_teste))"
      ]
    },
    {
      "cell_type": "markdown",
      "metadata": {
        "id": "vDpW8wbh0Bmg"
      },
      "source": [
        "Caso o modelo escolhido seja do tipo `RandomForestRegressor`, podemos inspecionar a importância aprendida para as _features_ do conjunto, o que dá um _insight_ importante sobre os dados. Para outros algoritmos não existem estas medidas."
      ]
    },
    {
      "cell_type": "code",
      "execution_count": 99,
      "metadata": {
        "id": "P6DDCZxF0Bmg"
      },
      "outputs": [
        {
          "name": "stdout",
          "output_type": "stream",
          "text": [
            "AVISO: este tipo de regressor não permite visualizar a importância das features.\n",
            "Se desejar, use como regressor o RandomForestRegressor na seção SELEÇÃO DO MODELO.\n"
          ]
        }
      ],
      "source": [
        "# lista a importância das features\n",
        "if type(regressor) != RandomForestRegressor:\n",
        "    print('AVISO: este tipo de regressor não permite visualizar a importância das features.')\n",
        "    print('Se desejar, use como regressor o RandomForestRegressor na seção SELEÇÃO DO MODELO.')\n",
        "else:\n",
        "    # features listadas por ordem crescente de importância\n",
        "    for score, name in sorted(zip(regressor.feature_importances_, treino_features.columns)):\n",
        "        print('{:06.2%}'.format(score), name)"
      ]
    },
    {
      "cell_type": "markdown",
      "metadata": {
        "id": "zjhJpU0B0Bmh"
      },
      "source": [
        "# Criando um modelo de rede neural\n",
        "\n",
        "Aqui vamos criar uma rede neural de regressão, usando um modelo (ou arquitetura) do tipo sequencial. O modelo sequencial corresponde ao tipo mais simples de rede neural, onde uma sequência de camadas de neurônios é empilhada uma em cima da outra.\n",
        "\n",
        "Para este tipo específico de tarefa de regressão, não selecionamos nenhuma função de ativação para a camada de saída. Ou seja, basta deixar os dados \"brutos\" sairem da rede neural.\n",
        "\n",
        "Além disso, como queremos gerar a previsão para dois rótulos distintos, a camada de saída precisa ter **duas saídas**.\n",
        "\n",
        "Observe os demais parâmetros para o processo de treinamento:\n",
        "\n",
        "- O parâmetro `n_splits=2` define o número de quebras do conjunto de treinamento para a validação cruzada.\n",
        "\n",
        "- A arquitetura da rede pode ser modificada, adicionando novas camadas ocultas ou mudando o númere de neurônio das mesmas.\n",
        "\n",
        "- A função de perda é dada por `loss='mean_absolute_error'`, e precisa ser a mesma utilizada anteriormente em outros modelos, para que possamos comparar seu desempenho.\n",
        "\n",
        "- A taxa de aprendizado é dada pelo hiperparâmetro `lr=0.01`, que também pode ser experimentada.\n",
        "\n",
        "- É possivel usar a estratégia de _early stopping_ descomentando a linha `callbacks=[keras.callbacks.EarlyStopping(patience=5)],`.\n",
        "\n",
        "- Pode-se ainda mudar o número de épocas com o hiperparâmetro `epochs=10` (experimente com valores maiores)."
      ]
    },
    {
      "cell_type": "code",
      "execution_count": 158,
      "metadata": {},
      "outputs": [],
      "source": [
        "def model_build(num_features):\n",
        "\n",
        "    # especificação do modelo\n",
        "    model = keras.models.Sequential([\n",
        "        \n",
        "        keras.layers.Dense(64, activation='relu', input_shape=[num_features]),\n",
        "        keras.layers.BatchNormalization(),\n",
        "\n",
        "        keras.layers.Dropout(0.30),\n",
        "        keras.layers.Dense(32, activation='relu'),\n",
        "\n",
        "        keras.layers.Dropout(0.10),\n",
        "        keras.layers.Dense(32, activation='relu'),\n",
        "\n",
        "        keras.layers.Dense(2, activation=None)\n",
        "    ])\n",
        "\n",
        "    # especificação da função de perda e do algoritmo de otimização\n",
        "    model.compile(loss='mean_absolute_error',\n",
        "                    optimizer=keras.optimizers.SGD(lr=0.01), # taxa de aprendizado\n",
        "                    metrics=[\n",
        "                        'accuracy',\n",
        "                        #tf.keras.metrics.Precision(),\n",
        "                        #tf.keras.metrics.Recall()\n",
        "                        ])\n",
        "\n",
        "    return model"
      ]
    },
    {
      "cell_type": "code",
      "execution_count": 153,
      "metadata": {},
      "outputs": [
        {
          "data": {
            "text/plain": "36"
          },
          "execution_count": 153,
          "metadata": {},
          "output_type": "execute_result"
        }
      ],
      "source": [
        "num_features = X_treino.shape[1]\n",
        "num_features"
      ]
    },
    {
      "cell_type": "code",
      "execution_count": 159,
      "metadata": {},
      "outputs": [],
      "source": [
        "model = model_build(num_features)"
      ]
    },
    {
      "cell_type": "code",
      "execution_count": 160,
      "metadata": {
        "id": "IFoNXV390Bmh"
      },
      "outputs": [
        {
          "name": "stdout",
          "output_type": "stream",
          "text": [
            "------------------------------------------= FOLD 1 =------------------------------------------\n",
            "Epoch 1/50\n",
            "263/263 [==============================] - 1s 2ms/step - loss: 347.1252 - accuracy: 0.5297 - val_loss: 77.0608 - val_accuracy: 0.9748\n",
            "Epoch 2/50\n",
            "263/263 [==============================] - 0s 1ms/step - loss: 102.1347 - accuracy: 0.9700 - val_loss: 38.4017 - val_accuracy: 0.9748\n",
            "Epoch 3/50\n",
            "263/263 [==============================] - 0s 1ms/step - loss: 69.3376 - accuracy: 0.9675 - val_loss: 34.8492 - val_accuracy: 0.9748\n",
            "Epoch 4/50\n",
            "263/263 [==============================] - 0s 1ms/step - loss: 46.3953 - accuracy: 0.9723 - val_loss: 21.7383 - val_accuracy: 0.9748\n",
            "Epoch 5/50\n",
            "263/263 [==============================] - 0s 1ms/step - loss: 48.1915 - accuracy: 0.9684 - val_loss: 25.6716 - val_accuracy: 0.9748\n",
            "Epoch 6/50\n",
            "263/263 [==============================] - 0s 1ms/step - loss: 44.6011 - accuracy: 0.9704 - val_loss: 37.4685 - val_accuracy: 0.9748\n",
            "Epoch 7/50\n",
            "263/263 [==============================] - 0s 1ms/step - loss: 45.9923 - accuracy: 0.9680 - val_loss: 23.1298 - val_accuracy: 0.9748\n",
            "Epoch 8/50\n",
            "263/263 [==============================] - 0s 1ms/step - loss: 44.0089 - accuracy: 0.9706 - val_loss: 29.4398 - val_accuracy: 0.9748\n",
            "Epoch 9/50\n",
            "263/263 [==============================] - 0s 1ms/step - loss: 45.3411 - accuracy: 0.9675 - val_loss: 57.5207 - val_accuracy: 0.9748\n"
          ]
        },
        {
          "data": {
            "image/png": "[encoded data removed]",
            "text/plain": "<Figure size 720x288 with 1 Axes>"
          },
          "metadata": {
            "needs_background": "light"
          },
          "output_type": "display_data"
        },
        {
          "name": "stdout",
          "output_type": "stream",
          "text": [
            "------------------------------------------= FOLD 2 =------------------------------------------\n",
            "Epoch 1/50\n",
            "263/263 [==============================] - 0s 1ms/step - loss: 45.2462 - accuracy: 0.9694 - val_loss: 46.1157 - val_accuracy: 0.9714\n",
            "Epoch 2/50\n",
            "263/263 [==============================] - 0s 1ms/step - loss: 45.3922 - accuracy: 0.9694 - val_loss: 55.6089 - val_accuracy: 0.9714\n",
            "Epoch 3/50\n",
            "263/263 [==============================] - 0s 1ms/step - loss: 44.4575 - accuracy: 0.9694 - val_loss: 30.8998 - val_accuracy: 0.9714\n",
            "Epoch 4/50\n",
            "263/263 [==============================] - 0s 1ms/step - loss: 43.8860 - accuracy: 0.9694 - val_loss: 23.3775 - val_accuracy: 0.9714\n",
            "Epoch 5/50\n",
            "263/263 [==============================] - 0s 1ms/step - loss: 43.9615 - accuracy: 0.9694 - val_loss: 46.3250 - val_accuracy: 0.9714\n",
            "Epoch 6/50\n",
            "263/263 [==============================] - 0s 1ms/step - loss: 43.2395 - accuracy: 0.9694 - val_loss: 48.5312 - val_accuracy: 0.9714\n",
            "Epoch 7/50\n",
            "263/263 [==============================] - 0s 1ms/step - loss: 42.6556 - accuracy: 0.9694 - val_loss: 39.2514 - val_accuracy: 0.9714\n",
            "Epoch 8/50\n",
            "263/263 [==============================] - 0s 1ms/step - loss: 43.9190 - accuracy: 0.9694 - val_loss: 63.2393 - val_accuracy: 0.9714\n",
            "Epoch 9/50\n",
            "263/263 [==============================] - 0s 1ms/step - loss: 43.6279 - accuracy: 0.9694 - val_loss: 39.7516 - val_accuracy: 0.9714\n"
          ]
        },
        {
          "data": {
            "image/png": "[encoded data removed]",
            "text/plain": "<Figure size 720x288 with 1 Axes>"
          },
          "metadata": {
            "needs_background": "light"
          },
          "output_type": "display_data"
        },
        {
          "name": "stdout",
          "output_type": "stream",
          "text": [
            "------------------------------------------= FOLD 3 =------------------------------------------\n",
            "Epoch 1/50\n",
            "263/263 [==============================] - 0s 1ms/step - loss: 41.7546 - accuracy: 0.9705 - val_loss: 31.4045 - val_accuracy: 0.9671\n",
            "Epoch 2/50\n",
            "263/263 [==============================] - 0s 1ms/step - loss: 42.6120 - accuracy: 0.9705 - val_loss: 31.9316 - val_accuracy: 0.9671\n",
            "Epoch 3/50\n",
            "263/263 [==============================] - 0s 1ms/step - loss: 41.6238 - accuracy: 0.9705 - val_loss: 58.0916 - val_accuracy: 0.9671\n",
            "Epoch 4/50\n",
            "263/263 [==============================] - 0s 1ms/step - loss: 41.5142 - accuracy: 0.9705 - val_loss: 28.9055 - val_accuracy: 0.9671\n",
            "Epoch 5/50\n",
            "263/263 [==============================] - 0s 1ms/step - loss: 38.9539 - accuracy: 0.9705 - val_loss: 25.7866 - val_accuracy: 0.9671\n",
            "Epoch 6/50\n",
            "263/263 [==============================] - 0s 1ms/step - loss: 39.2188 - accuracy: 0.9705 - val_loss: 27.8935 - val_accuracy: 0.9671\n",
            "Epoch 7/50\n",
            "263/263 [==============================] - 0s 1ms/step - loss: 39.7928 - accuracy: 0.9705 - val_loss: 47.4201 - val_accuracy: 0.9671\n",
            "Epoch 8/50\n",
            "263/263 [==============================] - 0s 1ms/step - loss: 38.8596 - accuracy: 0.9705 - val_loss: 27.4702 - val_accuracy: 0.9671\n",
            "Epoch 9/50\n",
            "263/263 [==============================] - 0s 1ms/step - loss: 38.3732 - accuracy: 0.9705 - val_loss: 36.3734 - val_accuracy: 0.9671\n",
            "Epoch 10/50\n",
            "263/263 [==============================] - 0s 1ms/step - loss: 36.5967 - accuracy: 0.9705 - val_loss: 24.7173 - val_accuracy: 0.9671\n",
            "Epoch 11/50\n",
            "263/263 [==============================] - 0s 1ms/step - loss: 36.7404 - accuracy: 0.9705 - val_loss: 52.4961 - val_accuracy: 0.9671\n",
            "Epoch 12/50\n",
            "263/263 [==============================] - 0s 1ms/step - loss: 34.7717 - accuracy: 0.9705 - val_loss: 27.0156 - val_accuracy: 0.9671\n",
            "Epoch 13/50\n",
            "263/263 [==============================] - 0s 1ms/step - loss: 33.4915 - accuracy: 0.9705 - val_loss: 21.1778 - val_accuracy: 0.9671\n",
            "Epoch 14/50\n",
            "263/263 [==============================] - 0s 1ms/step - loss: 30.7368 - accuracy: 0.9705 - val_loss: 22.5215 - val_accuracy: 0.9671\n",
            "Epoch 15/50\n",
            "263/263 [==============================] - 0s 1ms/step - loss: 27.9776 - accuracy: 0.9705 - val_loss: 18.6637 - val_accuracy: 0.9671\n",
            "Epoch 16/50\n",
            "263/263 [==============================] - 0s 1ms/step - loss: 26.3370 - accuracy: 0.9705 - val_loss: 23.2177 - val_accuracy: 0.9671\n",
            "Epoch 17/50\n",
            "263/263 [==============================] - 0s 1ms/step - loss: 24.7235 - accuracy: 0.9705 - val_loss: 30.5467 - val_accuracy: 0.9671\n",
            "Epoch 18/50\n",
            "263/263 [==============================] - 0s 1ms/step - loss: 24.4555 - accuracy: 0.9705 - val_loss: 22.7310 - val_accuracy: 0.9671\n",
            "Epoch 19/50\n",
            "263/263 [==============================] - 0s 1ms/step - loss: 24.6990 - accuracy: 0.9705 - val_loss: 20.5674 - val_accuracy: 0.9671\n",
            "Epoch 20/50\n",
            "263/263 [==============================] - 0s 1ms/step - loss: 24.4819 - accuracy: 0.9705 - val_loss: 24.6006 - val_accuracy: 0.9671\n"
          ]
        },
        {
          "data": {
            "image/png": "[encoded data removed]",
            "text/plain": "<Figure size 720x288 with 1 Axes>"
          },
          "metadata": {
            "needs_background": "light"
          },
          "output_type": "display_data"
        },
        {
          "name": "stdout",
          "output_type": "stream",
          "text": [
            "------------------------------------------= FOLD 4 =------------------------------------------\n",
            "Epoch 1/50\n",
            "263/263 [==============================] - 0s 1ms/step - loss: 25.2514 - accuracy: 0.9711 - val_loss: 18.1544 - val_accuracy: 0.9647\n",
            "Epoch 2/50\n",
            "263/263 [==============================] - 0s 1ms/step - loss: 24.7074 - accuracy: 0.9711 - val_loss: 25.1522 - val_accuracy: 0.9647\n",
            "Epoch 3/50\n",
            "263/263 [==============================] - 0s 1ms/step - loss: 24.0415 - accuracy: 0.9708 - val_loss: 24.1952 - val_accuracy: 0.9647\n",
            "Epoch 4/50\n",
            "263/263 [==============================] - 0s 1ms/step - loss: 24.3106 - accuracy: 0.9711 - val_loss: 24.5810 - val_accuracy: 0.9647\n",
            "Epoch 5/50\n",
            "263/263 [==============================] - 0s 1ms/step - loss: 23.7711 - accuracy: 0.9711 - val_loss: 18.2088 - val_accuracy: 0.9647\n",
            "Epoch 6/50\n",
            "263/263 [==============================] - 0s 1ms/step - loss: 23.6446 - accuracy: 0.9712 - val_loss: 18.8375 - val_accuracy: 0.9657\n"
          ]
        },
        {
          "data": {
            "image/png": "[encoded data removed]",
            "text/plain": "<Figure size 720x288 with 1 Axes>"
          },
          "metadata": {
            "needs_background": "light"
          },
          "output_type": "display_data"
        },
        {
          "name": "stdout",
          "output_type": "stream",
          "text": [
            "------------------------------------------= FOLD 5 =------------------------------------------\n",
            "Epoch 1/50\n",
            "263/263 [==============================] - 0s 1ms/step - loss: 24.8812 - accuracy: 0.9695 - val_loss: 40.9839 - val_accuracy: 0.9719\n",
            "Epoch 2/50\n",
            "263/263 [==============================] - 0s 1ms/step - loss: 24.3390 - accuracy: 0.9695 - val_loss: 20.9106 - val_accuracy: 0.9709\n",
            "Epoch 3/50\n",
            "263/263 [==============================] - 0s 1ms/step - loss: 24.6072 - accuracy: 0.9695 - val_loss: 26.1176 - val_accuracy: 0.9714\n",
            "Epoch 4/50\n",
            "263/263 [==============================] - 0s 1ms/step - loss: 24.1574 - accuracy: 0.9694 - val_loss: 28.5046 - val_accuracy: 0.9709\n",
            "Epoch 5/50\n",
            "263/263 [==============================] - 0s 1ms/step - loss: 23.8284 - accuracy: 0.9695 - val_loss: 24.5872 - val_accuracy: 0.9709\n",
            "Epoch 6/50\n",
            "263/263 [==============================] - 0s 1ms/step - loss: 24.4224 - accuracy: 0.9694 - val_loss: 20.0722 - val_accuracy: 0.9709\n",
            "Epoch 7/50\n",
            "263/263 [==============================] - 0s 1ms/step - loss: 24.0920 - accuracy: 0.9694 - val_loss: 19.2563 - val_accuracy: 0.9719\n",
            "Epoch 8/50\n",
            "263/263 [==============================] - 0s 1ms/step - loss: 24.0993 - accuracy: 0.9693 - val_loss: 23.3158 - val_accuracy: 0.9709\n",
            "Epoch 9/50\n",
            "263/263 [==============================] - 0s 1ms/step - loss: 24.0800 - accuracy: 0.9696 - val_loss: 18.2588 - val_accuracy: 0.9714\n",
            "Epoch 10/50\n",
            "263/263 [==============================] - 0s 1ms/step - loss: 23.4246 - accuracy: 0.9696 - val_loss: 21.7292 - val_accuracy: 0.9719\n",
            "Epoch 11/50\n",
            "263/263 [==============================] - 0s 1ms/step - loss: 23.8736 - accuracy: 0.9694 - val_loss: 22.4032 - val_accuracy: 0.9724\n",
            "Epoch 12/50\n",
            "263/263 [==============================] - 0s 1ms/step - loss: 23.6845 - accuracy: 0.9694 - val_loss: 34.6298 - val_accuracy: 0.9709\n",
            "Epoch 13/50\n",
            "263/263 [==============================] - 0s 1ms/step - loss: 23.8368 - accuracy: 0.9698 - val_loss: 18.3505 - val_accuracy: 0.9709\n",
            "Epoch 14/50\n",
            "263/263 [==============================] - 0s 1ms/step - loss: 24.1622 - accuracy: 0.9695 - val_loss: 19.3969 - val_accuracy: 0.9709\n"
          ]
        },
        {
          "data": {
            "image/png": "[encoded data removed]",
            "text/plain": "<Figure size 720x288 with 1 Axes>"
          },
          "metadata": {
            "needs_background": "light"
          },
          "output_type": "display_data"
        },
        {
          "name": "stdout",
          "output_type": "stream",
          "text": [
            "scores: 45.15 43.63 24.48 23.64 24.16 \n",
            "média:  32.21\n"
          ]
        }
      ],
      "source": [
        "# comandos para 'zerar' a biblioteca Keras e definir as sementes aleatórias\n",
        "keras.backend.clear_session()\n",
        "np.random.seed(42)\n",
        "tf.random.set_seed(42)\n",
        "\n",
        "# controle da validação cruzada\n",
        "from sklearn.model_selection import KFold\n",
        "kfold = KFold(random_state=42, shuffle=True, n_splits=5) # número de folds\n",
        "scores = []\n",
        "for i, (fold_treino, fold_valid) in enumerate(kfold.split(X_treino, y_treino)):\n",
        "\n",
        "    # treinamento\n",
        "    print(f'------------------------------------------= FOLD {i + 1} =------------------------------------------')\n",
        "    history = model.fit(X_treino[fold_treino], y_treino[fold_treino], batch_size=32, epochs=50, shuffle=True,# número de épocas\n",
        "                        callbacks=[keras.callbacks.EarlyStopping(patience=5)],\n",
        "                        validation_data=(X_treino[fold_valid], y_treino[fold_valid]))\n",
        "    scores.append(history.history['loss'][-1])\n",
        "    \n",
        "    # exibição das funções de perda de treino e de validação, para cada época (eixo horizontal)\n",
        "    pd.DataFrame(history.history).iloc[2:].plot(figsize=(10, 4))\n",
        "    plt.grid(True)\n",
        "    plt.show()\n",
        "    \n",
        "print('scores: ' + ('{:.2f} ' * len(scores)).format(*scores))\n",
        "print('média:  {:.2f}'.format(np.mean(scores)))"
      ]
    },
    {
      "cell_type": "markdown",
      "metadata": {
        "id": "HOQQyK2X0Bmi"
      },
      "source": [
        "# Geração de previsões e teste final do modelo de rede neural"
      ]
    },
    {
      "cell_type": "code",
      "execution_count": 161,
      "metadata": {
        "id": "eg6J8LtY0Bmi"
      },
      "outputs": [
        {
          "name": "stdout",
          "output_type": "stream",
          "text": [
            "WARNING:tensorflow:10 out of the last 10 calls to <function Model.make_predict_function.<locals>.predict_function at 0x7f74efb30ca0> triggered tf.function retracing. Tracing is expensive and the excessive number of tracings could be due to (1) creating @tf.function repeatedly in a loop, (2) passing tensors with different shapes, (3) passing Python objects instead of tensors. For (1), please define your @tf.function outside of the loop. For (2), @tf.function has experimental_relax_shapes=True option that relaxes argument shapes that can avoid unnecessary retracing. For (3), please refer to https://www.tensorflow.org/guide/function#controlling_retracing and https://www.tensorflow.org/api_docs/python/tf/function for  more details.\n",
            "previsões:  [511.83 587.88] [554.79 590.65] [522.29 605.08]\n",
            "rótulos:    [505.22 696.47] [551.41 636.  ] [505.57 605.97]\n"
          ]
        }
      ],
      "source": [
        "# previsões computadas para três instâncias de teste\n",
        "y_predi = model.predict(tf.constant(X_teste[:3]))\n",
        "print('previsões: ', y_predi[0].round(2), y_predi[1].round(2), y_predi[2].round(2))\n",
        "print('rótulos:   ', y_teste[0].round(2), y_teste[1].round(2), y_teste[2].round(2))"
      ]
    },
    {
      "cell_type": "code",
      "execution_count": 162,
      "metadata": {
        "id": "4hT9gDRE0Bmi"
      },
      "outputs": [
        {
          "name": "stdout",
          "output_type": "stream",
          "text": [
            "83/83 [==============================] - 0s 763us/step - loss: 19.3102 - accuracy: 0.9680\n",
            "loss: 19.31\n",
            "acc: 0.97\n"
          ]
        }
      ],
      "source": [
        "# avaliação com conjunto de teste\n",
        "score_teste = model.evaluate(X_teste, y_teste)\n",
        "\n",
        "print('loss: {:.2f}'.format(score_teste[0]))\n",
        "print('acc: {:.2f}'.format(score_teste[1]))"
      ]
    }
  ],
  "metadata": {
    "colab": {
      "collapsed_sections": [],
      "include_colab_link": true,
      "name": "Furg - ECD 09 - Machine Learning I - Tarefa: Dados do ENEM",
      "provenance": []
    },
    "kernelspec": {
      "display_name": "Python 3.8.8 64-bit ('pos_ds': conda)",
      "name": "python388jvsc74a57bd0e4bfa496aafb70bd40f618de053d4ff7f570408d609cc27694903c36d16f6903"
    },
    "language_info": {
      "codemirror_mode": {
        "name": "ipython",
        "version": 3
      },
      "file_extension": ".py",
      "mimetype": "text/x-python",
      "name": "python",
      "nbconvert_exporter": "python",
      "pygments_lexer": "ipython3",
      "version": "3.8.8"
    },
    "metadata": {
      "interpreter": {
        "hash": "e4bfa496aafb70bd40f618de053d4ff7f570408d609cc27694903c36d16f6903"
      }
    },
    "nav_menu": {},
    "toc": {
      "navigate_menu": true,
      "number_sections": true,
      "sideBar": true,
      "threshold": 6,
      "toc_cell": false,
      "toc_section_display": "block",
      "toc_window_display": false
    }
  },
  "nbformat": 4,
  "nbformat_minor": 0
}