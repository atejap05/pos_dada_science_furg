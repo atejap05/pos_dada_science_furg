{
 "cells": [
  {
   "cell_type": "markdown",
   "metadata": {},
   "source": [
    "## Tarefa: Dados do ENEM\n",
    "### Questionário relativo à tarefa sobre dados do ENEM\n"
   ]
  },
  {
   "cell_type": "markdown",
   "metadata": {},
   "source": [
    "1 - O que você pode falar sobre o conjunto de dados analisado? Quais atributos parecem ser mais significativos para prever as notas das provas de 2015?"
   ]
  },
  {
   "cell_type": "raw",
   "metadata": {},
   "source": [
    "Os dados brutos foram apresentados na forma de uma arquivo .csv, contendo originalente 27 features (variáveis ou caracteristicas)\n",
    "e 172.304 registros ou informações sobre essas features (salvo aguns dados faltantes - nan - para algumas delas).\n",
    "\n",
    "Cosiderei relevante para o treinamento as seguintes features:\n",
    "Numéricas: ['NU_MEDIA_MT_2014', 'NU_MEDIA_RED_2014', 'NU_MATRICULAS_2015', \n",
    "            'NU_PARTICIPANTES_NEC_ESP_2015', 'NU_TAXA_PARTICIPACAO_2015',\n",
    "            'PC_FORMACAO_DOCENTE_2015', 'NU_TAXA_APROVACAO_2015',\n",
    "            'NU_TAXA_REPROVACAO_2015', 'NU_TAXA_ABANDONO_2015',\n",
    "            'NU_MEDIA_CN_2014', 'NU_MEDIA_CH_2014', 'NU_MEDIA_LP_2014',\n",
    "            'NU_TAXA_ABANDONO_2014', 'NU_MEDIA_CN_2015', 'NU_MEDIA_CH_2015',\n",
    "            'NU_MEDIA_LP_2015'])\n",
    "\n",
    "Categóricas: ['TP_DEPENDENCIA_ADM_ESCOLA_2015', 'TP_LOCALIZACAO_ESCOLA_2015', 'INSE_2015',\n",
    "              'PORTE_ESCOLA_2015', 'PORTE_ESCOLA_2014']\n",
    "\n",
    "Obs.: Para as variáveis numéricas levei em consideração principalmente a correlação com as notas de matemática e redação.\n",
    "Assim, nota-se que as notas de disciplicas como ciencias naturais e linguagem guardam uma boa relação com os alvos (target)."
   ]
  },
  {
   "cell_type": "markdown",
   "metadata": {},
   "source": [
    "2 - Por que é recomendável o uso de um conjunto de validação?"
   ]
  },
  {
   "cell_type": "raw",
   "metadata": {},
   "source": [
    "Um conjunto de validação nos fornece o feedback necessário sobre quão bem o nosso modelo está aprendendo com os dados.\n",
    "Com o conjunto de validação podemos proceder melhor com o fine tunning de hyperparametros e na melhor escolha do\n",
    "algoritmo e arquitetura para o modelo em treinamento antes de passármos em um conjuto de teste com dados nunca\n",
    "antes vistos pelo modelo."
   ]
  },
  {
   "cell_type": "markdown",
   "metadata": {},
   "source": [
    "3 - Qual a diferença entre validação simples e validação cruzada (k-fold cross validation)?"
   ]
  },
  {
   "cell_type": "raw",
   "metadata": {},
   "source": [
    "Enquanto na validação simples todo o conjunto de validação é utilizada para medir o quão preciso o modelo,\n",
    "na validação cruzada, em especial na modalidade k-fold, esse mesmo conjunto sofre um split de k subconjuntos\n",
    "multuamente excludentes onde cada k subconjunto é utilizado como um conjunto de teste da precisão do modelo. O\n",
    "processo se repete k vezes durante o treinamento."
   ]
  },
  {
   "cell_type": "markdown",
   "metadata": {},
   "source": [
    "4 - Explique a utilidade da técnica de early stopping para o treinamento de redes neurais."
   ]
  },
  {
   "cell_type": "raw",
   "metadata": {},
   "source": [
    "A técnica de EarlyStopping é bastante útil e de fácil uso com o framework tensorflow (keras callback). Utilizda\n",
    "principalmente para prevenir que o treinamento se prolongue por mais epochs que o necessário. Isto é, em um dado \n",
    "momento em que o parâmetro escolhido como monitor não estiver mais melhorando (por exemplo, a 'val_loss' não está \n",
    "mais decaindo) o treinamento para para garantir que o melhor resultado na curva de treinamento.\n"
   ]
  },
  {
   "cell_type": "markdown",
   "metadata": {},
   "source": [
    "5 - Descreva aqui sua experimentação, comentando o modelo que pareceu ser o mais adequado. Qual o menor score que você conseguiu para os dados de teste?"
   ]
  },
  {
   "cell_type": "raw",
   "metadata": {},
   "source": [
    "Para a modelagem de machine learning convencional o melhor resultado obtido foi utilizando LinearRegression()\n",
    "com score médio de 17.50 no conjunto de testes.\n",
    "\n",
    "Utilizando Deep Learning com a API Functional do keras com as seguintes caracteristicas:\n",
    "1 - adicinando 3 camadas Densas + Dropout\n",
    "2 - otimizador SGD com lr=0.01\n",
    "3 - batch_size=32\n",
    "4 - epochs = 50\n",
    "5 - n_splits = 5 (kfolds)\n",
    "\n",
    "Resultado na base de testes:\n",
    "\n",
    "83/83 [==============================] - 0s 763us/step - loss: 19.3102 - accuracy: 0.9680\n",
    "loss: 19.31\n",
    "acc: 0.97"
   ]
  }
 ],
 "metadata": {
  "kernelspec": {
   "display_name": "Python 3.8.8 64-bit ('pos_ds': conda)",
   "name": "python388jvsc74a57bd0e4bfa496aafb70bd40f618de053d4ff7f570408d609cc27694903c36d16f6903"
  },
  "language_info": {
   "name": "python",
   "version": ""
  },
  "metadata": {
   "interpreter": {
    "hash": "e4bfa496aafb70bd40f618de053d4ff7f570408d609cc27694903c36d16f6903"
   }
  },
  "orig_nbformat": 2
 },
 "nbformat": 4,
 "nbformat_minor": 2
}