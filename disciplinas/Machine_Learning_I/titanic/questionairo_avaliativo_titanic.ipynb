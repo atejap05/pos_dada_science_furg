{
 "cells": [
  {
   "cell_type": "markdown",
   "metadata": {},
   "source": [
    "## QUESTIONARIO AVALIATIVO SOBRE OS DADOS DO TITANIC"
   ]
  },
  {
   "cell_type": "markdown",
   "metadata": {},
   "source": [
    "### 1. Com base na seção “Análise dos dados” do notebook, você consegue inferir algumas informações sobre dados demográficos ou econômicos dos passageiros em geral?"
   ]
  },
  {
   "cell_type": "code",
   "execution_count": null,
   "metadata": {},
   "outputs": [],
   "source": []
  },
  {
   "cell_type": "markdown",
   "metadata": {},
   "source": [
    "### 2. Com base na seção “Correlação entre atributos”, o que você pode inferir sobre os coeficientes calculados entre alguns atributos?"
   ]
  },
  {
   "cell_type": "code",
   "execution_count": null,
   "metadata": {},
   "outputs": [],
   "source": []
  },
  {
   "cell_type": "markdown",
   "metadata": {},
   "source": [
    "### 3. Como a breve análise sobre os dados das questões 1 e 2 pode ajudar no processo de escolha de features ou de melhoria da qualidade do modelo?"
   ]
  },
  {
   "cell_type": "code",
   "execution_count": null,
   "metadata": {},
   "outputs": [],
   "source": []
  },
  {
   "cell_type": "markdown",
   "metadata": {},
   "source": [
    "### 4. Qual a acurácia atingida com os dados de teste?\n",
    "\n",
    "Você ajustou o modelo para obter uma melhor qualidade de previsão? Se sim, por favor explique os ajustes que você fez."
   ]
  },
  {
   "cell_type": "code",
   "execution_count": null,
   "metadata": {},
   "outputs": [],
   "source": []
  },
  {
   "cell_type": "markdown",
   "metadata": {},
   "source": [
    "### 5. Faça duas previsões usando o modelo final para dois personagens famosos, porém fictícios.\n",
    "\n",
    "O primeiro é Jack Dawson, passageiro da terceira classe, de 20 anos, sem parentes no navio. Jack ganhou em um jogo de cartas uma passagem que valia 8 libras esterlinas e embarcou em Southampton.\n",
    "\n",
    "O segundo é Rose DeWitt Bukater, na primeira classe, de 17 anos e viajando junto com o noivo e a mãe. Sua passagem custou 100 libras esterlinas, e também embarcou em Southampton."
   ]
  },
  {
   "cell_type": "code",
   "execution_count": null,
   "metadata": {},
   "outputs": [],
   "source": []
  }
 ],
 "metadata": {
  "kernelspec": {
   "display_name": "Python 3.8.5 64-bit ('base': conda)",
   "name": "python385jvsc74a57bd0caabef650a11961643b18a4c8877b5757729bfdfcde8b790f145cb966b69abce"
  },
  "language_info": {
   "codemirror_mode": {
    "name": "ipython",
    "version": 3
   },
   "file_extension": ".py",
   "mimetype": "text/x-python",
   "name": "python",
   "nbconvert_exporter": "python",
   "pygments_lexer": "ipython3",
   "version": "3.8.5"
  },
  "metadata": {
   "interpreter": {
    "hash": "caabef650a11961643b18a4c8877b5757729bfdfcde8b790f145cb966b69abce"
   }
  },
  "orig_nbformat": 2
 },
 "nbformat": 4,
 "nbformat_minor": 2
}