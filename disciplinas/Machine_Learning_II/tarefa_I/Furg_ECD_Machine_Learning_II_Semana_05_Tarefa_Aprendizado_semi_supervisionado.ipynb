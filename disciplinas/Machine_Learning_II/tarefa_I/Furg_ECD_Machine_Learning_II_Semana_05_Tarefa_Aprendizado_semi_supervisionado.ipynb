{
  "nbformat": 4,
  "nbformat_minor": 2,
  "metadata": {
    "kernelspec": {
      "name": "python3",
      "display_name": "Python 3.8.10 64-bit ('pos_venv': conda)"
    },
    "language_info": {
      "codemirror_mode": {
        "name": "ipython",
        "version": 3
      },
      "file_extension": ".py",
      "mimetype": "text/x-python",
      "name": "python",
      "nbconvert_exporter": "python",
      "pygments_lexer": "ipython3",
      "version": "3.8.10"
    },
    "colab": {
      "name": "Furg - ECD - Machine Learning II - Semana 05 - Tarefa: Aprendizado semi-supervisionado",
      "provenance": [],
      "collapsed_sections": [],
      "include_colab_link": true
    },
    "interpreter": {
      "hash": "907815e9c4d3d98b4aff291c89bec112f263082bea0e46daf85d424b1363448d"
    }
  },
  "cells": [
    {
      "cell_type": "markdown",
      "source": [
        "<a href=\"https://colab.research.google.com/github/atejap05/pos_data_science_furg/blob/main/disciplinas/Machine_Learning_II/Furg_ECD_Machine_Learning_II_Semana_05_Tarefa_Aprendizado_semi_supervisionado.ipynb\" target=\"_parent\"><img src=\"https://colab.research.google.com/assets/colab-badge.svg\" alt=\"Open In Colab\"/></a>"
      ],
      "metadata": {
        "id": "view-in-github",
        "colab_type": "text"
      }
    },
    {
      "cell_type": "markdown",
      "source": [
        "# Curso de Especialização em Ciência de Dados - FURG\n",
        "## Machine Learning II - Tarefa: Aprendizado semi-supervisionado\n",
        "### Prof. Marcelo Malheiros\n",
        "\n",
        "Parte do código adaptada de Aurélien Geron (licença Apache-2.0)\n",
        "\n",
        "---"
      ],
      "metadata": {
        "id": "9eMdEdKCZVYZ"
      }
    },
    {
      "cell_type": "markdown",
      "source": [
        "Esta tarefa é para você **observar** e **analisar** este processo de Machine Learning.\n",
        "\n",
        "Adicionalmente, sugere-se que você também experimente com os dados e com os algoritmos, fazendo algumas das modificações indicadas em várias partes deste _notebook_.\n",
        "\n",
        "Note que não é preciso escrever mais código, apenas modificar o código já fornecido.\n",
        "\n",
        "Um questionário _online_ dentro da disciplina no AVA será disponibilizado para coletar sua análise. Este questionário será também uma das tarefas avaliativas desta disciplina."
      ],
      "metadata": {
        "id": "zzyICs3xZVYh"
      }
    },
    {
      "cell_type": "markdown",
      "source": [
        "# Problema\n",
        "\n",
        "O problema aqui descrito é uma **tarefa de classificação semi-supervisionada**. Com base na identificação de apenas alguns dígitos manuscritos, experimentaremos estratégias para **rotular automaticamente** todo o restante de um conjunto de dados."
      ],
      "metadata": {
        "id": "SJ17LZosZVYj"
      }
    },
    {
      "cell_type": "markdown",
      "source": [
        "# Inicialização\n",
        "\n",
        "Aqui importamos as bibliotecas fundamentais de Python para este _notebook_:"
      ],
      "metadata": {
        "id": "bfnnMWTYZVYk"
      }
    },
    {
      "cell_type": "code",
      "execution_count": 10,
      "source": [
        "%matplotlib inline\r\n",
        "import numpy as np\r\n",
        "import matplotlib.pyplot as plt\r\n"
      ],
      "outputs": [],
      "metadata": {
        "id": "T133GVCLZVYm"
      }
    },
    {
      "cell_type": "markdown",
      "source": [
        "# Conjunto de dados\n",
        "\n",
        "Vamos trabalhar com o _dataset_ embutido na biblioteca Scikit-Learn chamado `digits`, que contém 1797 imagens em tons de cinza representando os dígitos manuscritos de 0 a 9.\n",
        "\n",
        "Cada instância corresponde a uma matriz de 8 × 8 pixels, ou seja, contém 64 atributos. Adicionalmente, também usaremos os rótulos fornecidos por este _dataset_ como teste da qualidade do nosso processo de rotulagem."
      ],
      "metadata": {
        "id": "sLDWDyGoZVYo"
      }
    },
    {
      "cell_type": "code",
      "execution_count": 1,
      "source": [
        "from sklearn.datasets import load_digits\r\n",
        "\r\n",
        "X_digits, y_digits = load_digits(return_X_y=True)"
      ],
      "outputs": [],
      "metadata": {
        "id": "kUWTIM72ZVYp"
      }
    },
    {
      "cell_type": "markdown",
      "source": [
        "Vamos dividir os dados em 75% como conjunto de treinamento e 25% como conjunto de teste.\n",
        "\n",
        "Para os dados de treino, iremos trabalhar apenas com os atributos. Os rótulos de treino serão usados uma única vez, para definir nossa acurácia de referência.\n",
        "\n",
        "Os dados de teste (atributos e rótulos) serão usados para medir a acurácia dos classificadores construídos."
      ],
      "metadata": {
        "id": "lqs9XHYFZVYp"
      }
    },
    {
      "cell_type": "code",
      "execution_count": 112,
      "source": [
        "from sklearn.model_selection import train_test_split\r\n",
        "\r\n",
        "# separação dos dados\r\n",
        "X_treino, X_teste, y_treino, y_teste = train_test_split(X_digits, y_digits, random_state=42, train_size=0.75)"
      ],
      "outputs": [],
      "metadata": {
        "id": "MKiB2z23ZVYq"
      }
    },
    {
      "cell_type": "code",
      "execution_count": 113,
      "source": [
        "len(X_treino)"
      ],
      "outputs": [
        {
          "output_type": "execute_result",
          "data": {
            "text/plain": [
              "1347"
            ]
          },
          "metadata": {},
          "execution_count": 113
        }
      ],
      "metadata": {}
    },
    {
      "cell_type": "code",
      "execution_count": 114,
      "source": [
        "print('atributos de treino', X_treino.shape)\r\n",
        "print('rótulos de treino  ', y_treino.shape)\r\n",
        "print('atributos de teste ', X_teste.shape)\r\n",
        "print('rótulos de teste   ', y_teste.shape)"
      ],
      "outputs": [
        {
          "output_type": "stream",
          "name": "stdout",
          "text": [
            "atributos de treino (1347, 64)\n",
            "rótulos de treino   (1347,)\n",
            "atributos de teste  (450, 64)\n",
            "rótulos de teste    (450,)\n"
          ]
        }
      ],
      "metadata": {
        "id": "hGhClcLxZVYs"
      }
    },
    {
      "cell_type": "markdown",
      "source": [
        "# Acurácia de referência\n",
        "\n",
        "Usaremos os dados completos de treino e teste para medir a **acurácia** de referência para este _dataset_, usando para isso uma tarefa tradicional de classificação supervisionada com o algoritmo `LogisticRegression`. Lembrando, apesar do nome este algoritmo pode funcionar como um **classificador multiclasse**.\n",
        "\n",
        "Outro classificador poderia ser usado. Por exemplo, o `RandomForestClassifier`, que teria uma acurácia semelhante à obtida a seguir."
      ],
      "metadata": {
        "id": "JKiJfPLVZVYv"
      }
    },
    {
      "cell_type": "code",
      "execution_count": 115,
      "source": [
        "from sklearn.linear_model import LogisticRegression\r\n",
        "\r\n",
        "# criação do classificador\r\n",
        "log_reg = LogisticRegression(multi_class='ovr', solver='lbfgs', max_iter=5000, random_state=42)\r\n",
        "\r\n",
        "# treinamento com os dados completos de treino\r\n",
        "log_reg.fit(X_treino, y_treino)\r\n",
        "\r\n",
        "# acurácia média com base nos dados de teste\r\n",
        "log_reg.score(X_teste, y_teste)"
      ],
      "outputs": [
        {
          "output_type": "execute_result",
          "data": {
            "text/plain": [
              "0.9688888888888889"
            ]
          },
          "metadata": {},
          "execution_count": 115
        }
      ],
      "metadata": {
        "id": "DJy9Fs_UZVYv"
      }
    },
    {
      "cell_type": "markdown",
      "source": [
        "Esta é a nossa linha de base: 96,9% de acurácia.\n",
        "\n",
        "Vamos ver se podemos chegar próximo desse percentual usando diversas estratégias de classificação semi-supervisionada..."
      ],
      "metadata": {
        "id": "H7CYGyiBZVYw"
      }
    },
    {
      "cell_type": "markdown",
      "source": [
        "# Rotulagem manual de algumas instâncias\n",
        "\n",
        "A ideia da classificação semi-supervisionada é dispor de apenas algumas poucas instâncias rotuladas, o que tipicamente é feito manualmente.\n",
        "\n",
        "De um total de 1347 instâncias de treino, vamos primeiro experimentar treinar o mesmo tipo de classificador com apenas 50 instâncias quaisquer. Por simplicidade, vamos selecionar os 50 primeiros dígitos de treino e definir explicitamente seus rótulos."
      ],
      "metadata": {
        "id": "sAKspyTWZVYx"
      }
    },
    {
      "cell_type": "code",
      "execution_count": 116,
      "source": [
        "n_primeiras = 50\r\n",
        "\r\n",
        "X_treino_primeiras = X_treino[:n_primeiras]"
      ],
      "outputs": [],
      "metadata": {
        "id": "waDIVC0HZVYx"
      }
    },
    {
      "cell_type": "code",
      "execution_count": 117,
      "source": [
        "# função auxiliar para mostrar grupos de 10 dígitos\r\n",
        "def exibe_dígitos(X):\r\n",
        "    plt.figure(figsize=(10, 4))\r\n",
        "    for index, X_digit in enumerate(X):\r\n",
        "        plt.subplot(X.shape[0] // 10, 10, index + 1)\r\n",
        "        plt.imshow(X_digit.reshape(8, 8), cmap='binary', interpolation='none')\r\n",
        "        plt.axis('off')\r\n",
        "    plt.show()"
      ],
      "outputs": [],
      "metadata": {
        "id": "en1FPdt8ZVYx"
      }
    },
    {
      "cell_type": "code",
      "execution_count": 118,
      "source": [
        "# vamos exibir os primeiros 50 dígitos\r\n",
        "exibe_dígitos(X_treino_primeiras)"
      ],
      "outputs": [
        {
          "output_type": "display_data",
          "data": {
            "image/png": "[encoded data removed]",
            "text/plain": [
              "<Figure size 720x288 with 50 Axes>"
            ]
          },
          "metadata": {
            "needs_background": "light"
          }
        }
      ],
      "metadata": {
        "id": "KsEd2edCZVYy"
      }
    },
    {
      "cell_type": "code",
      "execution_count": 119,
      "source": [
        "# Aqui definimos manualmente os rótulos de cada uma destas instâncias\r\n",
        "y_treino_primeiras = np.array([5, 2, 0, 8, 7, 3, 7, 0, 2, 2, \\\r\n",
        "                               3, 5, 8, 7, 3, 6, 5, 9, 9, 2, \\\r\n",
        "                               5, 6, 3, 0, 7, 1, 1, 9, 6, 1, \\\r\n",
        "                               1, 0, 0, 2, 9, 3, 9, 9, 3, 7, \\\r\n",
        "                               7, 1, 3, 5, 4, 6, 1, 2, 1, 1])"
      ],
      "outputs": [],
      "metadata": {
        "id": "_87aR_AXZVYz"
      }
    },
    {
      "cell_type": "code",
      "execution_count": 120,
      "source": [
        "# vamos criar um novo classificador, apenas para estas 50 instâncias\r\n",
        "log_reg = LogisticRegression(multi_class='ovr', solver='lbfgs', max_iter=5000, random_state=42)\r\n",
        "log_reg.fit(X_treino_primeiras, y_treino_primeiras)\r\n",
        "log_reg.score(X_teste, y_teste)"
      ],
      "outputs": [
        {
          "output_type": "execute_result",
          "data": {
            "text/plain": [
              "0.8333333333333334"
            ]
          },
          "metadata": {},
          "execution_count": 120
        }
      ],
      "metadata": {
        "id": "akH1h6N1ZVYz"
      }
    },
    {
      "cell_type": "markdown",
      "source": [
        "A acurácia ficou bem abaixo do valor de referência de 96,9%, mas isso já era esperado. Primeiro porque estamos treinando apenas com um número bem pequeno de instâncias (50). Segundo, porque estas instâncias provavelmente não foram as mais adequadas de se rotular.\n",
        "\n",
        "Veremos em seguida como aprimorar este processo semi-supervisionado."
      ],
      "metadata": {
        "id": "YbfEOLRTZVY0"
      }
    },
    {
      "cell_type": "markdown",
      "source": [
        "# Usando clusterização no Aprendizado Semi-supervisionado"
      ],
      "metadata": {
        "id": "Rlf1KMt5ZVY0"
      }
    },
    {
      "cell_type": "markdown",
      "source": [
        "Quando temos muitas instâncias não rotuladas e poucas instâncias rotuladas, podemos usar a clusterização como forma de ganhar mais conhecimento sobre os dados. E por conseguinte, rotular instâncias mais significativas."
      ],
      "metadata": {
        "id": "LL1bcsjnZVY0"
      }
    },
    {
      "cell_type": "markdown",
      "source": [
        "## Clusterização\n",
        "\n",
        "Primeiro, vamos agrupar o conjunto de treinamento em 50 _clusters_, usando o algoritmo `KMeans`. Esse número de _clusters_ é arbitrário, mas poderíamos usar uma análise de curva de inércia ou de coeficiente de silhueta para procurar um número mais adequado a estes dados.\n",
        "\n",
        "É importante notar que mesmo que saibamos que as imagens dos dígitos representam apenas 10 classes, a escolha do número de _clusters_ não precisa estar atrelado a este valor."
      ],
      "metadata": {
        "id": "NNsfDv4PZVY2"
      }
    },
    {
      "cell_type": "code",
      "execution_count": 123,
      "source": [
        "# gera diversos modelos à medida em que k varia\r\n",
        "kmeans_per_k = [KMeans(n_clusters=k, random_state=42).fit(X_treino) for k in range(1, 60, 2)]\r\n",
        "inertias = [model.inertia_ for model in kmeans_per_k]\r\n",
        "print(inertias[0])\r\n",
        "# gráfico\r\n",
        "plt.figure(figsize=(8, 4))\r\n",
        "plt.plot(range(1, 60, 2), inertias, 'bo-')\r\n",
        "plt.xlabel('$k$', fontsize=14)\r\n",
        "plt.ylabel('inércia', fontsize=14)\r\n",
        "\"\"\" plt.annotate('cotovelo', xy=(4, inertias[3]), xytext=(0.55, 0.55), textcoords='figure fraction',\r\n",
        "             fontsize=16, arrowprops=dict(facecolor='black', shrink=0.1)) \"\"\"\r\n",
        "#plt.axis([10, 80.5, 1, 100000])\r\n",
        "#plt.savefig('inertia-k', dpi=100)\r\n",
        "plt.show()"
      ],
      "outputs": [
        {
          "output_type": "stream",
          "name": "stdout",
          "text": [
            "1622017.123979213\n"
          ]
        },
        {
          "output_type": "display_data",
          "data": {
            "image/png": "[encoded data removed]",
            "text/plain": [
              "<Figure size 576x288 with 1 Axes>"
            ]
          },
          "metadata": {
            "needs_background": "light"
          }
        }
      ],
      "metadata": {}
    },
    {
      "cell_type": "code",
      "execution_count": 154,
      "source": [
        "n_clusters = 60"
      ],
      "outputs": [],
      "metadata": {
        "id": "x6tg6XgOZVY2"
      }
    },
    {
      "cell_type": "code",
      "execution_count": 155,
      "source": [
        "from sklearn.cluster import KMeans\r\n",
        "\r\n",
        "# criação do clusterizador\r\n",
        "kmeans = KMeans(n_clusters=n_clusters, random_state=42)\r\n",
        "\r\n",
        "# treinamento com os dados completos\r\n",
        "kmeans.fit(X_treino)"
      ],
      "outputs": [
        {
          "output_type": "execute_result",
          "data": {
            "text/plain": [
              "KMeans(n_clusters=60, random_state=42)"
            ]
          },
          "metadata": {},
          "execution_count": 155
        }
      ],
      "metadata": {
        "id": "jjNwbM7RZVY2"
      }
    },
    {
      "cell_type": "markdown",
      "source": [
        "Após o treinamento, o modelo identificou 50 _clusters_. Cada um deles tem um **centróide** ao qual são associadas as instâncias mais próximas.\n",
        "\n",
        "As informações que nos interessam agora são as distâncias de cada instância a cada centróide, dadas pela função `.transform()` e também em que _cluster_ está cada instância, informado pela função `.predict()`."
      ],
      "metadata": {
        "id": "A5gGnEzyZVY2"
      }
    },
    {
      "cell_type": "code",
      "execution_count": 156,
      "source": [
        "# distâncias para cada um dos centróides\r\n",
        "X_treino_todas_distâncias = kmeans.transform(X_treino)\r\n",
        "\r\n",
        "# associação de instâncias ao seu cluster\r\n",
        "X_treino_clusters = kmeans.predict(X_treino)"
      ],
      "outputs": [],
      "metadata": {
        "id": "ttJtGDbWZVY2"
      }
    },
    {
      "cell_type": "markdown",
      "source": [
        "Como apenas nos interessa a distância de uma instância ao seu centróide (e não a todos), podemos consolidar os dados anteriores em uma só matriz: cada linha é uma instância e a única coluna corresponde à distância ao centróide associado."
      ],
      "metadata": {
        "id": "7a9O7Dg3ZVY3"
      }
    },
    {
      "cell_type": "code",
      "execution_count": 157,
      "source": [
        "X_treino_distâncias = X_treino_todas_distâncias[np.arange(len(X_treino)), X_treino_clusters]\r\n",
        "X_treino_distâncias.shape"
      ],
      "outputs": [
        {
          "output_type": "execute_result",
          "data": {
            "text/plain": [
              "(1347,)"
            ]
          },
          "metadata": {},
          "execution_count": 157
        }
      ],
      "metadata": {
        "id": "DTclI6QSZVY3"
      }
    },
    {
      "cell_type": "markdown",
      "source": [
        "## Seleção das instâncias mais representativas\n",
        "\n",
        "Agora, para cada conjunto de instâncias associado a um _cluster_, vamos selecionar a instância com menor distância do centróide.\n",
        "\n",
        "Isso significa que estaremos identificando instâncias bem centrais em cada _cluster_, e portanto representativas dos seus grupos.\n",
        "\n",
        "**Experimentação:** Teste selecionar duas instâncias representativas para cada _cluster_, alterando a variável `n_representativas` abaixo. É preciso também ajustar os rótulos para as 100 imagens representativas que serão exibidas depois."
      ],
      "metadata": {
        "id": "uZaPKk7bZVY5"
      }
    },
    {
      "cell_type": "code",
      "execution_count": 158,
      "source": [
        "n_representativas = 2"
      ],
      "outputs": [],
      "metadata": {
        "id": "OnaOguVNZVY5"
      }
    },
    {
      "cell_type": "code",
      "execution_count": 159,
      "source": [
        "# função auxiliar\r\n",
        "def índices_dos_menores(a, n):\r\n",
        "    if np.ma.isMaskedArray(a):\r\n",
        "        n = min(n, a.count())\r\n",
        "    idxs = np.argsort(a)\r\n",
        "    return idxs[:n]"
      ],
      "outputs": [],
      "metadata": {
        "id": "M9IRXUSmZVY5"
      }
    },
    {
      "cell_type": "code",
      "execution_count": 160,
      "source": [
        "índices = []\r\n",
        "\r\n",
        "# para cada cluster\r\n",
        "for c in range(n_clusters):\r\n",
        "    # cria um 'masked array' mantendo visíveis apenas as instâncias do cluster 'c'\r\n",
        "    ma = np.ma.masked_where(X_treino_clusters != c, X_treino_distâncias)\r\n",
        "\r\n",
        "    # obtém o índice da instância com menor distância ao centro deste cluster\r\n",
        "    índices += list(índices_dos_menores(ma, n_representativas))"
      ],
      "outputs": [],
      "metadata": {
        "id": "NGiGkzIvZVY6"
      }
    },
    {
      "cell_type": "code",
      "execution_count": 161,
      "source": [
        "print(índices)"
      ],
      "outputs": [
        {
          "output_type": "stream",
          "name": "stdout",
          "text": [
            "[665, 826, 89, 1151, 588, 991, 660, 398, 1146, 220, 119, 81, 1246, 712, 654, 409, 410, 841, 987, 1148, 151, 885, 1186, 976, 1290, 1104, 1102, 733, 891, 934, 23, 1311, 559, 110, 525, 837, 645, 602, 535, 730, 1057, 1100, 689, 157, 1071, 1150, 791, 1265, 1308, 661, 944, 569, 1108, 634, 1312, 783, 460, 617, 1149, 529, 772, 749, 433, 576, 159, 80, 702, 99, 563, 36, 396, 953, 705, 139, 26, 766, 697, 408, 817, 1321, 1267, 237, 1092, 1070, 515, 1337, 1022, 615, 649, 861, 256, 757, 249, 481, 1343, 776, 753, 519, 114, 59, 1194, 1158, 337, 748, 1038, 804, 512, 489, 795, 1315, 1211, 565, 745, 674, 1163, 238, 683, 577, 1156, 1206]\n"
          ]
        }
      ],
      "metadata": {
        "id": "7y1OaocbZVY6"
      }
    },
    {
      "cell_type": "markdown",
      "source": [
        "Agora vamos usar estes 50 índices para copiar os atributos para um novo _dataset_ de treino para o classificador."
      ],
      "metadata": {
        "id": "K9V_PemOZVY7"
      }
    },
    {
      "cell_type": "code",
      "execution_count": 162,
      "source": [
        "# novo dataset\r\n",
        "X_treino_representativas = X_treino[índices]"
      ],
      "outputs": [],
      "metadata": {
        "id": "xPweCYxZZVY7"
      }
    },
    {
      "cell_type": "markdown",
      "source": [
        "Então vamos plotar essas instâncias representativas e rotulá-las manualmente a seguir."
      ],
      "metadata": {
        "id": "kQujy9lzZVY7"
      }
    },
    {
      "cell_type": "code",
      "execution_count": 163,
      "source": [
        "exibe_dígitos(X_treino_representativas)"
      ],
      "outputs": [
        {
          "output_type": "display_data",
          "data": {
            "image/png": "[encoded data removed]",
            "text/plain": [
              "<Figure size 720x288 with 120 Axes>"
            ]
          },
          "metadata": {
            "needs_background": "light"
          }
        }
      ],
      "metadata": {
        "id": "1I8KH3F4ZVY8"
      }
    },
    {
      "cell_type": "code",
      "execution_count": 164,
      "source": [
        "y_treino_representativas = [2, 2, 6, 6, 0, 0, 1, 1, 4, 4,\r\n",
        "                            7, 7, 9, 9, 5, 5, 1, 1, 2, 2,\r\n",
        "                            9, 9, 7, 7, 1, 1, 1, 1, 1, 1,\r\n",
        "                            0, 0, 8, 8, 3, 3, 5, 5, 3, 3,\r\n",
        "                            4, 4, 2, 2, 6, 6, 2, 2, 4, 4,\r\n",
        "                            2, 2, 3, 3, 1, 1, 6, 6, 8, 8,\r\n",
        "                            2, 2, 7, 7, 6, 6, 9, 9, 9, 9,\r\n",
        "                            3, 3, 8, 8, 1, 1, 3, 3, 2, 2,\r\n",
        "                            6, 6, 4, 4, 4, 4, 0, 0, 8, 8,\r\n",
        "                            4, 4, 7, 7, 7, 7, 9, 9, 8, 8,\r\n",
        "                            8, 8, 9, 9, 7, 7, 4, 4, 7, 7,\r\n",
        "                            8, 8, 7, 7, 6, 6, 5, 5, 4, 4]"
      ],
      "outputs": [],
      "metadata": {
        "id": "rnYvq58kZVY8"
      }
    },
    {
      "cell_type": "markdown",
      "source": [
        "## Treinamento de um novo classificador\n",
        "\n",
        "Temos no momento um conjunto de dados com apenas 50 instâncias rotuladas, mas em vez de serem instâncias aleatórias, cada uma delas é uma instância representativa de seu _cluster_.\n",
        "\n",
        "Vamos treinar um novo classificador para verificar se o desempenho ficou melhor."
      ],
      "metadata": {
        "id": "WDF3zGXaZVY9"
      }
    },
    {
      "cell_type": "code",
      "execution_count": 165,
      "source": [
        "# vamos criar um novo classificador, para as 50 instâncias representativas\r\n",
        "log_reg = LogisticRegression(multi_class='ovr', solver='lbfgs', max_iter=5000, random_state=42)\r\n",
        "log_reg.fit(X_treino_representativas, y_treino_representativas)\r\n",
        "log_reg.score(X_teste, y_teste)"
      ],
      "outputs": [
        {
          "output_type": "execute_result",
          "data": {
            "text/plain": [
              "0.9155555555555556"
            ]
          },
          "metadata": {},
          "execution_count": 165
        }
      ],
      "metadata": {
        "id": "_i8d3nx7ZVY9"
      }
    },
    {
      "cell_type": "markdown",
      "source": [
        "O aumento da acurácia é definitivamente melhor, pulando de 83,4% para 92,2%. Note que estamos mais próximos da acurária de referência de 96,9%, mesmo que usando apenas 50 instâncias.\n",
        "\n",
        "Como costuma ser caro e trabalhoso rotular as instâncias, especialmente quando precisa ser feito manualmente por especialistas, uma boa ideia é fazer com que estes rotulem instâncias representativas em vez de apenas instâncias aleatórias."
      ],
      "metadata": {
        "id": "UkFucQQ-ZVY9"
      }
    },
    {
      "cell_type": "markdown",
      "source": [
        "## Propagação de rótulos para todo o _cluster_\n",
        "\n",
        "Uma estratégia adicional e que pode ser interessante é propagar os rótulos das instâncias representativas (definidas anteriormente) para todas as outras instâncias do mesmo cluster. Assim poderíamos usar o conjunto de treino completo, e não apenas as 50 instâncias representativas."
      ],
      "metadata": {
        "id": "iXymH8SYZVY-"
      }
    },
    {
      "cell_type": "code",
      "execution_count": 166,
      "source": [
        "# matriz-coluna para receber os rótulos propagados\r\n",
        "y_treino_propagado = np.empty(len(X_treino), dtype=int)\r\n",
        "\r\n",
        "# para cada cluster\r\n",
        "for c in range(n_clusters):\r\n",
        "    # defina os rótulos das instâncias deste cluster com base no rótulo da sua instância representativa\r\n",
        "    y_treino_propagado[X_treino_clusters == c] = y_treino_representativas[c * n_representativas]"
      ],
      "outputs": [],
      "metadata": {
        "id": "oeoGdKdqZVY-"
      }
    },
    {
      "cell_type": "code",
      "execution_count": 167,
      "source": [
        "# vamos criar um novo classificador, para todas as instâncias com rótulos propagados\r\n",
        "log_reg = LogisticRegression(multi_class='ovr', solver='lbfgs', max_iter=5000, random_state=42)\r\n",
        "log_reg.fit(X_treino, y_treino_propagado)\r\n",
        "log_reg.score(X_teste, y_teste)"
      ],
      "outputs": [
        {
          "output_type": "execute_result",
          "data": {
            "text/plain": [
              "0.9288888888888889"
            ]
          },
          "metadata": {},
          "execution_count": 167
        }
      ],
      "metadata": {
        "id": "n8BXWmVJZVY-"
      }
    },
    {
      "cell_type": "markdown",
      "source": [
        "De fato, percebe-se um pequeno ganho. E com pouco esforço."
      ],
      "metadata": {
        "id": "-yVkTRjwZVY-"
      }
    },
    {
      "cell_type": "markdown",
      "source": [
        "## Propagação parcial de rótulos\n",
        "\n",
        "Uma estratégia que seria teoricamente melhor é propagar os rótulos apenas para um percentual das instâncias mais próximas a cada centróide.\n",
        "\n",
        "A lógica é que as instâncias mais distantes podem ser _outliers), e neste caso poderiam ser deixadas de fora. Assim temos um conjunto de treino com bem mais que 50 instâncias, mas sem usar instâncias potencialmente problemáticas.\n",
        "\n",
        "Vamos então definir a propagação para as 75% das instâncias mais próximas, para cada _cluster_.\n",
        "\n",
        "**Experimentação:** Teste modificar o percentual de propagação para valores mais baixos, como por exemplo 15% ou 55%. Note que se definirmos 100% teremos exatamente a situação anterior de propagação para todas as instâncias."
      ],
      "metadata": {
        "id": "Ajng5G5KZVY_"
      }
    },
    {
      "cell_type": "code",
      "execution_count": 168,
      "source": [
        "# critério de uso\r\n",
        "percentual = 85"
      ],
      "outputs": [],
      "metadata": {
        "id": "boMt_V8VZVY_"
      }
    },
    {
      "cell_type": "code",
      "execution_count": 169,
      "source": [
        "# vetor que irá conter apenas as distâncias dentro do percentual\r\n",
        "distâncias = X_treino_distâncias.copy()\r\n",
        "\r\n",
        "# para cada cluster\r\n",
        "for c in range(n_clusters):\r\n",
        "    # máscara de booleanos de instâncias no cluster 'c'\r\n",
        "    no_cluster = (X_treino_clusters == c)\r\n",
        "    \r\n",
        "    # apenas distâncias das instâncias neste cluster\r\n",
        "    cluster_dist = distâncias[no_cluster]\r\n",
        "    \r\n",
        "    # distância de corte\r\n",
        "    corte = np.percentile(cluster_dist, percentual)\r\n",
        "    \r\n",
        "    # máscara de corte (para mais distantes)\r\n",
        "    acima_do_corte = (distâncias > corte)\r\n",
        "    \r\n",
        "    # remove distâncias das instâncias que não interessam\r\n",
        "    distâncias[no_cluster & acima_do_corte] = -1"
      ],
      "outputs": [],
      "metadata": {
        "id": "R7TH_93cZVY_"
      }
    },
    {
      "cell_type": "code",
      "execution_count": 170,
      "source": [
        "parcialmente_propagado = (distâncias != -1)\r\n",
        "X_treino_parcial = X_treino[parcialmente_propagado]\r\n",
        "y_treino_parcial = y_treino_propagado[parcialmente_propagado]"
      ],
      "outputs": [],
      "metadata": {
        "id": "eZwbo3KUZVZB"
      }
    },
    {
      "cell_type": "code",
      "execution_count": 171,
      "source": [
        "print('novo treino atributos', X_treino_parcial.shape)\r\n",
        "print('novo treino rótulos  ', y_treino_parcial.shape)"
      ],
      "outputs": [
        {
          "output_type": "stream",
          "name": "stdout",
          "text": [
            "novo treino atributos (1124, 64)\n",
            "novo treino rótulos   (1124,)\n"
          ]
        }
      ],
      "metadata": {
        "id": "fXLpy1rKZVZB"
      }
    },
    {
      "cell_type": "code",
      "execution_count": 172,
      "source": [
        "# vamos criar um novo classificador, apenas para as instâncias com rótulos propagados\r\n",
        "log_reg = LogisticRegression(multi_class='ovr', solver='lbfgs', max_iter=5000, random_state=42)\r\n",
        "log_reg.fit(X_treino_parcial, y_treino_parcial)\r\n",
        "log_reg.score(X_teste, y_teste)"
      ],
      "outputs": [
        {
          "output_type": "execute_result",
          "data": {
            "text/plain": [
              "0.94"
            ]
          },
          "metadata": {},
          "execution_count": 172
        }
      ],
      "metadata": {
        "id": "WwCYXAdsZVZC"
      }
    },
    {
      "cell_type": "markdown",
      "source": [
        "O resultado em geral fica um pouco melhor ao se usar propagação parcial, mas depende do percentual dos valores mantidos.\n",
        "\n",
        "Com apenas 50 instâncias rotuladas (apenas 5 exemplos por classe em média) e propagando os demais rótulos, obtivemos  um desempenho que se aproxima do desempenho da regressão logística no _dataset_ totalmente rotulado (que foi de 96,9%).\n",
        "\n",
        "A explicação para o bom desempenho é que os rótulos propagados são realmente muito bons. Podemos comparar diretamente a acurácia deles em relação aos rótulos do conjunto de dados original:"
      ],
      "metadata": {
        "id": "3yplY5fdZVZC"
      }
    },
    {
      "cell_type": "code",
      "execution_count": 173,
      "source": [
        "# ATENÇÃO: esta é acurácia apenas dos rótulos propagados (e não do classificador treinado)\r\n",
        "np.mean(y_treino_parcial == y_treino[parcialmente_propagado])"
      ],
      "outputs": [
        {
          "output_type": "execute_result",
          "data": {
            "text/plain": [
              "0.9724199288256228"
            ]
          },
          "metadata": {},
          "execution_count": 173
        }
      ],
      "metadata": {
        "id": "wY_gORdWZVZD"
      }
    },
    {
      "cell_type": "markdown",
      "source": [
        "**Experimentação avançada:** Teste valores menores (por exemplo, 10) e maiores (por exemplo, 80) para o número de _clusters_ definido por `n_clusters` (na seção **Clusterização**). Então execute novamente os demais trechos do notebook, notando o efeito na acurácia.\n",
        "\n",
        "O número de _clusters_ precisa ser múltiplo de 10 para a visualização dos dígitos funcione adequadamente. Note que as instâncias manualmente rotuladas (na seção **Seleção das instâncias mais representativas**) também terão que ser ajustadas de acordo."
      ],
      "metadata": {
        "id": "u3xXLODJZVZD"
      }
    }
  ]
}