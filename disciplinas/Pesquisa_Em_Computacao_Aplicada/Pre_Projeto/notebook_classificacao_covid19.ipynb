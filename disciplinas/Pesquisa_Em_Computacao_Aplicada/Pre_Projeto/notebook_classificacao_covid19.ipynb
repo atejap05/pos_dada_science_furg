{
 "cells": [
  {
   "cell_type": "code",
   "execution_count": 1,
   "metadata": {},
   "outputs": [
    {
     "name": "stdout",
     "output_type": "stream",
     "text": [
      "Tensorflow version: 2.4.1\n",
      "Using GPU: True\n"
     ]
    }
   ],
   "source": [
    "# import tensorflow\n",
    "\n",
    "import tensorflow as tf\n",
    "print('Tensorflow version: ' + str(tf.__version__))\n",
    "print('Using GPU: ' + str(len(tf.config.list_physical_devices(\"GPU\")) > 0))\n",
    "\n",
    "# Keras imports (Tensorflow's implementation of Keras)\n",
    "from tensorflow.keras import backend as K\n",
    "from tensorflow.keras.models import Model\n",
    "from tensorflow.keras.layers import (Input, Conv2D, BatchNormalization, MaxPooling2D, \n",
    "                                     Flatten, Dense, Dropout)\n",
    "from tensorflow.keras.regularizers import l2\n",
    "from tensorflow.keras.optimizers import Adam\n",
    "from tensorflow.keras.preprocessing import image as I\n",
    "from tensorflow.keras.preprocessing.image import ImageDataGenerator"
   ]
  }
 ],
 "metadata": {
  "kernelspec": {
   "display_name": "Python 3.8.0 64-bit ('python3.8': conda)",
   "name": "python380jvsc74a57bd02519f722f1e5c8f0033f56eaeda92c9f78c9e3f03f286db173de8d2cf5d77fbc"
  },
  "language_info": {
   "codemirror_mode": {
    "name": "ipython",
    "version": 3
   },
   "file_extension": ".py",
   "mimetype": "text/x-python",
   "name": "python",
   "nbconvert_exporter": "python",
   "pygments_lexer": "ipython3",
   "version": "3.8.0"
  },
  "metadata": {
   "interpreter": {
    "hash": "2519f722f1e5c8f0033f56eaeda92c9f78c9e3f03f286db173de8d2cf5d77fbc"
   }
  },
  "orig_nbformat": 2
 },
 "nbformat": 4,
 "nbformat_minor": 2
}