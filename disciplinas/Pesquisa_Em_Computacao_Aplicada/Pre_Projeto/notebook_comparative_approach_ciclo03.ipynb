{
  "cells": [
    {
      "cell_type": "markdown",
      "metadata": {
        "colab_type": "text",
        "id": "5m83NRwewjUD"
      },
      "source": [
        "## Binary Image Classification using Keras\n",
        "\n",
        "### Here I create a CNN, which is improved using Image Augmentation and Transfer Learning techniques, specifically using the VGG16 model.\n"
      ]
    },
    {
      "cell_type": "markdown",
      "metadata": {},
      "source": [
        "### TensorFlow and Kekas imports"
      ]
    },
    {
      "cell_type": "code",
      "execution_count": 1,
      "metadata": {},
      "outputs": [
        {
          "name": "stdout",
          "output_type": "stream",
          "text": [
            "Tensorflow version: 2.4.1\n",
            "Using GPU: True\n"
          ]
        }
      ],
      "source": [
        "# import tensorflow\n",
        "\n",
        "import tensorflow as tf\n",
        "print('Tensorflow version: ' + str(tf.__version__))\n",
        "print('Using GPU: ' + str(len(tf.config.list_physical_devices(\"GPU\")) > 0))\n",
        "\n",
        "# Keras imports (Tensorflow's implementation of Keras)\n",
        "from tensorflow.keras import backend as K\n",
        "from tensorflow.keras.models import Model\n",
        "from tensorflow.keras.layers import (Input, Conv2D, BatchNormalization, MaxPooling2D, \n",
        "                                     Flatten, Dense, Dropout)\n",
        "from tensorflow.keras.regularizers import l2\n",
        "from tensorflow.keras.optimizers import Adam\n",
        "from tensorflow.keras.preprocessing import image as I\n",
        "from tensorflow.keras.preprocessing.image import ImageDataGenerator"
      ]
    },
    {
      "cell_type": "markdown",
      "metadata": {},
      "source": [
        "### General imports"
      ]
    },
    {
      "cell_type": "code",
      "execution_count": 2,
      "metadata": {},
      "outputs": [],
      "source": [
        "import os, random\n",
        "import numpy as np\n",
        "import matplotlib.pyplot as plt\n",
        "plt.style.use('seaborn')\n",
        "\n",
        "import utils\n",
        "\n",
        "seed = 123\n",
        "random.seed(seed)\n",
        "np.random.seed(seed)\n",
        "tf.compat.v1.set_random_seed(seed)\n",
        "\n",
        "import warnings\n",
        "warnings.filterwarnings('ignore')  # ignore all warnings"
      ]
    },
    {
      "cell_type": "code",
      "execution_count": 3,
      "metadata": {
        "colab": {
          "base_uri": "https://localhost:8080/",
          "height": 183
        },
        "colab_type": "code",
        "id": "Dba_NevywhXb",
        "outputId": "3a15733c-5888-499b-fd76-5adbb40f622e"
      },
      "outputs": [],
      "source": [
        "\n",
        "MODEL_SAVE_DIR = os.path.join('.','model_states')\n",
        "    \n",
        "if not os.path.exists(MODEL_SAVE_DIR):\n",
        "    os.mkdir(MODEL_SAVE_DIR)"
      ]
    },
    {
      "cell_type": "code",
      "execution_count": 5,
      "metadata": {
        "colab": {},
        "colab_type": "code",
        "id": "leOe8BLVSZl1"
      },
      "outputs": [],
      "source": [
        "#all images have been un-zipped under this folder - I have 3 sub-folders for train, cross_val and test image sets\n",
        "\n",
        "data_dir = '/home/jap05/Projects/ajna_testes/notebooks/bases/my_dataset'\n",
        "\n",
        "assert os.path.exists(data_dir), \"%s folder does not exist!\" % data_dir\n",
        "\n",
        "train_root = os.path.join(data_dir,'train')\n",
        "train_root_contaminado = os.path.join(train_root,'contaminado')\n",
        "train_root_ncontaminado = os.path.join(train_root,'ncontaminado')\n",
        "\n",
        "test_root = os.path.join(data_dir,'test')\n",
        "test_root_contaminado = os.path.join(test_root,'contaminado')\n",
        "test_root_ncontaminado = os.path.join(test_root,'ncontaminado')"
      ]
    },
    {
      "cell_type": "markdown",
      "metadata": {},
      "source": [
        "### Check Data Structure"
      ]
    },
    {
      "cell_type": "code",
      "execution_count": 6,
      "metadata": {},
      "outputs": [
        {
          "data": {
            "text/plain": "['train', 'test']"
          },
          "execution_count": 6,
          "metadata": {},
          "output_type": "execute_result"
        }
      ],
      "source": [
        "# CONFIRM THAT THIS REPORTS BACK 'test', and 'train'\n",
        "os.listdir(data_dir) "
      ]
    },
    {
      "cell_type": "code",
      "execution_count": 7,
      "metadata": {},
      "outputs": [
        {
          "name": "stdout",
          "output_type": "stream",
          "text": [
            "Train Classes: ['contaminado', 'ncontaminado']\n",
            "Test Classes: ['contaminado', 'ncontaminado']\n"
          ]
        }
      ],
      "source": [
        "# CONFIRM CLASSES NAMES\n",
        "print(f'Train Classes: {os.listdir(train_root)}')\n",
        "print(f'Test Classes: {os.listdir(test_root)}')"
      ]
    },
    {
      "cell_type": "markdown",
      "metadata": {},
      "source": [
        "## Train variable setup"
      ]
    },
    {
      "cell_type": "code",
      "execution_count": 8,
      "metadata": {
        "colab": {},
        "colab_type": "code",
        "id": "XTL2Tfh3jxCT"
      },
      "outputs": [],
      "source": [
        "IMAGE_HEIGHT, IMAGE_WIDTH, NUM_CHANNELS, BATCH_SIZE = 150, 150, 3, 1"
      ]
    },
    {
      "cell_type": "markdown",
      "metadata": {
        "colab_type": "text",
        "id": "0PPZ_YCds6pz"
      },
      "source": [
        "## Building and Training Model\n",
        "We will train a Keras based CNN using ImageDataGenerator - first without Image Augmentation, then with Image Augmentation. Here is our model."
      ]
    },
    {
      "cell_type": "code",
      "execution_count": 9,
      "metadata": {
        "colab": {},
        "colab_type": "code",
        "id": "B2lQXVFTE--7"
      },
      "outputs": [],
      "source": [
        "def build_model():\n",
        "        \n",
        "    # using Functional API\n",
        "    K.clear_session()\n",
        "    \n",
        "    inp = Input(shape=(IMAGE_HEIGHT, IMAGE_WIDTH, NUM_CHANNELS))\n",
        "\n",
        "    x = Conv2D(32, kernel_size=(3, 3), strides=(1, 1), padding='SAME')(inp)\n",
        "    x = BatchNormalization()(x)\n",
        "    x = Conv2D(32, kernel_size=(3, 3), strides=(1, 1), padding='SAME')(x)\n",
        "    x = BatchNormalization()(x)\n",
        "    x = MaxPooling2D()(x)\n",
        "\n",
        "    x = Conv2D(64, kernel_size=(3, 3), strides=(1, 1), padding='SAME')(x)\n",
        "    x = BatchNormalization()(x)\n",
        "    x = Conv2D(64, kernel_size=(3, 3), strides=(1, 1), padding='SAME')(x)\n",
        "    x = BatchNormalization()(x)\n",
        "    x = MaxPooling2D()(x)\n",
        "    x = Dropout(0.20)(x)\n",
        "\n",
        "    x = Conv2D(64, kernel_size=(3, 3), strides=(1, 1), padding='SAME')(x)\n",
        "    x = BatchNormalization()(x)\n",
        "    x = Conv2D(64, kernel_size=(3, 3), strides=(1, 1), padding='SAME')(x)\n",
        "    x = BatchNormalization()(x)\n",
        "    x = Conv2D(64, kernel_size=(3, 3), strides=(1, 1), padding='SAME')(x)\n",
        "    x = BatchNormalization()(x)\n",
        "    x = MaxPooling2D()(x)\n",
        "    x = Dropout(0.30)(x)\n",
        "\n",
        "    x = Conv2D(128, kernel_size=(3, 3), strides=(1, 1), padding='SAME')(x)\n",
        "    x = BatchNormalization()(x)\n",
        "    x = Conv2D(128, kernel_size=(3, 3), strides=(1, 1), padding='SAME')(x)\n",
        "    x = BatchNormalization()(x)\n",
        "    x = Conv2D(128, kernel_size=(3, 3), strides=(1, 1), padding='SAME')(x)\n",
        "    x = BatchNormalization()(x)\n",
        "    x = Conv2D(128, kernel_size=(3, 3), strides=(1, 1), padding='SAME')(x)\n",
        "    x = BatchNormalization()(x)\n",
        "    x = MaxPooling2D()(x)\n",
        "    x = Dropout(0.40)(x)\n",
        "\n",
        "    x = Flatten()(x)\n",
        "    x = Dropout(0.35)(x)\n",
        "\n",
        "    x = Dense(1024, activation='relu')(x)\n",
        "    x = Dropout(0.20)(x)\n",
        "\n",
        "    out = Dense(1, activation='sigmoid')(x)\n",
        "\n",
        "    model = Model(inputs=inp, outputs=out)\n",
        "\n",
        "    opt = Adam(lr=0.0001, decay=1e-4)\n",
        "    model.compile(optimizer=opt, loss='binary_crossentropy', metrics=['accuracy'])\n",
        "    return model"
      ]
    },
    {
      "cell_type": "markdown",
      "metadata": {
        "colab_type": "text",
        "id": "O-y0KUBeUyxz"
      },
      "source": [
        "### Training model without Image Augmentation\n",
        "\n",
        "We will use the following helper function, which trains the model, draws performance curves and evaluates performance on train, cross-val and test datasets."
      ]
    },
    {
      "cell_type": "code",
      "execution_count": 10,
      "metadata": {
        "colab": {
          "base_uri": "https://localhost:8080/",
          "height": 72
        },
        "colab_type": "code",
        "id": "PldV7ehgUlaJ",
        "outputId": "1af3fbfb-1515-449d-f7b1-2f07b2c1e41e"
      },
      "outputs": [
        {
          "name": "stdout",
          "output_type": "stream",
          "text": [
            "Found 17 images belonging to 2 classes.\n",
            "Found 5 images belonging to 2 classes.\n"
          ]
        }
      ],
      "source": [
        "train_datagen = ImageDataGenerator(rescale=1.0/255)\n",
        "test_datagen = ImageDataGenerator(rescale=1.0/255)\n",
        "\n",
        "# flow from train root folders\n",
        "train_generator = train_datagen.flow_from_directory(\n",
        "    train_root,\n",
        "    target_size=(IMAGE_HEIGHT,IMAGE_WIDTH),  # all images will be resizes to this size\n",
        "    batch_size=BATCH_SIZE,\n",
        "    class_mode='binary')\n",
        "\n",
        "test_generator = test_datagen.flow_from_directory(\n",
        "    test_root,\n",
        "    target_size=(IMAGE_HEIGHT,IMAGE_WIDTH),  # all images will be resizes to this size\n",
        "    batch_size=BATCH_SIZE,\n",
        "    class_mode='binary')"
      ]
    },
    {
      "cell_type": "code",
      "execution_count": 11,
      "metadata": {
        "colab": {
          "base_uri": "https://localhost:8080/",
          "height": 1000
        },
        "colab_type": "code",
        "id": "Z94Vf-IVUlCa",
        "outputId": "a957d5ed-b39b-495f-87e2-c8c7777b36d2"
      },
      "outputs": [
        {
          "name": "stdout",
          "output_type": "stream",
          "text": [
            "Model: \"model\"\n",
            "_________________________________________________________________\n",
            "Layer (type)                 Output Shape              Param #   \n",
            "=================================================================\n",
            "input_1 (InputLayer)         [(None, 150, 150, 3)]     0         \n",
            "_________________________________________________________________\n",
            "conv2d (Conv2D)              (None, 150, 150, 32)      896       \n",
            "_________________________________________________________________\n",
            "batch_normalization (BatchNo (None, 150, 150, 32)      128       \n",
            "_________________________________________________________________\n",
            "conv2d_1 (Conv2D)            (None, 150, 150, 32)      9248      \n",
            "_________________________________________________________________\n",
            "batch_normalization_1 (Batch (None, 150, 150, 32)      128       \n",
            "_________________________________________________________________\n",
            "max_pooling2d (MaxPooling2D) (None, 75, 75, 32)        0         \n",
            "_________________________________________________________________\n",
            "conv2d_2 (Conv2D)            (None, 75, 75, 64)        18496     \n",
            "_________________________________________________________________\n",
            "batch_normalization_2 (Batch (None, 75, 75, 64)        256       \n",
            "_________________________________________________________________\n",
            "conv2d_3 (Conv2D)            (None, 75, 75, 64)        36928     \n",
            "_________________________________________________________________\n",
            "batch_normalization_3 (Batch (None, 75, 75, 64)        256       \n",
            "_________________________________________________________________\n",
            "max_pooling2d_1 (MaxPooling2 (None, 37, 37, 64)        0         \n",
            "_________________________________________________________________\n",
            "dropout (Dropout)            (None, 37, 37, 64)        0         \n",
            "_________________________________________________________________\n",
            "conv2d_4 (Conv2D)            (None, 37, 37, 64)        36928     \n",
            "_________________________________________________________________\n",
            "batch_normalization_4 (Batch (None, 37, 37, 64)        256       \n",
            "_________________________________________________________________\n",
            "conv2d_5 (Conv2D)            (None, 37, 37, 64)        36928     \n",
            "_________________________________________________________________\n",
            "batch_normalization_5 (Batch (None, 37, 37, 64)        256       \n",
            "_________________________________________________________________\n",
            "conv2d_6 (Conv2D)            (None, 37, 37, 64)        36928     \n",
            "_________________________________________________________________\n",
            "batch_normalization_6 (Batch (None, 37, 37, 64)        256       \n",
            "_________________________________________________________________\n",
            "max_pooling2d_2 (MaxPooling2 (None, 18, 18, 64)        0         \n",
            "_________________________________________________________________\n",
            "dropout_1 (Dropout)          (None, 18, 18, 64)        0         \n",
            "_________________________________________________________________\n",
            "conv2d_7 (Conv2D)            (None, 18, 18, 128)       73856     \n",
            "_________________________________________________________________\n",
            "batch_normalization_7 (Batch (None, 18, 18, 128)       512       \n",
            "_________________________________________________________________\n",
            "conv2d_8 (Conv2D)            (None, 18, 18, 128)       147584    \n",
            "_________________________________________________________________\n",
            "batch_normalization_8 (Batch (None, 18, 18, 128)       512       \n",
            "_________________________________________________________________\n",
            "conv2d_9 (Conv2D)            (None, 18, 18, 128)       147584    \n",
            "_________________________________________________________________\n",
            "batch_normalization_9 (Batch (None, 18, 18, 128)       512       \n",
            "_________________________________________________________________\n",
            "conv2d_10 (Conv2D)           (None, 18, 18, 128)       147584    \n",
            "_________________________________________________________________\n",
            "batch_normalization_10 (Batc (None, 18, 18, 128)       512       \n",
            "_________________________________________________________________\n",
            "max_pooling2d_3 (MaxPooling2 (None, 9, 9, 128)         0         \n",
            "_________________________________________________________________\n",
            "dropout_2 (Dropout)          (None, 9, 9, 128)         0         \n",
            "_________________________________________________________________\n",
            "flatten (Flatten)            (None, 10368)             0         \n",
            "_________________________________________________________________\n",
            "dropout_3 (Dropout)          (None, 10368)             0         \n",
            "_________________________________________________________________\n",
            "dense (Dense)                (None, 1024)              10617856  \n",
            "_________________________________________________________________\n",
            "dropout_4 (Dropout)          (None, 1024)              0         \n",
            "_________________________________________________________________\n",
            "dense_1 (Dense)              (None, 1)                 1025      \n",
            "=================================================================\n",
            "Total params: 11,315,425\n",
            "Trainable params: 11,313,633\n",
            "Non-trainable params: 1,792\n",
            "_________________________________________________________________\n",
            "None\n"
          ]
        }
      ],
      "source": [
        "model_cnn = build_model()\n",
        "print(model_cnn.summary())"
      ]
    },
    {
      "cell_type": "code",
      "execution_count": 12,
      "metadata": {},
      "outputs": [
        {
          "data": {
            "text/plain": "(17, 5)"
          },
          "execution_count": 12,
          "metadata": {},
          "output_type": "execute_result"
        }
      ],
      "source": [
        "train_generator.n, test_generator.n"
      ]
    },
    {
      "cell_type": "code",
      "execution_count": 13,
      "metadata": {
        "colab": {
          "base_uri": "https://localhost:8080/",
          "height": 35
        },
        "colab_type": "code",
        "id": "JF-jhvdOUlOV",
        "outputId": "c6194c46-0f2e-4cc3-c60a-c4a0ec0d923b"
      },
      "outputs": [
        {
          "data": {
            "text/plain": "(17, 5)"
          },
          "execution_count": 13,
          "metadata": {},
          "output_type": "execute_result"
        }
      ],
      "source": [
        "# train model on generator\n",
        "train_steps = train_generator.n // BATCH_SIZE\n",
        "test_steps = test_generator.n // BATCH_SIZE\n",
        "\n",
        "train_steps, test_steps"
      ]
    },
    {
      "cell_type": "code",
      "execution_count": 14,
      "metadata": {
        "colab": {
          "base_uri": "https://localhost:8080/",
          "height": 1000
        },
        "colab_type": "code",
        "id": "QJwmhx-vUk3I",
        "outputId": "56fb23c5-9a40-46a5-e0ef-09838e47d099"
      },
      "outputs": [
        {
          "name": "stdout",
          "output_type": "stream",
          "text": [
            "Epoch 1/100\n",
            "17/17 [==============================] - 2s 23ms/step - loss: 4.7335 - accuracy: 0.5943 - val_loss: 0.9179 - val_accuracy: 0.4000\n",
            "Epoch 2/100\n",
            "17/17 [==============================] - 0s 11ms/step - loss: 3.9768 - accuracy: 0.4422 - val_loss: 0.4915 - val_accuracy: 0.8000\n",
            "Epoch 3/100\n",
            "17/17 [==============================] - 0s 11ms/step - loss: 0.6607 - accuracy: 0.6728 - val_loss: 0.4300 - val_accuracy: 0.8000\n",
            "Epoch 4/100\n",
            "17/17 [==============================] - 0s 11ms/step - loss: 0.0476 - accuracy: 1.0000 - val_loss: 0.3996 - val_accuracy: 0.8000\n",
            "Epoch 5/100\n",
            "17/17 [==============================] - 0s 11ms/step - loss: 0.2476 - accuracy: 0.8983 - val_loss: 0.3604 - val_accuracy: 0.8000\n",
            "Epoch 6/100\n",
            "17/17 [==============================] - 0s 12ms/step - loss: 0.6071 - accuracy: 0.8824 - val_loss: 0.3880 - val_accuracy: 0.8000\n",
            "Epoch 7/100\n",
            "17/17 [==============================] - 0s 11ms/step - loss: 0.0690 - accuracy: 1.0000 - val_loss: 0.3161 - val_accuracy: 1.0000\n",
            "Epoch 8/100\n",
            "17/17 [==============================] - 0s 10ms/step - loss: 0.3616 - accuracy: 0.8887 - val_loss: 0.3295 - val_accuracy: 1.0000\n",
            "Epoch 9/100\n",
            "17/17 [==============================] - 0s 11ms/step - loss: 0.0509 - accuracy: 1.0000 - val_loss: 0.2329 - val_accuracy: 1.0000\n",
            "Epoch 10/100\n",
            "17/17 [==============================] - 0s 11ms/step - loss: 0.0372 - accuracy: 1.0000 - val_loss: 0.1903 - val_accuracy: 1.0000\n",
            "Epoch 11/100\n",
            "17/17 [==============================] - 0s 10ms/step - loss: 0.0496 - accuracy: 0.9734 - val_loss: 0.2510 - val_accuracy: 1.0000\n",
            "Epoch 12/100\n",
            "17/17 [==============================] - 0s 11ms/step - loss: 0.0591 - accuracy: 0.9780 - val_loss: 0.1226 - val_accuracy: 1.0000\n",
            "Epoch 13/100\n",
            "17/17 [==============================] - 0s 10ms/step - loss: 0.0072 - accuracy: 1.0000 - val_loss: 0.1099 - val_accuracy: 1.0000\n",
            "Epoch 14/100\n",
            "17/17 [==============================] - 0s 11ms/step - loss: 0.0181 - accuracy: 0.9823 - val_loss: 0.0920 - val_accuracy: 1.0000\n",
            "Epoch 15/100\n",
            "17/17 [==============================] - 0s 11ms/step - loss: 0.0312 - accuracy: 0.9780 - val_loss: 0.0690 - val_accuracy: 1.0000\n",
            "Epoch 16/100\n",
            "17/17 [==============================] - 0s 12ms/step - loss: 0.0393 - accuracy: 0.9684 - val_loss: 0.0573 - val_accuracy: 1.0000\n",
            "Epoch 17/100\n",
            "17/17 [==============================] - 0s 10ms/step - loss: 0.0484 - accuracy: 0.9935 - val_loss: 0.0822 - val_accuracy: 1.0000\n",
            "Epoch 18/100\n",
            "17/17 [==============================] - 0s 10ms/step - loss: 0.0923 - accuracy: 0.9628 - val_loss: 0.1305 - val_accuracy: 1.0000\n",
            "Epoch 19/100\n",
            "17/17 [==============================] - 0s 11ms/step - loss: 0.0845 - accuracy: 0.9214 - val_loss: 0.0839 - val_accuracy: 1.0000\n",
            "Epoch 20/100\n",
            "17/17 [==============================] - 0s 11ms/step - loss: 0.1553 - accuracy: 0.8056 - val_loss: 0.0370 - val_accuracy: 1.0000\n",
            "Epoch 21/100\n",
            "17/17 [==============================] - 0s 10ms/step - loss: 0.0760 - accuracy: 0.9734 - val_loss: 0.0183 - val_accuracy: 1.0000\n",
            "Epoch 22/100\n",
            "17/17 [==============================] - 0s 11ms/step - loss: 0.3282 - accuracy: 0.8178 - val_loss: 0.0804 - val_accuracy: 1.0000\n",
            "Epoch 23/100\n",
            "17/17 [==============================] - 0s 10ms/step - loss: 0.3186 - accuracy: 0.9152 - val_loss: 0.1436 - val_accuracy: 0.8000\n",
            "Epoch 24/100\n",
            "17/17 [==============================] - 0s 11ms/step - loss: 0.4643 - accuracy: 0.8759 - val_loss: 0.1818 - val_accuracy: 0.8000\n",
            "Epoch 25/100\n",
            "17/17 [==============================] - 0s 11ms/step - loss: 0.0979 - accuracy: 1.0000 - val_loss: 0.0010 - val_accuracy: 1.0000\n",
            "Epoch 26/100\n",
            "17/17 [==============================] - 0s 11ms/step - loss: 9.0469e-04 - accuracy: 1.0000 - val_loss: 0.0199 - val_accuracy: 1.0000\n",
            "Epoch 27/100\n",
            "17/17 [==============================] - 0s 15ms/step - loss: 1.2938e-05 - accuracy: 1.0000 - val_loss: 0.0172 - val_accuracy: 1.0000\n",
            "Epoch 28/100\n",
            "17/17 [==============================] - 0s 10ms/step - loss: 2.2617e-05 - accuracy: 1.0000 - val_loss: 0.0088 - val_accuracy: 1.0000\n",
            "Epoch 29/100\n",
            "17/17 [==============================] - 0s 10ms/step - loss: 4.7879e-07 - accuracy: 1.0000 - val_loss: 0.0042 - val_accuracy: 1.0000\n",
            "Epoch 30/100\n",
            "17/17 [==============================] - 0s 11ms/step - loss: 1.7705e-05 - accuracy: 1.0000 - val_loss: 0.0021 - val_accuracy: 1.0000\n",
            "Epoch 31/100\n",
            "17/17 [==============================] - 0s 11ms/step - loss: 0.0010 - accuracy: 1.0000 - val_loss: 7.1011e-04 - val_accuracy: 1.0000\n",
            "Epoch 32/100\n",
            "17/17 [==============================] - 0s 11ms/step - loss: 3.3831e-07 - accuracy: 1.0000 - val_loss: 3.3981e-04 - val_accuracy: 1.0000\n",
            "Epoch 33/100\n",
            "17/17 [==============================] - 0s 11ms/step - loss: 4.4588e-06 - accuracy: 1.0000 - val_loss: 1.7705e-04 - val_accuracy: 1.0000\n",
            "Epoch 34/100\n",
            "17/17 [==============================] - 0s 11ms/step - loss: 4.3060e-06 - accuracy: 1.0000 - val_loss: 9.7469e-05 - val_accuracy: 1.0000\n",
            "Epoch 35/100\n",
            "17/17 [==============================] - 0s 11ms/step - loss: 3.9501e-06 - accuracy: 1.0000 - val_loss: 5.5518e-05 - val_accuracy: 1.0000\n",
            "Epoch 36/100\n",
            "17/17 [==============================] - 0s 11ms/step - loss: 1.5202e-04 - accuracy: 1.0000 - val_loss: 2.9071e-05 - val_accuracy: 1.0000\n",
            "Epoch 37/100\n",
            "17/17 [==============================] - 0s 12ms/step - loss: 0.0013 - accuracy: 1.0000 - val_loss: 2.4700e-05 - val_accuracy: 1.0000\n",
            "Epoch 38/100\n",
            "17/17 [==============================] - 0s 11ms/step - loss: 2.4522e-06 - accuracy: 1.0000 - val_loss: 1.8610e-05 - val_accuracy: 1.0000\n",
            "Epoch 39/100\n",
            "17/17 [==============================] - 0s 11ms/step - loss: 2.3594e-05 - accuracy: 1.0000 - val_loss: 1.1576e-05 - val_accuracy: 1.0000\n",
            "Epoch 40/100\n",
            "17/17 [==============================] - 0s 11ms/step - loss: 3.7801e-06 - accuracy: 1.0000 - val_loss: 7.6253e-06 - val_accuracy: 1.0000\n",
            "Epoch 41/100\n",
            "17/17 [==============================] - 0s 11ms/step - loss: 1.4264e-04 - accuracy: 1.0000 - val_loss: 4.1031e-06 - val_accuracy: 1.0000\n",
            "Epoch 42/100\n",
            "17/17 [==============================] - 0s 10ms/step - loss: 6.4865e-05 - accuracy: 1.0000 - val_loss: 2.4324e-06 - val_accuracy: 1.0000\n",
            "Epoch 43/100\n",
            "17/17 [==============================] - 0s 10ms/step - loss: 1.4035e-05 - accuracy: 1.0000 - val_loss: 1.7991e-06 - val_accuracy: 1.0000\n",
            "Epoch 44/100\n",
            "17/17 [==============================] - 0s 11ms/step - loss: 2.7491e-06 - accuracy: 1.0000 - val_loss: 1.4212e-06 - val_accuracy: 1.0000\n",
            "Epoch 45/100\n",
            "17/17 [==============================] - 0s 11ms/step - loss: 7.4050e-07 - accuracy: 1.0000 - val_loss: 1.1463e-06 - val_accuracy: 1.0000\n",
            "Epoch 46/100\n",
            "17/17 [==============================] - 0s 11ms/step - loss: 8.4512e-06 - accuracy: 1.0000 - val_loss: 9.5972e-07 - val_accuracy: 1.0000\n",
            "Epoch 47/100\n",
            "17/17 [==============================] - 0s 10ms/step - loss: 6.0239e-06 - accuracy: 1.0000 - val_loss: 7.8176e-07 - val_accuracy: 1.0000\n",
            "Epoch 48/100\n",
            "17/17 [==============================] - 0s 11ms/step - loss: 6.5622e-07 - accuracy: 1.0000 - val_loss: 6.7930e-07 - val_accuracy: 1.0000\n",
            "Epoch 49/100\n",
            "17/17 [==============================] - 0s 11ms/step - loss: 4.0307e-05 - accuracy: 1.0000 - val_loss: 5.9353e-07 - val_accuracy: 1.0000\n",
            "Epoch 50/100\n",
            "17/17 [==============================] - 0s 11ms/step - loss: 1.1887e-05 - accuracy: 1.0000 - val_loss: 5.3921e-07 - val_accuracy: 1.0000\n",
            "Epoch 51/100\n",
            "17/17 [==============================] - 0s 11ms/step - loss: 4.0624e-06 - accuracy: 1.0000 - val_loss: 5.1160e-07 - val_accuracy: 1.0000\n",
            "Epoch 52/100\n",
            "17/17 [==============================] - 0s 11ms/step - loss: 1.8039e-05 - accuracy: 1.0000 - val_loss: 4.5729e-07 - val_accuracy: 1.0000\n",
            "Epoch 53/100\n",
            "17/17 [==============================] - 0s 11ms/step - loss: 2.3043e-05 - accuracy: 1.0000 - val_loss: 4.1553e-07 - val_accuracy: 1.0000\n",
            "Epoch 54/100\n",
            "17/17 [==============================] - 0s 11ms/step - loss: 1.2496e-04 - accuracy: 1.0000 - val_loss: 3.9451e-07 - val_accuracy: 1.0000\n",
            "Epoch 55/100\n",
            "17/17 [==============================] - 0s 11ms/step - loss: 4.3681e-06 - accuracy: 1.0000 - val_loss: 3.6736e-07 - val_accuracy: 1.0000\n",
            "Epoch 56/100\n",
            "17/17 [==============================] - 0s 11ms/step - loss: 2.9753e-06 - accuracy: 1.0000 - val_loss: 3.5032e-07 - val_accuracy: 1.0000\n",
            "Epoch 57/100\n",
            "17/17 [==============================] - 0s 11ms/step - loss: 7.8771e-07 - accuracy: 1.0000 - val_loss: 3.4099e-07 - val_accuracy: 1.0000\n",
            "Epoch 58/100\n",
            "17/17 [==============================] - 0s 11ms/step - loss: 1.8300e-05 - accuracy: 1.0000 - val_loss: 3.2987e-07 - val_accuracy: 1.0000\n",
            "Epoch 59/100\n",
            "17/17 [==============================] - 0s 10ms/step - loss: 5.5871e-06 - accuracy: 1.0000 - val_loss: 3.1983e-07 - val_accuracy: 1.0000\n",
            "Epoch 60/100\n",
            "17/17 [==============================] - 0s 11ms/step - loss: 8.4703e-06 - accuracy: 1.0000 - val_loss: 3.1257e-07 - val_accuracy: 1.0000\n",
            "Epoch 61/100\n",
            "17/17 [==============================] - 0s 11ms/step - loss: 3.1295e-06 - accuracy: 1.0000 - val_loss: 3.1073e-07 - val_accuracy: 1.0000\n",
            "Epoch 62/100\n",
            "17/17 [==============================] - 0s 11ms/step - loss: 7.2638e-06 - accuracy: 1.0000 - val_loss: 3.0661e-07 - val_accuracy: 1.0000\n",
            "Epoch 63/100\n",
            "17/17 [==============================] - 0s 11ms/step - loss: 9.5511e-06 - accuracy: 1.0000 - val_loss: 3.0270e-07 - val_accuracy: 1.0000\n",
            "Epoch 64/100\n",
            "17/17 [==============================] - 0s 12ms/step - loss: 8.1661e-06 - accuracy: 1.0000 - val_loss: 2.9501e-07 - val_accuracy: 1.0000\n",
            "Epoch 65/100\n",
            "17/17 [==============================] - 0s 11ms/step - loss: 1.6829e-05 - accuracy: 1.0000 - val_loss: 2.9331e-07 - val_accuracy: 1.0000\n",
            "Epoch 66/100\n",
            "17/17 [==============================] - 0s 11ms/step - loss: 3.4305e-06 - accuracy: 1.0000 - val_loss: 2.8877e-07 - val_accuracy: 1.0000\n",
            "Epoch 67/100\n",
            "17/17 [==============================] - 0s 10ms/step - loss: 5.1203e-07 - accuracy: 1.0000 - val_loss: 2.8628e-07 - val_accuracy: 1.0000\n",
            "Epoch 68/100\n",
            "17/17 [==============================] - 0s 11ms/step - loss: 1.5510e-05 - accuracy: 1.0000 - val_loss: 2.8840e-07 - val_accuracy: 1.0000\n",
            "Epoch 69/100\n",
            "17/17 [==============================] - 0s 11ms/step - loss: 1.2526e-06 - accuracy: 1.0000 - val_loss: 2.9113e-07 - val_accuracy: 1.0000\n",
            "Epoch 70/100\n",
            "17/17 [==============================] - 0s 11ms/step - loss: 1.5205e-04 - accuracy: 1.0000 - val_loss: 3.2423e-07 - val_accuracy: 1.0000\n",
            "Epoch 71/100\n",
            "17/17 [==============================] - 0s 11ms/step - loss: 1.0969e-06 - accuracy: 1.0000 - val_loss: 4.7792e-07 - val_accuracy: 1.0000\n",
            "Epoch 72/100\n",
            "17/17 [==============================] - 0s 14ms/step - loss: 1.1218e-06 - accuracy: 1.0000 - val_loss: 5.0140e-07 - val_accuracy: 1.0000\n",
            "Epoch 73/100\n",
            "17/17 [==============================] - 0s 11ms/step - loss: 5.0135e-06 - accuracy: 1.0000 - val_loss: 4.9714e-07 - val_accuracy: 1.0000\n",
            "Epoch 74/100\n",
            "17/17 [==============================] - 0s 11ms/step - loss: 1.2500e-05 - accuracy: 1.0000 - val_loss: 4.7864e-07 - val_accuracy: 1.0000\n",
            "Epoch 75/100\n",
            "17/17 [==============================] - 0s 11ms/step - loss: 1.8521e-05 - accuracy: 1.0000 - val_loss: 4.2150e-07 - val_accuracy: 1.0000\n",
            "Epoch 76/100\n",
            "17/17 [==============================] - 0s 11ms/step - loss: 6.3916e-05 - accuracy: 1.0000 - val_loss: 4.0998e-07 - val_accuracy: 1.0000\n",
            "Epoch 77/100\n",
            "17/17 [==============================] - 0s 11ms/step - loss: 4.4276e-05 - accuracy: 1.0000 - val_loss: 4.0538e-07 - val_accuracy: 1.0000\n",
            "Epoch 78/100\n",
            "17/17 [==============================] - 0s 11ms/step - loss: 5.0472e-06 - accuracy: 1.0000 - val_loss: 3.9121e-07 - val_accuracy: 1.0000\n",
            "Epoch 79/100\n",
            "17/17 [==============================] - 0s 11ms/step - loss: 5.9165e-06 - accuracy: 1.0000 - val_loss: 3.8653e-07 - val_accuracy: 1.0000\n",
            "Epoch 80/100\n",
            "17/17 [==============================] - 0s 11ms/step - loss: 2.2306e-06 - accuracy: 1.0000 - val_loss: 3.8251e-07 - val_accuracy: 1.0000\n",
            "Epoch 81/100\n",
            "17/17 [==============================] - 0s 11ms/step - loss: 2.1472e-06 - accuracy: 1.0000 - val_loss: 3.7415e-07 - val_accuracy: 1.0000\n",
            "Epoch 82/100\n",
            "17/17 [==============================] - 0s 11ms/step - loss: 0.0017 - accuracy: 1.0000 - val_loss: 2.1930e-07 - val_accuracy: 1.0000\n",
            "Epoch 83/100\n",
            "17/17 [==============================] - 0s 11ms/step - loss: 1.2171e-05 - accuracy: 1.0000 - val_loss: 2.6417e-07 - val_accuracy: 1.0000\n",
            "Epoch 84/100\n",
            "17/17 [==============================] - 0s 10ms/step - loss: 1.2751e-04 - accuracy: 1.0000 - val_loss: 2.7870e-07 - val_accuracy: 1.0000\n",
            "Epoch 85/100\n",
            "17/17 [==============================] - 0s 11ms/step - loss: 3.6022e-05 - accuracy: 1.0000 - val_loss: 2.7089e-07 - val_accuracy: 1.0000\n",
            "Epoch 86/100\n",
            "17/17 [==============================] - 0s 11ms/step - loss: 1.5841e-05 - accuracy: 1.0000 - val_loss: 2.6578e-07 - val_accuracy: 1.0000\n",
            "Epoch 87/100\n",
            "17/17 [==============================] - 0s 11ms/step - loss: 7.1110e-06 - accuracy: 1.0000 - val_loss: 2.6500e-07 - val_accuracy: 1.0000\n",
            "Epoch 88/100\n",
            "17/17 [==============================] - 0s 11ms/step - loss: 2.3950e-05 - accuracy: 1.0000 - val_loss: 2.5519e-07 - val_accuracy: 1.0000\n",
            "Epoch 89/100\n",
            "17/17 [==============================] - 0s 11ms/step - loss: 2.7197e-05 - accuracy: 1.0000 - val_loss: 2.3632e-07 - val_accuracy: 1.0000\n",
            "Epoch 90/100\n",
            "17/17 [==============================] - 0s 11ms/step - loss: 8.2903e-06 - accuracy: 1.0000 - val_loss: 2.3161e-07 - val_accuracy: 1.0000\n",
            "Epoch 91/100\n",
            "17/17 [==============================] - 0s 11ms/step - loss: 2.1454e-07 - accuracy: 1.0000 - val_loss: 2.2013e-07 - val_accuracy: 1.0000\n",
            "Epoch 92/100\n",
            "17/17 [==============================] - 0s 11ms/step - loss: 1.2916e-05 - accuracy: 1.0000 - val_loss: 2.1753e-07 - val_accuracy: 1.0000\n",
            "Epoch 93/100\n",
            "17/17 [==============================] - 0s 11ms/step - loss: 3.0373e-07 - accuracy: 1.0000 - val_loss: 2.1765e-07 - val_accuracy: 1.0000\n",
            "Epoch 94/100\n",
            "17/17 [==============================] - 0s 10ms/step - loss: 4.3939e-06 - accuracy: 1.0000 - val_loss: 2.1371e-07 - val_accuracy: 1.0000\n",
            "Epoch 95/100\n",
            "17/17 [==============================] - 0s 11ms/step - loss: 2.9706e-07 - accuracy: 1.0000 - val_loss: 2.1105e-07 - val_accuracy: 1.0000\n",
            "Epoch 96/100\n",
            "17/17 [==============================] - 0s 11ms/step - loss: 2.0754e-06 - accuracy: 1.0000 - val_loss: 2.0955e-07 - val_accuracy: 1.0000\n",
            "Epoch 97/100\n",
            "17/17 [==============================] - 0s 11ms/step - loss: 6.0109e-06 - accuracy: 1.0000 - val_loss: 2.1129e-07 - val_accuracy: 1.0000\n",
            "Epoch 98/100\n",
            "17/17 [==============================] - 0s 11ms/step - loss: 1.5480e-06 - accuracy: 1.0000 - val_loss: 2.0802e-07 - val_accuracy: 1.0000\n",
            "Epoch 99/100\n",
            "17/17 [==============================] - 0s 12ms/step - loss: 3.4621e-05 - accuracy: 1.0000 - val_loss: 2.0242e-07 - val_accuracy: 1.0000\n",
            "Epoch 100/100\n",
            "17/17 [==============================] - 0s 11ms/step - loss: 2.0875e-07 - accuracy: 1.0000 - val_loss: 1.9852e-07 - val_accuracy: 1.0000\n"
          ]
        }
      ],
      "source": [
        "# train model on generator\n",
        "hist = model_cnn.fit(\n",
        "    train_generator,\n",
        "    steps_per_epoch=train_steps,\n",
        "    epochs=100,\n",
        "    validation_data=test_generator,\n",
        "    validation_steps=test_steps)"
      ]
    },
    {
      "cell_type": "code",
      "execution_count": 15,
      "metadata": {},
      "outputs": [
        {
          "data": {
            "text/plain": "dict_keys(['loss', 'accuracy', 'val_loss', 'val_accuracy'])"
          },
          "execution_count": 15,
          "metadata": {},
          "output_type": "execute_result"
        }
      ],
      "source": [
        "hist.history.keys()"
      ]
    },
    {
      "cell_type": "code",
      "execution_count": 16,
      "metadata": {},
      "outputs": [
        {
          "data": {
            "image/png": "[encoded data removed]",
            "text/plain": "<Figure size 1152x360 with 2 Axes>"
          },
          "metadata": {},
          "output_type": "display_data"
        }
      ],
      "source": [
        "utils.show_plots(hist.history, plot_title='Keras CNN with ImageDataGenerator')"
      ]
    },
    {
      "cell_type": "code",
      "execution_count": 17,
      "metadata": {
        "colab": {
          "base_uri": "https://localhost:8080/",
          "height": 126
        },
        "colab_type": "code",
        "id": "AOe8uD-WUkc0",
        "outputId": "321a94cf-0b65-4288-c046-f6ecf87d064f"
      },
      "outputs": [
        {
          "name": "stdout",
          "output_type": "stream",
          "text": [
            "17/17 [==============================] - 0s 3ms/step - loss: 1.9324e-06 - accuracy: 1.0000\n",
            "Training data  -> loss: 0.000, acc: 1.000\n",
            "5/5 [==============================] - 0s 2ms/step - loss: 1.9852e-07 - accuracy: 1.0000\n",
            "Testing data   -> loss: 0.000, acc: 1.000\n"
          ]
        }
      ],
      "source": [
        "# evaluate performance on train & test data\n",
        "loss, acc = model_cnn.evaluate_generator(train_generator, steps=train_steps, verbose=1)\n",
        "print('Training data  -> loss: %.3f, acc: %.3f' % (loss, acc))\n",
        "\n",
        "loss, acc = model_cnn.evaluate_generator(test_generator, steps=test_steps, verbose=1)\n",
        "print('Testing data   -> loss: %.3f, acc: %.3f' % (loss, acc))"
      ]
    },
    {
      "cell_type": "markdown",
      "metadata": {
        "colab_type": "text",
        "id": "IeQRbOV1VJtb"
      },
      "source": [
        "#### Observations\n",
        "\n",
        ">Configuration | Training Acc | Cross-val Acc | Test Acc \n",
        ">:---|:---:|:---:|:---:|\n",
        ">**Base Model**|99-100%|99-100%| nan\n",
        "\n",
        "* our model is overfitting. \n",
        "* For image datasets another commonly used regularization technique is _Image Augmentation_, which is a technique of applying random transformations to _training_ images as they are fed into the model. \n",
        "* By _randomly_ applying a _variety of transformations_, the model sees a larger variety of images, thereby simulating a larger dataset (a dataset with a large variety of images, to be more precise)."
      ]
    },
    {
      "cell_type": "code",
      "execution_count": 18,
      "metadata": {
        "colab": {
          "base_uri": "https://localhost:8080/",
          "height": 35
        },
        "colab_type": "code",
        "id": "z3XabrQ81uOM",
        "outputId": "3a3f81ca-c0f9-4811-c29b-6d390eee9048"
      },
      "outputs": [
        {
          "name": "stdout",
          "output_type": "stream",
          "text": [
            "Saved model to file ./model_states/keras_contaminado_base.h5\n"
          ]
        }
      ],
      "source": [
        "utils.save_keras_model(model_cnn, 'keras_contaminado_base', MODEL_SAVE_DIR)"
      ]
    },
    {
      "cell_type": "code",
      "execution_count": 19,
      "metadata": {
        "colab": {
          "base_uri": "https://localhost:8080/",
          "height": 199
        },
        "colab_type": "code",
        "id": "d5ZVlgBwQIc3",
        "outputId": "55350c24-5733-44b0-b56d-e7c249c711c8"
      },
      "outputs": [],
      "source": [
        "def get_some_test_images():\n",
        "    # now let's pick some random (10 each) images from the test sets and pass them through\n",
        "    # the classifier and see what we get\n",
        "    contaminado_test_files = np.array(os.listdir(test_root_contaminado))\n",
        "    ncontaminado_test_files = np.array(os.listdir(test_root_ncontaminado))\n",
        "\n",
        "    for _ in range(5):\n",
        "        np.random.shuffle(contaminado_test_files)\n",
        "        np.random.shuffle(ncontaminado_test_files)\n",
        "\n",
        "    test_image_files = []\n",
        "    for image in contaminado_test_files:\n",
        "        test_image_files.append(os.path.join(test_root_contaminado, image))\n",
        "    for image in ncontaminado_test_files:\n",
        "        test_image_files.append(os.path.join(test_root_ncontaminado, image))\n",
        "    test_image_files = np.array(test_image_files)\n",
        "    for _ in range(5): np.random.shuffle(test_image_files)\n",
        "    \n",
        "    return test_image_files\n"
      ]
    },
    {
      "cell_type": "code",
      "execution_count": 20,
      "metadata": {},
      "outputs": [
        {
          "data": {
            "text/plain": "array(['/home/jap05/Projects/ajna_testes/notebooks/bases/my_dataset/test/ncontaminado/5f7b12ddcccffe0032354523.jpg',\n       '/home/jap05/Projects/ajna_testes/notebooks/bases/my_dataset/test/contaminado/TEMU9131666A.jpg',\n       '/home/jap05/Projects/ajna_testes/notebooks/bases/my_dataset/test/ncontaminado/5f7b141ccccffe00323573fe.jpg',\n       '/home/jap05/Projects/ajna_testes/notebooks/bases/my_dataset/test/contaminado/HLBU9065305A.jpg',\n       '/home/jap05/Projects/ajna_testes/notebooks/bases/my_dataset/test/ncontaminado/5f7b1335cccffe00323554b2.jpg'],\n      dtype='<U106')"
          },
          "execution_count": 20,
          "metadata": {},
          "output_type": "execute_result"
        }
      ],
      "source": [
        "test_image_files = get_some_test_images()\n",
        "test_image_files[:10]"
      ]
    },
    {
      "cell_type": "code",
      "execution_count": 21,
      "metadata": {
        "colab": {
          "base_uri": "https://localhost:8080/",
          "height": 399
        },
        "colab_type": "code",
        "id": "OX8kxzOjQayq",
        "outputId": "89f96643-5c2a-4cf9-818e-130e89140163"
      },
      "outputs": [
        {
          "name": "stdout",
          "output_type": "stream",
          "text": [
            "/home/jap05/Projects/ajna_testes/notebooks/bases/my_dataset/test/ncontaminado/5f7b12ddcccffe0032354523.jpg - Prediction (1.0000) - Não Contaminado\n",
            "/home/jap05/Projects/ajna_testes/notebooks/bases/my_dataset/test/contaminado/TEMU9131666A.jpg - Prediction (0.0000) - Contaminado\n",
            "/home/jap05/Projects/ajna_testes/notebooks/bases/my_dataset/test/ncontaminado/5f7b141ccccffe00323573fe.jpg - Prediction (1.0000) - Não Contaminado\n",
            "/home/jap05/Projects/ajna_testes/notebooks/bases/my_dataset/test/contaminado/HLBU9065305A.jpg - Prediction (0.0000) - Contaminado\n",
            "/home/jap05/Projects/ajna_testes/notebooks/bases/my_dataset/test/ncontaminado/5f7b1335cccffe00323554b2.jpg - Prediction (1.0000) - Não Contaminado\n"
          ]
        }
      ],
      "source": [
        "# now let's run predictions\n",
        "\n",
        "def predict(test_image_files):\n",
        "\n",
        "    for test_image in test_image_files[:20]:\n",
        "        \n",
        "        img = I.load_img(test_image, target_size=(IMAGE_HEIGHT, IMAGE_WIDTH))\n",
        "        x = I.img_to_array(img)\n",
        "        x = np.expand_dims(x, axis=0)\n",
        "        images_list = np.vstack([x])\n",
        "        classes = model_cnn.predict(images_list, batch_size=10)\n",
        "        pred = classes[0]\n",
        "        if pred >= 0.5:\n",
        "            print('%*s - Prediction (%.4f) - Não Contaminado' % (50, test_image, classes[0]))\n",
        "        else:\n",
        "            print('%*s - Prediction (%.4f) - Contaminado' % (50, test_image, classes[0]))\n",
        "\n",
        "predict(test_image_files)"
      ]
    },
    {
      "cell_type": "code",
      "execution_count": 22,
      "metadata": {
        "colab": {
          "base_uri": "https://localhost:8080/",
          "height": 35
        },
        "colab_type": "code",
        "id": "kigt9hYIVQon",
        "outputId": "3fc7699c-0653-4ede-83f2-e501a3b2005b"
      },
      "outputs": [
        {
          "name": "stdout",
          "output_type": "stream",
          "text": [
            "Saved model to file ./model_states/keras_contaminado_noaug.h5\n"
          ]
        }
      ],
      "source": [
        "utils.save_keras_model(model_cnn, 'keras_contaminado_noaug')\n",
        "del model_cnn"
      ]
    },
    {
      "cell_type": "markdown",
      "metadata": {
        "colab_type": "text",
        "id": "HdO_vk8kaAVV"
      },
      "source": [
        "## Using Image Augmentation\n",
        "\n",
        "In the previous section, we did not use any image augmentation. We will apply image augmentation in this section - there is no change to the model."
      ]
    },
    {
      "cell_type": "code",
      "execution_count": 23,
      "metadata": {
        "colab": {},
        "colab_type": "code",
        "id": "1G5bND8kTiW5"
      },
      "outputs": [],
      "source": [
        "train_datagen = ImageDataGenerator(\n",
        "    rescale=1.0/255,\n",
        "    rotation_range=20,\n",
        "    width_shift_range=0.2,\n",
        "    height_shift_range=0.2,\n",
        "    shear_range=0.2,\n",
        "    zoom_range=0.2,\n",
        "    horizontal_flip=True,\n",
        "    fill_mode='nearest')\n",
        "\n",
        "# NOTE: no image aug for eval & test datagenerators\n",
        "test_datagen = ImageDataGenerator(rescale=1.0/255)"
      ]
    },
    {
      "cell_type": "code",
      "execution_count": 24,
      "metadata": {
        "colab": {
          "base_uri": "https://localhost:8080/",
          "height": 72
        },
        "colab_type": "code",
        "id": "mYjAefiiaozL",
        "outputId": "cec806a9-0f51-40b1-de52-0545ddf5ee0c"
      },
      "outputs": [
        {
          "name": "stdout",
          "output_type": "stream",
          "text": [
            "Found 17 images belonging to 2 classes.\n",
            "Found 5 images belonging to 2 classes.\n"
          ]
        }
      ],
      "source": [
        "# flow from train root folders\n",
        "train_generator = train_datagen.flow_from_directory(\n",
        "    train_root,\n",
        "    target_size=(IMAGE_HEIGHT,IMAGE_WIDTH),  # all images will be resizes to this size\n",
        "    batch_size=BATCH_SIZE,\n",
        "    class_mode='binary')\n",
        "\n",
        "test_generator = test_datagen.flow_from_directory(\n",
        "    test_root,\n",
        "    target_size=(IMAGE_HEIGHT,IMAGE_WIDTH),  # all images will be resizes to this size\n",
        "    batch_size=BATCH_SIZE,\n",
        "    class_mode='binary')"
      ]
    },
    {
      "cell_type": "code",
      "execution_count": 25,
      "metadata": {
        "colab": {
          "base_uri": "https://localhost:8080/",
          "height": 1000
        },
        "colab_type": "code",
        "id": "gKjgFssjlJQA",
        "outputId": "d17cc5e8-3667-4bdd-8485-bb44b31a3511"
      },
      "outputs": [
        {
          "name": "stdout",
          "output_type": "stream",
          "text": [
            "Model: \"model\"\n",
            "_________________________________________________________________\n",
            "Layer (type)                 Output Shape              Param #   \n",
            "=================================================================\n",
            "input_1 (InputLayer)         [(None, 150, 150, 3)]     0         \n",
            "_________________________________________________________________\n",
            "conv2d (Conv2D)              (None, 150, 150, 32)      896       \n",
            "_________________________________________________________________\n",
            "batch_normalization (BatchNo (None, 150, 150, 32)      128       \n",
            "_________________________________________________________________\n",
            "conv2d_1 (Conv2D)            (None, 150, 150, 32)      9248      \n",
            "_________________________________________________________________\n",
            "batch_normalization_1 (Batch (None, 150, 150, 32)      128       \n",
            "_________________________________________________________________\n",
            "max_pooling2d (MaxPooling2D) (None, 75, 75, 32)        0         \n",
            "_________________________________________________________________\n",
            "conv2d_2 (Conv2D)            (None, 75, 75, 64)        18496     \n",
            "_________________________________________________________________\n",
            "batch_normalization_2 (Batch (None, 75, 75, 64)        256       \n",
            "_________________________________________________________________\n",
            "conv2d_3 (Conv2D)            (None, 75, 75, 64)        36928     \n",
            "_________________________________________________________________\n",
            "batch_normalization_3 (Batch (None, 75, 75, 64)        256       \n",
            "_________________________________________________________________\n",
            "max_pooling2d_1 (MaxPooling2 (None, 37, 37, 64)        0         \n",
            "_________________________________________________________________\n",
            "dropout (Dropout)            (None, 37, 37, 64)        0         \n",
            "_________________________________________________________________\n",
            "conv2d_4 (Conv2D)            (None, 37, 37, 64)        36928     \n",
            "_________________________________________________________________\n",
            "batch_normalization_4 (Batch (None, 37, 37, 64)        256       \n",
            "_________________________________________________________________\n",
            "conv2d_5 (Conv2D)            (None, 37, 37, 64)        36928     \n",
            "_________________________________________________________________\n",
            "batch_normalization_5 (Batch (None, 37, 37, 64)        256       \n",
            "_________________________________________________________________\n",
            "conv2d_6 (Conv2D)            (None, 37, 37, 64)        36928     \n",
            "_________________________________________________________________\n",
            "batch_normalization_6 (Batch (None, 37, 37, 64)        256       \n",
            "_________________________________________________________________\n",
            "max_pooling2d_2 (MaxPooling2 (None, 18, 18, 64)        0         \n",
            "_________________________________________________________________\n",
            "dropout_1 (Dropout)          (None, 18, 18, 64)        0         \n",
            "_________________________________________________________________\n",
            "conv2d_7 (Conv2D)            (None, 18, 18, 128)       73856     \n",
            "_________________________________________________________________\n",
            "batch_normalization_7 (Batch (None, 18, 18, 128)       512       \n",
            "_________________________________________________________________\n",
            "conv2d_8 (Conv2D)            (None, 18, 18, 128)       147584    \n",
            "_________________________________________________________________\n",
            "batch_normalization_8 (Batch (None, 18, 18, 128)       512       \n",
            "_________________________________________________________________\n",
            "conv2d_9 (Conv2D)            (None, 18, 18, 128)       147584    \n",
            "_________________________________________________________________\n",
            "batch_normalization_9 (Batch (None, 18, 18, 128)       512       \n",
            "_________________________________________________________________\n",
            "conv2d_10 (Conv2D)           (None, 18, 18, 128)       147584    \n",
            "_________________________________________________________________\n",
            "batch_normalization_10 (Batc (None, 18, 18, 128)       512       \n",
            "_________________________________________________________________\n",
            "max_pooling2d_3 (MaxPooling2 (None, 9, 9, 128)         0         \n",
            "_________________________________________________________________\n",
            "dropout_2 (Dropout)          (None, 9, 9, 128)         0         \n",
            "_________________________________________________________________\n",
            "flatten (Flatten)            (None, 10368)             0         \n",
            "_________________________________________________________________\n",
            "dropout_3 (Dropout)          (None, 10368)             0         \n",
            "_________________________________________________________________\n",
            "dense (Dense)                (None, 1024)              10617856  \n",
            "_________________________________________________________________\n",
            "dropout_4 (Dropout)          (None, 1024)              0         \n",
            "_________________________________________________________________\n",
            "dense_1 (Dense)              (None, 1)                 1025      \n",
            "=================================================================\n",
            "Total params: 11,315,425\n",
            "Trainable params: 11,313,633\n",
            "Non-trainable params: 1,792\n",
            "_________________________________________________________________\n",
            "None\n"
          ]
        }
      ],
      "source": [
        "model_cnn = build_model()\n",
        "print(model_cnn.summary())"
      ]
    },
    {
      "cell_type": "code",
      "execution_count": 26,
      "metadata": {
        "colab": {
          "base_uri": "https://localhost:8080/",
          "height": 35
        },
        "colab_type": "code",
        "id": "uLk3fT8R-n2-",
        "outputId": "3eb44710-5c89-42b7-c803-a8fceb6d9efd"
      },
      "outputs": [
        {
          "data": {
            "text/plain": "(17, 5)"
          },
          "execution_count": 26,
          "metadata": {},
          "output_type": "execute_result"
        }
      ],
      "source": [
        "# train model on generator\n",
        "train_steps = train_generator.n // BATCH_SIZE\n",
        "test_steps = test_generator.n // BATCH_SIZE\n",
        "\n",
        "train_steps, test_steps"
      ]
    },
    {
      "cell_type": "code",
      "execution_count": 30,
      "metadata": {
        "colab": {
          "base_uri": "https://localhost:8080/",
          "height": 1000
        },
        "colab_type": "code",
        "id": "gWCKi2D9bGDO",
        "outputId": "5bda6851-5abd-4a0b-8998-6d742fba748c"
      },
      "outputs": [
        {
          "name": "stdout",
          "output_type": "stream",
          "text": [
            "Epoch 1/150\n",
            "17/17 [==============================] - 0s 11ms/step - loss: 0.6102 - accuracy: 0.7647 - val_loss: 0.2287 - val_accuracy: 1.0000\n",
            "Epoch 2/150\n",
            "17/17 [==============================] - 0s 10ms/step - loss: 0.7303 - accuracy: 0.6471 - val_loss: 0.1713 - val_accuracy: 1.0000\n",
            "Epoch 3/150\n",
            "17/17 [==============================] - 0s 11ms/step - loss: 0.8763 - accuracy: 0.6471 - val_loss: 0.3423 - val_accuracy: 0.8000\n",
            "Epoch 4/150\n",
            "17/17 [==============================] - 0s 11ms/step - loss: 0.5792 - accuracy: 0.6471 - val_loss: 0.5093 - val_accuracy: 0.8000\n",
            "Epoch 5/150\n",
            "17/17 [==============================] - 0s 11ms/step - loss: 0.7159 - accuracy: 0.6471 - val_loss: 0.1508 - val_accuracy: 1.0000\n",
            "Epoch 6/150\n",
            "17/17 [==============================] - 0s 11ms/step - loss: 0.4306 - accuracy: 0.7647 - val_loss: 0.1356 - val_accuracy: 1.0000\n",
            "Epoch 7/150\n",
            "17/17 [==============================] - 0s 12ms/step - loss: 0.5337 - accuracy: 0.7059 - val_loss: 0.1130 - val_accuracy: 1.0000\n",
            "Epoch 8/150\n",
            "17/17 [==============================] - 0s 10ms/step - loss: 0.5388 - accuracy: 0.7059 - val_loss: 0.1016 - val_accuracy: 1.0000\n",
            "Epoch 9/150\n",
            "17/17 [==============================] - 0s 10ms/step - loss: 0.3006 - accuracy: 0.8235 - val_loss: 0.0969 - val_accuracy: 1.0000\n",
            "Epoch 10/150\n",
            "17/17 [==============================] - 0s 11ms/step - loss: 0.7205 - accuracy: 0.7059 - val_loss: 0.2448 - val_accuracy: 0.8000\n",
            "Epoch 11/150\n",
            "17/17 [==============================] - 0s 10ms/step - loss: 0.3901 - accuracy: 0.8235 - val_loss: 0.3260 - val_accuracy: 0.8000\n",
            "Epoch 12/150\n",
            "17/17 [==============================] - 0s 10ms/step - loss: 0.4248 - accuracy: 0.7647 - val_loss: 0.4727 - val_accuracy: 0.8000\n",
            "Epoch 13/150\n",
            "17/17 [==============================] - 0s 11ms/step - loss: 0.4714 - accuracy: 0.7647 - val_loss: 0.3584 - val_accuracy: 0.8000\n",
            "Epoch 14/150\n",
            "17/17 [==============================] - 0s 10ms/step - loss: 0.6587 - accuracy: 0.6471 - val_loss: 0.2282 - val_accuracy: 0.8000\n",
            "Epoch 15/150\n",
            "17/17 [==============================] - 0s 10ms/step - loss: 0.4712 - accuracy: 0.8235 - val_loss: 0.1451 - val_accuracy: 1.0000\n",
            "Epoch 16/150\n",
            "17/17 [==============================] - 0s 10ms/step - loss: 0.6793 - accuracy: 0.8235 - val_loss: 0.2309 - val_accuracy: 1.0000\n",
            "Epoch 17/150\n",
            "17/17 [==============================] - 0s 10ms/step - loss: 0.9867 - accuracy: 0.5294 - val_loss: 0.1513 - val_accuracy: 1.0000\n",
            "Epoch 18/150\n",
            "17/17 [==============================] - 0s 10ms/step - loss: 0.6410 - accuracy: 0.7059 - val_loss: 0.1952 - val_accuracy: 1.0000\n",
            "Epoch 19/150\n",
            "17/17 [==============================] - 0s 11ms/step - loss: 0.4430 - accuracy: 0.9412 - val_loss: 0.4352 - val_accuracy: 0.8000\n",
            "Epoch 20/150\n",
            "17/17 [==============================] - 0s 12ms/step - loss: 0.6168 - accuracy: 0.6471 - val_loss: 0.4470 - val_accuracy: 0.8000\n",
            "Epoch 21/150\n",
            "17/17 [==============================] - 0s 12ms/step - loss: 0.5668 - accuracy: 0.8235 - val_loss: 0.3666 - val_accuracy: 0.8000\n",
            "Epoch 22/150\n",
            "17/17 [==============================] - 0s 11ms/step - loss: 0.3629 - accuracy: 0.8235 - val_loss: 0.6954 - val_accuracy: 0.8000\n",
            "Epoch 23/150\n",
            "17/17 [==============================] - 0s 11ms/step - loss: 0.5879 - accuracy: 0.7059 - val_loss: 0.6707 - val_accuracy: 0.8000\n",
            "Epoch 24/150\n",
            "17/17 [==============================] - 0s 17ms/step - loss: 0.5074 - accuracy: 0.6471 - val_loss: 0.2332 - val_accuracy: 0.8000\n",
            "Epoch 25/150\n",
            "17/17 [==============================] - 0s 10ms/step - loss: 0.5345 - accuracy: 0.8235 - val_loss: 0.1484 - val_accuracy: 1.0000\n",
            "Epoch 26/150\n",
            "17/17 [==============================] - 0s 11ms/step - loss: 0.5921 - accuracy: 0.6471 - val_loss: 0.2023 - val_accuracy: 1.0000\n",
            "Epoch 27/150\n",
            "17/17 [==============================] - 0s 11ms/step - loss: 0.5802 - accuracy: 0.6471 - val_loss: 0.2643 - val_accuracy: 0.8000\n",
            "Epoch 28/150\n",
            "17/17 [==============================] - 0s 10ms/step - loss: 0.6288 - accuracy: 0.8235 - val_loss: 0.2591 - val_accuracy: 1.0000\n",
            "Epoch 29/150\n",
            "17/17 [==============================] - 0s 11ms/step - loss: 0.3385 - accuracy: 0.8235 - val_loss: 0.1033 - val_accuracy: 1.0000\n",
            "Epoch 30/150\n",
            "17/17 [==============================] - 0s 10ms/step - loss: 0.4570 - accuracy: 0.8824 - val_loss: 0.0905 - val_accuracy: 1.0000\n",
            "Epoch 31/150\n",
            "17/17 [==============================] - 0s 10ms/step - loss: 0.7215 - accuracy: 0.7059 - val_loss: 0.1732 - val_accuracy: 0.8000\n",
            "Epoch 32/150\n",
            "17/17 [==============================] - 0s 10ms/step - loss: 0.3290 - accuracy: 0.8824 - val_loss: 0.1171 - val_accuracy: 1.0000\n",
            "Epoch 33/150\n",
            "17/17 [==============================] - 0s 11ms/step - loss: 0.7273 - accuracy: 0.6471 - val_loss: 0.1583 - val_accuracy: 1.0000\n",
            "Epoch 34/150\n",
            "17/17 [==============================] - 0s 11ms/step - loss: 0.6443 - accuracy: 0.6471 - val_loss: 0.2778 - val_accuracy: 0.8000\n",
            "Epoch 35/150\n",
            "17/17 [==============================] - 0s 10ms/step - loss: 0.3608 - accuracy: 0.7647 - val_loss: 0.4561 - val_accuracy: 0.8000\n",
            "Epoch 36/150\n",
            "17/17 [==============================] - 0s 10ms/step - loss: 0.4093 - accuracy: 0.8235 - val_loss: 0.3113 - val_accuracy: 0.8000\n",
            "Epoch 37/150\n",
            "17/17 [==============================] - 0s 10ms/step - loss: 0.8297 - accuracy: 0.5882 - val_loss: 0.2420 - val_accuracy: 0.8000\n",
            "Epoch 38/150\n",
            "17/17 [==============================] - 0s 11ms/step - loss: 0.3378 - accuracy: 0.7059 - val_loss: 0.2089 - val_accuracy: 1.0000\n",
            "Epoch 39/150\n",
            "17/17 [==============================] - 0s 11ms/step - loss: 0.3121 - accuracy: 0.8824 - val_loss: 0.1878 - val_accuracy: 1.0000\n",
            "Epoch 40/150\n",
            "17/17 [==============================] - 0s 11ms/step - loss: 0.5344 - accuracy: 0.7059 - val_loss: 0.1454 - val_accuracy: 1.0000\n",
            "Epoch 41/150\n",
            "17/17 [==============================] - 0s 12ms/step - loss: 0.5884 - accuracy: 0.7647 - val_loss: 0.1866 - val_accuracy: 1.0000\n",
            "Epoch 42/150\n",
            "17/17 [==============================] - 0s 11ms/step - loss: 1.0388 - accuracy: 0.5294 - val_loss: 0.2459 - val_accuracy: 1.0000\n",
            "Epoch 43/150\n",
            "17/17 [==============================] - 0s 10ms/step - loss: 0.8768 - accuracy: 0.6471 - val_loss: 0.2791 - val_accuracy: 0.8000\n",
            "Epoch 44/150\n",
            "17/17 [==============================] - 0s 11ms/step - loss: 0.8581 - accuracy: 0.4706 - val_loss: 0.3212 - val_accuracy: 0.8000\n",
            "Epoch 45/150\n",
            "17/17 [==============================] - 0s 10ms/step - loss: 0.7760 - accuracy: 0.5882 - val_loss: 0.3206 - val_accuracy: 0.6000\n",
            "Epoch 46/150\n",
            "17/17 [==============================] - 0s 11ms/step - loss: 0.4473 - accuracy: 0.8824 - val_loss: 0.3031 - val_accuracy: 0.8000\n",
            "Epoch 47/150\n",
            "17/17 [==============================] - 0s 11ms/step - loss: 0.6872 - accuracy: 0.7647 - val_loss: 0.2407 - val_accuracy: 1.0000\n",
            "Epoch 48/150\n",
            "17/17 [==============================] - 0s 11ms/step - loss: 0.3534 - accuracy: 0.8824 - val_loss: 0.2076 - val_accuracy: 0.8000\n",
            "Epoch 49/150\n",
            "17/17 [==============================] - 0s 10ms/step - loss: 0.3671 - accuracy: 0.7059 - val_loss: 0.2296 - val_accuracy: 0.8000\n",
            "Epoch 50/150\n",
            "17/17 [==============================] - 0s 10ms/step - loss: 0.5692 - accuracy: 0.7059 - val_loss: 0.1122 - val_accuracy: 1.0000\n",
            "Epoch 51/150\n",
            "17/17 [==============================] - 0s 11ms/step - loss: 0.4996 - accuracy: 0.7647 - val_loss: 0.1785 - val_accuracy: 1.0000\n",
            "Epoch 52/150\n",
            "17/17 [==============================] - 0s 12ms/step - loss: 0.3229 - accuracy: 0.8235 - val_loss: 0.1012 - val_accuracy: 1.0000\n",
            "Epoch 53/150\n",
            "17/17 [==============================] - 0s 11ms/step - loss: 0.6872 - accuracy: 0.5882 - val_loss: 0.1050 - val_accuracy: 1.0000\n",
            "Epoch 54/150\n",
            "17/17 [==============================] - 0s 11ms/step - loss: 0.3211 - accuracy: 0.8235 - val_loss: 0.0877 - val_accuracy: 1.0000\n",
            "Epoch 55/150\n",
            "17/17 [==============================] - 0s 10ms/step - loss: 0.6586 - accuracy: 0.8235 - val_loss: 0.0913 - val_accuracy: 1.0000\n",
            "Epoch 56/150\n",
            "17/17 [==============================] - 0s 10ms/step - loss: 0.2355 - accuracy: 0.8824 - val_loss: 0.1264 - val_accuracy: 1.0000\n",
            "Epoch 57/150\n",
            "17/17 [==============================] - 0s 10ms/step - loss: 0.5508 - accuracy: 0.6471 - val_loss: 0.1469 - val_accuracy: 1.0000\n",
            "Epoch 58/150\n",
            "17/17 [==============================] - 0s 10ms/step - loss: 0.3517 - accuracy: 0.8824 - val_loss: 0.1967 - val_accuracy: 0.8000\n",
            "Epoch 59/150\n",
            "17/17 [==============================] - 0s 11ms/step - loss: 0.4028 - accuracy: 0.8824 - val_loss: 0.1445 - val_accuracy: 1.0000\n",
            "Epoch 60/150\n",
            "17/17 [==============================] - 0s 10ms/step - loss: 0.5602 - accuracy: 0.8235 - val_loss: 0.0759 - val_accuracy: 1.0000\n",
            "Epoch 61/150\n",
            "17/17 [==============================] - 0s 10ms/step - loss: 0.4464 - accuracy: 0.8235 - val_loss: 0.0852 - val_accuracy: 1.0000\n",
            "Epoch 62/150\n",
            "17/17 [==============================] - 0s 11ms/step - loss: 0.4621 - accuracy: 0.7647 - val_loss: 0.1578 - val_accuracy: 1.0000\n",
            "Epoch 63/150\n",
            "17/17 [==============================] - 0s 11ms/step - loss: 0.3756 - accuracy: 0.8824 - val_loss: 0.1012 - val_accuracy: 1.0000\n",
            "Epoch 64/150\n",
            "17/17 [==============================] - 0s 11ms/step - loss: 0.5941 - accuracy: 0.7647 - val_loss: 0.1033 - val_accuracy: 1.0000\n",
            "Epoch 65/150\n",
            "17/17 [==============================] - 0s 11ms/step - loss: 0.3714 - accuracy: 0.9412 - val_loss: 0.1768 - val_accuracy: 1.0000\n",
            "Epoch 66/150\n",
            "17/17 [==============================] - 0s 11ms/step - loss: 0.4205 - accuracy: 0.8824 - val_loss: 0.1189 - val_accuracy: 1.0000\n",
            "Epoch 67/150\n",
            "17/17 [==============================] - 0s 10ms/step - loss: 0.4501 - accuracy: 0.7059 - val_loss: 0.0624 - val_accuracy: 1.0000\n",
            "Epoch 68/150\n",
            "17/17 [==============================] - 0s 11ms/step - loss: 0.5006 - accuracy: 0.7647 - val_loss: 0.1945 - val_accuracy: 0.8000\n",
            "Epoch 69/150\n",
            "17/17 [==============================] - 0s 14ms/step - loss: 0.5295 - accuracy: 0.7059 - val_loss: 0.1620 - val_accuracy: 1.0000\n",
            "Epoch 70/150\n",
            "17/17 [==============================] - 0s 10ms/step - loss: 0.4925 - accuracy: 0.7059 - val_loss: 0.1113 - val_accuracy: 1.0000\n",
            "Epoch 71/150\n",
            "17/17 [==============================] - 0s 11ms/step - loss: 0.2476 - accuracy: 0.8824 - val_loss: 0.0895 - val_accuracy: 1.0000\n",
            "Epoch 72/150\n",
            "17/17 [==============================] - 0s 11ms/step - loss: 0.4787 - accuracy: 0.6471 - val_loss: 0.1139 - val_accuracy: 1.0000\n",
            "Epoch 73/150\n",
            "17/17 [==============================] - 0s 12ms/step - loss: 0.5979 - accuracy: 0.6471 - val_loss: 0.0826 - val_accuracy: 1.0000\n",
            "Epoch 74/150\n",
            "17/17 [==============================] - 0s 11ms/step - loss: 0.3724 - accuracy: 0.8824 - val_loss: 0.0478 - val_accuracy: 1.0000\n",
            "Epoch 75/150\n",
            "17/17 [==============================] - 0s 10ms/step - loss: 0.2708 - accuracy: 0.9412 - val_loss: 0.0591 - val_accuracy: 1.0000\n",
            "Epoch 76/150\n",
            "17/17 [==============================] - 0s 12ms/step - loss: 0.5891 - accuracy: 0.7647 - val_loss: 0.0844 - val_accuracy: 1.0000\n",
            "Epoch 77/150\n",
            "17/17 [==============================] - 0s 12ms/step - loss: 0.5146 - accuracy: 0.7059 - val_loss: 0.0308 - val_accuracy: 1.0000\n",
            "Epoch 78/150\n",
            "17/17 [==============================] - 0s 11ms/step - loss: 0.3299 - accuracy: 0.7647 - val_loss: 0.0103 - val_accuracy: 1.0000\n",
            "Epoch 79/150\n",
            "17/17 [==============================] - 0s 10ms/step - loss: 0.1831 - accuracy: 0.9412 - val_loss: 0.0197 - val_accuracy: 1.0000\n",
            "Epoch 80/150\n",
            "17/17 [==============================] - 0s 11ms/step - loss: 0.6361 - accuracy: 0.6471 - val_loss: 0.3293 - val_accuracy: 0.8000\n",
            "Epoch 81/150\n",
            "17/17 [==============================] - 0s 11ms/step - loss: 0.4163 - accuracy: 0.8235 - val_loss: 0.0988 - val_accuracy: 1.0000\n",
            "Epoch 82/150\n",
            "17/17 [==============================] - 0s 11ms/step - loss: 0.6553 - accuracy: 0.6471 - val_loss: 0.2035 - val_accuracy: 0.8000\n",
            "Epoch 83/150\n",
            "17/17 [==============================] - 0s 10ms/step - loss: 0.2405 - accuracy: 0.8824 - val_loss: 0.3820 - val_accuracy: 0.8000\n",
            "Epoch 84/150\n",
            "17/17 [==============================] - 0s 11ms/step - loss: 0.5211 - accuracy: 0.7647 - val_loss: 0.0520 - val_accuracy: 1.0000\n",
            "Epoch 85/150\n",
            "17/17 [==============================] - 0s 10ms/step - loss: 0.9074 - accuracy: 0.7647 - val_loss: 0.0596 - val_accuracy: 1.0000\n",
            "Epoch 86/150\n",
            "17/17 [==============================] - 0s 11ms/step - loss: 0.6560 - accuracy: 0.7059 - val_loss: 0.1822 - val_accuracy: 0.8000\n",
            "Epoch 87/150\n",
            "17/17 [==============================] - 0s 11ms/step - loss: 0.4201 - accuracy: 0.8235 - val_loss: 0.2290 - val_accuracy: 0.8000\n",
            "Epoch 88/150\n",
            "17/17 [==============================] - 0s 10ms/step - loss: 0.3365 - accuracy: 0.8824 - val_loss: 0.2526 - val_accuracy: 0.8000\n",
            "Epoch 89/150\n",
            "17/17 [==============================] - 0s 11ms/step - loss: 0.4470 - accuracy: 0.7647 - val_loss: 0.3067 - val_accuracy: 0.8000\n",
            "Epoch 90/150\n",
            "17/17 [==============================] - 0s 10ms/step - loss: 0.5059 - accuracy: 0.7647 - val_loss: 0.5429 - val_accuracy: 0.8000\n",
            "Epoch 91/150\n",
            "17/17 [==============================] - 0s 11ms/step - loss: 0.4644 - accuracy: 0.7647 - val_loss: 0.1341 - val_accuracy: 1.0000\n",
            "Epoch 92/150\n",
            "17/17 [==============================] - 0s 12ms/step - loss: 0.6090 - accuracy: 0.7647 - val_loss: 0.1576 - val_accuracy: 1.0000\n",
            "Epoch 93/150\n",
            "17/17 [==============================] - 0s 11ms/step - loss: 0.2520 - accuracy: 0.8824 - val_loss: 0.0482 - val_accuracy: 1.0000\n",
            "Epoch 94/150\n",
            "17/17 [==============================] - 0s 12ms/step - loss: 0.4354 - accuracy: 0.8235 - val_loss: 0.1756 - val_accuracy: 0.8000\n",
            "Epoch 95/150\n",
            "17/17 [==============================] - 0s 10ms/step - loss: 0.3349 - accuracy: 0.8235 - val_loss: 0.2372 - val_accuracy: 1.0000\n",
            "Epoch 96/150\n",
            "17/17 [==============================] - 0s 10ms/step - loss: 0.5580 - accuracy: 0.7647 - val_loss: 0.0279 - val_accuracy: 1.0000\n",
            "Epoch 97/150\n",
            "17/17 [==============================] - 0s 12ms/step - loss: 0.6967 - accuracy: 0.7059 - val_loss: 0.0491 - val_accuracy: 1.0000\n",
            "Epoch 98/150\n",
            "17/17 [==============================] - 0s 11ms/step - loss: 0.4134 - accuracy: 0.7647 - val_loss: 0.0139 - val_accuracy: 1.0000\n",
            "Epoch 99/150\n",
            "17/17 [==============================] - 0s 10ms/step - loss: 0.6489 - accuracy: 0.7059 - val_loss: 0.0352 - val_accuracy: 1.0000\n",
            "Epoch 100/150\n",
            "17/17 [==============================] - 0s 11ms/step - loss: 0.2536 - accuracy: 1.0000 - val_loss: 0.1020 - val_accuracy: 1.0000\n",
            "Epoch 101/150\n",
            "17/17 [==============================] - 0s 11ms/step - loss: 0.3722 - accuracy: 0.8824 - val_loss: 0.0481 - val_accuracy: 1.0000\n",
            "Epoch 102/150\n",
            "17/17 [==============================] - 0s 11ms/step - loss: 0.4881 - accuracy: 0.7059 - val_loss: 0.0334 - val_accuracy: 1.0000\n",
            "Epoch 103/150\n",
            "17/17 [==============================] - 0s 11ms/step - loss: 0.2883 - accuracy: 0.8235 - val_loss: 0.0821 - val_accuracy: 1.0000\n",
            "Epoch 104/150\n",
            "17/17 [==============================] - 0s 11ms/step - loss: 0.3639 - accuracy: 0.8824 - val_loss: 0.0139 - val_accuracy: 1.0000\n",
            "Epoch 105/150\n",
            "17/17 [==============================] - 0s 10ms/step - loss: 0.3268 - accuracy: 0.7647 - val_loss: 0.0637 - val_accuracy: 1.0000\n",
            "Epoch 106/150\n",
            "17/17 [==============================] - 0s 10ms/step - loss: 0.3263 - accuracy: 0.7647 - val_loss: 0.0387 - val_accuracy: 1.0000\n",
            "Epoch 107/150\n",
            "17/17 [==============================] - 0s 11ms/step - loss: 0.6766 - accuracy: 0.7647 - val_loss: 0.0101 - val_accuracy: 1.0000\n",
            "Epoch 108/150\n",
            "17/17 [==============================] - 0s 10ms/step - loss: 0.3448 - accuracy: 0.8824 - val_loss: 0.0668 - val_accuracy: 1.0000\n",
            "Epoch 109/150\n",
            "17/17 [==============================] - 0s 11ms/step - loss: 0.2385 - accuracy: 0.8824 - val_loss: 0.1698 - val_accuracy: 1.0000\n",
            "Epoch 110/150\n",
            "17/17 [==============================] - 0s 11ms/step - loss: 0.3470 - accuracy: 0.8235 - val_loss: 0.1214 - val_accuracy: 1.0000\n",
            "Epoch 111/150\n",
            "17/17 [==============================] - 0s 10ms/step - loss: 0.2719 - accuracy: 0.8824 - val_loss: 0.0892 - val_accuracy: 1.0000\n",
            "Epoch 112/150\n",
            "17/17 [==============================] - 0s 10ms/step - loss: 0.4999 - accuracy: 0.8235 - val_loss: 0.1928 - val_accuracy: 0.8000\n",
            "Epoch 113/150\n",
            "17/17 [==============================] - 0s 11ms/step - loss: 0.3433 - accuracy: 0.8235 - val_loss: 0.0529 - val_accuracy: 1.0000\n",
            "Epoch 114/150\n",
            "17/17 [==============================] - 0s 15ms/step - loss: 0.1769 - accuracy: 0.8824 - val_loss: 0.0389 - val_accuracy: 1.0000\n",
            "Epoch 115/150\n",
            "17/17 [==============================] - 0s 11ms/step - loss: 0.3557 - accuracy: 0.9412 - val_loss: 0.3286 - val_accuracy: 0.8000\n",
            "Epoch 116/150\n",
            "17/17 [==============================] - 0s 11ms/step - loss: 0.5054 - accuracy: 0.7647 - val_loss: 0.0104 - val_accuracy: 1.0000\n",
            "Epoch 117/150\n",
            "17/17 [==============================] - 0s 12ms/step - loss: 0.8162 - accuracy: 0.7059 - val_loss: 0.1074 - val_accuracy: 1.0000\n",
            "Epoch 118/150\n",
            "17/17 [==============================] - 0s 11ms/step - loss: 0.7918 - accuracy: 0.7647 - val_loss: 0.0157 - val_accuracy: 1.0000\n",
            "Epoch 119/150\n",
            "17/17 [==============================] - 0s 10ms/step - loss: 0.6499 - accuracy: 0.7059 - val_loss: 0.0070 - val_accuracy: 1.0000\n",
            "Epoch 120/150\n",
            "17/17 [==============================] - 0s 11ms/step - loss: 0.5940 - accuracy: 0.8235 - val_loss: 0.0101 - val_accuracy: 1.0000\n",
            "Epoch 121/150\n",
            "17/17 [==============================] - 0s 11ms/step - loss: 0.2699 - accuracy: 0.8235 - val_loss: 0.0486 - val_accuracy: 1.0000\n",
            "Epoch 122/150\n",
            "17/17 [==============================] - 0s 11ms/step - loss: 0.5157 - accuracy: 0.8824 - val_loss: 0.0604 - val_accuracy: 1.0000\n",
            "Epoch 123/150\n",
            "17/17 [==============================] - 0s 11ms/step - loss: 0.3164 - accuracy: 0.9412 - val_loss: 0.0112 - val_accuracy: 1.0000\n",
            "Epoch 124/150\n",
            "17/17 [==============================] - 0s 11ms/step - loss: 0.3428 - accuracy: 0.8235 - val_loss: 0.0057 - val_accuracy: 1.0000\n",
            "Epoch 125/150\n",
            "17/17 [==============================] - 0s 11ms/step - loss: 0.6693 - accuracy: 0.7059 - val_loss: 0.0065 - val_accuracy: 1.0000\n",
            "Epoch 126/150\n",
            "17/17 [==============================] - 0s 10ms/step - loss: 0.3087 - accuracy: 0.8824 - val_loss: 0.0308 - val_accuracy: 1.0000\n",
            "Epoch 127/150\n",
            "17/17 [==============================] - 0s 10ms/step - loss: 0.3647 - accuracy: 0.7059 - val_loss: 0.1563 - val_accuracy: 0.8000\n",
            "Epoch 128/150\n",
            "17/17 [==============================] - 0s 10ms/step - loss: 0.4687 - accuracy: 0.8235 - val_loss: 0.2746 - val_accuracy: 0.8000\n",
            "Epoch 129/150\n",
            "17/17 [==============================] - 0s 11ms/step - loss: 0.2764 - accuracy: 0.8235 - val_loss: 0.5265 - val_accuracy: 0.8000\n",
            "Epoch 130/150\n",
            "17/17 [==============================] - 0s 11ms/step - loss: 0.5740 - accuracy: 0.8824 - val_loss: 0.7159 - val_accuracy: 0.8000\n",
            "Epoch 131/150\n",
            "17/17 [==============================] - 0s 11ms/step - loss: 0.6150 - accuracy: 0.7059 - val_loss: 0.0700 - val_accuracy: 1.0000\n",
            "Epoch 132/150\n",
            "17/17 [==============================] - 0s 11ms/step - loss: 0.1655 - accuracy: 0.9412 - val_loss: 0.0160 - val_accuracy: 1.0000\n",
            "Epoch 133/150\n",
            "17/17 [==============================] - 0s 11ms/step - loss: 0.3832 - accuracy: 0.7647 - val_loss: 0.0287 - val_accuracy: 1.0000\n",
            "Epoch 134/150\n",
            "17/17 [==============================] - 0s 11ms/step - loss: 0.4913 - accuracy: 0.8235 - val_loss: 0.0102 - val_accuracy: 1.0000\n",
            "Epoch 135/150\n",
            "17/17 [==============================] - 0s 11ms/step - loss: 0.1883 - accuracy: 0.9412 - val_loss: 0.0121 - val_accuracy: 1.0000\n",
            "Epoch 136/150\n",
            "17/17 [==============================] - 0s 12ms/step - loss: 0.3348 - accuracy: 0.7647 - val_loss: 0.0018 - val_accuracy: 1.0000\n",
            "Epoch 137/150\n",
            "17/17 [==============================] - 0s 10ms/step - loss: 0.2020 - accuracy: 0.8824 - val_loss: 6.9350e-04 - val_accuracy: 1.0000\n",
            "Epoch 138/150\n",
            "17/17 [==============================] - 0s 11ms/step - loss: 0.1209 - accuracy: 1.0000 - val_loss: 9.8929e-04 - val_accuracy: 1.0000\n",
            "Epoch 139/150\n",
            "17/17 [==============================] - 0s 10ms/step - loss: 0.4191 - accuracy: 0.8235 - val_loss: 0.0825 - val_accuracy: 1.0000\n",
            "Epoch 140/150\n",
            "17/17 [==============================] - 0s 11ms/step - loss: 0.3563 - accuracy: 0.8235 - val_loss: 0.3019 - val_accuracy: 0.8000\n",
            "Epoch 141/150\n",
            "17/17 [==============================] - 0s 10ms/step - loss: 0.1919 - accuracy: 0.9412 - val_loss: 0.0100 - val_accuracy: 1.0000\n",
            "Epoch 142/150\n",
            "17/17 [==============================] - 0s 10ms/step - loss: 0.2484 - accuracy: 0.8824 - val_loss: 0.0309 - val_accuracy: 1.0000\n",
            "Epoch 143/150\n",
            "17/17 [==============================] - 0s 11ms/step - loss: 0.4362 - accuracy: 0.8235 - val_loss: 0.1180 - val_accuracy: 1.0000\n",
            "Epoch 144/150\n",
            "17/17 [==============================] - 0s 11ms/step - loss: 0.4887 - accuracy: 0.7647 - val_loss: 0.1565 - val_accuracy: 1.0000\n",
            "Epoch 145/150\n",
            "17/17 [==============================] - 0s 11ms/step - loss: 0.5565 - accuracy: 0.7059 - val_loss: 0.5134 - val_accuracy: 0.8000\n",
            "Epoch 146/150\n",
            "17/17 [==============================] - 0s 11ms/step - loss: 0.4331 - accuracy: 0.8235 - val_loss: 2.9129 - val_accuracy: 0.6000\n",
            "Epoch 147/150\n",
            "17/17 [==============================] - 0s 11ms/step - loss: 0.2932 - accuracy: 0.8824 - val_loss: 0.1540 - val_accuracy: 1.0000\n",
            "Epoch 148/150\n",
            "17/17 [==============================] - 0s 11ms/step - loss: 0.1400 - accuracy: 0.9412 - val_loss: 0.0310 - val_accuracy: 1.0000\n",
            "Epoch 149/150\n",
            "17/17 [==============================] - 0s 11ms/step - loss: 0.2297 - accuracy: 0.9412 - val_loss: 0.0115 - val_accuracy: 1.0000\n",
            "Epoch 150/150\n",
            "17/17 [==============================] - 0s 11ms/step - loss: 0.0928 - accuracy: 1.0000 - val_loss: 0.0141 - val_accuracy: 1.0000\n"
          ]
        }
      ],
      "source": [
        "# train model on generator\n",
        "hist = model_cnn.fit(\n",
        "    train_generator,\n",
        "    steps_per_epoch=train_steps,\n",
        "    epochs=150,\n",
        "    validation_data=test_generator,\n",
        "    validation_steps=test_steps)"
      ]
    },
    {
      "cell_type": "code",
      "execution_count": 31,
      "metadata": {},
      "outputs": [
        {
          "data": {
            "image/png": "[encoded data removed]",
            "text/plain": "<Figure size 1152x360 with 2 Axes>"
          },
          "metadata": {},
          "output_type": "display_data"
        }
      ],
      "source": [
        "utils.show_plots(hist.history, plot_title='Keras CNN with Image Augmentation')"
      ]
    },
    {
      "cell_type": "code",
      "execution_count": 32,
      "metadata": {
        "colab": {
          "base_uri": "https://localhost:8080/",
          "height": 126
        },
        "colab_type": "code",
        "id": "YSbqWLBJbF5-",
        "outputId": "fc5da74d-cb20-4b16-e719-f7d90251f9de"
      },
      "outputs": [
        {
          "name": "stdout",
          "output_type": "stream",
          "text": [
            "17/17 [==============================] - 0s 4ms/step - loss: 0.3366 - accuracy: 0.8824\n",
            "Training data  -> loss: 0.337, acc: 0.882\n",
            "5/5 [==============================] - 0s 2ms/step - loss: 0.0141 - accuracy: 1.0000\n",
            "Testing data   -> loss: 0.014, acc: 1.000\n"
          ]
        }
      ],
      "source": [
        "# evaluate performance on train & test data\n",
        "loss, acc = model_cnn.evaluate_generator(train_generator, steps=train_steps, verbose=1)\n",
        "print('Training data  -> loss: %.3f, acc: %.3f' % (loss, acc))\n",
        "\n",
        "loss, acc = model_cnn.evaluate_generator(test_generator, steps=test_steps, verbose=1)\n",
        "print('Testing data   -> loss: %.3f, acc: %.3f' % (loss, acc))"
      ]
    },
    {
      "cell_type": "markdown",
      "metadata": {
        "colab_type": "text",
        "id": "lQlbBMMuMrpl"
      },
      "source": [
        "### Observations with Image Augmentation\n",
        "\n",
        ">Configuration | Training Acc | Cross-val Acc | Test Acc \n",
        ">:---|:---:|:---:|:---:|\n",
        ">**Base Model**|99-100%|99-100%| nan\n",
        ">**With Image Aug**|87-89%|80-81%| nan\n",
        "\n",
        "* Notice that the overfitting has reduced significantly \n",
        "\n",
        "In conclusion, **the introduction of Image Augmentation has significantly improved the performance of the base model**. However, we aspire to get much better test accuracy for which we will leverage weights from a pre-trained model, like VGG16 in the next section.\n"
      ]
    },
    {
      "cell_type": "code",
      "execution_count": 33,
      "metadata": {
        "colab": {
          "base_uri": "https://localhost:8080/",
          "height": 199
        },
        "colab_type": "code",
        "id": "mfiwtcaUbFwR",
        "outputId": "912d5fa0-1dcb-47b7-b15f-9446912e5bce"
      },
      "outputs": [
        {
          "data": {
            "text/plain": "array(['/home/jap05/Projects/ajna_testes/notebooks/bases/my_dataset/test/ncontaminado/5f7b12ddcccffe0032354523.jpg',\n       '/home/jap05/Projects/ajna_testes/notebooks/bases/my_dataset/test/contaminado/TEMU9131666A.jpg',\n       '/home/jap05/Projects/ajna_testes/notebooks/bases/my_dataset/test/ncontaminado/5f7b141ccccffe00323573fe.jpg',\n       '/home/jap05/Projects/ajna_testes/notebooks/bases/my_dataset/test/contaminado/HLBU9065305A.jpg',\n       '/home/jap05/Projects/ajna_testes/notebooks/bases/my_dataset/test/ncontaminado/5f7b1335cccffe00323554b2.jpg'],\n      dtype='<U106')"
          },
          "execution_count": 33,
          "metadata": {},
          "output_type": "execute_result"
        }
      ],
      "source": [
        "test_image_files"
      ]
    },
    {
      "cell_type": "code",
      "execution_count": 34,
      "metadata": {
        "colab": {
          "base_uri": "https://localhost:8080/",
          "height": 1000
        },
        "colab_type": "code",
        "id": "NalT5brybFmp",
        "outputId": "1f3e2ae9-7d8c-475a-9b74-46fe7e45cc13"
      },
      "outputs": [
        {
          "name": "stdout",
          "output_type": "stream",
          "text": [
            "/home/jap05/Projects/ajna_testes/notebooks/bases/my_dataset/test/ncontaminado/5f7b12ddcccffe0032354523.jpg - Prediction (1.0000) - Não Contaminado\n",
            "/home/jap05/Projects/ajna_testes/notebooks/bases/my_dataset/test/contaminado/TEMU9131666A.jpg - Prediction (0.0000) - Contaminado\n",
            "/home/jap05/Projects/ajna_testes/notebooks/bases/my_dataset/test/ncontaminado/5f7b141ccccffe00323573fe.jpg - Prediction (1.0000) - Não Contaminado\n",
            "/home/jap05/Projects/ajna_testes/notebooks/bases/my_dataset/test/contaminado/HLBU9065305A.jpg - Prediction (0.0000) - Contaminado\n",
            "/home/jap05/Projects/ajna_testes/notebooks/bases/my_dataset/test/ncontaminado/5f7b1335cccffe00323554b2.jpg - Prediction (1.0000) - Não Contaminado\n"
          ]
        }
      ],
      "source": [
        "predict(test_image_files)"
      ]
    },
    {
      "cell_type": "code",
      "execution_count": 66,
      "metadata": {
        "colab": {
          "base_uri": "https://localhost:8080/",
          "height": 35
        },
        "colab_type": "code",
        "id": "8xfIVcQRbFdS",
        "outputId": "584348c3-f396-452f-85e3-7ca87fdbb15e"
      },
      "outputs": [
        {
          "name": "stdout",
          "output_type": "stream",
          "text": [
            "Saved model to file ./model_states/keras_contaminado_aug.h5\n"
          ]
        }
      ],
      "source": [
        "utils.save_keras_model(model_cnn, 'keras_contaminado_aug')\n",
        "#del model_cnn"
      ]
    },
    {
      "cell_type": "markdown",
      "metadata": {
        "colab_type": "text",
        "id": "uqhwPynjl_GZ"
      },
      "source": [
        "## Using Transfer learning\n",
        "\n",
        "Keras ships with several models that have been pre-trained on the ImageNet database (e.g. Xception, VGG16, VGG19, Resnet, Inception etc.) -- view the complete list [here](https://keras.io/applications/). All these are available in the `keras.applications` module. **We will use the VGG16 model**, whose structure somewhat resembles that of the model we have been using so far.\n",
        "\n",
        "The first step is to create an instance of the model, which will download weights for ImageNet. Following is the code to instantiate the model.\n",
        "\n",
        "Note that we use `include_top=False`. This is to drop _all_ the Dense layers of the pre-trained VGG16 mode and keep just the Conv2d base. In doing so, we have _kept_ the section of the model that learns the various patterns within images (i.e. the Convnets), but have discarded the _prediction_ layers (Dense layers), which we will replace with our own layers. The _convnets_ have already learns various abstract patterns - this learning can be re-applied to other problems. By replacing the Dense layers, we will be tweaking the model for our images set.\n"
      ]
    },
    {
      "cell_type": "code",
      "execution_count": 36,
      "metadata": {
        "colab": {
          "base_uri": "https://localhost:8080/",
          "height": 928
        },
        "colab_type": "code",
        "id": "_cbphmiGbFSp",
        "outputId": "8fa93cc3-3c82-484a-d7ea-2e4f534492cf"
      },
      "outputs": [
        {
          "name": "stdout",
          "output_type": "stream",
          "text": [
            "Model: \"vgg16\"\n",
            "_________________________________________________________________\n",
            "Layer (type)                 Output Shape              Param #   \n",
            "=================================================================\n",
            "input_2 (InputLayer)         [(None, 150, 150, 3)]     0         \n",
            "_________________________________________________________________\n",
            "block1_conv1 (Conv2D)        (None, 150, 150, 64)      1792      \n",
            "_________________________________________________________________\n",
            "block1_conv2 (Conv2D)        (None, 150, 150, 64)      36928     \n",
            "_________________________________________________________________\n",
            "block1_pool (MaxPooling2D)   (None, 75, 75, 64)        0         \n",
            "_________________________________________________________________\n",
            "block2_conv1 (Conv2D)        (None, 75, 75, 128)       73856     \n",
            "_________________________________________________________________\n",
            "block2_conv2 (Conv2D)        (None, 75, 75, 128)       147584    \n",
            "_________________________________________________________________\n",
            "block2_pool (MaxPooling2D)   (None, 37, 37, 128)       0         \n",
            "_________________________________________________________________\n",
            "block3_conv1 (Conv2D)        (None, 37, 37, 256)       295168    \n",
            "_________________________________________________________________\n",
            "block3_conv2 (Conv2D)        (None, 37, 37, 256)       590080    \n",
            "_________________________________________________________________\n",
            "block3_conv3 (Conv2D)        (None, 37, 37, 256)       590080    \n",
            "_________________________________________________________________\n",
            "block3_pool (MaxPooling2D)   (None, 18, 18, 256)       0         \n",
            "_________________________________________________________________\n",
            "block4_conv1 (Conv2D)        (None, 18, 18, 512)       1180160   \n",
            "_________________________________________________________________\n",
            "block4_conv2 (Conv2D)        (None, 18, 18, 512)       2359808   \n",
            "_________________________________________________________________\n",
            "block4_conv3 (Conv2D)        (None, 18, 18, 512)       2359808   \n",
            "_________________________________________________________________\n",
            "block4_pool (MaxPooling2D)   (None, 9, 9, 512)         0         \n",
            "_________________________________________________________________\n",
            "block5_conv1 (Conv2D)        (None, 9, 9, 512)         2359808   \n",
            "_________________________________________________________________\n",
            "block5_conv2 (Conv2D)        (None, 9, 9, 512)         2359808   \n",
            "_________________________________________________________________\n",
            "block5_conv3 (Conv2D)        (None, 9, 9, 512)         2359808   \n",
            "_________________________________________________________________\n",
            "block5_pool (MaxPooling2D)   (None, 4, 4, 512)         0         \n",
            "=================================================================\n",
            "Total params: 14,714,688\n",
            "Trainable params: 14,714,688\n",
            "Non-trainable params: 0\n",
            "_________________________________________________________________\n",
            "None\n"
          ]
        }
      ],
      "source": [
        "from tensorflow.keras.applications import VGG16\n",
        "\n",
        "# NOTE: will download the weights for imagenet\n",
        "vgg_base = VGG16(weights='imagenet',    # use weights for ImageNet\n",
        "                 include_top=False,     # don't use upper Dense layers\n",
        "                 input_shape=(IMAGE_HEIGHT, IMAGE_WIDTH, NUM_CHANNELS))\n",
        "print(vgg_base.summary())"
      ]
    },
    {
      "cell_type": "markdown",
      "metadata": {
        "colab_type": "text",
        "id": "JxFPFNHBpJRm"
      },
      "source": [
        "Here is the model we use - note that any model can be used as a layer in any other model. We have used `vgg_base` as the first layer of our model. After this layer come our custom `Flatten` and `Dense` layers - we use 2 `Dense` layers with 1024 and 512 nodes respectively. We also add some `Dropout` layers in between.\n",
        "\n",
        "Since we want to re-use the pre-trained weights & biases on the `vgg_base` model, we will need _tell_ Keras not to update weights while training. The way to do so is to set the `trainable` attribute to `False`. \n",
        "\n",
        "Next we compile our model as usual - we use the `Adam` optimizer, a `binary_crossentropy` loss (as this is a binary classification problem) and ask Keras to track `accuracy` metrics as it trained our model."
      ]
    },
    {
      "cell_type": "code",
      "execution_count": 37,
      "metadata": {
        "colab": {},
        "colab_type": "code",
        "id": "gOZ-5hWQ81nR"
      },
      "outputs": [],
      "source": [
        "def build_model_xfer():\n",
        "    \n",
        "    #tf.keras.backend.clear_session()  # reset graph etc.\n",
        "    \n",
        "    model = tf.keras.models.Sequential([\n",
        "        # our vgg16_base model added as a layer\n",
        "        vgg_base,\n",
        "        # here is our custom prediction layer (same as before)\n",
        "        tf.keras.layers.Flatten(),\n",
        "        tf.keras.layers.Dropout(0.50),\n",
        "        tf.keras.layers.Dense(1024, activation='relu'),\n",
        "        tf.keras.layers.Dropout(0.20),        \n",
        "        tf.keras.layers.Dense(512, activation='relu'),\n",
        "        tf.keras.layers.Dropout(0.10),         \n",
        "        tf.keras.layers.Dense(1, activation='sigmoid')    \n",
        "    ])\n",
        "    \n",
        "    # mark vgg_base as non-trainable, so training updates\n",
        "    # weights and biases of just our newly added layers\n",
        "    vgg_base.trainable = False\n",
        "    \n",
        "    model.compile(optimizer=Adam(lr=1e-4), \n",
        "                  loss='binary_crossentropy',\n",
        "                  metrics=['accuracy'])\n",
        "    return model"
      ]
    },
    {
      "cell_type": "code",
      "execution_count": 38,
      "metadata": {
        "colab": {
          "base_uri": "https://localhost:8080/",
          "height": 316
        },
        "colab_type": "code",
        "id": "i0EFbU7xKfm7",
        "outputId": "8e7ce407-bc46-4ff3-a8d7-743f3f7e194e"
      },
      "outputs": [
        {
          "name": "stdout",
          "output_type": "stream",
          "text": [
            "Model: \"sequential\"\n",
            "_________________________________________________________________\n",
            "Layer (type)                 Output Shape              Param #   \n",
            "=================================================================\n",
            "vgg16 (Functional)           (None, 4, 4, 512)         14714688  \n",
            "_________________________________________________________________\n",
            "flatten_1 (Flatten)          (None, 8192)              0         \n",
            "_________________________________________________________________\n",
            "dropout_5 (Dropout)          (None, 8192)              0         \n",
            "_________________________________________________________________\n",
            "dense_2 (Dense)              (None, 1024)              8389632   \n",
            "_________________________________________________________________\n",
            "dropout_6 (Dropout)          (None, 1024)              0         \n",
            "_________________________________________________________________\n",
            "dense_3 (Dense)              (None, 512)               524800    \n",
            "_________________________________________________________________\n",
            "dropout_7 (Dropout)          (None, 512)               0         \n",
            "_________________________________________________________________\n",
            "dense_4 (Dense)              (None, 1)                 513       \n",
            "=================================================================\n",
            "Total params: 23,629,633\n",
            "Trainable params: 8,914,945\n",
            "Non-trainable params: 14,714,688\n",
            "_________________________________________________________________\n",
            "None\n"
          ]
        }
      ],
      "source": [
        "model_xfer = build_model_xfer()\n",
        "print(model_xfer.summary())"
      ]
    },
    {
      "cell_type": "markdown",
      "metadata": {
        "colab_type": "text",
        "id": "woSL_J1FQkHt"
      },
      "source": [
        "**Notice that our model has 23,629,633 parameters, but _only_ 8,914,945 are _trainable_. We have _frozen_ 14,714,688 parameters of the `vgg_base` model by setting `trainable=False`. The trainable paramaters come from our Dense layers which we slapped on on top of the `vgg_base` model**\n",
        "\n",
        "Let's **train** this model **with image augmentation for 50 epochs** - since we have _frozen_ `vgg_base`, this is training just the `Dense` layers we added atop `vgg_base`"
      ]
    },
    {
      "cell_type": "code",
      "execution_count": 40,
      "metadata": {
        "colab": {},
        "colab_type": "code",
        "id": "jN8NBgyn81iy"
      },
      "outputs": [],
      "source": [
        "train_datagen = ImageDataGenerator(\n",
        "    rescale=1.0/255,\n",
        "    rotation_range=8,\n",
        "    width_shift_range=0.2,\n",
        "    height_shift_range=0.2,\n",
        "    shear_range=0.2,\n",
        "    zoom_range=0.2,\n",
        "    horizontal_flip=True,\n",
        "    fill_mode='nearest')\n",
        "\n",
        "# NOTE: no image aug for eval & test datagenerators\n",
        "\n",
        "test_datagen = ImageDataGenerator(rescale=1.0/255)"
      ]
    },
    {
      "cell_type": "code",
      "execution_count": 41,
      "metadata": {
        "colab": {
          "base_uri": "https://localhost:8080/",
          "height": 72
        },
        "colab_type": "code",
        "id": "04T53H8w81d8",
        "outputId": "330a7d5f-d62e-49f3-a6a8-b08eeb3e4dae"
      },
      "outputs": [
        {
          "name": "stdout",
          "output_type": "stream",
          "text": [
            "Found 17 images belonging to 2 classes.\n",
            "Found 5 images belonging to 2 classes.\n"
          ]
        }
      ],
      "source": [
        "# flow from train root folders\n",
        "train_generator = train_datagen.flow_from_directory(\n",
        "    train_root,\n",
        "    target_size=(IMAGE_HEIGHT,IMAGE_WIDTH),  # all images will be resizes to this size\n",
        "    batch_size=BATCH_SIZE,\n",
        "    class_mode='binary')\n",
        "\n",
        "test_generator = test_datagen.flow_from_directory(\n",
        "    test_root,\n",
        "    target_size=(IMAGE_HEIGHT,IMAGE_WIDTH),  # all images will be resizes to this size\n",
        "    batch_size=BATCH_SIZE,\n",
        "    class_mode='binary')"
      ]
    },
    {
      "cell_type": "code",
      "execution_count": 43,
      "metadata": {
        "colab": {
          "base_uri": "https://localhost:8080/",
          "height": 35
        },
        "colab_type": "code",
        "id": "z4q2Jway-qUS",
        "outputId": "25fc08bc-4f6c-4008-9122-cf6a77b17686"
      },
      "outputs": [
        {
          "data": {
            "text/plain": "(17, 5)"
          },
          "execution_count": 43,
          "metadata": {},
          "output_type": "execute_result"
        }
      ],
      "source": [
        "# train model on generator\n",
        "train_steps = train_generator.n // BATCH_SIZE\n",
        "test_steps = test_generator.n // BATCH_SIZE\n",
        "\n",
        "train_steps, test_steps"
      ]
    },
    {
      "cell_type": "code",
      "execution_count": 65,
      "metadata": {},
      "outputs": [
        {
          "data": {
            "text/plain": "{'contaminado': 0, 'ncontaminado': 1}"
          },
          "execution_count": 65,
          "metadata": {},
          "output_type": "execute_result"
        }
      ],
      "source": [
        "label_map = (train_generator.class_indices)\n",
        "label_map"
      ]
    },
    {
      "cell_type": "code",
      "execution_count": 44,
      "metadata": {
        "colab": {
          "base_uri": "https://localhost:8080/",
          "height": 1000
        },
        "colab_type": "code",
        "id": "h5Pw9I-Za6My",
        "outputId": "79221143-0fd0-4294-f31c-4d2cc34ab276"
      },
      "outputs": [
        {
          "name": "stdout",
          "output_type": "stream",
          "text": [
            "Epoch 1/50\n",
            "17/17 [==============================] - 1s 22ms/step - loss: 0.6788 - accuracy: 0.7520 - val_loss: 0.7171 - val_accuracy: 0.2000\n",
            "Epoch 2/50\n",
            "17/17 [==============================] - 0s 13ms/step - loss: 1.0756 - accuracy: 0.4486 - val_loss: 0.6679 - val_accuracy: 0.6000\n",
            "Epoch 3/50\n",
            "17/17 [==============================] - 0s 13ms/step - loss: 0.9463 - accuracy: 0.3334 - val_loss: 0.7544 - val_accuracy: 0.4000\n",
            "Epoch 4/50\n",
            "17/17 [==============================] - 0s 13ms/step - loss: 0.7342 - accuracy: 0.6845 - val_loss: 0.6466 - val_accuracy: 0.6000\n",
            "Epoch 5/50\n",
            "17/17 [==============================] - 0s 13ms/step - loss: 0.6788 - accuracy: 0.6336 - val_loss: 0.7233 - val_accuracy: 0.4000\n",
            "Epoch 6/50\n",
            "17/17 [==============================] - 0s 19ms/step - loss: 0.5700 - accuracy: 0.6326 - val_loss: 0.6755 - val_accuracy: 0.4000\n",
            "Epoch 7/50\n",
            "17/17 [==============================] - 0s 13ms/step - loss: 1.0491 - accuracy: 0.5430 - val_loss: 0.8529 - val_accuracy: 0.4000\n",
            "Epoch 8/50\n",
            "17/17 [==============================] - 0s 13ms/step - loss: 0.6896 - accuracy: 0.6193 - val_loss: 0.6476 - val_accuracy: 0.4000\n",
            "Epoch 9/50\n",
            "17/17 [==============================] - 0s 13ms/step - loss: 0.6947 - accuracy: 0.6509 - val_loss: 0.4461 - val_accuracy: 0.6000\n",
            "Epoch 10/50\n",
            "17/17 [==============================] - 0s 13ms/step - loss: 0.4237 - accuracy: 0.7820 - val_loss: 0.3946 - val_accuracy: 1.0000\n",
            "Epoch 11/50\n",
            "17/17 [==============================] - 0s 13ms/step - loss: 0.8338 - accuracy: 0.6508 - val_loss: 0.4930 - val_accuracy: 0.6000\n",
            "Epoch 12/50\n",
            "17/17 [==============================] - 0s 13ms/step - loss: 0.6229 - accuracy: 0.7129 - val_loss: 0.3466 - val_accuracy: 1.0000\n",
            "Epoch 13/50\n",
            "17/17 [==============================] - 0s 13ms/step - loss: 0.7334 - accuracy: 0.4857 - val_loss: 0.3490 - val_accuracy: 1.0000\n",
            "Epoch 14/50\n",
            "17/17 [==============================] - 0s 13ms/step - loss: 0.7673 - accuracy: 0.4693 - val_loss: 0.3380 - val_accuracy: 1.0000\n",
            "Epoch 15/50\n",
            "17/17 [==============================] - 0s 13ms/step - loss: 0.5407 - accuracy: 0.7438 - val_loss: 0.4639 - val_accuracy: 0.6000\n",
            "Epoch 16/50\n",
            "17/17 [==============================] - 0s 13ms/step - loss: 0.5373 - accuracy: 0.7641 - val_loss: 0.3811 - val_accuracy: 1.0000\n",
            "Epoch 17/50\n",
            "17/17 [==============================] - 0s 13ms/step - loss: 0.8142 - accuracy: 0.6291 - val_loss: 0.2674 - val_accuracy: 1.0000\n",
            "Epoch 18/50\n",
            "17/17 [==============================] - 0s 12ms/step - loss: 0.7650 - accuracy: 0.4628 - val_loss: 0.4717 - val_accuracy: 0.6000\n",
            "Epoch 19/50\n",
            "17/17 [==============================] - 0s 12ms/step - loss: 0.7406 - accuracy: 0.5113 - val_loss: 0.2512 - val_accuracy: 1.0000\n",
            "Epoch 20/50\n",
            "17/17 [==============================] - 0s 12ms/step - loss: 0.6175 - accuracy: 0.6839 - val_loss: 0.2575 - val_accuracy: 1.0000\n",
            "Epoch 21/50\n",
            "17/17 [==============================] - 0s 12ms/step - loss: 0.8901 - accuracy: 0.6336 - val_loss: 0.6505 - val_accuracy: 0.4000\n",
            "Epoch 22/50\n",
            "17/17 [==============================] - 0s 13ms/step - loss: 0.8851 - accuracy: 0.4722 - val_loss: 0.2719 - val_accuracy: 1.0000\n",
            "Epoch 23/50\n",
            "17/17 [==============================] - 0s 12ms/step - loss: 0.3602 - accuracy: 0.9420 - val_loss: 0.3200 - val_accuracy: 1.0000\n",
            "Epoch 24/50\n",
            "17/17 [==============================] - 0s 13ms/step - loss: 0.5752 - accuracy: 0.7117 - val_loss: 0.1989 - val_accuracy: 1.0000\n",
            "Epoch 25/50\n",
            "17/17 [==============================] - 0s 12ms/step - loss: 0.4622 - accuracy: 0.9018 - val_loss: 0.2174 - val_accuracy: 1.0000\n",
            "Epoch 26/50\n",
            "17/17 [==============================] - 0s 12ms/step - loss: 0.3902 - accuracy: 0.9432 - val_loss: 0.1932 - val_accuracy: 1.0000\n",
            "Epoch 27/50\n",
            "17/17 [==============================] - 0s 13ms/step - loss: 0.5079 - accuracy: 0.7096 - val_loss: 0.1975 - val_accuracy: 1.0000\n",
            "Epoch 28/50\n",
            "17/17 [==============================] - 0s 12ms/step - loss: 0.6166 - accuracy: 0.6675 - val_loss: 0.1863 - val_accuracy: 1.0000\n",
            "Epoch 29/50\n",
            "17/17 [==============================] - 0s 12ms/step - loss: 0.4689 - accuracy: 0.7780 - val_loss: 0.1527 - val_accuracy: 1.0000\n",
            "Epoch 30/50\n",
            "17/17 [==============================] - 0s 12ms/step - loss: 0.4055 - accuracy: 0.8387 - val_loss: 0.2422 - val_accuracy: 0.8000\n",
            "Epoch 31/50\n",
            "17/17 [==============================] - 0s 12ms/step - loss: 0.4903 - accuracy: 0.7980 - val_loss: 0.1750 - val_accuracy: 1.0000\n",
            "Epoch 32/50\n",
            "17/17 [==============================] - 0s 12ms/step - loss: 0.7514 - accuracy: 0.5933 - val_loss: 0.2095 - val_accuracy: 1.0000\n",
            "Epoch 33/50\n",
            "17/17 [==============================] - 0s 12ms/step - loss: 0.5344 - accuracy: 0.7438 - val_loss: 0.1649 - val_accuracy: 1.0000\n",
            "Epoch 34/50\n",
            "17/17 [==============================] - 0s 12ms/step - loss: 0.6734 - accuracy: 0.4622 - val_loss: 0.1591 - val_accuracy: 1.0000\n",
            "Epoch 35/50\n",
            "17/17 [==============================] - 0s 12ms/step - loss: 0.3038 - accuracy: 0.9364 - val_loss: 0.4947 - val_accuracy: 0.6000\n",
            "Epoch 36/50\n",
            "17/17 [==============================] - 0s 13ms/step - loss: 0.4431 - accuracy: 0.9225 - val_loss: 0.1160 - val_accuracy: 1.0000\n",
            "Epoch 37/50\n",
            "17/17 [==============================] - 0s 12ms/step - loss: 0.6619 - accuracy: 0.7105 - val_loss: 0.2289 - val_accuracy: 1.0000\n",
            "Epoch 38/50\n",
            "17/17 [==============================] - 0s 12ms/step - loss: 0.4999 - accuracy: 0.6668 - val_loss: 0.1167 - val_accuracy: 1.0000\n",
            "Epoch 39/50\n",
            "17/17 [==============================] - 0s 12ms/step - loss: 0.2151 - accuracy: 0.8752 - val_loss: 0.1730 - val_accuracy: 1.0000\n",
            "Epoch 40/50\n",
            "17/17 [==============================] - 0s 12ms/step - loss: 0.6480 - accuracy: 0.4788 - val_loss: 0.1362 - val_accuracy: 1.0000\n",
            "Epoch 41/50\n",
            "17/17 [==============================] - 0s 12ms/step - loss: 0.2878 - accuracy: 0.9466 - val_loss: 0.1045 - val_accuracy: 1.0000\n",
            "Epoch 42/50\n",
            "17/17 [==============================] - 0s 13ms/step - loss: 0.6635 - accuracy: 0.5884 - val_loss: 0.1186 - val_accuracy: 1.0000\n",
            "Epoch 43/50\n",
            "17/17 [==============================] - 0s 12ms/step - loss: 0.4062 - accuracy: 0.8718 - val_loss: 0.3216 - val_accuracy: 0.8000\n",
            "Epoch 44/50\n",
            "17/17 [==============================] - 0s 12ms/step - loss: 0.4252 - accuracy: 0.7786 - val_loss: 0.0848 - val_accuracy: 1.0000\n",
            "Epoch 45/50\n",
            "17/17 [==============================] - 0s 12ms/step - loss: 0.2593 - accuracy: 0.9734 - val_loss: 0.1053 - val_accuracy: 1.0000\n",
            "Epoch 46/50\n",
            "17/17 [==============================] - 0s 12ms/step - loss: 0.4848 - accuracy: 0.6544 - val_loss: 0.0726 - val_accuracy: 1.0000\n",
            "Epoch 47/50\n",
            "17/17 [==============================] - 0s 12ms/step - loss: 0.7703 - accuracy: 0.4936 - val_loss: 0.1111 - val_accuracy: 1.0000\n",
            "Epoch 48/50\n",
            "17/17 [==============================] - 0s 13ms/step - loss: 0.3211 - accuracy: 0.9543 - val_loss: 0.0695 - val_accuracy: 1.0000\n",
            "Epoch 49/50\n",
            "17/17 [==============================] - 0s 12ms/step - loss: 0.4005 - accuracy: 0.8022 - val_loss: 0.0635 - val_accuracy: 1.0000\n",
            "Epoch 50/50\n",
            "17/17 [==============================] - 0s 12ms/step - loss: 0.7194 - accuracy: 0.6010 - val_loss: 0.0879 - val_accuracy: 1.0000\n"
          ]
        }
      ],
      "source": [
        "# training our 'huge' model\n",
        "\n",
        "hist = model_xfer.fit(\n",
        "    train_generator,\n",
        "    steps_per_epoch=train_steps,\n",
        "    epochs=50,\n",
        "    validation_data=test_generator,\n",
        "    validation_steps=test_steps)"
      ]
    },
    {
      "cell_type": "code",
      "execution_count": 45,
      "metadata": {},
      "outputs": [
        {
          "data": {
            "image/png": "[encoded data removed]",
            "text/plain": "<Figure size 1152x360 with 2 Axes>"
          },
          "metadata": {},
          "output_type": "display_data"
        }
      ],
      "source": [
        "utils.show_plots(hist.history, plot_title='Using VGG16 model with Image Augmentation')"
      ]
    },
    {
      "cell_type": "code",
      "execution_count": 40,
      "metadata": {
        "colab": {
          "base_uri": "https://localhost:8080/",
          "height": 403
        },
        "colab_type": "code",
        "id": "jBQkhHKHQ3i4",
        "outputId": "82ed8010-120e-4fbd-c107-659c4415a076"
      },
      "outputs": [],
      "source": [
        "#kru.show_plots(hist.history, plot_title='Using VGG16 model with Image Augmentation')"
      ]
    },
    {
      "cell_type": "code",
      "execution_count": 46,
      "metadata": {
        "colab": {
          "base_uri": "https://localhost:8080/",
          "height": 126
        },
        "colab_type": "code",
        "id": "mSXUGOLZ81OS",
        "outputId": "11119982-7867-4666-a7dd-9b3b827c5f84"
      },
      "outputs": [
        {
          "name": "stdout",
          "output_type": "stream",
          "text": [
            "17/17 [==============================] - 0s 7ms/step - loss: 0.2964 - accuracy: 0.9412\n",
            "Training data  -> loss: 0.296, acc: 0.941\n",
            "5/5 [==============================] - 0s 7ms/step - loss: 0.0879 - accuracy: 1.0000\n",
            "Testing data   -> loss: 0.088, acc: 1.000\n"
          ]
        }
      ],
      "source": [
        "# evaluate performance on train & test data\n",
        "loss, acc = model_xfer.evaluate_generator(train_generator, steps=train_steps, verbose=1)\n",
        "print('Training data  -> loss: %.3f, acc: %.3f' % (loss, acc))\n",
        "\n",
        "loss, acc = model_xfer.evaluate_generator(test_generator, steps=test_steps, verbose=1)\n",
        "print('Testing data   -> loss: %.3f, acc: %.3f' % (loss, acc))"
      ]
    },
    {
      "cell_type": "markdown",
      "metadata": {
        "colab_type": "text",
        "id": "khROdJQFWZfX"
      },
      "source": [
        "### Observations with Pretrained Model:\n",
        "\n",
        ">Configuration | Training Acc | Cross-val Acc | Test Acc \n",
        ">:---|:---:|:---:|:---:|\n",
        ">**Base Model**|99-100%|99-100%| nan\n",
        ">**With Image Aug**|87-89%|80-81%| nan\n",
        ">**Pre-trained VGG16**|94-96%|99-100%| nan\n",
        "* Using a pre-trained model like VGG16, has increased the cross-val\n"
      ]
    },
    {
      "cell_type": "code",
      "execution_count": 59,
      "metadata": {
        "colab": {
          "base_uri": "https://localhost:8080/",
          "height": 55
        },
        "colab_type": "code",
        "id": "p6LoaJHfJwHk",
        "outputId": "77d55697-9b0d-4de6-f80b-451ca3b6a180"
      },
      "outputs": [
        {
          "name": "stdout",
          "output_type": "stream",
          "text": [
            "Saved model to file ./model_states/keras_contaminado_transfer_vgg16.h5\n"
          ]
        }
      ],
      "source": [
        "utils.save_keras_model(model_xfer, 'keras_contaminado_transfer_vgg16', MODEL_SAVE_DIR)\n",
        "del model_xfer"
      ]
    },
    {
      "cell_type": "code",
      "execution_count": 60,
      "metadata": {
        "colab": {
          "base_uri": "https://localhost:8080/",
          "height": 510
        },
        "colab_type": "code",
        "id": "TJG5V7jHJ7Ro",
        "outputId": "640ddb9a-46c1-434d-c754-014ceb99cde7"
      },
      "outputs": [
        {
          "name": "stdout",
          "output_type": "stream",
          "text": [
            "Loaded Keras model from ./model_states/keras_contaminado_transfer_vgg16.h5\n",
            "Model: \"sequential\"\n",
            "_________________________________________________________________\n",
            "Layer (type)                 Output Shape              Param #   \n",
            "=================================================================\n",
            "vgg16 (Functional)           (None, 4, 4, 512)         14714688  \n",
            "_________________________________________________________________\n",
            "flatten_1 (Flatten)          (None, 8192)              0         \n",
            "_________________________________________________________________\n",
            "dropout_5 (Dropout)          (None, 8192)              0         \n",
            "_________________________________________________________________\n",
            "dense_2 (Dense)              (None, 1024)              8389632   \n",
            "_________________________________________________________________\n",
            "dropout_6 (Dropout)          (None, 1024)              0         \n",
            "_________________________________________________________________\n",
            "dense_3 (Dense)              (None, 512)               524800    \n",
            "_________________________________________________________________\n",
            "dropout_7 (Dropout)          (None, 512)               0         \n",
            "_________________________________________________________________\n",
            "dense_4 (Dense)              (None, 1)                 513       \n",
            "=================================================================\n",
            "Total params: 23,629,633\n",
            "Trainable params: 8,914,945\n",
            "Non-trainable params: 14,714,688\n",
            "_________________________________________________________________\n",
            "None\n"
          ]
        }
      ],
      "source": [
        "model_xfer = utils.load_keras_model('keras_contaminado_transfer_vgg16',MODEL_SAVE_DIR)\n",
        "print(model_xfer.summary())"
      ]
    },
    {
      "cell_type": "code",
      "execution_count": 69,
      "metadata": {},
      "outputs": [
        {
          "data": {
            "text/plain": "{'contaminado': 0, 'ncontaminado': 1}"
          },
          "execution_count": 69,
          "metadata": {},
          "output_type": "execute_result"
        }
      ],
      "source": [
        "test_generator.class_indices"
      ]
    },
    {
      "cell_type": "code",
      "execution_count": 61,
      "metadata": {
        "colab": {
          "base_uri": "https://localhost:8080/",
          "height": 199
        },
        "colab_type": "code",
        "id": "BYVgJbmm81IY",
        "outputId": "f4c93474-a570-4174-893f-7e8284745d83"
      },
      "outputs": [
        {
          "data": {
            "text/plain": "array(['/home/jap05/Projects/ajna_testes/notebooks/bases/my_dataset/test/ncontaminado/5f7b141ccccffe00323573fe.jpg',\n       '/home/jap05/Projects/ajna_testes/notebooks/bases/my_dataset/test/contaminado/HLBU9065305A.jpg',\n       '/home/jap05/Projects/ajna_testes/notebooks/bases/my_dataset/test/contaminado/TEMU9131666A.jpg',\n       '/home/jap05/Projects/ajna_testes/notebooks/bases/my_dataset/test/ncontaminado/5f7b12ddcccffe0032354523.jpg',\n       '/home/jap05/Projects/ajna_testes/notebooks/bases/my_dataset/test/ncontaminado/5f7b1335cccffe00323554b2.jpg'],\n      dtype='<U106')"
          },
          "execution_count": 61,
          "metadata": {},
          "output_type": "execute_result"
        }
      ],
      "source": [
        "test_image_files = get_some_test_images()\n",
        "test_image_files"
      ]
    },
    {
      "cell_type": "code",
      "execution_count": 73,
      "metadata": {
        "colab": {
          "base_uri": "https://localhost:8080/",
          "height": 1000
        },
        "colab_type": "code",
        "id": "PVzyjs4H81Cs",
        "outputId": "f740ec8f-0a6b-4011-b6a1-4d05e11bbfd2"
      },
      "outputs": [
        {
          "name": "stdout",
          "output_type": "stream",
          "text": [
            "Displaying 0 incorrect predictions...\n"
          ]
        }
      ],
      "source": [
        "# now let's run predictions\n",
        "\n",
        "predictions = []   # list of tuples (image_path, probab, pred_name, act_name)\n",
        "incorrect_predictions = []  # list of tuples (image_path, probab, actual, prediction)\n",
        "\n",
        "for test_image in test_image_files:\n",
        "    img = I.load_img(test_image, target_size=(IMAGE_HEIGHT, IMAGE_WIDTH))\n",
        "    x = I.img_to_array(img)\n",
        "    x = np.expand_dims(x, axis=0)\n",
        "    x /= 255.0\n",
        "\n",
        "    images_list = np.vstack([x])\n",
        "\n",
        "    classes = model_xfer.predict(images_list, batch_size=10)\n",
        "\n",
        "    prob = classes[0]\n",
        "\n",
        "    actual_name = (test_image.split(os.path.sep)[-2].split('.')[0]).upper()\n",
        "    pred_name = 'NCONTAMINADO' if (prob >= 0.5) else 'CONTAMINADO'\n",
        "    \n",
        "    is_correct = (actual_name == pred_name)\n",
        "    \n",
        "    predictions.append((test_image, prob, pred_name, actual_name))\n",
        "    if not is_correct:\n",
        "        incorrect_predictions.append((test_image, prob, pred_name, actual_name))\n",
        "    \n",
        "    \n",
        "print(\"Displaying %d incorrect predictions...\" % len(incorrect_predictions))    \n",
        "for item in incorrect_predictions:\n",
        "    test_image, prob, pred_name, actual_name = item\n",
        "    print('%*s - probability: %.4f - predicted %s, is a %s' %\n",
        "            (50, test_image, prob, pred_name, actual_name))\n"
      ]
    },
    {
      "cell_type": "code",
      "execution_count": 74,
      "metadata": {},
      "outputs": [
        {
          "name": "stdout",
          "output_type": "stream",
          "text": [
            "/home/jap05/Projects/ajna_testes/notebooks/bases/my_dataset/test/ncontaminado/5f7b141ccccffe00323573fe.jpg - Prediction (1.0000) - Não Contaminado\n",
            "/home/jap05/Projects/ajna_testes/notebooks/bases/my_dataset/test/contaminado/HLBU9065305A.jpg - Prediction (0.0000) - Contaminado\n",
            "/home/jap05/Projects/ajna_testes/notebooks/bases/my_dataset/test/contaminado/TEMU9131666A.jpg - Prediction (0.0000) - Contaminado\n",
            "/home/jap05/Projects/ajna_testes/notebooks/bases/my_dataset/test/ncontaminado/5f7b12ddcccffe0032354523.jpg - Prediction (1.0000) - Não Contaminado\n",
            "/home/jap05/Projects/ajna_testes/notebooks/bases/my_dataset/test/ncontaminado/5f7b1335cccffe00323554b2.jpg - Prediction (1.0000) - Não Contaminado\n"
          ]
        }
      ],
      "source": [
        "predict(test_image_files)"
      ]
    },
    {
      "cell_type": "markdown",
      "metadata": {
        "colab_type": "text",
        "id": "yTsGKOK9fPPn"
      },
      "source": [
        "**Let's check on the `Oops!` results**"
      ]
    },
    {
      "cell_type": "code",
      "execution_count": 76,
      "metadata": {
        "colab": {},
        "colab_type": "code",
        "id": "Dls1SoLW8031"
      },
      "outputs": [],
      "source": [
        "def show_image(entry):\n",
        "\n",
        "    test_image, prob, pred_name, actual_name = entry\n",
        "    \n",
        "    img = I.load_img(test_image, target_size=(IMAGE_HEIGHT, IMAGE_WIDTH))\n",
        "    img_arr = I.img_to_array(img)\n",
        "    img_arr = np.expand_dims(img_arr, axis=0)\n",
        "    img_arr /= 255.\n",
        "    plt.imshow(img_arr[0])\n",
        "    #plt.title('%s -> Prediction: %s (%.4f)' % (actual_name, pred_name, prob))\n",
        "    plt.show()"
      ]
    },
    {
      "cell_type": "code",
      "execution_count": 77,
      "metadata": {
        "colab": {
          "base_uri": "https://localhost:8080/",
          "height": 361
        },
        "colab_type": "code",
        "id": "iPf59dUQfnpN",
        "outputId": "a677c301-7517-4340-d964-8ae6eb35b868"
      },
      "outputs": [],
      "source": [
        "if len(incorrect_predictions):\n",
        "    show_image(incorrect_predictions[5])"
      ]
    },
    {
      "cell_type": "markdown",
      "metadata": {
        "colab_type": "text",
        "id": "WfFqbFiWSXfh"
      },
      "source": [
        "## Transfer Learning - Finetuning\n",
        "\n",
        "The technique we used above is called the **Feature Extraction** technique. Here we locked all the _Convolutional layers_ (which are essentially layers where the model learns all the intricate features of the images) and slapped our own _Dense_ layers atop. The Dense layers generate predictions off the patterns learnt by the convolutional base. By replacing these layers with our own Dense layers, we _repurposed_ it for our classification problem.\n",
        "\n",
        "We can further improve the performance of the model using **Fine Tuning**. In this technique, we look at 'unlocking' one or move of the `upper` Conv2d layers of `vgg_base` and stack our custom dense layer on top of it. This way the last few Conv2d layers also learn specific features of our cat & dog images. \n",
        "\n",
        "**Why just the upper Conv2d layers?** Because the lower layers have learnt the more course features and the upper layers keep learning finer patterns, so it makes sense to tune the finer patterns of the Conv2d section for our problem of classifying just cats or dogs."
      ]
    },
    {
      "cell_type": "code",
      "execution_count": 78,
      "metadata": {
        "colab": {
          "base_uri": "https://localhost:8080/",
          "height": 854
        },
        "colab_type": "code",
        "id": "uS6I-swxgMCV",
        "outputId": "722cf9db-31eb-4c13-cae6-40153f911c87"
      },
      "outputs": [
        {
          "name": "stdout",
          "output_type": "stream",
          "text": [
            "Model: \"vgg16\"\n",
            "_________________________________________________________________\n",
            "Layer (type)                 Output Shape              Param #   \n",
            "=================================================================\n",
            "input_2 (InputLayer)         [(None, 150, 150, 3)]     0         \n",
            "_________________________________________________________________\n",
            "block1_conv1 (Conv2D)        (None, 150, 150, 64)      1792      \n",
            "_________________________________________________________________\n",
            "block1_conv2 (Conv2D)        (None, 150, 150, 64)      36928     \n",
            "_________________________________________________________________\n",
            "block1_pool (MaxPooling2D)   (None, 75, 75, 64)        0         \n",
            "_________________________________________________________________\n",
            "block2_conv1 (Conv2D)        (None, 75, 75, 128)       73856     \n",
            "_________________________________________________________________\n",
            "block2_conv2 (Conv2D)        (None, 75, 75, 128)       147584    \n",
            "_________________________________________________________________\n",
            "block2_pool (MaxPooling2D)   (None, 37, 37, 128)       0         \n",
            "_________________________________________________________________\n",
            "block3_conv1 (Conv2D)        (None, 37, 37, 256)       295168    \n",
            "_________________________________________________________________\n",
            "block3_conv2 (Conv2D)        (None, 37, 37, 256)       590080    \n",
            "_________________________________________________________________\n",
            "block3_conv3 (Conv2D)        (None, 37, 37, 256)       590080    \n",
            "_________________________________________________________________\n",
            "block3_pool (MaxPooling2D)   (None, 18, 18, 256)       0         \n",
            "_________________________________________________________________\n",
            "block4_conv1 (Conv2D)        (None, 18, 18, 512)       1180160   \n",
            "_________________________________________________________________\n",
            "block4_conv2 (Conv2D)        (None, 18, 18, 512)       2359808   \n",
            "_________________________________________________________________\n",
            "block4_conv3 (Conv2D)        (None, 18, 18, 512)       2359808   \n",
            "_________________________________________________________________\n",
            "block4_pool (MaxPooling2D)   (None, 9, 9, 512)         0         \n",
            "_________________________________________________________________\n",
            "block5_conv1 (Conv2D)        (None, 9, 9, 512)         2359808   \n",
            "_________________________________________________________________\n",
            "block5_conv2 (Conv2D)        (None, 9, 9, 512)         2359808   \n",
            "_________________________________________________________________\n",
            "block5_conv3 (Conv2D)        (None, 9, 9, 512)         2359808   \n",
            "_________________________________________________________________\n",
            "block5_pool (MaxPooling2D)   (None, 4, 4, 512)         0         \n",
            "=================================================================\n",
            "Total params: 14,714,688\n",
            "Trainable params: 0\n",
            "Non-trainable params: 14,714,688\n",
            "_________________________________________________________________\n"
          ]
        }
      ],
      "source": [
        "vgg_base.summary()"
      ]
    },
    {
      "cell_type": "code",
      "execution_count": 79,
      "metadata": {
        "colab": {
          "base_uri": "https://localhost:8080/",
          "height": 872
        },
        "colab_type": "code",
        "id": "LctQQwofSp8n",
        "outputId": "845d9296-4e2b-45a6-9058-1a5ba9e695f0"
      },
      "outputs": [
        {
          "name": "stdout",
          "output_type": "stream",
          "text": [
            "Model: \"vgg16\"\n",
            "_________________________________________________________________\n",
            "Layer (type)                 Output Shape              Param #   \n",
            "=================================================================\n",
            "input_2 (InputLayer)         [(None, 150, 150, 3)]     0         \n",
            "_________________________________________________________________\n",
            "block1_conv1 (Conv2D)        (None, 150, 150, 64)      1792      \n",
            "_________________________________________________________________\n",
            "block1_conv2 (Conv2D)        (None, 150, 150, 64)      36928     \n",
            "_________________________________________________________________\n",
            "block1_pool (MaxPooling2D)   (None, 75, 75, 64)        0         \n",
            "_________________________________________________________________\n",
            "block2_conv1 (Conv2D)        (None, 75, 75, 128)       73856     \n",
            "_________________________________________________________________\n",
            "block2_conv2 (Conv2D)        (None, 75, 75, 128)       147584    \n",
            "_________________________________________________________________\n",
            "block2_pool (MaxPooling2D)   (None, 37, 37, 128)       0         \n",
            "_________________________________________________________________\n",
            "block3_conv1 (Conv2D)        (None, 37, 37, 256)       295168    \n",
            "_________________________________________________________________\n",
            "block3_conv2 (Conv2D)        (None, 37, 37, 256)       590080    \n",
            "_________________________________________________________________\n",
            "block3_conv3 (Conv2D)        (None, 37, 37, 256)       590080    \n",
            "_________________________________________________________________\n",
            "block3_pool (MaxPooling2D)   (None, 18, 18, 256)       0         \n",
            "_________________________________________________________________\n",
            "block4_conv1 (Conv2D)        (None, 18, 18, 512)       1180160   \n",
            "_________________________________________________________________\n",
            "block4_conv2 (Conv2D)        (None, 18, 18, 512)       2359808   \n",
            "_________________________________________________________________\n",
            "block4_conv3 (Conv2D)        (None, 18, 18, 512)       2359808   \n",
            "_________________________________________________________________\n",
            "block4_pool (MaxPooling2D)   (None, 9, 9, 512)         0         \n",
            "_________________________________________________________________\n",
            "block5_conv1 (Conv2D)        (None, 9, 9, 512)         2359808   \n",
            "_________________________________________________________________\n",
            "block5_conv2 (Conv2D)        (None, 9, 9, 512)         2359808   \n",
            "_________________________________________________________________\n",
            "block5_conv3 (Conv2D)        (None, 9, 9, 512)         2359808   \n",
            "_________________________________________________________________\n",
            "block5_pool (MaxPooling2D)   (None, 4, 4, 512)         0         \n",
            "=================================================================\n",
            "Total params: 14,714,688\n",
            "Trainable params: 0\n",
            "Non-trainable params: 14,714,688\n",
            "_________________________________________________________________\n",
            "None\n"
          ]
        }
      ],
      "source": [
        "# now let's unlock a few of teh higher Conv2d layers - say from block5_conv2 \n",
        "# (i.e. block5_conv2, block5_conv3 and block5_pool, though the pooling layer has no trainable params!)\n",
        "\n",
        "trainable = False\n",
        "\n",
        "for layer in vgg_base.layers:\n",
        "    if layer.name == 'block5_conv2':\n",
        "        trainable = True\n",
        "    # will set to False until we hit the \"block5_conv2\" layer    \n",
        "    layer.trainable = trainable\n",
        "    \n",
        "print(vgg_base.summary())"
      ]
    },
    {
      "cell_type": "markdown",
      "metadata": {
        "colab_type": "text",
        "id": "86YIDvnutudC"
      },
      "source": [
        "Notice that some of the 14,714,688 parameters of `vgg_base` have now become _trainable_!\n",
        "\n",
        "Now let's build our model - the structure is exactly the same as before, but we _omit_ the step where we froze `vgg_base` entirely."
      ]
    },
    {
      "cell_type": "code",
      "execution_count": 80,
      "metadata": {
        "colab": {},
        "colab_type": "code",
        "id": "41BTQEwJTnxx"
      },
      "outputs": [],
      "source": [
        "# now let's build our model\n",
        "def build_model_xfer2():\n",
        "    \n",
        "    #tf.keras.backend.clear_session()  # reset graph etc.\n",
        "    \n",
        "    model = tf.keras.models.Sequential([\n",
        "        # our vgg16_base model added as a layer\n",
        "        vgg_base,\n",
        "        # here is our custom prediction layer (same as before)\n",
        "        tf.keras.layers.Flatten(),\n",
        "        tf.keras.layers.Dropout(0.50),\n",
        "        tf.keras.layers.Dense(1024, activation='relu'),\n",
        "        tf.keras.layers.Dropout(0.20),        \n",
        "        tf.keras.layers.Dense(512, activation='relu'),\n",
        "        tf.keras.layers.Dropout(0.10),         \n",
        "        tf.keras.layers.Dense(1, activation='sigmoid')    \n",
        "    ])\n",
        "    \n",
        "    # NOTE: we do not freeze vgg_base entirely as done previously!!\n",
        "    \n",
        "    model.compile(optimizer=Adam(lr=1e-4), \n",
        "                  loss='binary_crossentropy',\n",
        "                  metrics=['accuracy'])\n",
        "    return model"
      ]
    },
    {
      "cell_type": "code",
      "execution_count": 81,
      "metadata": {
        "colab": {
          "base_uri": "https://localhost:8080/",
          "height": 546
        },
        "colab_type": "code",
        "id": "bdqTcGT1T9YQ",
        "outputId": "ead81571-8147-4591-931b-3e7135a43ab9"
      },
      "outputs": [
        {
          "name": "stdout",
          "output_type": "stream",
          "text": [
            "Model: \"sequential_1\"\n",
            "_________________________________________________________________\n",
            "Layer (type)                 Output Shape              Param #   \n",
            "=================================================================\n",
            "vgg16 (Functional)           (None, 4, 4, 512)         14714688  \n",
            "_________________________________________________________________\n",
            "flatten_2 (Flatten)          (None, 8192)              0         \n",
            "_________________________________________________________________\n",
            "dropout_8 (Dropout)          (None, 8192)              0         \n",
            "_________________________________________________________________\n",
            "dense_5 (Dense)              (None, 1024)              8389632   \n",
            "_________________________________________________________________\n",
            "dropout_9 (Dropout)          (None, 1024)              0         \n",
            "_________________________________________________________________\n",
            "dense_6 (Dense)              (None, 512)               524800    \n",
            "_________________________________________________________________\n",
            "dropout_10 (Dropout)         (None, 512)               0         \n",
            "_________________________________________________________________\n",
            "dense_7 (Dense)              (None, 1)                 513       \n",
            "=================================================================\n",
            "Total params: 23,629,633\n",
            "Trainable params: 8,914,945\n",
            "Non-trainable params: 14,714,688\n",
            "_________________________________________________________________\n",
            "None\n"
          ]
        }
      ],
      "source": [
        "model_xfer2 = build_model_xfer2()\n",
        "print(model_xfer2.summary())"
      ]
    },
    {
      "cell_type": "markdown",
      "metadata": {
        "colab_type": "text",
        "id": "xnuxXZy7cIzK"
      },
      "source": [
        "Let's train our model the usual way, using Image Augmentation - this is the same code as before. I am reproducing the above cells below.\n"
      ]
    },
    {
      "cell_type": "code",
      "execution_count": 83,
      "metadata": {
        "colab": {},
        "colab_type": "code",
        "id": "maVkPzwpUs7-"
      },
      "outputs": [],
      "source": [
        "train_datagen = ImageDataGenerator(\n",
        "    rescale=1.0/255,\n",
        "    rotation_range=8,\n",
        "    width_shift_range=0.2,\n",
        "    height_shift_range=0.2,\n",
        "    shear_range=0.2,\n",
        "    zoom_range=0.2,\n",
        "    horizontal_flip=True,\n",
        "    fill_mode='nearest')\n",
        "\n",
        "# NOTE: no image aug for eval & test datagenerators\n",
        "test_datagen = ImageDataGenerator(rescale=1.0/255)"
      ]
    },
    {
      "cell_type": "code",
      "execution_count": 84,
      "metadata": {
        "colab": {
          "base_uri": "https://localhost:8080/",
          "height": 72
        },
        "colab_type": "code",
        "id": "3akvqc9WUs8K",
        "outputId": "82056c4c-654e-4a83-e382-1b8ad7f1b50e"
      },
      "outputs": [
        {
          "name": "stdout",
          "output_type": "stream",
          "text": [
            "Found 17 images belonging to 2 classes.\n",
            "Found 5 images belonging to 2 classes.\n"
          ]
        }
      ],
      "source": [
        "# flow from train root folders\n",
        "train_generator = train_datagen.flow_from_directory(\n",
        "    train_root,\n",
        "    target_size=(IMAGE_HEIGHT,IMAGE_WIDTH),  # all images will be resizes to this size\n",
        "    batch_size=BATCH_SIZE,\n",
        "    class_mode='binary')\n",
        "\n",
        "test_generator = test_datagen.flow_from_directory(\n",
        "    test_root,\n",
        "    target_size=(IMAGE_HEIGHT,IMAGE_WIDTH),  # all images will be resizes to this size\n",
        "    batch_size=BATCH_SIZE,\n",
        "    class_mode='binary')"
      ]
    },
    {
      "cell_type": "code",
      "execution_count": 85,
      "metadata": {
        "colab": {
          "base_uri": "https://localhost:8080/",
          "height": 35
        },
        "colab_type": "code",
        "id": "teH2cAE9Us8X",
        "outputId": "fd582e08-bece-406f-944e-2e11582e572b"
      },
      "outputs": [
        {
          "data": {
            "text/plain": "(17, 5)"
          },
          "execution_count": 85,
          "metadata": {},
          "output_type": "execute_result"
        }
      ],
      "source": [
        "# train model on generator\n",
        "train_steps = train_generator.n // BATCH_SIZE\n",
        "test_steps = test_generator.n // BATCH_SIZE\n",
        "\n",
        "train_steps, test_steps"
      ]
    },
    {
      "cell_type": "code",
      "execution_count": 90,
      "metadata": {
        "colab": {
          "base_uri": "https://localhost:8080/",
          "height": 1000
        },
        "colab_type": "code",
        "id": "K5fYbraPUs8f",
        "outputId": "62399391-3ac4-46be-8e7e-bfced31720c0"
      },
      "outputs": [
        {
          "name": "stdout",
          "output_type": "stream",
          "text": [
            "Epoch 1/60\n",
            "17/17 [==============================] - 0s 14ms/step - loss: 0.5663 - accuracy: 0.7059 - val_loss: 0.0612 - val_accuracy: 1.0000\n",
            "Epoch 2/60\n",
            "17/17 [==============================] - 0s 20ms/step - loss: 0.3227 - accuracy: 0.8235 - val_loss: 0.0447 - val_accuracy: 1.0000\n",
            "Epoch 3/60\n",
            "17/17 [==============================] - 0s 13ms/step - loss: 0.3145 - accuracy: 0.8824 - val_loss: 0.0442 - val_accuracy: 1.0000\n",
            "Epoch 4/60\n",
            "17/17 [==============================] - 0s 14ms/step - loss: 0.7044 - accuracy: 0.5882 - val_loss: 0.0427 - val_accuracy: 1.0000\n",
            "Epoch 5/60\n",
            "17/17 [==============================] - 0s 13ms/step - loss: 0.1379 - accuracy: 0.9412 - val_loss: 0.0581 - val_accuracy: 1.0000\n",
            "Epoch 6/60\n",
            "17/17 [==============================] - 0s 13ms/step - loss: 0.3076 - accuracy: 0.8235 - val_loss: 0.0464 - val_accuracy: 1.0000\n",
            "Epoch 7/60\n",
            "17/17 [==============================] - 0s 14ms/step - loss: 0.4609 - accuracy: 0.7647 - val_loss: 0.0667 - val_accuracy: 1.0000\n",
            "Epoch 8/60\n",
            "17/17 [==============================] - 0s 13ms/step - loss: 0.5498 - accuracy: 0.7059 - val_loss: 0.0414 - val_accuracy: 1.0000\n",
            "Epoch 9/60\n",
            "17/17 [==============================] - 0s 14ms/step - loss: 0.3395 - accuracy: 0.8235 - val_loss: 0.1542 - val_accuracy: 1.0000\n",
            "Epoch 10/60\n",
            "17/17 [==============================] - 0s 13ms/step - loss: 0.5155 - accuracy: 0.6471 - val_loss: 0.0426 - val_accuracy: 1.0000\n",
            "Epoch 11/60\n",
            "17/17 [==============================] - 0s 13ms/step - loss: 0.5200 - accuracy: 0.7059 - val_loss: 0.0404 - val_accuracy: 1.0000\n",
            "Epoch 12/60\n",
            "17/17 [==============================] - 0s 13ms/step - loss: 0.2265 - accuracy: 0.8824 - val_loss: 0.0679 - val_accuracy: 1.0000\n",
            "Epoch 13/60\n",
            "17/17 [==============================] - 0s 12ms/step - loss: 0.5062 - accuracy: 0.7059 - val_loss: 0.1065 - val_accuracy: 1.0000\n",
            "Epoch 14/60\n",
            "17/17 [==============================] - 0s 12ms/step - loss: 0.3766 - accuracy: 0.8235 - val_loss: 0.0395 - val_accuracy: 1.0000\n",
            "Epoch 15/60\n",
            "17/17 [==============================] - 0s 12ms/step - loss: 0.5325 - accuracy: 0.7059 - val_loss: 0.0427 - val_accuracy: 1.0000\n",
            "Epoch 16/60\n",
            "17/17 [==============================] - 0s 12ms/step - loss: 0.3888 - accuracy: 0.8235 - val_loss: 0.0631 - val_accuracy: 1.0000\n",
            "Epoch 17/60\n",
            "17/17 [==============================] - 0s 12ms/step - loss: 0.3961 - accuracy: 0.7647 - val_loss: 0.0286 - val_accuracy: 1.0000\n",
            "Epoch 18/60\n",
            "17/17 [==============================] - 0s 12ms/step - loss: 0.3830 - accuracy: 0.8824 - val_loss: 0.0311 - val_accuracy: 1.0000\n",
            "Epoch 19/60\n",
            "17/17 [==============================] - 0s 12ms/step - loss: 0.5157 - accuracy: 0.7647 - val_loss: 0.0219 - val_accuracy: 1.0000\n",
            "Epoch 20/60\n",
            "17/17 [==============================] - 0s 12ms/step - loss: 0.2564 - accuracy: 0.8824 - val_loss: 0.0306 - val_accuracy: 1.0000\n",
            "Epoch 21/60\n",
            "17/17 [==============================] - 0s 12ms/step - loss: 0.3205 - accuracy: 0.8824 - val_loss: 0.0191 - val_accuracy: 1.0000\n",
            "Epoch 22/60\n",
            "17/17 [==============================] - 0s 12ms/step - loss: 0.3108 - accuracy: 0.9412 - val_loss: 0.0388 - val_accuracy: 1.0000\n",
            "Epoch 23/60\n",
            "17/17 [==============================] - 0s 13ms/step - loss: 0.2943 - accuracy: 0.8824 - val_loss: 0.0311 - val_accuracy: 1.0000\n",
            "Epoch 24/60\n",
            "17/17 [==============================] - 0s 12ms/step - loss: 0.1552 - accuracy: 0.9412 - val_loss: 0.0284 - val_accuracy: 1.0000\n",
            "Epoch 25/60\n",
            "17/17 [==============================] - 0s 13ms/step - loss: 0.4015 - accuracy: 0.7647 - val_loss: 0.0227 - val_accuracy: 1.0000\n",
            "Epoch 26/60\n",
            "17/17 [==============================] - 0s 13ms/step - loss: 0.4504 - accuracy: 0.7647 - val_loss: 0.0142 - val_accuracy: 1.0000\n",
            "Epoch 27/60\n",
            "17/17 [==============================] - 0s 13ms/step - loss: 0.3580 - accuracy: 0.8824 - val_loss: 0.0188 - val_accuracy: 1.0000\n",
            "Epoch 28/60\n",
            "17/17 [==============================] - 0s 13ms/step - loss: 0.6022 - accuracy: 0.7647 - val_loss: 0.0223 - val_accuracy: 1.0000\n",
            "Epoch 29/60\n",
            "17/17 [==============================] - 0s 12ms/step - loss: 0.3644 - accuracy: 0.8824 - val_loss: 0.0201 - val_accuracy: 1.0000\n",
            "Epoch 30/60\n",
            "17/17 [==============================] - 0s 12ms/step - loss: 0.5334 - accuracy: 0.8235 - val_loss: 0.0441 - val_accuracy: 1.0000\n",
            "Epoch 31/60\n",
            "17/17 [==============================] - 0s 12ms/step - loss: 0.4818 - accuracy: 0.7059 - val_loss: 0.0609 - val_accuracy: 1.0000\n",
            "Epoch 32/60\n",
            "17/17 [==============================] - 0s 13ms/step - loss: 0.5626 - accuracy: 0.7647 - val_loss: 0.0354 - val_accuracy: 1.0000\n",
            "Epoch 33/60\n",
            "17/17 [==============================] - 0s 13ms/step - loss: 0.3258 - accuracy: 0.7647 - val_loss: 0.0520 - val_accuracy: 1.0000\n",
            "Epoch 34/60\n",
            "17/17 [==============================] - 0s 12ms/step - loss: 0.5559 - accuracy: 0.8235 - val_loss: 0.0165 - val_accuracy: 1.0000\n",
            "Epoch 35/60\n",
            "17/17 [==============================] - 0s 13ms/step - loss: 0.3820 - accuracy: 0.8824 - val_loss: 0.0469 - val_accuracy: 1.0000\n",
            "Epoch 36/60\n",
            "17/17 [==============================] - 0s 12ms/step - loss: 0.2412 - accuracy: 0.9412 - val_loss: 0.0228 - val_accuracy: 1.0000\n",
            "Epoch 37/60\n",
            "17/17 [==============================] - 0s 12ms/step - loss: 0.1588 - accuracy: 0.8235 - val_loss: 0.0345 - val_accuracy: 1.0000\n",
            "Epoch 38/60\n",
            "17/17 [==============================] - 0s 13ms/step - loss: 0.5255 - accuracy: 0.7647 - val_loss: 0.0516 - val_accuracy: 1.0000\n",
            "Epoch 39/60\n",
            "17/17 [==============================] - 0s 12ms/step - loss: 0.4461 - accuracy: 0.7647 - val_loss: 0.0170 - val_accuracy: 1.0000\n",
            "Epoch 40/60\n",
            "17/17 [==============================] - 0s 12ms/step - loss: 0.6527 - accuracy: 0.7059 - val_loss: 0.0212 - val_accuracy: 1.0000\n",
            "Epoch 41/60\n",
            "17/17 [==============================] - 0s 13ms/step - loss: 0.2767 - accuracy: 0.8824 - val_loss: 0.0196 - val_accuracy: 1.0000\n",
            "Epoch 42/60\n",
            "17/17 [==============================] - 0s 13ms/step - loss: 0.2116 - accuracy: 0.8824 - val_loss: 0.0686 - val_accuracy: 1.0000\n",
            "Epoch 43/60\n",
            "17/17 [==============================] - 0s 12ms/step - loss: 0.4504 - accuracy: 0.7059 - val_loss: 0.0176 - val_accuracy: 1.0000\n",
            "Epoch 44/60\n",
            "17/17 [==============================] - 0s 12ms/step - loss: 0.4290 - accuracy: 0.8235 - val_loss: 0.0192 - val_accuracy: 1.0000\n",
            "Epoch 45/60\n",
            "17/17 [==============================] - 0s 13ms/step - loss: 0.1761 - accuracy: 0.9412 - val_loss: 0.0161 - val_accuracy: 1.0000\n",
            "Epoch 46/60\n",
            "17/17 [==============================] - 0s 12ms/step - loss: 0.2271 - accuracy: 0.8824 - val_loss: 0.0351 - val_accuracy: 1.0000\n",
            "Epoch 47/60\n",
            "17/17 [==============================] - 0s 12ms/step - loss: 0.5248 - accuracy: 0.7647 - val_loss: 0.0327 - val_accuracy: 1.0000\n",
            "Epoch 48/60\n",
            "17/17 [==============================] - 0s 12ms/step - loss: 0.2232 - accuracy: 0.8824 - val_loss: 0.0603 - val_accuracy: 1.0000\n",
            "Epoch 49/60\n",
            "17/17 [==============================] - 0s 12ms/step - loss: 0.2473 - accuracy: 0.8824 - val_loss: 0.0199 - val_accuracy: 1.0000\n",
            "Epoch 50/60\n",
            "17/17 [==============================] - 0s 12ms/step - loss: 0.4710 - accuracy: 0.6471 - val_loss: 0.0359 - val_accuracy: 1.0000\n",
            "Epoch 51/60\n",
            "17/17 [==============================] - 0s 13ms/step - loss: 0.2236 - accuracy: 0.8824 - val_loss: 0.0203 - val_accuracy: 1.0000\n",
            "Epoch 52/60\n",
            "17/17 [==============================] - 0s 13ms/step - loss: 0.4192 - accuracy: 0.8824 - val_loss: 0.0124 - val_accuracy: 1.0000\n",
            "Epoch 53/60\n",
            "17/17 [==============================] - 0s 18ms/step - loss: 0.4964 - accuracy: 0.8824 - val_loss: 0.0735 - val_accuracy: 1.0000\n",
            "Epoch 54/60\n",
            "17/17 [==============================] - 0s 12ms/step - loss: 0.3225 - accuracy: 0.8235 - val_loss: 0.0286 - val_accuracy: 1.0000\n",
            "Epoch 55/60\n",
            "17/17 [==============================] - 0s 12ms/step - loss: 0.2841 - accuracy: 0.8235 - val_loss: 0.0138 - val_accuracy: 1.0000\n",
            "Epoch 56/60\n",
            "17/17 [==============================] - 0s 13ms/step - loss: 0.1671 - accuracy: 0.8824 - val_loss: 0.0206 - val_accuracy: 1.0000\n",
            "Epoch 57/60\n",
            "17/17 [==============================] - 0s 14ms/step - loss: 0.3630 - accuracy: 0.8235 - val_loss: 0.0874 - val_accuracy: 1.0000\n",
            "Epoch 58/60\n",
            "17/17 [==============================] - 0s 12ms/step - loss: 0.4879 - accuracy: 0.8235 - val_loss: 0.0151 - val_accuracy: 1.0000\n",
            "Epoch 59/60\n",
            "17/17 [==============================] - 0s 12ms/step - loss: 0.3288 - accuracy: 0.8824 - val_loss: 0.0145 - val_accuracy: 1.0000\n",
            "Epoch 60/60\n",
            "17/17 [==============================] - 0s 12ms/step - loss: 0.2167 - accuracy: 0.8824 - val_loss: 0.0434 - val_accuracy: 1.0000\n"
          ]
        }
      ],
      "source": [
        "# training our 'huge' model\n",
        "\n",
        "hist = model_xfer2.fit(\n",
        "    train_generator,\n",
        "    steps_per_epoch=train_steps,\n",
        "    epochs=60,\n",
        "    validation_data=test_generator,\n",
        "    validation_steps=test_steps)"
      ]
    },
    {
      "cell_type": "code",
      "execution_count": 91,
      "metadata": {
        "colab": {
          "base_uri": "https://localhost:8080/",
          "height": 403
        },
        "colab_type": "code",
        "id": "_ZPT11IybLVZ",
        "outputId": "16643744-57f9-4183-95f2-1948cc6e06d2"
      },
      "outputs": [
        {
          "data": {
            "image/png": "[encoded data removed]",
            "text/plain": "<Figure size 1152x360 with 2 Axes>"
          },
          "metadata": {},
          "output_type": "display_data"
        }
      ],
      "source": [
        "utils.show_plots(hist.history, plot_title='Using Fine Tunes VGG16 model with Image Augmentation')"
      ]
    },
    {
      "cell_type": "code",
      "execution_count": 92,
      "metadata": {
        "colab": {
          "base_uri": "https://localhost:8080/",
          "height": 126
        },
        "colab_type": "code",
        "id": "_-JuA3VKbFNW",
        "outputId": "02e58f31-c1a0-43fe-d8cc-c591c9164290"
      },
      "outputs": [
        {
          "name": "stdout",
          "output_type": "stream",
          "text": [
            "17/17 [==============================] - 0s 7ms/step - loss: 0.1643 - accuracy: 0.9412\n",
            "Training data  -> loss: 0.164, acc: 0.941\n",
            "5/5 [==============================] - 0s 7ms/step - loss: 0.0434 - accuracy: 1.0000\n",
            "Testing data   -> loss: 0.043, acc: 1.000\n"
          ]
        }
      ],
      "source": [
        "# evaluate performance on train & test data\n",
        "loss, acc = model_xfer2.evaluate_generator(train_generator, steps=train_steps, verbose=1)\n",
        "print('Training data  -> loss: %.3f, acc: %.3f' % (loss, acc))\n",
        "\n",
        "loss, acc = model_xfer2.evaluate_generator(test_generator, steps=test_steps, verbose=1)\n",
        "print('Testing data   -> loss: %.3f, acc: %.3f' % (loss, acc))"
      ]
    },
    {
      "cell_type": "markdown",
      "metadata": {
        "colab_type": "text",
        "id": "1m3DLfbkbkae"
      },
      "source": [
        "### Observations with Fine Tuned Pretrained Model:\n",
        "\n",
        ">Configuration | Training Acc | Cross-val Acc | Test Acc \n",
        ">:---|:---:|:---:|:---:|\n",
        ">**Base Model**|99-100%|99-100%| nan\n",
        ">**With Image Aug**|87-89%|80-81%| nan\n",
        ">**Pre-trained VGG16**|94-96%|99-100%| nan\n",
        ">**Fine-tuned VGG16**|94-96%|99-100%| nan\n",
        "\n"
      ]
    },
    {
      "cell_type": "code",
      "execution_count": 94,
      "metadata": {
        "colab": {
          "base_uri": "https://localhost:8080/",
          "height": 35
        },
        "colab_type": "code",
        "id": "PsZzq3jkU4vF",
        "outputId": "90426625-1806-4ec6-9a85-1d1f1faccbd6"
      },
      "outputs": [
        {
          "name": "stdout",
          "output_type": "stream",
          "text": [
            "Saved model to file ./model_states/keras_contaminado_pretrained_vgg16_finetune.h5\n"
          ]
        }
      ],
      "source": [
        "# Save model state\n",
        "utils.save_keras_model(model_xfer2, 'keras_contaminado_pretrained_vgg16_finetune', MODEL_SAVE_DIR)\n",
        "del model_xfer2"
      ]
    },
    {
      "cell_type": "code",
      "execution_count": 96,
      "metadata": {
        "colab": {
          "base_uri": "https://localhost:8080/",
          "height": 490
        },
        "colab_type": "code",
        "id": "YMFFrpPibjgk",
        "outputId": "f30a3308-d8a6-42c0-f3b7-ad8405eef6f7"
      },
      "outputs": [
        {
          "name": "stdout",
          "output_type": "stream",
          "text": [
            "WARNING:tensorflow:Error in loading the saved optimizer state. As a result, your model is starting with a freshly initialized optimizer.\n",
            "Loaded Keras model from ./model_states/keras_contaminado_pretrained_vgg16_finetune.h5\n",
            "Model: \"sequential_1\"\n",
            "_________________________________________________________________\n",
            "Layer (type)                 Output Shape              Param #   \n",
            "=================================================================\n",
            "vgg16 (Functional)           (None, 4, 4, 512)         14714688  \n",
            "_________________________________________________________________\n",
            "flatten_2 (Flatten)          (None, 8192)              0         \n",
            "_________________________________________________________________\n",
            "dropout_8 (Dropout)          (None, 8192)              0         \n",
            "_________________________________________________________________\n",
            "dense_5 (Dense)              (None, 1024)              8389632   \n",
            "_________________________________________________________________\n",
            "dropout_9 (Dropout)          (None, 1024)              0         \n",
            "_________________________________________________________________\n",
            "dense_6 (Dense)              (None, 512)               524800    \n",
            "_________________________________________________________________\n",
            "dropout_10 (Dropout)         (None, 512)               0         \n",
            "_________________________________________________________________\n",
            "dense_7 (Dense)              (None, 1)                 513       \n",
            "=================================================================\n",
            "Total params: 23,629,633\n",
            "Trainable params: 13,634,561\n",
            "Non-trainable params: 9,995,072\n",
            "_________________________________________________________________\n",
            "None\n"
          ]
        }
      ],
      "source": [
        "model_xfer2 = utils.load_keras_model('keras_contaminado_pretrained_vgg16_finetune',MODEL_SAVE_DIR)\n",
        "print(model_xfer2.summary())"
      ]
    },
    {
      "cell_type": "code",
      "execution_count": 99,
      "metadata": {
        "colab": {
          "base_uri": "https://localhost:8080/",
          "height": 199
        },
        "colab_type": "code",
        "id": "SrZeIcttu2Ak",
        "outputId": "4d10f732-43dc-4539-f0f4-2b04935a717a"
      },
      "outputs": [],
      "source": [
        "test_image_files = get_some_test_images()"
      ]
    },
    {
      "cell_type": "code",
      "execution_count": 100,
      "metadata": {
        "colab": {
          "base_uri": "https://localhost:8080/",
          "height": 654
        },
        "colab_type": "code",
        "id": "gw3yzk8nuWjj",
        "outputId": "f5c7e880-51e7-4e88-ceb6-40de1952d697"
      },
      "outputs": [
        {
          "name": "stdout",
          "output_type": "stream",
          "text": [
            "Displaying 0 incorrect predictions...\n"
          ]
        }
      ],
      "source": [
        "# now let's run predictions\n",
        "\n",
        "predictions = []   # list of tuples (image_path, probab, pred_name, act_name)\n",
        "incorrect_predictions = []  # list of tuples (image_path, probab, actual, prediction)\n",
        "\n",
        "for test_image in test_image_files:\n",
        "    img = I.load_img(test_image, target_size=(IMAGE_HEIGHT, IMAGE_WIDTH))\n",
        "    x = I.img_to_array(img)\n",
        "    x = np.expand_dims(x, axis=0)\n",
        "    x /= 255.0\n",
        "\n",
        "    images_list = np.vstack([x])\n",
        "    classes = model_xfer.predict(images_list, batch_size=10)\n",
        "    prob = classes[0]\n",
        "    actual_name = (test_image.split(os.path.sep)[-2].split('.')[0]).upper()\n",
        "    pred_name = 'NCONTAMINADO' if (prob >= 0.5) else 'CONTAMINADO'\n",
        "    is_correct = (actual_name == pred_name)\n",
        "    \n",
        "    predictions.append((test_image, prob, pred_name, actual_name))\n",
        "    if not is_correct:\n",
        "        incorrect_predictions.append((test_image, prob, pred_name, actual_name))\n",
        "    \n",
        "    \n",
        "print(\"Displaying %d incorrect predictions...\" % len(incorrect_predictions))    \n",
        "for item in incorrect_predictions:\n",
        "    test_image, prob, pred_name, actual_name = item\n",
        "    print('%*s - probability: %.4f - predicted %s, is a %s' %\n",
        "            (50, test_image, prob, pred_name, actual_name))"
      ]
    }
  ],
  "metadata": {
    "accelerator": "GPU",
    "colab": {
      "collapsed_sections": [],
      "name": "Cats-vs-Dogs (Kaggle) - CNN - Keras.ipynb",
      "provenance": [],
      "version": "0.3.2"
    },
    "kernelspec": {
      "display_name": "Python 3.8.0 64-bit ('tf2.4': conda)",
      "name": "python380jvsc74a57bd047e0fa7a013908e0ec11b30c18078fda49fcb31995757b0570e0ef10d38f34d1"
    },
    "language_info": {
      "name": "python",
      "version": ""
    },
    "metadata": {
      "interpreter": {
        "hash": "47e0fa7a013908e0ec11b30c18078fda49fcb31995757b0570e0ef10d38f34d1"
      }
    }
  },
  "nbformat": 4,
  "nbformat_minor": 0
}